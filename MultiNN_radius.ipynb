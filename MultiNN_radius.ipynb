{
 "cells": [
  {
   "cell_type": "markdown",
   "id": "1b07ad90-e4e9-47a5-a6da-1ac43823598e",
   "metadata": {},
   "source": [
    "## Predikcia parametrov pre detached krivky\n",
    "### Predikovane parametre: inclination, mass ratio, primary radius, secondary radius, temperature ratio\n",
    "Model je trenovany na originalnych parametroch a krivkach so sumom - bez normalizacie"
   ]
  },
  {
   "cell_type": "code",
   "execution_count": 1,
   "id": "69c42f18-1b42-437a-83da-52e38ba4c1e2",
   "metadata": {},
   "outputs": [],
   "source": [
    "# Blok 1 - nacitanie kniznic\n",
    "import numpy as np\n",
    "import pandas as pd\n",
    "import seaborn as sns\n",
    "import matplotlib.pyplot as plt\n",
    "\n",
    "from keras.utils import np_utils, plot_model\n",
    "from keras.models import load_model\n",
    "from sklearn.model_selection import train_test_split\n",
    "from keras.layers import Conv1D, GlobalMaxPooling1D, MaxPooling1D, SpatialDropout1D, GlobalAveragePooling1D\n",
    "from keras.layers import Input, Dense, concatenate, Activation, LSTM, Dropout, Flatten\n",
    "from keras.models import Model\n",
    "from keras.layers import Concatenate\n",
    "from tensorflow.keras.callbacks import ModelCheckpoint, EarlyStopping, CSVLogger\n",
    "\n",
    "np.random.seed(1234)\n",
    "pd.set_option('display.max_rows', None)"
   ]
  },
  {
   "cell_type": "code",
   "execution_count": 2,
   "id": "59ab42ba-4061-467a-b0da-4757baea395c",
   "metadata": {},
   "outputs": [],
   "source": [
    "# Blok 2 - Funkcie pre generovanie sumu. Nastavenie pseudo-nahodneho generatora\n",
    "def generate_observation_sigma(space_obs_frac=0.5):\n",
    "    \"\"\"\n",
    "    Draws a standard deviation of noise in light curve points from a \"true\" value provided in synthetic light curve.\n",
    "    Noise sigma is drawn from bimodal distribution taking into account contributions from space based and earth based\n",
    "    observations which have different levels of stochastic noise.\n",
    "\n",
    "    :param space_obs_frac: ratio between earth based and space based observations\n",
    "    :return: float; standard deviation of the light curve noise\n",
    "    \"\"\"\n",
    "    earth_based_sigma = 4e-3\n",
    "    space_based_sigma = 2e-4\n",
    "    sigma = np.random.choice([earth_based_sigma, space_based_sigma], p=[1-space_obs_frac, space_obs_frac])\n",
    "    return np.random.rayleigh(sigma)\n",
    "\n",
    "def stochastic_noise_generator(curve):\n",
    "    \"\"\"\n",
    "    Introduces gaussian noise into synthetic observation provided in `curve`.\n",
    "\n",
    "    :param curve: numpy.array; normalized light curve\n",
    "    :return: Tuple(numpy.array, float); normalized light curve with added noise, standard deviation of observations\n",
    "    \"\"\"\n",
    "    sigma = generate_observation_sigma()\n",
    "    return np.random.normal(curve, sigma), np.full(curve.shape, sigma)"
   ]
  },
  {
   "attachments": {},
   "cell_type": "markdown",
   "id": "07ab4d17",
   "metadata": {},
   "source": [
    "## Data loading"
   ]
  },
  {
   "cell_type": "code",
   "execution_count": 3,
   "id": "8a9873cb-7670-434c-9530-2c13e309a837",
   "metadata": {},
   "outputs": [],
   "source": [
    "# Blok 3 - nacitanie dat, vyselektovanie nahodnej vozrky dat o velkosti 200 000 zaznamov\n",
    "data = pd.read_pickle(\"detached_all_parameters.pkl\").reset_index()\n",
    "data_sample = data.sample(n=200000)"
   ]
  },
  {
   "cell_type": "code",
   "execution_count": 4,
   "id": "c77f8aab-d915-409c-920b-233b454a9af8",
   "metadata": {},
   "outputs": [
    {
     "data": {
      "text/html": [
       "<div>\n",
       "<style scoped>\n",
       "    .dataframe tbody tr th:only-of-type {\n",
       "        vertical-align: middle;\n",
       "    }\n",
       "\n",
       "    .dataframe tbody tr th {\n",
       "        vertical-align: top;\n",
       "    }\n",
       "\n",
       "    .dataframe thead th {\n",
       "        text-align: right;\n",
       "    }\n",
       "</style>\n",
       "<table border=\"1\" class=\"dataframe\">\n",
       "  <thead>\n",
       "    <tr style=\"text-align: right;\">\n",
       "      <th></th>\n",
       "      <th>index</th>\n",
       "      <th>id</th>\n",
       "      <th>curve</th>\n",
       "      <th>primary__t_eff</th>\n",
       "      <th>secondary__t_eff</th>\n",
       "      <th>inclination</th>\n",
       "      <th>mass_ratio</th>\n",
       "      <th>primary__surface_potential</th>\n",
       "      <th>secondary__surface_potential</th>\n",
       "      <th>t1_t2</th>\n",
       "      <th>filter</th>\n",
       "      <th>critical_surface_potential</th>\n",
       "      <th>primary__equivalent_radius</th>\n",
       "      <th>secondary__equivalent_radius</th>\n",
       "      <th>primary__filling_factor</th>\n",
       "      <th>secondary__filling_factor</th>\n",
       "    </tr>\n",
       "  </thead>\n",
       "  <tbody>\n",
       "    <tr>\n",
       "      <th>647973</th>\n",
       "      <td>647973</td>\n",
       "      <td>10032749</td>\n",
       "      <td>[0.48835963039886077, 0.4913287663336375, 0.49...</td>\n",
       "      <td>45000</td>\n",
       "      <td>5000</td>\n",
       "      <td>1.334076</td>\n",
       "      <td>0.600000</td>\n",
       "      <td>20.601251</td>\n",
       "      <td>4.071076</td>\n",
       "      <td>9.00</td>\n",
       "      <td>Bessell_B</td>\n",
       "      <td>3.063442</td>\n",
       "      <td>0.049981</td>\n",
       "      <td>0.210724</td>\n",
       "      <td>-49.955205</td>\n",
       "      <td>-2.870176</td>\n",
       "    </tr>\n",
       "    <tr>\n",
       "      <th>1109932</th>\n",
       "      <td>1109932</td>\n",
       "      <td>16384835</td>\n",
       "      <td>[0.5932746668156491, 0.594846617739326, 0.5994...</td>\n",
       "      <td>12000</td>\n",
       "      <td>5000</td>\n",
       "      <td>1.310729</td>\n",
       "      <td>1.111111</td>\n",
       "      <td>7.008254</td>\n",
       "      <td>5.425004</td>\n",
       "      <td>2.40</td>\n",
       "      <td>SLOAN_u</td>\n",
       "      <td>3.928447</td>\n",
       "      <td>0.170106</td>\n",
       "      <td>0.250460</td>\n",
       "      <td>-5.570841</td>\n",
       "      <td>-2.707013</td>\n",
       "    </tr>\n",
       "    <tr>\n",
       "      <th>731380</th>\n",
       "      <td>731380</td>\n",
       "      <td>10579972</td>\n",
       "      <td>[0.0559029780103817, 0.05590501277853746, 0.05...</td>\n",
       "      <td>10000</td>\n",
       "      <td>5000</td>\n",
       "      <td>1.427398</td>\n",
       "      <td>1.666667</td>\n",
       "      <td>9.367600</td>\n",
       "      <td>5.812000</td>\n",
       "      <td>2.00</td>\n",
       "      <td>Bessell_U</td>\n",
       "      <td>4.772403</td>\n",
       "      <td>0.130062</td>\n",
       "      <td>0.330428</td>\n",
       "      <td>-7.853457</td>\n",
       "      <td>-1.776732</td>\n",
       "    </tr>\n",
       "    <tr>\n",
       "      <th>692703</th>\n",
       "      <td>692703</td>\n",
       "      <td>10341530</td>\n",
       "      <td>[0.9719087814691745, 0.9719390320925176, 0.971...</td>\n",
       "      <td>9000</td>\n",
       "      <td>5000</td>\n",
       "      <td>1.223879</td>\n",
       "      <td>1.666667</td>\n",
       "      <td>9.367600</td>\n",
       "      <td>8.640628</td>\n",
       "      <td>1.80</td>\n",
       "      <td>GaiaDR2</td>\n",
       "      <td>4.772403</td>\n",
       "      <td>0.130062</td>\n",
       "      <td>0.209983</td>\n",
       "      <td>-7.853457</td>\n",
       "      <td>-6.611019</td>\n",
       "    </tr>\n",
       "    <tr>\n",
       "      <th>1145336</th>\n",
       "      <td>1145336</td>\n",
       "      <td>16615611</td>\n",
       "      <td>[0.8654052436804602, 0.8654499986635169, 0.865...</td>\n",
       "      <td>20000</td>\n",
       "      <td>16000</td>\n",
       "      <td>1.180696</td>\n",
       "      <td>0.900000</td>\n",
       "      <td>3.676833</td>\n",
       "      <td>19.051127</td>\n",
       "      <td>1.25</td>\n",
       "      <td>Kepler</td>\n",
       "      <td>3.585603</td>\n",
       "      <td>0.373969</td>\n",
       "      <td>0.049982</td>\n",
       "      <td>-0.183357</td>\n",
       "      <td>-31.082753</td>\n",
       "    </tr>\n",
       "  </tbody>\n",
       "</table>\n",
       "</div>"
      ],
      "text/plain": [
       "           index        id                                              curve  \\\n",
       "647973    647973  10032749  [0.48835963039886077, 0.4913287663336375, 0.49...   \n",
       "1109932  1109932  16384835  [0.5932746668156491, 0.594846617739326, 0.5994...   \n",
       "731380    731380  10579972  [0.0559029780103817, 0.05590501277853746, 0.05...   \n",
       "692703    692703  10341530  [0.9719087814691745, 0.9719390320925176, 0.971...   \n",
       "1145336  1145336  16615611  [0.8654052436804602, 0.8654499986635169, 0.865...   \n",
       "\n",
       "         primary__t_eff  secondary__t_eff  inclination  mass_ratio  \\\n",
       "647973            45000              5000     1.334076    0.600000   \n",
       "1109932           12000              5000     1.310729    1.111111   \n",
       "731380            10000              5000     1.427398    1.666667   \n",
       "692703             9000              5000     1.223879    1.666667   \n",
       "1145336           20000             16000     1.180696    0.900000   \n",
       "\n",
       "         primary__surface_potential  secondary__surface_potential  t1_t2  \\\n",
       "647973                    20.601251                      4.071076   9.00   \n",
       "1109932                    7.008254                      5.425004   2.40   \n",
       "731380                     9.367600                      5.812000   2.00   \n",
       "692703                     9.367600                      8.640628   1.80   \n",
       "1145336                    3.676833                     19.051127   1.25   \n",
       "\n",
       "            filter  critical_surface_potential  primary__equivalent_radius  \\\n",
       "647973   Bessell_B                    3.063442                    0.049981   \n",
       "1109932    SLOAN_u                    3.928447                    0.170106   \n",
       "731380   Bessell_U                    4.772403                    0.130062   \n",
       "692703     GaiaDR2                    4.772403                    0.130062   \n",
       "1145336     Kepler                    3.585603                    0.373969   \n",
       "\n",
       "         secondary__equivalent_radius  primary__filling_factor  \\\n",
       "647973                       0.210724               -49.955205   \n",
       "1109932                      0.250460                -5.570841   \n",
       "731380                       0.330428                -7.853457   \n",
       "692703                       0.209983                -7.853457   \n",
       "1145336                      0.049982                -0.183357   \n",
       "\n",
       "         secondary__filling_factor  \n",
       "647973                   -2.870176  \n",
       "1109932                  -2.707013  \n",
       "731380                   -1.776732  \n",
       "692703                   -6.611019  \n",
       "1145336                 -31.082753  "
      ]
     },
     "execution_count": 4,
     "metadata": {},
     "output_type": "execute_result"
    }
   ],
   "source": [
    "# Blok 4 - ukazka dat\n",
    "data_sample.head()"
   ]
  },
  {
   "cell_type": "code",
   "execution_count": 5,
   "id": "0dba6ec9-baf9-4622-b75c-f439a749d29f",
   "metadata": {},
   "outputs": [],
   "source": [
    "# Blok 5 - vytvorenie pola kriviek, vytvorenie pola features, ktore budeme predikovat\n",
    "X = []\n",
    "for row in data_sample[\"curve\"]:\n",
    "    X.append(row)\n",
    "X=np.array(X)\n",
    "\n",
    "y = np.array(data_sample[[\n",
    "    \"inclination\",\n",
    "    \"mass_ratio\",\n",
    "    \"primary__equivalent_radius\",\n",
    "    \"secondary__equivalent_radius\",\n",
    "    \"t1_t2\"]])"
   ]
  },
  {
   "cell_type": "code",
   "execution_count": 6,
   "id": "dc11bac7-4e11-46c8-8e45-a0f0d59de4f5",
   "metadata": {},
   "outputs": [],
   "source": [
    "# Blok 6 - rozdelenie dat na trenovaciu a testovaciu mnozinu v pomere 80/20\n",
    "X_train1, X_test, y_train1, y_test = train_test_split(X, y, test_size=0.2)"
   ]
  },
  {
   "cell_type": "code",
   "execution_count": 7,
   "id": "3eab3673-fd73-4aea-8aa7-ec79614e4776",
   "metadata": {},
   "outputs": [],
   "source": [
    "# Blok 7 - pridanie sumu na trenovacie data\n",
    "X_train_n = []\n",
    "y_train_n = []\n",
    "for i in range(len(X_train1)):\n",
    "    for j in range(3):\n",
    "        curve = stochastic_noise_generator(X_train1[i])\n",
    "        X_train_n.append(curve[0])\n",
    "        y_train_n.append(y_train1[i])\n",
    "X_train_n = np.array(X_train_n)\n",
    "y_train_n=np.array(y_train_n)"
   ]
  },
  {
   "cell_type": "code",
   "execution_count": 8,
   "id": "16b8a3c6-6be1-4038-8c50-1c76cb7c8531",
   "metadata": {},
   "outputs": [
    {
     "name": "stdout",
     "output_type": "stream",
     "text": [
      "Number of records in dataset:  1300000 \n",
      "Number of records in sample:  200000 \n",
      "Number of train data without noise:  160000 \n",
      "Number of train data with noise:  480000 \n",
      "Number of test data without noise:  40000\n"
     ]
    }
   ],
   "source": [
    "# Blok 8 - vypis poctu zaznamov v jednotlivych datovych mnozinach\n",
    "print(\"Number of records in dataset: \", len(data),\n",
    "    \"\\nNumber of records in sample: \", len(data_sample),\n",
    "    \"\\nNumber of train data without noise: \", len(X_train1),\n",
    "    \"\\nNumber of train data with noise: \", len(X_train_n),\n",
    "    \"\\nNumber of test data without noise: \", len(X_test))"
   ]
  },
  {
   "cell_type": "code",
   "execution_count": 9,
   "id": "78453c36-50fa-464b-be2f-676139817b77",
   "metadata": {},
   "outputs": [],
   "source": [
    "# Blok 9 - vytvorenie jendotlivych poli pre jednotlive parametre\n",
    "y_inc = np.array([arr[0] for arr in y_train_n])\n",
    "y_mass = np.array([arr[1] for arr in y_train_n])\n",
    "y_prim_radius = np.array([arr[2] for arr in y_train_n])\n",
    "y_sec_radius = np.array([arr[3] for arr in y_train_n])\n",
    "y_temp_ratio = np.array([arr[4] for arr in y_train_n])"
   ]
  },
  {
   "cell_type": "code",
   "execution_count": 10,
   "id": "a362c48d-6e40-4fac-a414-420fb8c38560",
   "metadata": {
    "tags": []
   },
   "outputs": [
    {
     "name": "stderr",
     "output_type": "stream",
     "text": [
      "2023-01-15 10:05:36.546357: I tensorflow/core/common_runtime/gpu/gpu_device.cc:1532] Created device /job:localhost/replica:0/task:0/device:GPU:0 with 6674 MB memory:  -> device: 0, name: Quadro RTX 4000, pci bus id: 0000:8b:00.0, compute capability: 7.5\n"
     ]
    },
    {
     "name": "stdout",
     "output_type": "stream",
     "text": [
      "Model: \"model_5\"\n",
      "__________________________________________________________________________________________________\n",
      " Layer (type)                   Output Shape         Param #     Connected to                     \n",
      "==================================================================================================\n",
      " input_1 (InputLayer)           [(None, 400, 1)]     0           []                               \n",
      "                                                                                                  \n",
      " conv1d_1 (Conv1D)              (None, 398, 128)     512         ['input_1[0][0]']                \n",
      "                                                                                                  \n",
      " conv1d_3 (Conv1D)              (None, 398, 128)     512         ['input_1[0][0]']                \n",
      "                                                                                                  \n",
      " conv1d_5 (Conv1D)              (None, 398, 128)     512         ['input_1[0][0]']                \n",
      "                                                                                                  \n",
      " conv1d_7 (Conv1D)              (None, 398, 128)     512         ['input_1[0][0]']                \n",
      "                                                                                                  \n",
      " max_pooling1d (MaxPooling1D)   (None, 199, 128)     0           ['conv1d_1[0][0]']               \n",
      "                                                                                                  \n",
      " max_pooling1d_1 (MaxPooling1D)  (None, 199, 128)    0           ['conv1d_3[0][0]']               \n",
      "                                                                                                  \n",
      " max_pooling1d_2 (MaxPooling1D)  (None, 199, 128)    0           ['conv1d_5[0][0]']               \n",
      "                                                                                                  \n",
      " max_pooling1d_3 (MaxPooling1D)  (None, 199, 128)    0           ['conv1d_7[0][0]']               \n",
      "                                                                                                  \n",
      " conv1d_2 (Conv1D)              (None, 197, 128)     49280       ['max_pooling1d[0][0]']          \n",
      "                                                                                                  \n",
      " conv1d_4 (Conv1D)              (None, 197, 128)     49280       ['max_pooling1d_1[0][0]']        \n",
      "                                                                                                  \n",
      " conv1d_6 (Conv1D)              (None, 197, 128)     49280       ['max_pooling1d_2[0][0]']        \n",
      "                                                                                                  \n",
      " conv1d_8 (Conv1D)              (None, 197, 128)     49280       ['max_pooling1d_3[0][0]']        \n",
      "                                                                                                  \n",
      " conv1d (Conv1D)                (None, 398, 128)     512         ['input_1[0][0]']                \n",
      "                                                                                                  \n",
      " lstm_1 (LSTM)                  (None, 197, 64)      49408       ['conv1d_2[0][0]']               \n",
      "                                                                                                  \n",
      " lstm_3 (LSTM)                  (None, 197, 64)      49408       ['conv1d_4[0][0]']               \n",
      "                                                                                                  \n",
      " lstm_5 (LSTM)                  (None, 197, 64)      49408       ['conv1d_6[0][0]']               \n",
      "                                                                                                  \n",
      " lstm_7 (LSTM)                  (None, 197, 64)      49408       ['conv1d_8[0][0]']               \n",
      "                                                                                                  \n",
      " lstm (LSTM)                    (None, 398, 64)      49408       ['conv1d[0][0]']                 \n",
      "                                                                                                  \n",
      " lstm_2 (LSTM)                  (None, 197, 64)      33024       ['lstm_1[0][0]']                 \n",
      "                                                                                                  \n",
      " lstm_4 (LSTM)                  (None, 197, 64)      33024       ['lstm_3[0][0]']                 \n",
      "                                                                                                  \n",
      " lstm_6 (LSTM)                  (None, 197, 64)      33024       ['lstm_5[0][0]']                 \n",
      "                                                                                                  \n",
      " lstm_8 (LSTM)                  (None, 197, 64)      33024       ['lstm_7[0][0]']                 \n",
      "                                                                                                  \n",
      " flatten (Flatten)              (None, 25472)        0           ['lstm[0][0]']                   \n",
      "                                                                                                  \n",
      " flatten_1 (Flatten)            (None, 12608)        0           ['lstm_2[0][0]']                 \n",
      "                                                                                                  \n",
      " flatten_2 (Flatten)            (None, 12608)        0           ['lstm_4[0][0]']                 \n",
      "                                                                                                  \n",
      " flatten_3 (Flatten)            (None, 12608)        0           ['lstm_6[0][0]']                 \n",
      "                                                                                                  \n",
      " flatten_4 (Flatten)            (None, 12608)        0           ['lstm_8[0][0]']                 \n",
      "                                                                                                  \n",
      " dense (Dense)                  (None, 64)           1630272     ['flatten[0][0]']                \n",
      "                                                                                                  \n",
      " dense_1 (Dense)                (None, 64)           806976      ['flatten_1[0][0]']              \n",
      "                                                                                                  \n",
      " dense_2 (Dense)                (None, 64)           806976      ['flatten_2[0][0]']              \n",
      "                                                                                                  \n",
      " dense_3 (Dense)                (None, 64)           806976      ['flatten_3[0][0]']              \n",
      "                                                                                                  \n",
      " dense_4 (Dense)                (None, 64)           806976      ['flatten_4[0][0]']              \n",
      "                                                                                                  \n",
      " concatenate (Concatenate)      (None, 320)          0           ['dense[0][0]',                  \n",
      "                                                                  'dense_1[0][0]',                \n",
      "                                                                  'dense_2[0][0]',                \n",
      "                                                                  'dense_3[0][0]',                \n",
      "                                                                  'dense_4[0][0]']                \n",
      "                                                                                                  \n",
      " dense_5 (Dense)                (None, 128)          41088       ['concatenate[0][0]']            \n",
      "                                                                                                  \n",
      " dropout (Dropout)              (None, 128)          0           ['dense_5[0][0]']                \n",
      "                                                                                                  \n",
      " dense_6 (Dense)                (None, 64)           8256        ['dropout[0][0]']                \n",
      "                                                                                                  \n",
      " dense_7 (Dense)                (None, 64)           4160        ['dense_6[0][0]']                \n",
      "                                                                                                  \n",
      " dense_8 (Dense)                (None, 5)            325         ['dense_7[0][0]']                \n",
      "                                                                                                  \n",
      "==================================================================================================\n",
      "Total params: 5,490,821\n",
      "Trainable params: 5,490,821\n",
      "Non-trainable params: 0\n",
      "__________________________________________________________________________________________________\n",
      "None\n"
     ]
    }
   ],
   "source": [
    "# Blok 10 - zadefinovanie architektury Multi NN modelu\n",
    "inputs_y = Input(shape=(400, 1))\n",
    "\n",
    "a = Conv1D(128, kernel_size = 3, padding = \"valid\")(inputs_y)\n",
    "a = LSTM(64, return_sequences=True)(a)\n",
    "a = Flatten()(a)\n",
    "a = Dense(64, activation='relu')(a)\n",
    "a = Model(inputs=inputs_y, outputs=a)\n",
    "\n",
    "b = Conv1D(128, kernel_size = 3, padding = \"valid\")(inputs_y)\n",
    "b = MaxPooling1D(2)(b)\n",
    "b = Conv1D(128, kernel_size = 3, padding = \"valid\")(b)\n",
    "b = LSTM(64, return_sequences=True)(b)\n",
    "b = LSTM(64, return_sequences=True)(b)\n",
    "b = Flatten()(b)\n",
    "b = Dense(64, activation='relu')(b)\n",
    "b = Model(inputs=inputs_y, outputs=b)\n",
    "\n",
    "c = Conv1D(128, kernel_size = 3, padding = \"valid\")(inputs_y)\n",
    "c = MaxPooling1D(2)(c)\n",
    "c = Conv1D(128, kernel_size = 3, padding = \"valid\")(c)\n",
    "c = LSTM(64, return_sequences=True)(c)\n",
    "c = LSTM(64, return_sequences=True)(c)\n",
    "c = Flatten()(c)\n",
    "c = Dense(64, activation='relu')(c)\n",
    "c = Model(inputs=inputs_y, outputs=c)\n",
    "\n",
    "d = Conv1D(128, kernel_size = 3, padding = \"valid\")(inputs_y)\n",
    "d = MaxPooling1D(2)(d)\n",
    "d = Conv1D(128, kernel_size = 3, padding = \"valid\")(d)\n",
    "d = LSTM(64, return_sequences=True)(d)\n",
    "d = LSTM(64, return_sequences=True)(d)\n",
    "d = Flatten()(d)\n",
    "d = Dense(64, activation='relu')(d)\n",
    "d = Model(inputs=inputs_y, outputs=d)\n",
    "\n",
    "e = Conv1D(128, kernel_size = 3, padding = \"valid\")(inputs_y)\n",
    "e = MaxPooling1D(2)(e)\n",
    "e = Conv1D(128, kernel_size = 3, padding = \"valid\")(e)\n",
    "e = LSTM(64, return_sequences=True)(e)\n",
    "e = LSTM(64, return_sequences=True)(e)\n",
    "e = Flatten()(e)\n",
    "e = Dense(64, activation='relu')(e)\n",
    "e = Model(inputs=inputs_y, outputs=e)\n",
    "\n",
    "x = concatenate([a.output, b.output, c.output, d.output, e.output])\n",
    "x = Dense(128, activation='relu')(x)\n",
    "x = Dropout(0.2)(x)\n",
    "x = Dense(64, activation='relu')(x)\n",
    "x = Dense(64, activation='relu')(x)\n",
    "\n",
    "output = Dense(5, activation='linear')(x)\n",
    "\n",
    "detached_multiNN_model = Model(inputs=inputs_y, outputs=output)\n",
    "detached_multiNN_model.compile(loss='mse', optimizer='adam', metrics=[\"mae\", \"mape\"])\n",
    "\n",
    "saved_model = \"models/det_multiNN_radius_model.hdf5\"\n",
    "checkpoint = ModelCheckpoint(saved_model, monitor = 'val_mae', verbose = 1, save_best_only = True, mode = 'min')\n",
    "early = EarlyStopping(monitor = \"val_mae\", mode = \"min\", patience = 25)\n",
    "csv_logger = CSVLogger('det_multiNN_radius_model.log', separator=',', append = True)\n",
    "callbacks_list = [checkpoint, early, csv_logger]\n",
    "\n",
    "print(detached_multiNN_model.summary())"
   ]
  },
  {
   "cell_type": "code",
   "execution_count": 13,
   "id": "1060a65f-db5b-44e5-a495-baded3b7c4af",
   "metadata": {
    "tags": []
   },
   "outputs": [
    {
     "name": "stdout",
     "output_type": "stream",
     "text": [
      "Epoch 1/15\n"
     ]
    },
    {
     "name": "stderr",
     "output_type": "stream",
     "text": [
      "2023-01-15 10:07:09.018818: I tensorflow/stream_executor/cuda/cuda_dnn.cc:384] Loaded cuDNN version 8201\n"
     ]
    },
    {
     "name": "stdout",
     "output_type": "stream",
     "text": [
      "6750/6750 [==============================] - ETA: 0s - loss: 0.0138 - mae: 0.0844 - mape: 6.4474\n",
      "Epoch 1: val_mae improved from inf to 0.16272, saving model to models/det_multiNN_radius_model.hdf5\n",
      "6750/6750 [==============================] - 699s 102ms/step - loss: 0.0138 - mae: 0.0844 - mape: 6.4474 - val_loss: 0.0317 - val_mae: 0.1627 - val_mape: 11.5525\n",
      "Epoch 2/15\n",
      "6750/6750 [==============================] - ETA: 0s - loss: 0.0054 - mae: 0.0518 - mape: 3.9709\n",
      "Epoch 2: val_mae improved from 0.16272 to 0.09779, saving model to models/det_multiNN_radius_model.hdf5\n",
      "6750/6750 [==============================] - 682s 101ms/step - loss: 0.0054 - mae: 0.0518 - mape: 3.9709 - val_loss: 0.0125 - val_mae: 0.0978 - val_mape: 7.0228\n",
      "Epoch 3/15\n",
      "6750/6750 [==============================] - ETA: 0s - loss: 0.0045 - mae: 0.0462 - mape: 3.5551\n",
      "Epoch 3: val_mae improved from 0.09779 to 0.08108, saving model to models/det_multiNN_radius_model.hdf5\n",
      "6750/6750 [==============================] - 685s 101ms/step - loss: 0.0045 - mae: 0.0462 - mape: 3.5551 - val_loss: 0.0091 - val_mae: 0.0811 - val_mape: 5.8523\n",
      "Epoch 4/15\n",
      "6750/6750 [==============================] - ETA: 0s - loss: 0.0041 - mae: 0.0435 - mape: 3.3551\n",
      "Epoch 4: val_mae did not improve from 0.08108\n",
      "6750/6750 [==============================] - 683s 101ms/step - loss: 0.0041 - mae: 0.0435 - mape: 3.3551 - val_loss: 0.0094 - val_mae: 0.0833 - val_mape: 6.0003\n",
      "Epoch 5/15\n",
      "6750/6750 [==============================] - ETA: 0s - loss: 0.0038 - mae: 0.0414 - mape: 3.1979\n",
      "Epoch 5: val_mae improved from 0.08108 to 0.06119, saving model to models/det_multiNN_radius_model.hdf5\n",
      "6750/6750 [==============================] - 685s 101ms/step - loss: 0.0038 - mae: 0.0414 - mape: 3.1979 - val_loss: 0.0062 - val_mae: 0.0612 - val_mape: 4.5247\n",
      "Epoch 6/15\n",
      "6750/6750 [==============================] - ETA: 0s - loss: 0.0036 - mae: 0.0400 - mape: 3.0943\n",
      "Epoch 6: val_mae did not improve from 0.06119\n",
      "6750/6750 [==============================] - 690s 102ms/step - loss: 0.0036 - mae: 0.0400 - mape: 3.0943 - val_loss: 0.0058 - val_mae: 0.0612 - val_mape: 4.4961\n",
      "Epoch 7/15\n",
      "6750/6750 [==============================] - ETA: 0s - loss: 0.0034 - mae: 0.0384 - mape: 2.9747\n",
      "Epoch 7: val_mae did not improve from 0.06119\n",
      "6750/6750 [==============================] - 703s 104ms/step - loss: 0.0034 - mae: 0.0384 - mape: 2.9747 - val_loss: 0.0061 - val_mae: 0.0625 - val_mape: 4.5814\n",
      "Epoch 8/15\n",
      "6750/6750 [==============================] - ETA: 0s - loss: 0.0033 - mae: 0.0374 - mape: 2.9015\n",
      "Epoch 8: val_mae improved from 0.06119 to 0.06111, saving model to models/det_multiNN_radius_model.hdf5\n",
      "6750/6750 [==============================] - 695s 103ms/step - loss: 0.0033 - mae: 0.0374 - mape: 2.9015 - val_loss: 0.0057 - val_mae: 0.0611 - val_mape: 4.4986\n",
      "Epoch 9/15\n",
      "6750/6750 [==============================] - ETA: 0s - loss: 0.0032 - mae: 0.0367 - mape: 2.8499\n",
      "Epoch 9: val_mae improved from 0.06111 to 0.04957, saving model to models/det_multiNN_radius_model.hdf5\n",
      "6750/6750 [==============================] - 701s 104ms/step - loss: 0.0032 - mae: 0.0367 - mape: 2.8499 - val_loss: 0.0043 - val_mae: 0.0496 - val_mape: 3.7273\n",
      "Epoch 10/15\n",
      "6750/6750 [==============================] - ETA: 0s - loss: 0.0031 - mae: 0.0356 - mape: 2.7703\n",
      "Epoch 10: val_mae did not improve from 0.04957\n",
      "6750/6750 [==============================] - 698s 103ms/step - loss: 0.0031 - mae: 0.0356 - mape: 2.7703 - val_loss: 0.0060 - val_mae: 0.0649 - val_mape: 4.7435\n",
      "Epoch 11/15\n",
      "6750/6750 [==============================] - ETA: 0s - loss: 0.0030 - mae: 0.0350 - mape: 2.7222\n",
      "Epoch 11: val_mae did not improve from 0.04957\n",
      "6750/6750 [==============================] - 693s 103ms/step - loss: 0.0030 - mae: 0.0350 - mape: 2.7222 - val_loss: 0.0061 - val_mae: 0.0652 - val_mape: 4.7482\n",
      "Epoch 12/15\n",
      "6750/6750 [==============================] - ETA: 0s - loss: 0.0029 - mae: 0.0343 - mape: 2.6728\n",
      "Epoch 12: val_mae did not improve from 0.04957\n",
      "6750/6750 [==============================] - 694s 103ms/step - loss: 0.0029 - mae: 0.0343 - mape: 2.6728 - val_loss: 0.0044 - val_mae: 0.0520 - val_mape: 3.8736\n",
      "Epoch 13/15\n",
      "6750/6750 [==============================] - ETA: 0s - loss: 0.0029 - mae: 0.0339 - mape: 2.6392\n",
      "Epoch 13: val_mae did not improve from 0.04957\n",
      "6750/6750 [==============================] - 704s 104ms/step - loss: 0.0029 - mae: 0.0339 - mape: 2.6392 - val_loss: 0.0057 - val_mae: 0.0623 - val_mape: 4.5652\n",
      "Epoch 14/15\n",
      "6750/6750 [==============================] - ETA: 0s - loss: 0.0028 - mae: 0.0333 - mape: 2.5978\n",
      "Epoch 14: val_mae did not improve from 0.04957\n",
      "6750/6750 [==============================] - 701s 104ms/step - loss: 0.0028 - mae: 0.0333 - mape: 2.5978 - val_loss: 0.0051 - val_mae: 0.0587 - val_mape: 4.3116\n",
      "Epoch 15/15\n",
      "6750/6750 [==============================] - ETA: 0s - loss: 0.0027 - mae: 0.0326 - mape: 2.5441\n",
      "Epoch 15: val_mae did not improve from 0.04957\n",
      "6750/6750 [==============================] - 689s 102ms/step - loss: 0.0027 - mae: 0.0326 - mape: 2.5441 - val_loss: 0.0050 - val_mae: 0.0574 - val_mape: 4.2142\n"
     ]
    }
   ],
   "source": [
    "# Blok 11 - trenovanie multi NN modelu\n",
    "history_multiNN = detached_multiNN_model.fit(\n",
    "    x=X_train_n,\n",
    "    y=[y_inc, y_mass, y_prim_radius, y_sec_radius, y_temp_ratio],\n",
    "    validation_split = 0.1,\n",
    "    epochs = 15,\n",
    "    verbose = 1,\n",
    "    callbacks = callbacks_list,\n",
    "    batch_size = 64)"
   ]
  },
  {
   "cell_type": "markdown",
   "id": "9c59a414-0887-4b90-af90-57cbd1713b9c",
   "metadata": {},
   "source": [
    "## Vyhodnotenie modelu - loss, MAE"
   ]
  },
  {
   "cell_type": "code",
   "execution_count": 14,
   "id": "a3cb7d7f-e4df-412b-a6d3-00b1c27d35de",
   "metadata": {},
   "outputs": [],
   "source": [
    "# Blok 12 - nacitanie modelu\n",
    "multi_model_radius = load_model(\"models/det_multiNN_radius_model.hdf5\")"
   ]
  },
  {
   "cell_type": "code",
   "execution_count": 15,
   "id": "f8ba69e7-c290-4735-bff1-9ac5926d33e4",
   "metadata": {},
   "outputs": [
    {
     "name": "stdout",
     "output_type": "stream",
     "text": [
      "1250/1250 [==============================] - 63s 48ms/step - loss: 2.5133 - mae: 0.9991 - mape: 803.9855\n",
      "Multi NN model- radius -- Loss: 2.5133, MAE: 0.9991\n"
     ]
    }
   ],
   "source": [
    "# Blok 13 - evaluacia modelu na testovacich datach bez sumu\n",
    "scores = multi_model_radius.evaluate(X_test, y_test)\n",
    "print('Multi NN model- radius -- Loss: {:.4f}, MAE: {:.4f}'.format(scores[0], scores[1]))"
   ]
  },
  {
   "cell_type": "code",
   "execution_count": 16,
   "id": "6b832cf9-9567-44ce-a169-f20759c191e3",
   "metadata": {},
   "outputs": [],
   "source": [
    "# Blok 14 - pridanie sumu na testovacie data\n",
    "X_test_n = []\n",
    "y_test_n = []\n",
    "for i in range(len(X_test)):\n",
    "    for j in range(3):\n",
    "        curve = stochastic_noise_generator(X_test[i])\n",
    "        X_test_n.append(curve[0])\n",
    "        y_test_n.append(y_test[i])\n",
    "        j += 1\n",
    "X_test_n = np.array(X_test_n)\n",
    "y_test_n = np.array(y_test_n)"
   ]
  },
  {
   "cell_type": "code",
   "execution_count": 17,
   "id": "1ec1647c-7474-4ea7-a03a-105181f78619",
   "metadata": {},
   "outputs": [
    {
     "name": "stdout",
     "output_type": "stream",
     "text": [
      "3750/3750 [==============================] - 175s 47ms/step - loss: 2.5135 - mae: 0.9997 - mape: 803.1221\n",
      "Multi NN model - radius - data with noise -- Loss: 2.5135, MAE: 0.9997\n"
     ]
    }
   ],
   "source": [
    "# Blok 15 - evaluacia modelu na testovacich datach so sumom\n",
    "scores_n = multi_model_radius.evaluate(X_test_n, y_test_n)\n",
    "print('Multi NN model - radius - data with noise -- Loss: {:.4f}, MAE: {:.4f}'.format(scores_n[0], scores_n[1]))"
   ]
  },
  {
   "cell_type": "markdown",
   "id": "358c37db-d891-4ce4-858c-f773d629b611",
   "metadata": {},
   "source": [
    "## Predikcie - data bez sumu"
   ]
  },
  {
   "cell_type": "code",
   "execution_count": 18,
   "id": "24fb82b6-65d7-474d-bf6f-2b92a95f5994",
   "metadata": {},
   "outputs": [
    {
     "name": "stdout",
     "output_type": "stream",
     "text": [
      "1250/1250 [==============================] - 57s 43ms/step\n"
     ]
    },
    {
     "data": {
      "text/plain": [
       "array([1.0002089, 1.0022469, 0.9973445, 1.0024695, 1.0025884],\n",
       "      dtype=float32)"
      ]
     },
     "execution_count": 18,
     "metadata": {},
     "output_type": "execute_result"
    }
   ],
   "source": [
    "# Blok 16 - predikcia na datach bez sumu\n",
    "pred_multi = multi_model_radius.predict(X_test)\n",
    "pred_multi[0]"
   ]
  },
  {
   "cell_type": "code",
   "execution_count": 19,
   "id": "4a9a4ee1-0930-4faf-9742-c47049571f03",
   "metadata": {},
   "outputs": [
    {
     "data": {
      "text/plain": [
       "inclination         1.348574\n",
       "mass_ratio          1.349623\n",
       "primary_radius      1.348139\n",
       "secondary_radius    1.349457\n",
       "t1_t2               1.349436\n",
       "dtype: float32"
      ]
     },
     "execution_count": 19,
     "metadata": {},
     "output_type": "execute_result"
    }
   ],
   "source": [
    "# Blok 17 - vytvorenie df z predikcii, vypocet priemernych hodnot\n",
    "predictions_df = pd.DataFrame(pred_multi,\n",
    "                        columns = [\n",
    "                            \"inclination\",\n",
    "                            \"mass_ratio\",\n",
    "                            \"primary_radius\",\n",
    "                            \"secondary_radius\",\n",
    "                            \"t1_t2\"\n",
    "                            ])\n",
    "pred_mean = predictions_df.mean(axis=0)\n",
    "pred_mean"
   ]
  },
  {
   "cell_type": "code",
   "execution_count": 20,
   "id": "5d594725-0988-4af5-a7cf-2bd68a01e4ad",
   "metadata": {},
   "outputs": [
    {
     "data": {
      "text/plain": [
       "inclination                     1.375976\n",
       "mass_ratio                      1.755052\n",
       "primary__equivalent_radius      0.176406\n",
       "secondary__equivalent_radius    0.199077\n",
       "t1_t2                           2.656609\n",
       "dtype: float64"
      ]
     },
     "execution_count": 20,
     "metadata": {},
     "output_type": "execute_result"
    }
   ],
   "source": [
    "# Blok 18 - vytvorenie df z testovacich dat, vypocet priemernych hodnot\n",
    "test_df = pd.DataFrame(y_test,\n",
    "                        columns = [\n",
    "                            \"inclination\",\n",
    "                            \"mass_ratio\",\n",
    "                            \"primary__equivalent_radius\",\n",
    "                            \"secondary__equivalent_radius\",\n",
    "                            \"t1_t2\"\n",
    "                            ])\n",
    "test_df = test_df.mean(axis=0)\n",
    "test_df"
   ]
  },
  {
   "cell_type": "code",
   "execution_count": 21,
   "id": "7e6f3b6c-17b4-4f9c-bb1b-20c61620b13b",
   "metadata": {},
   "outputs": [
    {
     "data": {
      "text/html": [
       "<div>\n",
       "<style scoped>\n",
       "    .dataframe tbody tr th:only-of-type {\n",
       "        vertical-align: middle;\n",
       "    }\n",
       "\n",
       "    .dataframe tbody tr th {\n",
       "        vertical-align: top;\n",
       "    }\n",
       "\n",
       "    .dataframe thead th {\n",
       "        text-align: right;\n",
       "    }\n",
       "</style>\n",
       "<table border=\"1\" class=\"dataframe\">\n",
       "  <thead>\n",
       "    <tr style=\"text-align: right;\">\n",
       "      <th></th>\n",
       "      <th>attribute</th>\n",
       "      <th>avg_true</th>\n",
       "      <th>avg_pred</th>\n",
       "      <th>MAE</th>\n",
       "    </tr>\n",
       "  </thead>\n",
       "  <tbody>\n",
       "    <tr>\n",
       "      <th>0</th>\n",
       "      <td>inclination</td>\n",
       "      <td>1.375976</td>\n",
       "      <td>1.348574</td>\n",
       "      <td>0.027402</td>\n",
       "    </tr>\n",
       "    <tr>\n",
       "      <th>1</th>\n",
       "      <td>mass_ratio</td>\n",
       "      <td>1.755052</td>\n",
       "      <td>1.349623</td>\n",
       "      <td>0.405429</td>\n",
       "    </tr>\n",
       "    <tr>\n",
       "      <th>2</th>\n",
       "      <td>primary__equivalent_radius</td>\n",
       "      <td>0.176406</td>\n",
       "      <td>1.348139</td>\n",
       "      <td>1.171734</td>\n",
       "    </tr>\n",
       "    <tr>\n",
       "      <th>3</th>\n",
       "      <td>secondary__equivalent_radius</td>\n",
       "      <td>0.199077</td>\n",
       "      <td>1.349457</td>\n",
       "      <td>1.150380</td>\n",
       "    </tr>\n",
       "    <tr>\n",
       "      <th>4</th>\n",
       "      <td>t1_t2</td>\n",
       "      <td>2.656609</td>\n",
       "      <td>1.349436</td>\n",
       "      <td>1.307174</td>\n",
       "    </tr>\n",
       "  </tbody>\n",
       "</table>\n",
       "</div>"
      ],
      "text/plain": [
       "                      attribute  avg_true  avg_pred       MAE\n",
       "0                   inclination  1.375976  1.348574  0.027402\n",
       "1                    mass_ratio  1.755052  1.349623  0.405429\n",
       "2    primary__equivalent_radius  0.176406  1.348139  1.171734\n",
       "3  secondary__equivalent_radius  0.199077  1.349457  1.150380\n",
       "4                         t1_t2  2.656609  1.349436  1.307174"
      ]
     },
     "execution_count": 21,
     "metadata": {},
     "output_type": "execute_result"
    }
   ],
   "source": [
    "# Blok 19 - vytvorenie df pre porovnanie priemernych skutocnych a predikovanych hodnot\n",
    "eval_pred = pd.DataFrame({'attribute': test_df.index,\n",
    "            'avg_true': test_df.values,\n",
    "            'avg_pred': pred_mean.values,\n",
    "            'MAE': abs(test_df.values - pred_mean.values)})\n",
    "eval_pred"
   ]
  },
  {
   "cell_type": "markdown",
   "id": "2415c67e-e237-455f-b9a4-66ef11421e64",
   "metadata": {},
   "source": [
    "## Predikcie - data so sumom"
   ]
  },
  {
   "cell_type": "code",
   "execution_count": 23,
   "id": "864832b8-85a8-477c-9b92-2f7346394717",
   "metadata": {},
   "outputs": [
    {
     "name": "stdout",
     "output_type": "stream",
     "text": [
      "3750/3750 [==============================] - 155s 41ms/step\n"
     ]
    },
    {
     "data": {
      "text/plain": [
       "array([1.0206811, 1.0229884, 1.0206231, 1.0221703, 1.0221556],\n",
       "      dtype=float32)"
      ]
     },
     "execution_count": 23,
     "metadata": {},
     "output_type": "execute_result"
    }
   ],
   "source": [
    "# Blok 20 - predikcia na datach so sumom\n",
    "pred_multi_n= multi_model_radius.predict(X_test_n)\n",
    "pred_multi_n[0]"
   ]
  },
  {
   "cell_type": "code",
   "execution_count": 24,
   "id": "9f56c7d5-50bd-48fc-a8d5-fc2a673d5bdf",
   "metadata": {},
   "outputs": [
    {
     "data": {
      "text/plain": [
       "inclination         1.349129\n",
       "mass_ratio          1.350171\n",
       "primary_radius      1.348709\n",
       "secondary_radius    1.350015\n",
       "t1_t2               1.349980\n",
       "dtype: float32"
      ]
     },
     "execution_count": 24,
     "metadata": {},
     "output_type": "execute_result"
    }
   ],
   "source": [
    "# Blok 21 - vytvorenie df z predikcii, vypocet priemernych hodnot\n",
    "predictions_n_df = pd.DataFrame(pred_multi_n,\n",
    "                        columns = [\n",
    "                            \"inclination\",\n",
    "                            \"mass_ratio\",\n",
    "                            \"primary_radius\",\n",
    "                            \"secondary_radius\",\n",
    "                            \"t1_t2\"\n",
    "                            ])\n",
    "pred_mean_n = predictions_n_df.mean(axis=0)\n",
    "pred_mean_n"
   ]
  },
  {
   "cell_type": "code",
   "execution_count": 25,
   "id": "86d9f1e5-dea4-45f6-a5bb-5689b03d8645",
   "metadata": {},
   "outputs": [
    {
     "data": {
      "text/plain": [
       "inclination                     1.375976\n",
       "mass_ratio                      1.755052\n",
       "primary__surface_potential      0.176406\n",
       "secondary__surface_potential    0.199077\n",
       "t1_t2                           2.656609\n",
       "dtype: float64"
      ]
     },
     "execution_count": 25,
     "metadata": {},
     "output_type": "execute_result"
    }
   ],
   "source": [
    "# Blok 22 - vytvorenie df z testovacich dat, vypocet priemernych hodnot\n",
    "test_df_n = pd.DataFrame(y_test_n,\n",
    "                        columns = [\n",
    "                            \"inclination\",\n",
    "                            \"mass_ratio\",\n",
    "                            \"primary__surface_potential\",\n",
    "                            \"secondary__surface_potential\",\n",
    "                            \"t1_t2\"\n",
    "                            ])\n",
    "test_df_n = test_df_n.mean(axis=0)\n",
    "test_df_n"
   ]
  },
  {
   "cell_type": "code",
   "execution_count": 26,
   "id": "f48d685e-afde-4899-920c-06b8f570d5a6",
   "metadata": {},
   "outputs": [
    {
     "data": {
      "text/html": [
       "<div>\n",
       "<style scoped>\n",
       "    .dataframe tbody tr th:only-of-type {\n",
       "        vertical-align: middle;\n",
       "    }\n",
       "\n",
       "    .dataframe tbody tr th {\n",
       "        vertical-align: top;\n",
       "    }\n",
       "\n",
       "    .dataframe thead th {\n",
       "        text-align: right;\n",
       "    }\n",
       "</style>\n",
       "<table border=\"1\" class=\"dataframe\">\n",
       "  <thead>\n",
       "    <tr style=\"text-align: right;\">\n",
       "      <th></th>\n",
       "      <th>attribute</th>\n",
       "      <th>avg_true</th>\n",
       "      <th>avg_pred</th>\n",
       "      <th>MAE</th>\n",
       "    </tr>\n",
       "  </thead>\n",
       "  <tbody>\n",
       "    <tr>\n",
       "      <th>0</th>\n",
       "      <td>inclination</td>\n",
       "      <td>1.375976</td>\n",
       "      <td>1.349129</td>\n",
       "      <td>0.026847</td>\n",
       "    </tr>\n",
       "    <tr>\n",
       "      <th>1</th>\n",
       "      <td>mass_ratio</td>\n",
       "      <td>1.755052</td>\n",
       "      <td>1.350171</td>\n",
       "      <td>0.404881</td>\n",
       "    </tr>\n",
       "    <tr>\n",
       "      <th>2</th>\n",
       "      <td>primary__surface_potential</td>\n",
       "      <td>0.176406</td>\n",
       "      <td>1.348709</td>\n",
       "      <td>1.172303</td>\n",
       "    </tr>\n",
       "    <tr>\n",
       "      <th>3</th>\n",
       "      <td>secondary__surface_potential</td>\n",
       "      <td>0.199077</td>\n",
       "      <td>1.350015</td>\n",
       "      <td>1.150938</td>\n",
       "    </tr>\n",
       "    <tr>\n",
       "      <th>4</th>\n",
       "      <td>t1_t2</td>\n",
       "      <td>2.656609</td>\n",
       "      <td>1.349980</td>\n",
       "      <td>1.306629</td>\n",
       "    </tr>\n",
       "  </tbody>\n",
       "</table>\n",
       "</div>"
      ],
      "text/plain": [
       "                      attribute  avg_true  avg_pred       MAE\n",
       "0                   inclination  1.375976  1.349129  0.026847\n",
       "1                    mass_ratio  1.755052  1.350171  0.404881\n",
       "2    primary__surface_potential  0.176406  1.348709  1.172303\n",
       "3  secondary__surface_potential  0.199077  1.350015  1.150938\n",
       "4                         t1_t2  2.656609  1.349980  1.306629"
      ]
     },
     "execution_count": 26,
     "metadata": {},
     "output_type": "execute_result"
    }
   ],
   "source": [
    "# Blok 23 - vytvorenie df pre porovnanie priemernych skutocnych a predikovanych hodnot\n",
    "eval_pred_n = pd.DataFrame({'attribute': test_df_n.index,\n",
    "            'avg_true': test_df_n.values,\n",
    "            'avg_pred': pred_mean_n.values,\n",
    "            'MAE': abs(test_df_n.values - pred_mean_n.values)})\n",
    "eval_pred_n"
   ]
  }
 ],
 "metadata": {
  "kernelspec": {
   "display_name": "global",
   "language": "python",
   "name": "python3"
  },
  "language_info": {
   "codemirror_mode": {
    "name": "ipython",
    "version": 3
   },
   "file_extension": ".py",
   "mimetype": "text/x-python",
   "name": "python",
   "nbconvert_exporter": "python",
   "pygments_lexer": "ipython3",
   "version": "3.8.12"
  },
  "vscode": {
   "interpreter": {
    "hash": "b8fc6ce4f931e35f5dd2ff00f5d2ede33ff85432a244cf6e3e9d498f6426f487"
   }
  }
 },
 "nbformat": 4,
 "nbformat_minor": 5
}
