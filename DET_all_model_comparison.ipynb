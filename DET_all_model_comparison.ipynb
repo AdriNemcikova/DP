{
 "cells": [
  {
   "attachments": {},
   "cell_type": "markdown",
   "metadata": {},
   "source": [
    "## Script for models comparison\n",
    "In this script we will compare all the models trained on synthetic detached data. Each of the model is predicting all parameters, selection of parameters in original/normalized form or they are predicting values of parameters individually.\n",
    "Content:\n",
    "* Environment setup\n",
    "* Data loading\n",
    "* Data preparation\n",
    "* Preparation of attributes\n",
    "* Predictions\n",
    "* Evaluation of models predicting inclination, mass ratio, temperature ratio, omega1 and omega2\n",
    "* Evaluation of model predicting inclination, mass ratio, temperature ratio, primary and secondary radius"
   ]
  },
  {
   "attachments": {},
   "cell_type": "markdown",
   "metadata": {},
   "source": [
    "## 1. Environment set-up\n",
    "* Importing libraries"
   ]
  },
  {
   "cell_type": "code",
   "execution_count": 4,
   "metadata": {},
   "outputs": [],
   "source": [
    "import numpy as np\n",
    "import pandas as pd\n",
    "import matplotlib.pyplot as plt\n",
    "from sklearn.preprocessing import MinMaxScaler\n",
    "from keras.models import load_model\n",
    "\n",
    "np.random.seed(1234)\n",
    "pd.set_option('display.max_rows', None)"
   ]
  },
  {
   "cell_type": "markdown",
   "metadata": {},
   "source": [
    "* Defining functions for noise generation, set-up of random sigma value generator."
   ]
  },
  {
   "cell_type": "code",
   "execution_count": 3,
   "metadata": {},
   "outputs": [],
   "source": [
    "def generate_observation_sigma(space_obs_frac=0.5):\n",
    "    \"\"\"\n",
    "    Draws a standard deviation of noise in light curve points from a \"true\" value provided in synthetic light curve.\n",
    "    Noise sigma is drawn from bimodal distribution taking into account contributions from space based and earth based\n",
    "    observations which have different levels of stochastic noise.\n",
    "\n",
    "    :param space_obs_frac: ratio between earth based and space based observations\n",
    "    :return: float; standard deviation of the light curve noise\n",
    "    \"\"\"\n",
    "    earth_based_sigma = 4e-3\n",
    "    space_based_sigma = 2e-4\n",
    "    sigma = np.random.choice([earth_based_sigma, space_based_sigma], p=[1-space_obs_frac, space_obs_frac])\n",
    "    return np.random.rayleigh(sigma)\n",
    "\n",
    "def stochastic_noise_generator(curve):\n",
    "    \"\"\"\n",
    "    Introduces gaussian noise into synthetic observation provided in `curve`.\n",
    "\n",
    "    :param curve: numpy.array; normalized light curve\n",
    "    :return: Tuple(numpy.array, float); normalized light curve with added noise, standard deviation of observations\n",
    "    \"\"\"\n",
    "    sigma = generate_observation_sigma()\n",
    "    return np.random.normal(curve, sigma), np.full(curve.shape, sigma)"
   ]
  },
  {
   "attachments": {},
   "cell_type": "markdown",
   "metadata": {},
   "source": [
    "* We need to load all trained models, that are predicting values for detached light curves. Loaded models are:\n",
    "    * **detached_allParams.hdf5** - model is predicting values of **all physical parameters in original form**\n",
    "    * **norm_detached_all_params.hdf5** - model is predicting values of **all physical parameters in normalized form**\n",
    "    * **individual models** - each of the loaded models is predicting values of **one specific attribute in original form**\n",
    "    * **norm_detached_sel_v4.hdf5** - model is predicting values of **selected attributes in normalized form** (attributes: inclination, mass ratio, temp. ratio, omega1, omega2)\n",
    "    * **det_multiNN_norm_model.hdf5** - multi NN model that is predicting values of **selected attributes in normalized form** (attributes: inclination, mass ratio, temp. ratio, omega1, omega2)\n",
    "    * **det_multiNN_radius_model.hdf5** - multi NN model that is predicting values of **selected attributes in original form** (attributes: inclination, mass ratio, temp. ratio, prim. radius, second. radius)"
   ]
  },
  {
   "cell_type": "code",
   "execution_count": 5,
   "metadata": {},
   "outputs": [],
   "source": [
    "det_all_params = load_model(\"models/detached_allParams.hdf5\")\n",
    "\n",
    "det_all_params_norm = load_model(\"models/norm_detached_all_params.hdf5\")\n",
    "\n",
    "det_inc = load_model(\"models/detached_inclination.hdf5\")        # inclination\n",
    "det_mass_ratio = load_model(\"models/detached_mass_ratio.hdf5\")  # mass ratio\n",
    "det_prim_potent = load_model(\"models/detached_pSP.hdf5\")        # primary surface potential\n",
    "det_sec_potent = load_model(\"models/detached_sSP.hdf5\")         # secondary surface potential\n",
    "det_temp_ratio = load_model(\"models/detached_t1_t2.hdf5\")       # temperature ratio\n",
    "\n",
    "det_selected_params_norm = load_model(\"models/norm_detached_sel_v4.hdf5\")\n",
    "\n",
    "det_multi_nn_norm = load_model(\"models/det_multiNN_norm_model.hdf5\")\n",
    "\n",
    "det_multi_radius_nn = load_model(\"models/det_multiNN_radius_model.hdf5\")"
   ]
  },
  {
   "attachments": {},
   "cell_type": "markdown",
   "metadata": {},
   "source": [
    "## 2. Data loading\n",
    "* Loading synthetic data from .pkl file\n",
    "* Selecting random sample of data of size 10 000 records"
   ]
  },
  {
   "cell_type": "code",
   "execution_count": 6,
   "metadata": {},
   "outputs": [
    {
     "data": {
      "text/html": [
       "<div>\n",
       "<style scoped>\n",
       "    .dataframe tbody tr th:only-of-type {\n",
       "        vertical-align: middle;\n",
       "    }\n",
       "\n",
       "    .dataframe tbody tr th {\n",
       "        vertical-align: top;\n",
       "    }\n",
       "\n",
       "    .dataframe thead th {\n",
       "        text-align: right;\n",
       "    }\n",
       "</style>\n",
       "<table border=\"1\" class=\"dataframe\">\n",
       "  <thead>\n",
       "    <tr style=\"text-align: right;\">\n",
       "      <th></th>\n",
       "      <th>index</th>\n",
       "      <th>id</th>\n",
       "      <th>curve</th>\n",
       "      <th>primary__t_eff</th>\n",
       "      <th>secondary__t_eff</th>\n",
       "      <th>inclination</th>\n",
       "      <th>mass_ratio</th>\n",
       "      <th>primary__surface_potential</th>\n",
       "      <th>secondary__surface_potential</th>\n",
       "      <th>t1_t2</th>\n",
       "      <th>filter</th>\n",
       "      <th>critical_surface_potential</th>\n",
       "      <th>primary__equivalent_radius</th>\n",
       "      <th>secondary__equivalent_radius</th>\n",
       "      <th>primary__filling_factor</th>\n",
       "      <th>secondary__filling_factor</th>\n",
       "    </tr>\n",
       "  </thead>\n",
       "  <tbody>\n",
       "    <tr>\n",
       "      <th>647973</th>\n",
       "      <td>647973</td>\n",
       "      <td>10032749</td>\n",
       "      <td>[0.48835963039886077, 0.4913287663336375, 0.49...</td>\n",
       "      <td>45000</td>\n",
       "      <td>5000</td>\n",
       "      <td>1.334076</td>\n",
       "      <td>0.600000</td>\n",
       "      <td>20.601251</td>\n",
       "      <td>4.071076</td>\n",
       "      <td>9.00</td>\n",
       "      <td>Bessell_B</td>\n",
       "      <td>3.063442</td>\n",
       "      <td>0.049981</td>\n",
       "      <td>0.210724</td>\n",
       "      <td>-49.955205</td>\n",
       "      <td>-2.870176</td>\n",
       "    </tr>\n",
       "    <tr>\n",
       "      <th>1109932</th>\n",
       "      <td>1109932</td>\n",
       "      <td>16384835</td>\n",
       "      <td>[0.5932746668156491, 0.594846617739326, 0.5994...</td>\n",
       "      <td>12000</td>\n",
       "      <td>5000</td>\n",
       "      <td>1.310729</td>\n",
       "      <td>1.111111</td>\n",
       "      <td>7.008254</td>\n",
       "      <td>5.425004</td>\n",
       "      <td>2.40</td>\n",
       "      <td>SLOAN_u</td>\n",
       "      <td>3.928447</td>\n",
       "      <td>0.170106</td>\n",
       "      <td>0.250460</td>\n",
       "      <td>-5.570841</td>\n",
       "      <td>-2.707013</td>\n",
       "    </tr>\n",
       "    <tr>\n",
       "      <th>731380</th>\n",
       "      <td>731380</td>\n",
       "      <td>10579972</td>\n",
       "      <td>[0.0559029780103817, 0.05590501277853746, 0.05...</td>\n",
       "      <td>10000</td>\n",
       "      <td>5000</td>\n",
       "      <td>1.427398</td>\n",
       "      <td>1.666667</td>\n",
       "      <td>9.367600</td>\n",
       "      <td>5.812000</td>\n",
       "      <td>2.00</td>\n",
       "      <td>Bessell_U</td>\n",
       "      <td>4.772403</td>\n",
       "      <td>0.130062</td>\n",
       "      <td>0.330428</td>\n",
       "      <td>-7.853457</td>\n",
       "      <td>-1.776732</td>\n",
       "    </tr>\n",
       "    <tr>\n",
       "      <th>692703</th>\n",
       "      <td>692703</td>\n",
       "      <td>10341530</td>\n",
       "      <td>[0.9719087814691745, 0.9719390320925176, 0.971...</td>\n",
       "      <td>9000</td>\n",
       "      <td>5000</td>\n",
       "      <td>1.223879</td>\n",
       "      <td>1.666667</td>\n",
       "      <td>9.367600</td>\n",
       "      <td>8.640628</td>\n",
       "      <td>1.80</td>\n",
       "      <td>GaiaDR2</td>\n",
       "      <td>4.772403</td>\n",
       "      <td>0.130062</td>\n",
       "      <td>0.209983</td>\n",
       "      <td>-7.853457</td>\n",
       "      <td>-6.611019</td>\n",
       "    </tr>\n",
       "    <tr>\n",
       "      <th>1145336</th>\n",
       "      <td>1145336</td>\n",
       "      <td>16615611</td>\n",
       "      <td>[0.8654052436804602, 0.8654499986635169, 0.865...</td>\n",
       "      <td>20000</td>\n",
       "      <td>16000</td>\n",
       "      <td>1.180696</td>\n",
       "      <td>0.900000</td>\n",
       "      <td>3.676833</td>\n",
       "      <td>19.051127</td>\n",
       "      <td>1.25</td>\n",
       "      <td>Kepler</td>\n",
       "      <td>3.585603</td>\n",
       "      <td>0.373969</td>\n",
       "      <td>0.049982</td>\n",
       "      <td>-0.183357</td>\n",
       "      <td>-31.082753</td>\n",
       "    </tr>\n",
       "  </tbody>\n",
       "</table>\n",
       "</div>"
      ],
      "text/plain": [
       "           index        id                                              curve  \\\n",
       "647973    647973  10032749  [0.48835963039886077, 0.4913287663336375, 0.49...   \n",
       "1109932  1109932  16384835  [0.5932746668156491, 0.594846617739326, 0.5994...   \n",
       "731380    731380  10579972  [0.0559029780103817, 0.05590501277853746, 0.05...   \n",
       "692703    692703  10341530  [0.9719087814691745, 0.9719390320925176, 0.971...   \n",
       "1145336  1145336  16615611  [0.8654052436804602, 0.8654499986635169, 0.865...   \n",
       "\n",
       "         primary__t_eff  secondary__t_eff  inclination  mass_ratio  \\\n",
       "647973            45000              5000     1.334076    0.600000   \n",
       "1109932           12000              5000     1.310729    1.111111   \n",
       "731380            10000              5000     1.427398    1.666667   \n",
       "692703             9000              5000     1.223879    1.666667   \n",
       "1145336           20000             16000     1.180696    0.900000   \n",
       "\n",
       "         primary__surface_potential  secondary__surface_potential  t1_t2  \\\n",
       "647973                    20.601251                      4.071076   9.00   \n",
       "1109932                    7.008254                      5.425004   2.40   \n",
       "731380                     9.367600                      5.812000   2.00   \n",
       "692703                     9.367600                      8.640628   1.80   \n",
       "1145336                    3.676833                     19.051127   1.25   \n",
       "\n",
       "            filter  critical_surface_potential  primary__equivalent_radius  \\\n",
       "647973   Bessell_B                    3.063442                    0.049981   \n",
       "1109932    SLOAN_u                    3.928447                    0.170106   \n",
       "731380   Bessell_U                    4.772403                    0.130062   \n",
       "692703     GaiaDR2                    4.772403                    0.130062   \n",
       "1145336     Kepler                    3.585603                    0.373969   \n",
       "\n",
       "         secondary__equivalent_radius  primary__filling_factor  \\\n",
       "647973                       0.210724               -49.955205   \n",
       "1109932                      0.250460                -5.570841   \n",
       "731380                       0.330428                -7.853457   \n",
       "692703                       0.209983                -7.853457   \n",
       "1145336                      0.049982                -0.183357   \n",
       "\n",
       "         secondary__filling_factor  \n",
       "647973                   -2.870176  \n",
       "1109932                  -2.707013  \n",
       "731380                   -1.776732  \n",
       "692703                   -6.611019  \n",
       "1145336                 -31.082753  "
      ]
     },
     "execution_count": 6,
     "metadata": {},
     "output_type": "execute_result"
    }
   ],
   "source": [
    "data = pd.read_pickle(\"detached_all_parameters.pkl\").reset_index()\n",
    "data_sample = data.sample(n=10000)\n",
    "data_sample.head()"
   ]
  },
  {
   "cell_type": "markdown",
   "metadata": {},
   "source": [
    "## 3. Data preparation"
   ]
  },
  {
   "attachments": {},
   "cell_type": "markdown",
   "metadata": {},
   "source": [
    "* Create multi-dimensional array of vectors of light curves\n",
    "* Create array of features, which will models predict\n",
    "* Adding noise to data"
   ]
  },
  {
   "cell_type": "code",
   "execution_count": 7,
   "metadata": {},
   "outputs": [],
   "source": [
    "X = []\n",
    "for row in data_sample[\"curve\"]:\n",
    "    X.append(row)\n",
    "X=np.array(X)\n",
    "\n",
    "y = np.array(data_sample[[\n",
    "    \"primary__t_eff\",\n",
    "    \"secondary__t_eff\",\n",
    "    \"inclination\",\n",
    "    \"mass_ratio\",\n",
    "    \"primary__surface_potential\",\n",
    "    \"secondary__surface_potential\",\n",
    "    \"t1_t2\",\n",
    "    \"critical_surface_potential\",\n",
    "    \"primary__equivalent_radius\",\n",
    "    \"secondary__equivalent_radius\",\n",
    "    \"primary__filling_factor\",\n",
    "    \"secondary__filling_factor\"]])\n",
    "\n",
    "X_n = []\n",
    "y_n = []\n",
    "for i in range(len(X)):\n",
    "    for j in range(3):\n",
    "        curve = stochastic_noise_generator(X[i])\n",
    "        X_n.append(curve[0])\n",
    "        y_n.append(y[i])\n",
    "X_n = np.array(X_n)\n",
    "y_n=np.array(y_n)"
   ]
  },
  {
   "attachments": {},
   "cell_type": "markdown",
   "metadata": {},
   "source": [
    "* We select only necessary physical attributes into *parameters* dataframe"
   ]
  },
  {
   "cell_type": "code",
   "execution_count": 9,
   "metadata": {},
   "outputs": [],
   "source": [
    "parameters = pd.DataFrame(data=y_n, columns=[\n",
    "    \"primary__t_eff\",\n",
    "    \"secondary__t_eff\",\n",
    "    \"inclination\",\n",
    "    \"mass_ratio\",\n",
    "    \"primary__surface_potential\",\n",
    "    \"secondary__surface_potential\",\n",
    "    \"t1_t2\",\n",
    "    \"critical_surface_potential\",\n",
    "    \"primary__equivalent_radius\",\n",
    "    \"secondary__equivalent_radius\",\n",
    "    \"primary__filling_factor\",\n",
    "    \"secondary__filling_factor\"])"
   ]
  },
  {
   "attachments": {},
   "cell_type": "markdown",
   "metadata": {},
   "source": [
    "* Next we create dataframes of true values, so we can evaluate predictions later."
   ]
  },
  {
   "cell_type": "code",
   "execution_count": 14,
   "metadata": {},
   "outputs": [
    {
     "name": "stdout",
     "output_type": "stream",
     "text": [
      "Priemerne hodnoty test1: \n",
      " inclination                      1.374078\n",
      "mass_ratio                       1.738379\n",
      "primary__surface_potential      18.352879\n",
      "secondary__surface_potential    15.764617\n",
      "t1_t2                            2.635565\n",
      "dtype: float64\n",
      "Priemerne hodnoty test2: \n",
      " inclination                     1.374078\n",
      "mass_ratio                      1.738379\n",
      "primary__equivalent_radius      0.176892\n",
      "secondary__equivalent_radius    0.200262\n",
      "t1_t2                           2.635565\n",
      "dtype: float64\n"
     ]
    }
   ],
   "source": [
    "test_1 = pd.DataFrame(data=parameters[[\n",
    "                            \"inclination\",\n",
    "                            \"mass_ratio\",\n",
    "                            \"primary__surface_potential\",\n",
    "                            \"secondary__surface_potential\",\n",
    "                            \"t1_t2\"]])\n",
    "test_mean_1 = test_1.mean(axis=0)\n",
    "print(\"Priemerne hodnoty test1: \\n\", test_mean_1)\n",
    "\n",
    "test_2 = pd.DataFrame(data=parameters[[\n",
    "                            \"inclination\",\n",
    "                            \"mass_ratio\",\n",
    "                            \"primary__equivalent_radius\",\n",
    "                            \"secondary__equivalent_radius\",\n",
    "                            \"t1_t2\"]])\n",
    "test_mean_2 = test_2.mean(axis=0)\n",
    "print(\"Priemerne hodnoty test2: \\n\", test_mean_2)"
   ]
  },
  {
   "attachments": {},
   "cell_type": "markdown",
   "metadata": {},
   "source": [
    "## 4. Preparation of attributes\n",
    "We need to prepare numpy arrays of true values of specific attributes for each predicted values.\n",
    "* Parameters for model *detached_allParams.hdf5* - all attributes"
   ]
  },
  {
   "cell_type": "code",
   "execution_count": 15,
   "metadata": {},
   "outputs": [],
   "source": [
    "y_model1 = np.array(parameters[[\n",
    "    \"inclination\",\n",
    "    \"mass_ratio\",\n",
    "    \"primary__surface_potential\",\n",
    "    \"secondary__surface_potential\",\n",
    "    \"t1_t2\",\n",
    "    \"critical_surface_potential\",\n",
    "    \"primary__equivalent_radius\",\n",
    "    \"secondary__equivalent_radius\",\n",
    "    \"primary__filling_factor\",\n",
    "    \"secondary__filling_factor\"]])"
   ]
  },
  {
   "attachments": {},
   "cell_type": "markdown",
   "metadata": {},
   "source": [
    "* Parameters for model *norm_detached_all_params.hdf5* - all attributes + normalization"
   ]
  },
  {
   "cell_type": "code",
   "execution_count": 16,
   "metadata": {},
   "outputs": [],
   "source": [
    "y_model2 = np.array(parameters[[\n",
    "    \"primary__t_eff\",\n",
    "    \"secondary__t_eff\",\n",
    "    \"inclination\",\n",
    "    \"mass_ratio\",\n",
    "    \"primary__surface_potential\",\n",
    "    \"secondary__surface_potential\",\n",
    "    \"t1_t2\",\n",
    "    \"critical_surface_potential\",\n",
    "    \"primary__equivalent_radius\",\n",
    "    \"secondary__equivalent_radius\",\n",
    "    \"primary__filling_factor\",\n",
    "    \"secondary__filling_factor\"]])\n",
    "\n",
    "scaler_model2 = MinMaxScaler()\n",
    "y_normed_model2 = scaler_model2.fit_transform(y_model2)"
   ]
  },
  {
   "attachments": {},
   "cell_type": "markdown",
   "metadata": {},
   "source": [
    "* Parameters for *individual models* - selected attributes"
   ]
  },
  {
   "cell_type": "code",
   "execution_count": 17,
   "metadata": {},
   "outputs": [],
   "source": [
    "y_inc = np.array(parameters[\"inclination\"])\n",
    "y_mass_ratio = np.array(parameters[\"mass_ratio\"])\n",
    "y_psp = np.array(parameters[\"primary__surface_potential\"])\n",
    "y_ssp = np.array(parameters[\"secondary__surface_potential\"])\n",
    "y_t2_t1 = np.array(parameters[\"t1_t2\"])"
   ]
  },
  {
   "attachments": {},
   "cell_type": "markdown",
   "metadata": {},
   "source": [
    "* Parameters for model *norm_detached_sel_v4.hdf5* - selected attributes + normalization"
   ]
  },
  {
   "cell_type": "code",
   "execution_count": 18,
   "metadata": {},
   "outputs": [],
   "source": [
    "y_model4 = np.array(parameters[[\n",
    "    \"inclination\",\n",
    "    \"mass_ratio\",\n",
    "    \"primary__surface_potential\",\n",
    "    \"secondary__surface_potential\",\n",
    "    \"t1_t2\"]])\n",
    "scaler_model4 = MinMaxScaler()\n",
    "y_normed_model4 = scaler_model4.fit_transform(y_model4)"
   ]
  },
  {
   "attachments": {},
   "cell_type": "markdown",
   "metadata": {},
   "source": [
    "* Parameters for model *det_multiNN_norm_model.hdf5* - selected attributes + normalization.\n",
    "* First we need to separate each attribute into numpy array. Later we reshape it and normalize it with MinMax scalers trained fo each attribute."
   ]
  },
  {
   "cell_type": "code",
   "execution_count": 19,
   "metadata": {},
   "outputs": [],
   "source": [
    "y_model5 = np.array(data_sample[[\n",
    "    \"inclination\",\n",
    "    \"mass_ratio\",\n",
    "    \"primary__surface_potential\",\n",
    "    \"secondary__surface_potential\",\n",
    "    \"t1_t2\"]])\n",
    "\n",
    "y_inc_model5 = np.array([arr[0] for arr in y_model5])\n",
    "y_mass_model5 = np.array([arr[1] for arr in y_model5])\n",
    "y_prim_potent_model5 = np.array([arr[2] for arr in y_model5])\n",
    "y_sec_potent_model5 = np.array([arr[3] for arr in y_model5])\n",
    "y_temp_ratio_model5 = np.array([arr[4] for arr in y_model5])\n",
    "\n",
    "y_inc_model5 = y_inc_model5.reshape(-1,1)\n",
    "y_mass_model5 = y_mass_model5.reshape(-1,1)\n",
    "y_prim_potent_model5 = y_prim_potent_model5.reshape(-1,1)\n",
    "y_sec_potent_model5 = y_sec_potent_model5.reshape(-1,1)\n",
    "y_temp_ratio_model5 = y_temp_ratio_model5.reshape(-1,1)\n",
    "\n",
    "inc_model5_scaler = MinMaxScaler()\n",
    "mass_model5_scaler = MinMaxScaler()\n",
    "prim_potent_model5_scaler = MinMaxScaler()\n",
    "sec_potent_model5_scaler = MinMaxScaler()\n",
    "temp_ratio_model5_scaler = MinMaxScaler()\n",
    "\n",
    "y_inc_model5_scaled = inc_model5_scaler.fit_transform(y_inc_model5)\n",
    "y_mass_model5_scaled = mass_model5_scaler.fit_transform(y_mass_model5)\n",
    "y_prim_potent_model5_scaled = prim_potent_model5_scaler.fit_transform(y_prim_potent_model5)\n",
    "y_sec_potent_model5_scaled = sec_potent_model5_scaler.fit_transform(y_sec_potent_model5)\n",
    "y_temp_ratio_model5_scaled = temp_ratio_model5_scaler.fit_transform(y_temp_ratio_model5)\n",
    "\n",
    "y_inc_model5_scaled = np.array(y_inc_model5_scaled)\n",
    "y_mass_model5_scaled = np.array(y_mass_model5_scaled)\n",
    "y_prim_potent_model5_scaled = np.array(y_prim_potent_model5_scaled)\n",
    "y_sec_potent_model5_scaled = np.array(y_sec_potent_model5_scaled)\n",
    "y_temp_ratio_model5_scaled = np.array(y_temp_ratio_model5_scaled)"
   ]
  },
  {
   "attachments": {},
   "cell_type": "markdown",
   "metadata": {},
   "source": [
    "* Parameters for model *det_multiNN_radius_model.hdf5* - selected attributes. We need to separate each attribute into numpy array."
   ]
  },
  {
   "cell_type": "code",
   "execution_count": 20,
   "metadata": {},
   "outputs": [],
   "source": [
    "y_model6 = np.array(data_sample[[\n",
    "    \"inclination\",\n",
    "    \"mass_ratio\",\n",
    "    \"primary__equivalent_radius\",\n",
    "    \"secondary__equivalent_radius\",\n",
    "    \"t1_t2\"]])\n",
    "\n",
    "y_inc_model6 = np.array([arr[0] for arr in y_model6])\n",
    "y_mass_model6 = np.array([arr[1] for arr in y_model6])\n",
    "y_prim_radius_model6 = np.array([arr[2] for arr in y_model6])\n",
    "y_sec_radius_model6 = np.array([arr[3] for arr in y_model6])\n",
    "y_temp_ratio_model6 = np.array([arr[4] for arr in y_model6])"
   ]
  },
  {
   "attachments": {},
   "cell_type": "markdown",
   "metadata": {},
   "source": [
    "## 5. Predictions"
   ]
  },
  {
   "attachments": {},
   "cell_type": "markdown",
   "metadata": {},
   "source": [
    "* Predictions with *detached_allParams.hdf5*. We create dataframe of predictions and we select only inclination, mass ratio, omega1, omega2 and temperature ratio predicted values. In the end we calculate average value of each attribute."
   ]
  },
  {
   "cell_type": "code",
   "execution_count": 21,
   "metadata": {},
   "outputs": [
    {
     "data": {
      "text/plain": [
       "P_inclination                      1.379104\n",
       "P_mass_ratio                       1.578713\n",
       "P_primary__surface_potential      17.479206\n",
       "P_secondary__surface_potential    17.599979\n",
       "P_t1_t2                            2.696397\n",
       "dtype: float32"
      ]
     },
     "execution_count": 21,
     "metadata": {},
     "output_type": "execute_result"
    }
   ],
   "source": [
    "model1_pred = det_all_params.predict(X_n)\n",
    "model1_pred = pd.DataFrame(model1_pred,\n",
    "                            columns = [\n",
    "                                \"P_inclination\",\n",
    "                                \"P_mass_ratio\",\n",
    "                                \"P_primary__surface_potential\",\n",
    "                                \"P_secondary__surface_potential\",\n",
    "                                \"P_t1_t2\",\n",
    "                                \"P_critical_surface_potential\",\n",
    "                                \"P_primary__equivalent_radius\",\n",
    "                                \"P_secondary__equivalent_radius\",\n",
    "                                \"P_primary__filling_factor\",\n",
    "                                \"P_secondary__filling_factor\"])\n",
    "model1_pred = model1_pred[[\"P_inclination\", \"P_mass_ratio\",\"P_primary__surface_potential\",\"P_secondary__surface_potential\",\"P_t1_t2\"]]\n",
    "pred_mean_model1 = model1_pred.mean(axis=0)\n",
    "pred_mean_model1\n"
   ]
  },
  {
   "attachments": {},
   "cell_type": "markdown",
   "metadata": {},
   "source": [
    "* Predictions with *norm_detached_all_params.hdf5*. First we need to denormalize predictions. Then we create dataframe of predictions and we select only inclination, mass ratio, omega1, omega2 and temperature ratio predicted values. In the end we calculate average value of each attribute."
   ]
  },
  {
   "cell_type": "code",
   "execution_count": 23,
   "metadata": {},
   "outputs": [
    {
     "data": {
      "text/plain": [
       "P_inclination                      1.368506\n",
       "P_mass_ratio                       1.630880\n",
       "P_primary__surface_potential      17.123560\n",
       "P_secondary__surface_potential    17.932296\n",
       "P_t1_t2                            2.588711\n",
       "dtype: float64"
      ]
     },
     "execution_count": 23,
     "metadata": {},
     "output_type": "execute_result"
    }
   ],
   "source": [
    "model2_pred = det_all_params_norm(X_n)\n",
    "pred_model2_denorm = scaler_model2.inverse_transform(model2_pred)\n",
    "denorm_pred_model2 = pd.DataFrame(pred_model2_denorm,\n",
    "                            columns = [\n",
    "                                \"P_prim__t_eff\",\n",
    "                                \"P_sec__t_eff\",\n",
    "                                \"P_inclination\",\n",
    "                                \"P_mass_ratio\",\n",
    "                                \"P_primary__surface_potential\",\n",
    "                                \"P_secondary__surface_potential\",\n",
    "                                \"P_t1_t2\",\n",
    "                                \"P_critical_surface_potential\",\n",
    "                                \"P_primary_equivalent_radius\",\n",
    "                                \"P_secondary_equivalent_radius\",\n",
    "                                \"P_primary_filling_factor\",\n",
    "                                \"P_secondary_filling_factor\"\n",
    "                            ])\n",
    "denorm_pred_model2 = denorm_pred_model2[[\"P_inclination\", \"P_mass_ratio\",\"P_primary__surface_potential\",\"P_secondary__surface_potential\",\"P_t1_t2\"]]\n",
    "pred_mean_model2 = denorm_pred_model2.mean(axis=0)\n",
    "pred_mean_model2\n"
   ]
  },
  {
   "attachments": {},
   "cell_type": "markdown",
   "metadata": {},
   "source": [
    "* Predictions with *individual models*. We need to use flatten function to colapse array into 1D form. In the end we create dataframe of predictions and calculate average values."
   ]
  },
  {
   "cell_type": "code",
   "execution_count": 33,
   "metadata": {},
   "outputs": [
    {
     "data": {
      "text/plain": [
       "P_inclination                      1.375742\n",
       "P_mass_ratio                       1.630156\n",
       "P_primary__surface_potential      17.775438\n",
       "P_secondary__surface_potential    15.362234\n",
       "P_t1_t2                            2.616299\n",
       "dtype: float32"
      ]
     },
     "execution_count": 33,
     "metadata": {},
     "output_type": "execute_result"
    }
   ],
   "source": [
    "pred_inc = det_inc.predict(X_n).flatten()\n",
    "pred_q = det_mass_ratio.predict(X_n).flatten()\n",
    "pred_pp = det_prim_potent.predict(X_n).flatten()\n",
    "pred_sp = det_sec_potent.predict(X_n).flatten()\n",
    "pred_tr = det_temp_ratio.predict(X_n).flatten()\n",
    "\n",
    "pred_model3 = pd.DataFrame()\n",
    "pred_model3['P_inclination']=pd.Series(pred_inc)\n",
    "pred_model3['P_mass_ratio']=pd.Series(pred_q)\n",
    "pred_model3['P_primary__surface_potential']=pd.Series(pred_pp)\n",
    "pred_model3['P_secondary__surface_potential']=pd.Series(pred_sp)\n",
    "pred_model3['P_t1_t2']=pd.Series(pred_tr)\n",
    "\n",
    "pred_mean_model3 = pred_model3.mean(axis=0)\n",
    "pred_mean_model3"
   ]
  },
  {
   "attachments": {},
   "cell_type": "markdown",
   "metadata": {},
   "source": [
    "* Predictions with *norm_detached_sel_v4.hdf5*. First we need to denormalize predictions. Then we create dataframe of predictions and we calculate average value of each attribute."
   ]
  },
  {
   "cell_type": "code",
   "execution_count": 34,
   "metadata": {},
   "outputs": [
    {
     "data": {
      "text/plain": [
       "P_inclination                      1.360300\n",
       "P_mass_ratio                       1.652796\n",
       "P_primary__surface_potential      18.847944\n",
       "P_secondary__surface_potential    19.050194\n",
       "P_t1_t2                            2.499725\n",
       "dtype: float32"
      ]
     },
     "execution_count": 34,
     "metadata": {},
     "output_type": "execute_result"
    }
   ],
   "source": [
    "pred_model_4 = det_selected_params_norm.predict(X_n)\n",
    "pred_model4_denorm = scaler_model4.inverse_transform(pred_model_4)\n",
    "denorm_pred_model4 = pd.DataFrame(pred_model4_denorm,\n",
    "                            columns = [\n",
    "                                \"P_inclination\",\n",
    "                                \"P_mass_ratio\",\n",
    "                                \"P_primary__surface_potential\",\n",
    "                                \"P_secondary__surface_potential\",\n",
    "                                \"P_t1_t2\"])\n",
    "pred_mean_model4 = denorm_pred_model4.mean(axis=0)\n",
    "pred_mean_model4"
   ]
  },
  {
   "attachments": {},
   "cell_type": "markdown",
   "metadata": {},
   "source": [
    "* Predictions with *det_multiNN_norm_model.hdf5*. First we need to create new numpy array of each predicted value. Then we can reshape it and denormalize values. In the end we create dataframe and calculate average value of each attribute."
   ]
  },
  {
   "cell_type": "code",
   "execution_count": 35,
   "metadata": {},
   "outputs": [
    {
     "data": {
      "text/plain": [
       "P_inclination                       1.375397\n",
       "P_mass_ratio                        7.677978\n",
       "P_primary__surface_potential       84.673218\n",
       "P_secondary__surface_potential    763.246277\n",
       "P_t1_t2                             8.845905\n",
       "dtype: float32"
      ]
     },
     "execution_count": 35,
     "metadata": {},
     "output_type": "execute_result"
    }
   ],
   "source": [
    "pred_model_5 = det_multi_nn_norm.predict(X_n)\n",
    "\n",
    "pred_inc_model5 = np.array([arr[0] for arr in pred_model_5])\n",
    "pred_mass_model5 = np.array([arr[1] for arr in pred_model_5])\n",
    "pred_prim_potent_model5 = np.array([arr[2] for arr in pred_model_5])\n",
    "pred_sec_potent_model5 = np.array([arr[3] for arr in pred_model_5])\n",
    "pred_temp_ratio_model5 = np.array([arr[4] for arr in pred_model_5])\n",
    "\n",
    "pred_inc_model5 = pred_inc_model5.reshape(-1,1)\n",
    "pred_mass_model5 = pred_mass_model5.reshape(-1,1)\n",
    "pred_prim_potent_model5 = pred_prim_potent_model5.reshape(-1,1)\n",
    "pred_sec_potent_model5 = pred_sec_potent_model5.reshape(-1,1)\n",
    "pred_temp_ratio_model5 = pred_temp_ratio_model5.reshape(-1,1)\n",
    "\n",
    "pred_inc_model5 = inc_model5_scaler.inverse_transform(pred_inc_model5).flatten()\n",
    "pred_mass_model5 = mass_model5_scaler.inverse_transform(pred_mass_model5).flatten()\n",
    "pred_prim_potent_model5 = prim_potent_model5_scaler.inverse_transform(pred_prim_potent_model5).flatten()\n",
    "pred_sec_potent_model5 = sec_potent_model5_scaler.inverse_transform(pred_sec_potent_model5).flatten()\n",
    "pred_temp_ratio_model5 = temp_ratio_model5_scaler.inverse_transform(pred_temp_ratio_model5).flatten()\n",
    "\n",
    "denorm_pred_model5 = pd.DataFrame()\n",
    "denorm_pred_model5['P_inclination']=pd.Series(pred_inc_model5)\n",
    "denorm_pred_model5['P_mass_ratio']=pd.Series(pred_mass_model5)\n",
    "denorm_pred_model5['P_primary__surface_potential']=pd.Series(pred_prim_potent_model5)\n",
    "denorm_pred_model5['P_secondary__surface_potential']=pd.Series(pred_sec_potent_model5)\n",
    "denorm_pred_model5['P_t1_t2']=pd.Series(pred_temp_ratio_model5)\n",
    "\n",
    "pred_mean_model5 = denorm_pred_model5.mean(axis=0)\n",
    "pred_mean_model5"
   ]
  },
  {
   "attachments": {},
   "cell_type": "markdown",
   "metadata": {},
   "source": [
    "* Predictions with *det_multiNN_radius_model.hdf5*. We create dataframe and calculate average value of each attribute."
   ]
  },
  {
   "cell_type": "code",
   "execution_count": 36,
   "metadata": {},
   "outputs": [
    {
     "data": {
      "text/plain": [
       "P_inclination                     1.347707\n",
       "P_mass_ratio                      1.348775\n",
       "P_primary__equivalent_radius      1.347275\n",
       "P_secondary__equivalent_radius    1.348610\n",
       "P_t1_t2                           1.348568\n",
       "dtype: float32"
      ]
     },
     "execution_count": 36,
     "metadata": {},
     "output_type": "execute_result"
    }
   ],
   "source": [
    "pred_model_6 = det_multi_radius_nn.predict(X_n)\n",
    "pred_model6_df = pd.DataFrame(pred_model_6,\n",
    "                        columns = [\n",
    "                            \"P_inclination\",\n",
    "                            \"P_mass_ratio\",\n",
    "                            \"P_primary__equivalent_radius\",\n",
    "                            \"P_secondary__equivalent_radius\",\n",
    "                            \"P_t1_t2\"\n",
    "                            ])\n",
    "pred_mean_model6 = pred_model6_df.mean(axis=0)\n",
    "pred_mean_model6"
   ]
  },
  {
   "attachments": {},
   "cell_type": "markdown",
   "metadata": {},
   "source": [
    "## 6. Evaluation of models\n",
    "Models that predicted combination of values inc, q, primary potential, secondary potential, temperature ratio"
   ]
  },
  {
   "attachments": {},
   "cell_type": "markdown",
   "metadata": {},
   "source": [
    "* We create dataframe with average of true values and average of all predictions."
   ]
  },
  {
   "cell_type": "code",
   "execution_count": 37,
   "metadata": {},
   "outputs": [
    {
     "data": {
      "text/html": [
       "<div>\n",
       "<style scoped>\n",
       "    .dataframe tbody tr th:only-of-type {\n",
       "        vertical-align: middle;\n",
       "    }\n",
       "\n",
       "    .dataframe tbody tr th {\n",
       "        vertical-align: top;\n",
       "    }\n",
       "\n",
       "    .dataframe thead th {\n",
       "        text-align: right;\n",
       "    }\n",
       "</style>\n",
       "<table border=\"1\" class=\"dataframe\">\n",
       "  <thead>\n",
       "    <tr style=\"text-align: right;\">\n",
       "      <th></th>\n",
       "      <th>attribute</th>\n",
       "      <th>AVG test data</th>\n",
       "      <th>AVG model 1</th>\n",
       "      <th>AVG model 2</th>\n",
       "      <th>AVG model 3</th>\n",
       "      <th>AVG model 4</th>\n",
       "      <th>AVG model 5</th>\n",
       "    </tr>\n",
       "  </thead>\n",
       "  <tbody>\n",
       "    <tr>\n",
       "      <th>0</th>\n",
       "      <td>inclination</td>\n",
       "      <td>1.374078</td>\n",
       "      <td>1.379104</td>\n",
       "      <td>1.368506</td>\n",
       "      <td>1.375742</td>\n",
       "      <td>1.360300</td>\n",
       "      <td>1.375397</td>\n",
       "    </tr>\n",
       "    <tr>\n",
       "      <th>1</th>\n",
       "      <td>mass_ratio</td>\n",
       "      <td>1.738379</td>\n",
       "      <td>1.578713</td>\n",
       "      <td>1.630880</td>\n",
       "      <td>1.630156</td>\n",
       "      <td>1.652796</td>\n",
       "      <td>7.677978</td>\n",
       "    </tr>\n",
       "    <tr>\n",
       "      <th>2</th>\n",
       "      <td>primary__surface_potential</td>\n",
       "      <td>18.352879</td>\n",
       "      <td>17.479206</td>\n",
       "      <td>17.123560</td>\n",
       "      <td>17.775438</td>\n",
       "      <td>18.847944</td>\n",
       "      <td>84.673218</td>\n",
       "    </tr>\n",
       "    <tr>\n",
       "      <th>3</th>\n",
       "      <td>secondary__surface_potential</td>\n",
       "      <td>15.764617</td>\n",
       "      <td>17.599979</td>\n",
       "      <td>17.932296</td>\n",
       "      <td>15.362234</td>\n",
       "      <td>19.050194</td>\n",
       "      <td>763.246277</td>\n",
       "    </tr>\n",
       "    <tr>\n",
       "      <th>4</th>\n",
       "      <td>t1_t2</td>\n",
       "      <td>2.635565</td>\n",
       "      <td>2.696397</td>\n",
       "      <td>2.588711</td>\n",
       "      <td>2.616299</td>\n",
       "      <td>2.499725</td>\n",
       "      <td>8.845905</td>\n",
       "    </tr>\n",
       "  </tbody>\n",
       "</table>\n",
       "</div>"
      ],
      "text/plain": [
       "                      attribute  AVG test data  AVG model 1  AVG model 2  \\\n",
       "0                   inclination       1.374078     1.379104     1.368506   \n",
       "1                    mass_ratio       1.738379     1.578713     1.630880   \n",
       "2    primary__surface_potential      18.352879    17.479206    17.123560   \n",
       "3  secondary__surface_potential      15.764617    17.599979    17.932296   \n",
       "4                         t1_t2       2.635565     2.696397     2.588711   \n",
       "\n",
       "   AVG model 3  AVG model 4  AVG model 5  \n",
       "0     1.375742     1.360300     1.375397  \n",
       "1     1.630156     1.652796     7.677978  \n",
       "2    17.775438    18.847944    84.673218  \n",
       "3    15.362234    19.050194   763.246277  \n",
       "4     2.616299     2.499725     8.845905  "
      ]
     },
     "execution_count": 37,
     "metadata": {},
     "output_type": "execute_result"
    }
   ],
   "source": [
    "eval_pred = pd.DataFrame({'attribute': test_mean_1.index,\n",
    "            'AVG test data': test_mean_1.values,\n",
    "            'AVG model 1': pred_mean_model1.values,\n",
    "            'AVG model 2': pred_mean_model2.values,\n",
    "            'AVG model 3': pred_mean_model3.values,\n",
    "            'AVG model 4': pred_mean_model4.values,\n",
    "            'AVG model 5': pred_mean_model5.values})\n",
    "eval_pred"
   ]
  },
  {
   "attachments": {},
   "cell_type": "markdown",
   "metadata": {},
   "source": [
    "* Next we created dataframe with average of true values and MAE for each model."
   ]
  },
  {
   "cell_type": "code",
   "execution_count": 38,
   "metadata": {},
   "outputs": [
    {
     "data": {
      "text/html": [
       "<div>\n",
       "<style scoped>\n",
       "    .dataframe tbody tr th:only-of-type {\n",
       "        vertical-align: middle;\n",
       "    }\n",
       "\n",
       "    .dataframe tbody tr th {\n",
       "        vertical-align: top;\n",
       "    }\n",
       "\n",
       "    .dataframe thead th {\n",
       "        text-align: right;\n",
       "    }\n",
       "</style>\n",
       "<table border=\"1\" class=\"dataframe\">\n",
       "  <thead>\n",
       "    <tr style=\"text-align: right;\">\n",
       "      <th></th>\n",
       "      <th>attribute</th>\n",
       "      <th>avg_true</th>\n",
       "      <th>MAE model 1</th>\n",
       "      <th>MAE model 2</th>\n",
       "      <th>MAE model 3</th>\n",
       "      <th>MAE model 4</th>\n",
       "      <th>MAE model 5</th>\n",
       "    </tr>\n",
       "  </thead>\n",
       "  <tbody>\n",
       "    <tr>\n",
       "      <th>0</th>\n",
       "      <td>inclination</td>\n",
       "      <td>1.374078</td>\n",
       "      <td>0.005026</td>\n",
       "      <td>0.005572</td>\n",
       "      <td>0.001664</td>\n",
       "      <td>0.013778</td>\n",
       "      <td>0.001319</td>\n",
       "    </tr>\n",
       "    <tr>\n",
       "      <th>1</th>\n",
       "      <td>mass_ratio</td>\n",
       "      <td>1.738379</td>\n",
       "      <td>0.159666</td>\n",
       "      <td>0.107499</td>\n",
       "      <td>0.108223</td>\n",
       "      <td>0.085583</td>\n",
       "      <td>5.939599</td>\n",
       "    </tr>\n",
       "    <tr>\n",
       "      <th>2</th>\n",
       "      <td>primary__surface_potential</td>\n",
       "      <td>18.352879</td>\n",
       "      <td>0.873673</td>\n",
       "      <td>1.229319</td>\n",
       "      <td>0.577440</td>\n",
       "      <td>0.495066</td>\n",
       "      <td>66.320339</td>\n",
       "    </tr>\n",
       "    <tr>\n",
       "      <th>3</th>\n",
       "      <td>secondary__surface_potential</td>\n",
       "      <td>15.764617</td>\n",
       "      <td>1.835363</td>\n",
       "      <td>2.167680</td>\n",
       "      <td>0.402383</td>\n",
       "      <td>3.285577</td>\n",
       "      <td>747.481660</td>\n",
       "    </tr>\n",
       "    <tr>\n",
       "      <th>4</th>\n",
       "      <td>t1_t2</td>\n",
       "      <td>2.635565</td>\n",
       "      <td>0.060832</td>\n",
       "      <td>0.046854</td>\n",
       "      <td>0.019266</td>\n",
       "      <td>0.135840</td>\n",
       "      <td>6.210341</td>\n",
       "    </tr>\n",
       "  </tbody>\n",
       "</table>\n",
       "</div>"
      ],
      "text/plain": [
       "                      attribute   avg_true  MAE model 1  MAE model 2  \\\n",
       "0                   inclination   1.374078     0.005026     0.005572   \n",
       "1                    mass_ratio   1.738379     0.159666     0.107499   \n",
       "2    primary__surface_potential  18.352879     0.873673     1.229319   \n",
       "3  secondary__surface_potential  15.764617     1.835363     2.167680   \n",
       "4                         t1_t2   2.635565     0.060832     0.046854   \n",
       "\n",
       "   MAE model 3  MAE model 4  MAE model 5  \n",
       "0     0.001664     0.013778     0.001319  \n",
       "1     0.108223     0.085583     5.939599  \n",
       "2     0.577440     0.495066    66.320339  \n",
       "3     0.402383     3.285577   747.481660  \n",
       "4     0.019266     0.135840     6.210341  "
      ]
     },
     "execution_count": 38,
     "metadata": {},
     "output_type": "execute_result"
    }
   ],
   "source": [
    "eval_pred_mae = pd.DataFrame({'attribute': test_mean_1.index,\n",
    "            'avg_true': test_mean_1.values,\n",
    "            'MAE model 1': abs(test_mean_1.values - pred_mean_model1.values),\n",
    "            'MAE model 2': abs(test_mean_1.values - pred_mean_model2.values),\n",
    "            'MAE model 3': abs(test_mean_1.values - pred_mean_model3.values),\n",
    "            'MAE model 4': abs(test_mean_1.values - pred_mean_model4.values),\n",
    "            'MAE model 5': abs(test_mean_1.values - pred_mean_model5.values),})\n",
    "eval_pred_mae"
   ]
  },
  {
   "attachments": {},
   "cell_type": "markdown",
   "metadata": {},
   "source": [
    "## 7. Evaluation of model\n",
    "Model that predicted combination of values inc, q, primary radius, secondary radius, temperature ratio"
   ]
  },
  {
   "attachments": {},
   "cell_type": "markdown",
   "metadata": {},
   "source": [
    "* We create dataframe with average of true values and average of prediction."
   ]
  },
  {
   "cell_type": "code",
   "execution_count": 40,
   "metadata": {},
   "outputs": [
    {
     "data": {
      "text/html": [
       "<div>\n",
       "<style scoped>\n",
       "    .dataframe tbody tr th:only-of-type {\n",
       "        vertical-align: middle;\n",
       "    }\n",
       "\n",
       "    .dataframe tbody tr th {\n",
       "        vertical-align: top;\n",
       "    }\n",
       "\n",
       "    .dataframe thead th {\n",
       "        text-align: right;\n",
       "    }\n",
       "</style>\n",
       "<table border=\"1\" class=\"dataframe\">\n",
       "  <thead>\n",
       "    <tr style=\"text-align: right;\">\n",
       "      <th></th>\n",
       "      <th>attribute</th>\n",
       "      <th>AVG test data</th>\n",
       "      <th>AVG model 1</th>\n",
       "    </tr>\n",
       "  </thead>\n",
       "  <tbody>\n",
       "    <tr>\n",
       "      <th>0</th>\n",
       "      <td>inclination</td>\n",
       "      <td>1.374078</td>\n",
       "      <td>1.347707</td>\n",
       "    </tr>\n",
       "    <tr>\n",
       "      <th>1</th>\n",
       "      <td>mass_ratio</td>\n",
       "      <td>1.738379</td>\n",
       "      <td>1.348775</td>\n",
       "    </tr>\n",
       "    <tr>\n",
       "      <th>2</th>\n",
       "      <td>primary__equivalent_radius</td>\n",
       "      <td>0.176892</td>\n",
       "      <td>1.347275</td>\n",
       "    </tr>\n",
       "    <tr>\n",
       "      <th>3</th>\n",
       "      <td>secondary__equivalent_radius</td>\n",
       "      <td>0.200262</td>\n",
       "      <td>1.348610</td>\n",
       "    </tr>\n",
       "    <tr>\n",
       "      <th>4</th>\n",
       "      <td>t1_t2</td>\n",
       "      <td>2.635565</td>\n",
       "      <td>1.348568</td>\n",
       "    </tr>\n",
       "  </tbody>\n",
       "</table>\n",
       "</div>"
      ],
      "text/plain": [
       "                      attribute  AVG test data  AVG model 1\n",
       "0                   inclination       1.374078     1.347707\n",
       "1                    mass_ratio       1.738379     1.348775\n",
       "2    primary__equivalent_radius       0.176892     1.347275\n",
       "3  secondary__equivalent_radius       0.200262     1.348610\n",
       "4                         t1_t2       2.635565     1.348568"
      ]
     },
     "execution_count": 40,
     "metadata": {},
     "output_type": "execute_result"
    }
   ],
   "source": [
    "eval_pred_2 = pd.DataFrame({'attribute': test_mean_2.index,\n",
    "            'AVG test data': test_mean_2.values,\n",
    "            'AVG model 1': pred_mean_model6.values})\n",
    "eval_pred_2"
   ]
  },
  {
   "attachments": {},
   "cell_type": "markdown",
   "metadata": {},
   "source": [
    "* Next we created dataframe with average of true values and MAE for model."
   ]
  },
  {
   "cell_type": "code",
   "execution_count": 41,
   "metadata": {},
   "outputs": [
    {
     "data": {
      "text/html": [
       "<div>\n",
       "<style scoped>\n",
       "    .dataframe tbody tr th:only-of-type {\n",
       "        vertical-align: middle;\n",
       "    }\n",
       "\n",
       "    .dataframe tbody tr th {\n",
       "        vertical-align: top;\n",
       "    }\n",
       "\n",
       "    .dataframe thead th {\n",
       "        text-align: right;\n",
       "    }\n",
       "</style>\n",
       "<table border=\"1\" class=\"dataframe\">\n",
       "  <thead>\n",
       "    <tr style=\"text-align: right;\">\n",
       "      <th></th>\n",
       "      <th>attribute</th>\n",
       "      <th>avg_true</th>\n",
       "      <th>MAE model 1</th>\n",
       "    </tr>\n",
       "  </thead>\n",
       "  <tbody>\n",
       "    <tr>\n",
       "      <th>0</th>\n",
       "      <td>inclination</td>\n",
       "      <td>1.374078</td>\n",
       "      <td>0.026371</td>\n",
       "    </tr>\n",
       "    <tr>\n",
       "      <th>1</th>\n",
       "      <td>mass_ratio</td>\n",
       "      <td>1.738379</td>\n",
       "      <td>0.389604</td>\n",
       "    </tr>\n",
       "    <tr>\n",
       "      <th>2</th>\n",
       "      <td>primary__equivalent_radius</td>\n",
       "      <td>0.176892</td>\n",
       "      <td>1.170383</td>\n",
       "    </tr>\n",
       "    <tr>\n",
       "      <th>3</th>\n",
       "      <td>secondary__equivalent_radius</td>\n",
       "      <td>0.200262</td>\n",
       "      <td>1.148347</td>\n",
       "    </tr>\n",
       "    <tr>\n",
       "      <th>4</th>\n",
       "      <td>t1_t2</td>\n",
       "      <td>2.635565</td>\n",
       "      <td>1.286997</td>\n",
       "    </tr>\n",
       "  </tbody>\n",
       "</table>\n",
       "</div>"
      ],
      "text/plain": [
       "                      attribute  avg_true  MAE model 1\n",
       "0                   inclination  1.374078     0.026371\n",
       "1                    mass_ratio  1.738379     0.389604\n",
       "2    primary__equivalent_radius  0.176892     1.170383\n",
       "3  secondary__equivalent_radius  0.200262     1.148347\n",
       "4                         t1_t2  2.635565     1.286997"
      ]
     },
     "execution_count": 41,
     "metadata": {},
     "output_type": "execute_result"
    }
   ],
   "source": [
    "eval_pred_mae_2 = pd.DataFrame({'attribute': test_mean_2.index,\n",
    "            'avg_true': test_mean_2.values,\n",
    "            'MAE model 1': abs(test_mean_2.values - pred_mean_model6.values)})\n",
    "eval_pred_mae_2"
   ]
  }
 ],
 "metadata": {
  "kernelspec": {
   "display_name": "global",
   "language": "python",
   "name": "python3"
  },
  "language_info": {
   "codemirror_mode": {
    "name": "ipython",
    "version": 3
   },
   "file_extension": ".py",
   "mimetype": "text/x-python",
   "name": "python",
   "nbconvert_exporter": "python",
   "pygments_lexer": "ipython3",
   "version": "3.8.12"
  },
  "orig_nbformat": 4,
  "vscode": {
   "interpreter": {
    "hash": "b8fc6ce4f931e35f5dd2ff00f5d2ede33ff85432a244cf6e3e9d498f6426f487"
   }
  }
 },
 "nbformat": 4,
 "nbformat_minor": 2
}
