{
 "cells": [
  {
   "cell_type": "markdown",
   "metadata": {},
   "source": [
    "## Predikcia vsetkych parametrov pomocou jednej NN pre overcontact data"
   ]
  },
  {
   "cell_type": "code",
   "execution_count": 1,
   "metadata": {},
   "outputs": [],
   "source": [
    "# LIBRARIES\n",
    "import numpy as np\n",
    "import pandas as pd\n",
    "import seaborn as sns\n",
    "import matplotlib.pyplot as plt"
   ]
  },
  {
   "cell_type": "code",
   "execution_count": 2,
   "metadata": {},
   "outputs": [],
   "source": [
    "from keras.utils import np_utils\n",
    "from keras.models import load_model\n",
    "from sklearn.model_selection import train_test_split\n",
    "from sklearn.metrics import confusion_matrix, classification_report\n",
    "from sklearn.metrics import precision_recall_fscore_support\n",
    "from keras.layers import Conv1D, GlobalMaxPooling1D, MaxPooling1D, SpatialDropout1D, GlobalAveragePooling1D\n",
    "from keras.layers import Input, Dense, concatenate, Activation, LSTM, Dropout, Flatten\n",
    "from keras.models import Model\n",
    "from keras.layers.merge import Concatenate\n",
    "from tensorflow.keras.callbacks import ModelCheckpoint, EarlyStopping"
   ]
  },
  {
   "cell_type": "code",
   "execution_count": 3,
   "metadata": {},
   "outputs": [],
   "source": [
    "np.random.seed(1234)\n",
    "pd.set_option('display.max_rows', None)"
   ]
  },
  {
   "cell_type": "code",
   "execution_count": 4,
   "metadata": {},
   "outputs": [],
   "source": [
    "def generate_observation_sigma(space_obs_frac=0.5):\n",
    "    \"\"\"\n",
    "    Draws a standard deviation of noise in light curve points from a \"true\" value provided in synthetic light curve.\n",
    "    Noise sigma is drawn from bimodal distribution taking into account contributions from space based and earth based\n",
    "    observations which have different levels of stochastic noise.\n",
    "\n",
    "    :param space_obs_frac: ratio between earth based and space based observations\n",
    "    :return: float; standard deviation of the light curve noise\n",
    "    \"\"\"\n",
    "    earth_based_sigma = 4e-3\n",
    "    space_based_sigma = 2e-4\n",
    "    sigma = np.random.choice([earth_based_sigma, space_based_sigma], p=[1-space_obs_frac, space_obs_frac])\n",
    "    return np.random.rayleigh(sigma)\n",
    "\n",
    "def stochastic_noise_generator(curve):\n",
    "    \"\"\"\n",
    "    Introduces gaussian noise into synthetic observation provided in `curve`.\n",
    "\n",
    "    :param curve: numpy.array; normalized light curve\n",
    "    :return: Tuple(numpy.array, float); normalized light curve with added noise, standard deviation of observations\n",
    "    \"\"\"\n",
    "    sigma = generate_observation_sigma()\n",
    "    return np.random.normal(curve, sigma), np.full(curve.shape, sigma)"
   ]
  },
  {
   "cell_type": "markdown",
   "metadata": {},
   "source": [
    "### Data loading"
   ]
  },
  {
   "cell_type": "code",
   "execution_count": 5,
   "metadata": {},
   "outputs": [],
   "source": [
    "data = pd.read_pickle(\"overcontact_all_parameters.pkl\").reset_index() "
   ]
  },
  {
   "cell_type": "code",
   "execution_count": 6,
   "metadata": {},
   "outputs": [
    {
     "data": {
      "text/html": [
       "<div>\n",
       "<style scoped>\n",
       "    .dataframe tbody tr th:only-of-type {\n",
       "        vertical-align: middle;\n",
       "    }\n",
       "\n",
       "    .dataframe tbody tr th {\n",
       "        vertical-align: top;\n",
       "    }\n",
       "\n",
       "    .dataframe thead th {\n",
       "        text-align: right;\n",
       "    }\n",
       "</style>\n",
       "<table border=\"1\" class=\"dataframe\">\n",
       "  <thead>\n",
       "    <tr style=\"text-align: right;\">\n",
       "      <th></th>\n",
       "      <th>index</th>\n",
       "      <th>id</th>\n",
       "      <th>curve</th>\n",
       "      <th>primary__t_eff</th>\n",
       "      <th>secondary__t_eff</th>\n",
       "      <th>inclination</th>\n",
       "      <th>mass_ratio</th>\n",
       "      <th>primary__surface_potential</th>\n",
       "      <th>secondary__surface_potential</th>\n",
       "      <th>t1/t2</th>\n",
       "      <th>filter</th>\n",
       "      <th>critical_surface_potential</th>\n",
       "      <th>primary__equivalent_radius</th>\n",
       "      <th>secondary__equivalent_radius</th>\n",
       "      <th>primary__filling_factor</th>\n",
       "      <th>secondary__filling_factor</th>\n",
       "    </tr>\n",
       "  </thead>\n",
       "  <tbody>\n",
       "    <tr>\n",
       "      <th>0</th>\n",
       "      <td>0</td>\n",
       "      <td>5525038</td>\n",
       "      <td>[0.9271109336686163, 0.9271335908185164, 0.927...</td>\n",
       "      <td>5500</td>\n",
       "      <td>5250</td>\n",
       "      <td>0.766994</td>\n",
       "      <td>0.1</td>\n",
       "      <td>1.948052</td>\n",
       "      <td>1.948052</td>\n",
       "      <td>1.047619</td>\n",
       "      <td>Bessell_U</td>\n",
       "      <td>1.959104</td>\n",
       "      <td>0.585781</td>\n",
       "      <td>0.21126</td>\n",
       "      <td>0.169244</td>\n",
       "      <td>0.169244</td>\n",
       "    </tr>\n",
       "    <tr>\n",
       "      <th>1</th>\n",
       "      <td>1</td>\n",
       "      <td>5525038</td>\n",
       "      <td>[0.9267426667358384, 0.9267640025030627, 0.926...</td>\n",
       "      <td>5500</td>\n",
       "      <td>5250</td>\n",
       "      <td>0.766994</td>\n",
       "      <td>0.1</td>\n",
       "      <td>1.948052</td>\n",
       "      <td>1.948052</td>\n",
       "      <td>1.047619</td>\n",
       "      <td>Bessell_B</td>\n",
       "      <td>1.959104</td>\n",
       "      <td>0.585781</td>\n",
       "      <td>0.21126</td>\n",
       "      <td>0.169244</td>\n",
       "      <td>0.169244</td>\n",
       "    </tr>\n",
       "    <tr>\n",
       "      <th>2</th>\n",
       "      <td>2</td>\n",
       "      <td>5525038</td>\n",
       "      <td>[0.9271736551553694, 0.927193188167849, 0.9272...</td>\n",
       "      <td>5500</td>\n",
       "      <td>5250</td>\n",
       "      <td>0.766994</td>\n",
       "      <td>0.1</td>\n",
       "      <td>1.948052</td>\n",
       "      <td>1.948052</td>\n",
       "      <td>1.047619</td>\n",
       "      <td>Bessell_V</td>\n",
       "      <td>1.959104</td>\n",
       "      <td>0.585781</td>\n",
       "      <td>0.21126</td>\n",
       "      <td>0.169244</td>\n",
       "      <td>0.169244</td>\n",
       "    </tr>\n",
       "    <tr>\n",
       "      <th>3</th>\n",
       "      <td>3</td>\n",
       "      <td>5525038</td>\n",
       "      <td>[0.9286697051715368, 0.9286879105609007, 0.928...</td>\n",
       "      <td>5500</td>\n",
       "      <td>5250</td>\n",
       "      <td>0.766994</td>\n",
       "      <td>0.1</td>\n",
       "      <td>1.948052</td>\n",
       "      <td>1.948052</td>\n",
       "      <td>1.047619</td>\n",
       "      <td>Bessell_R</td>\n",
       "      <td>1.959104</td>\n",
       "      <td>0.585781</td>\n",
       "      <td>0.21126</td>\n",
       "      <td>0.169244</td>\n",
       "      <td>0.169244</td>\n",
       "    </tr>\n",
       "    <tr>\n",
       "      <th>4</th>\n",
       "      <td>4</td>\n",
       "      <td>5525038</td>\n",
       "      <td>[0.9304596200748534, 0.9304764401089076, 0.930...</td>\n",
       "      <td>5500</td>\n",
       "      <td>5250</td>\n",
       "      <td>0.766994</td>\n",
       "      <td>0.1</td>\n",
       "      <td>1.948052</td>\n",
       "      <td>1.948052</td>\n",
       "      <td>1.047619</td>\n",
       "      <td>Bessell_I</td>\n",
       "      <td>1.959104</td>\n",
       "      <td>0.585781</td>\n",
       "      <td>0.21126</td>\n",
       "      <td>0.169244</td>\n",
       "      <td>0.169244</td>\n",
       "    </tr>\n",
       "  </tbody>\n",
       "</table>\n",
       "</div>"
      ],
      "text/plain": [
       "   index       id                                              curve  \\\n",
       "0      0  5525038  [0.9271109336686163, 0.9271335908185164, 0.927...   \n",
       "1      1  5525038  [0.9267426667358384, 0.9267640025030627, 0.926...   \n",
       "2      2  5525038  [0.9271736551553694, 0.927193188167849, 0.9272...   \n",
       "3      3  5525038  [0.9286697051715368, 0.9286879105609007, 0.928...   \n",
       "4      4  5525038  [0.9304596200748534, 0.9304764401089076, 0.930...   \n",
       "\n",
       "   primary__t_eff  secondary__t_eff  inclination  mass_ratio  \\\n",
       "0            5500              5250     0.766994         0.1   \n",
       "1            5500              5250     0.766994         0.1   \n",
       "2            5500              5250     0.766994         0.1   \n",
       "3            5500              5250     0.766994         0.1   \n",
       "4            5500              5250     0.766994         0.1   \n",
       "\n",
       "   primary__surface_potential  secondary__surface_potential     t1/t2  \\\n",
       "0                    1.948052                      1.948052  1.047619   \n",
       "1                    1.948052                      1.948052  1.047619   \n",
       "2                    1.948052                      1.948052  1.047619   \n",
       "3                    1.948052                      1.948052  1.047619   \n",
       "4                    1.948052                      1.948052  1.047619   \n",
       "\n",
       "      filter  critical_surface_potential  primary__equivalent_radius  \\\n",
       "0  Bessell_U                    1.959104                    0.585781   \n",
       "1  Bessell_B                    1.959104                    0.585781   \n",
       "2  Bessell_V                    1.959104                    0.585781   \n",
       "3  Bessell_R                    1.959104                    0.585781   \n",
       "4  Bessell_I                    1.959104                    0.585781   \n",
       "\n",
       "   secondary__equivalent_radius  primary__filling_factor  \\\n",
       "0                       0.21126                 0.169244   \n",
       "1                       0.21126                 0.169244   \n",
       "2                       0.21126                 0.169244   \n",
       "3                       0.21126                 0.169244   \n",
       "4                       0.21126                 0.169244   \n",
       "\n",
       "   secondary__filling_factor  \n",
       "0                   0.169244  \n",
       "1                   0.169244  \n",
       "2                   0.169244  \n",
       "3                   0.169244  \n",
       "4                   0.169244  "
      ]
     },
     "execution_count": 6,
     "metadata": {},
     "output_type": "execute_result"
    }
   ],
   "source": [
    "data.head()"
   ]
  },
  {
   "cell_type": "code",
   "execution_count": 7,
   "metadata": {},
   "outputs": [],
   "source": [
    "data_sample = data.sample(n=100000)"
   ]
  },
  {
   "cell_type": "code",
   "execution_count": 8,
   "metadata": {},
   "outputs": [
    {
     "data": {
      "text/plain": [
       "['index',\n",
       " 'id',\n",
       " 'curve',\n",
       " 'primary__t_eff',\n",
       " 'secondary__t_eff',\n",
       " 'inclination',\n",
       " 'mass_ratio',\n",
       " 'primary__surface_potential',\n",
       " 'secondary__surface_potential',\n",
       " 't1/t2',\n",
       " 'filter',\n",
       " 'critical_surface_potential',\n",
       " 'primary__equivalent_radius',\n",
       " 'secondary__equivalent_radius',\n",
       " 'primary__filling_factor',\n",
       " 'secondary__filling_factor']"
      ]
     },
     "execution_count": 8,
     "metadata": {},
     "output_type": "execute_result"
    }
   ],
   "source": [
    "list(data_sample.columns)"
   ]
  },
  {
   "cell_type": "markdown",
   "metadata": {},
   "source": [
    "### Train-test split"
   ]
  },
  {
   "cell_type": "code",
   "execution_count": 9,
   "metadata": {},
   "outputs": [],
   "source": [
    "X = []\n",
    "for row in data_sample[\"curve\"]:\n",
    "    X.append(row)\n",
    "X=np.array(X)"
   ]
  },
  {
   "cell_type": "code",
   "execution_count": 10,
   "metadata": {},
   "outputs": [
    {
     "data": {
      "text/plain": [
       "(100000, 400)"
      ]
     },
     "execution_count": 10,
     "metadata": {},
     "output_type": "execute_result"
    }
   ],
   "source": [
    "X.shape"
   ]
  },
  {
   "cell_type": "code",
   "execution_count": 11,
   "metadata": {},
   "outputs": [],
   "source": [
    "# Nepotrebujeme \"primary__t_eff\", \"secondary__t_eff\" - staci pomer tychto hodnot = t1/t2\n",
    "y = np.array(data_sample[[\n",
    "    \"inclination\",\n",
    "    \"mass_ratio\",\n",
    "    \"primary__surface_potential\",\n",
    "    \"secondary__surface_potential\",\n",
    "    \"t1/t2\",\n",
    "    \"critical_surface_potential\",\n",
    "    \"primary__equivalent_radius\",\n",
    "    \"secondary__equivalent_radius\",\n",
    "    \"primary__filling_factor\",\n",
    "    \"secondary__filling_factor\"]])"
   ]
  },
  {
   "cell_type": "code",
   "execution_count": 12,
   "metadata": {},
   "outputs": [
    {
     "data": {
      "text/plain": [
       "(100000, 10)"
      ]
     },
     "execution_count": 12,
     "metadata": {},
     "output_type": "execute_result"
    }
   ],
   "source": [
    "y.shape"
   ]
  },
  {
   "cell_type": "code",
   "execution_count": 13,
   "metadata": {},
   "outputs": [],
   "source": [
    "X_train1, X_test, y_train1, y_test = train_test_split(X, y, test_size=0.2)"
   ]
  },
  {
   "cell_type": "code",
   "execution_count": 14,
   "metadata": {},
   "outputs": [],
   "source": [
    "X_train = []\n",
    "y_train = []\n",
    "for i in range(len(X_train1)):\n",
    "    for j in range(3):\n",
    "        curve = stochastic_noise_generator(X_train1[i])\n",
    "        X_train.append(curve[0])\n",
    "        y_train.append(y_train1[i])\n",
    "X_train = np.array(X_train)\n",
    "y_train=np.array(y_train)"
   ]
  },
  {
   "cell_type": "code",
   "execution_count": 15,
   "metadata": {},
   "outputs": [
    {
     "name": "stdout",
     "output_type": "stream",
     "text": [
      "Number of records in dataset:  1212796 \n",
      "Number of records in sample:  100000 \n",
      "Number of train data without noise:  80000 \n",
      "Number of train data with noise:  240000 \n",
      "Number of test data without noise:  20000\n"
     ]
    }
   ],
   "source": [
    "print(\"Number of records in dataset: \", len(data),\n",
    "    \"\\nNumber of records in sample: \", len(X),\n",
    "    \"\\nNumber of train data without noise: \", len(X_train1),\n",
    "    \"\\nNumber of train data with noise: \", len(X_train),\n",
    "    \"\\nNumber of test data without noise: \", len(X_test))"
   ]
  },
  {
   "cell_type": "markdown",
   "metadata": {},
   "source": [
    "## Model"
   ]
  },
  {
   "cell_type": "code",
   "execution_count": null,
   "metadata": {},
   "outputs": [],
   "source": [
    "inputs = Input(shape=(400, 1))\n",
    "b = Conv1D(64, kernel_size = 3, padding = \"valid\")(inputs)\n",
    "b = MaxPooling1D(2)(b)\n",
    "b = Dropout(0.2)(b)\n",
    "b = LSTM(64, return_sequences=True)(b)\n",
    "b = Flatten()(b)\n",
    "b = Dense(64, activation='relu')(b)\n",
    "x = Dense(32, activation='relu')(b)\n",
    "output = Dense(10, activation='linear')(x)\n",
    "model = Model(inputs=inputs, outputs=output)\n",
    "model.compile(loss='mse', optimizer='adam', metrics=[\"mae\", \"mape\"])\n",
    "print(model.summary())"
   ]
  },
  {
   "cell_type": "code",
   "execution_count": null,
   "metadata": {},
   "outputs": [],
   "source": [
    "saved_model = \"models/over_allParams.hdf5\"\n",
    "checkpoint = ModelCheckpoint(saved_model, monitor = 'val_mae', verbose = 1, save_best_only = True, mode = 'min')\n",
    "early = EarlyStopping(monitor = \"val_mae\", mode = \"min\", patience = 25)\n",
    "callbacks_list = [checkpoint, early]"
   ]
  },
  {
   "cell_type": "code",
   "execution_count": null,
   "metadata": {},
   "outputs": [],
   "source": [
    "history = model.fit(X_train, y_train, validation_split = 0.1, epochs = 10, verbose = 1, callbacks = callbacks_list, batch_size = 64)"
   ]
  },
  {
   "cell_type": "code",
   "execution_count": 16,
   "metadata": {},
   "outputs": [],
   "source": [
    "model = load_model(\"models/over_allParams.hdf5\")"
   ]
  },
  {
   "cell_type": "code",
   "execution_count": null,
   "metadata": {},
   "outputs": [],
   "source": [
    "#EVALUATED ON TEST DATA WITHOUT NOISE\n",
    "model.evaluate(X_test, y_test)"
   ]
  },
  {
   "cell_type": "code",
   "execution_count": 17,
   "metadata": {},
   "outputs": [],
   "source": [
    "# ADD NOISE TO TEST DATA\n",
    "X_test_n = []\n",
    "y_test_n = []\n",
    "for i in range(len(X_test)):\n",
    "    for j in range(3):\n",
    "        curve = stochastic_noise_generator(X_test[i])\n",
    "        X_test_n.append(curve[0])\n",
    "        y_test_n.append(y_test[i])\n",
    "        j += 1"
   ]
  },
  {
   "cell_type": "code",
   "execution_count": 18,
   "metadata": {},
   "outputs": [],
   "source": [
    "X_test_n = np.array(X_test_n)\n",
    "y_test_n = np.array(y_test_n)"
   ]
  },
  {
   "cell_type": "code",
   "execution_count": 19,
   "metadata": {},
   "outputs": [
    {
     "name": "stdout",
     "output_type": "stream",
     "text": [
      "1875/1875 [==============================] - 98s 52ms/step - loss: 0.0611 - mean_absolute_error: 0.1208 - mean_absolute_percentage_error: 12.2287 38s - loss: 0.0635 - mean_absolute_error: 0.1213 - mean_absolute_percentage_error: 1 - ETA: 37s - loss: 0.0636  - ETA: 3s - loss: 0.0617 - mean_absolute_error: 0.1211 \n"
     ]
    },
    {
     "data": {
      "text/plain": [
       "[0.06108751520514488, 0.12077078223228455, 12.228681564331055]"
      ]
     },
     "execution_count": 19,
     "metadata": {},
     "output_type": "execute_result"
    }
   ],
   "source": [
    "# EVALUATED ON TEST DATA WITH NOISE\n",
    "model.evaluate(X_test_n, y_test_n)"
   ]
  },
  {
   "cell_type": "markdown",
   "metadata": {},
   "source": [
    "### Prediction on synthetic test data - without noise"
   ]
  },
  {
   "cell_type": "code",
   "execution_count": 64,
   "metadata": {},
   "outputs": [],
   "source": [
    "y_pred = model.predict(X_test)"
   ]
  },
  {
   "cell_type": "code",
   "execution_count": 21,
   "metadata": {},
   "outputs": [
    {
     "data": {
      "text/plain": [
       "array([1.0946805 , 4.7392707 , 8.533597  , 8.441549  , 1.0220819 ,\n",
       "       8.673995  , 0.2785359 , 0.52232516, 0.44838762, 0.36494642],\n",
       "      dtype=float32)"
      ]
     },
     "execution_count": 21,
     "metadata": {},
     "output_type": "execute_result"
    }
   ],
   "source": [
    "y_pred[0]"
   ]
  },
  {
   "cell_type": "code",
   "execution_count": 65,
   "metadata": {},
   "outputs": [],
   "source": [
    "P_inclination = [i[0] for i in y_pred]\n",
    "P_mass_ratio = [i[1] for i in y_pred]\n",
    "P_prim__surface_potential = [i[2] for i in y_pred]\n",
    "P_sec__surface_potential = [i[3] for i in y_pred]\n",
    "P_t1_t2 = [i[4] for i in y_pred]\n",
    "P_critical_surface_potential = [i[5] for i in y_pred]\n",
    "P_primary_equivalent_radius = [i[6] for i in y_pred]\n",
    "P_secondary_equivalent_radius = [i[7] for i in y_pred]\n",
    "P_primary_filling_factor = [i[8] for i in y_pred]\n",
    "P_secondary_filling_factor = [i[9] for i in y_pred]"
   ]
  },
  {
   "cell_type": "code",
   "execution_count": 66,
   "metadata": {},
   "outputs": [],
   "source": [
    "P_inclination = np.reshape(P_inclination, len(P_inclination))\n",
    "P_mass_ratio = np.reshape(P_mass_ratio, len(P_mass_ratio))\n",
    "P_prim__surface_potential = np.reshape(P_prim__surface_potential, len(P_prim__surface_potential))\n",
    "P_sec__surface_potential = np.reshape(P_sec__surface_potential, len(P_sec__surface_potential))\n",
    "P_t1_t2 = np.reshape(P_t1_t2, len(P_t1_t2))\n",
    "P_critical_surface_potential = np.reshape(P_critical_surface_potential, len(P_critical_surface_potential))\n",
    "P_primary_equivalent_radius = np.reshape(P_primary_equivalent_radius, len(P_primary_equivalent_radius))\n",
    "P_secondary_equivalent_radius = np.reshape(P_secondary_equivalent_radius, len(P_secondary_equivalent_radius))\n",
    "P_primary_filling_factor = np.reshape(P_primary_filling_factor, len(P_primary_filling_factor))\n",
    "P_secondary_filling_factor = np.reshape(P_secondary_filling_factor, len(P_secondary_filling_factor))\n"
   ]
  },
  {
   "cell_type": "code",
   "execution_count": 67,
   "metadata": {},
   "outputs": [],
   "source": [
    "df = pd.DataFrame(data =\n",
    "     {\n",
    "    'inclination': [i[0] for i in y_test],\n",
    "    'P_inclination': P_inclination,\n",
    "    'inclination_abs_diff': abs([i[0] for i in y_test] - P_inclination),\n",
    "\n",
    "    'mass_ratio': [i[1] for i in y_test],\n",
    "    'P_mass_ratio': P_mass_ratio,\n",
    "    'mass_ratio_abs_diff': abs([i[1] for i in y_test] - P_mass_ratio),\n",
    "\n",
    "    'prim_surface_potential': [i[2] for i in y_test],\n",
    "    'P_prim_surf_potential': P_prim__surface_potential,\n",
    "    'prim_surf_potent_abs_diff': abs([i[2] for i in y_test] - P_prim__surface_potential),\n",
    "\n",
    "    'sec_surface_potential': [i[3] for i in y_test],\n",
    "    'P_sec_surf_potential': P_sec__surface_potential,\n",
    "    'sec_surf_potent_abs_diff': abs([i[3] for i in y_test] - P_sec__surface_potential),\n",
    "\n",
    "    't1_t2': [i[4] for i in y_test],\n",
    "    'P_t1_t2': P_t1_t2,\n",
    "    't1_t2_abs_diff': abs([i[4] for i in y_test] - P_t1_t2),\n",
    "\n",
    "    'critical_surf_potential': [i[5] for i in y_test],\n",
    "    'P_crit_surf_potential': P_critical_surface_potential,\n",
    "    'crit_surf_potential_abs_diff': abs([i[5] for i in y_test] - P_critical_surface_potential),\n",
    "\n",
    "    'prim_equi_radius': [i[6] for i in y_test],\n",
    "    'P_prim_equi_radius': P_primary_equivalent_radius,\n",
    "    'prim_equi_radius_abs_diff': abs([i[6] for i in y_test] - P_primary_equivalent_radius),\n",
    "\n",
    "    'sec_equi_radius': [i[7] for i in y_test],\n",
    "    'P_sec_equi_radius': P_secondary_equivalent_radius,\n",
    "    'sec_equi_radius_abs_diff': abs([i[7] for i in y_test] - P_secondary_equivalent_radius),\n",
    "\n",
    "    'prim_filling_factor': [i[8] for i in y_test],\n",
    "    'P_prim_filling_factor': P_primary_filling_factor,\n",
    "    'prim_filling_factor_abs_diff': abs([i[8] for i in y_test] - P_primary_filling_factor),\n",
    "\n",
    "    'sec_filling_factor': [i[9] for i in y_test],\n",
    "    'P_sec_filling_factor': P_secondary_filling_factor,\n",
    "    'sec_filling_factor_abs_diff': abs([i[9] for i in y_test] - P_secondary_filling_factor)\n",
    "    })\n"
   ]
  },
  {
   "cell_type": "code",
   "execution_count": 105,
   "metadata": {},
   "outputs": [
    {
     "data": {
      "text/html": [
       "<div>\n",
       "<style scoped>\n",
       "    .dataframe tbody tr th:only-of-type {\n",
       "        vertical-align: middle;\n",
       "    }\n",
       "\n",
       "    .dataframe tbody tr th {\n",
       "        vertical-align: top;\n",
       "    }\n",
       "\n",
       "    .dataframe thead th {\n",
       "        text-align: right;\n",
       "    }\n",
       "</style>\n",
       "<table border=\"1\" class=\"dataframe\">\n",
       "  <thead>\n",
       "    <tr style=\"text-align: right;\">\n",
       "      <th></th>\n",
       "      <th>inclination</th>\n",
       "      <th>P_inclination</th>\n",
       "      <th>inclination_abs_diff</th>\n",
       "      <th>mass_ratio</th>\n",
       "      <th>P_mass_ratio</th>\n",
       "      <th>mass_ratio_abs_diff</th>\n",
       "      <th>prim_surface_potential</th>\n",
       "      <th>P_prim_surf_potential</th>\n",
       "      <th>prim_surf_potent_abs_diff</th>\n",
       "      <th>sec_surface_potential</th>\n",
       "      <th>...</th>\n",
       "      <th>prim_equi_radius_abs_diff</th>\n",
       "      <th>sec_equi_radius</th>\n",
       "      <th>P_sec_equi_radius</th>\n",
       "      <th>sec_equi_radius_abs_diff</th>\n",
       "      <th>prim_filling_factor</th>\n",
       "      <th>P_prim_filling_factor</th>\n",
       "      <th>prim_filling_factor_abs_diff</th>\n",
       "      <th>sec_filling_factor</th>\n",
       "      <th>P_sec_filling_factor</th>\n",
       "      <th>sec_filling_factor_abs_diff</th>\n",
       "    </tr>\n",
       "  </thead>\n",
       "  <tbody>\n",
       "    <tr>\n",
       "      <th>0</th>\n",
       "      <td>0.935491</td>\n",
       "      <td>1.094681</td>\n",
       "      <td>0.159190</td>\n",
       "      <td>3.333333</td>\n",
       "      <td>4.739271</td>\n",
       "      <td>1.405937</td>\n",
       "      <td>7.007351</td>\n",
       "      <td>8.533597</td>\n",
       "      <td>1.526246</td>\n",
       "      <td>7.007351</td>\n",
       "      <td>...</td>\n",
       "      <td>0.006248</td>\n",
       "      <td>0.492100</td>\n",
       "      <td>0.522325</td>\n",
       "      <td>0.030226</td>\n",
       "      <td>0.074968</td>\n",
       "      <td>0.448388</td>\n",
       "      <td>0.373420</td>\n",
       "      <td>0.074968</td>\n",
       "      <td>0.364946</td>\n",
       "      <td>0.289979</td>\n",
       "    </tr>\n",
       "    <tr>\n",
       "      <th>1</th>\n",
       "      <td>0.927295</td>\n",
       "      <td>1.017328</td>\n",
       "      <td>0.090033</td>\n",
       "      <td>2.500000</td>\n",
       "      <td>3.622497</td>\n",
       "      <td>1.122497</td>\n",
       "      <td>5.854167</td>\n",
       "      <td>7.047381</td>\n",
       "      <td>1.193215</td>\n",
       "      <td>5.854167</td>\n",
       "      <td>...</td>\n",
       "      <td>0.005160</td>\n",
       "      <td>0.471755</td>\n",
       "      <td>0.509637</td>\n",
       "      <td>0.037882</td>\n",
       "      <td>0.149309</td>\n",
       "      <td>0.482214</td>\n",
       "      <td>0.332905</td>\n",
       "      <td>0.149309</td>\n",
       "      <td>0.460357</td>\n",
       "      <td>0.311047</td>\n",
       "    </tr>\n",
       "    <tr>\n",
       "      <th>2</th>\n",
       "      <td>1.485231</td>\n",
       "      <td>1.463987</td>\n",
       "      <td>0.021244</td>\n",
       "      <td>1.000000</td>\n",
       "      <td>0.916591</td>\n",
       "      <td>0.083409</td>\n",
       "      <td>3.600772</td>\n",
       "      <td>3.539768</td>\n",
       "      <td>0.061004</td>\n",
       "      <td>3.600772</td>\n",
       "      <td>...</td>\n",
       "      <td>0.002910</td>\n",
       "      <td>0.406935</td>\n",
       "      <td>0.389204</td>\n",
       "      <td>0.017730</td>\n",
       "      <td>0.274719</td>\n",
       "      <td>0.258317</td>\n",
       "      <td>0.016402</td>\n",
       "      <td>0.274719</td>\n",
       "      <td>0.258596</td>\n",
       "      <td>0.016123</td>\n",
       "    </tr>\n",
       "    <tr>\n",
       "      <th>3</th>\n",
       "      <td>0.902054</td>\n",
       "      <td>0.920394</td>\n",
       "      <td>0.018341</td>\n",
       "      <td>1.666667</td>\n",
       "      <td>1.334700</td>\n",
       "      <td>0.331967</td>\n",
       "      <td>4.410223</td>\n",
       "      <td>3.860328</td>\n",
       "      <td>0.549895</td>\n",
       "      <td>4.410223</td>\n",
       "      <td>...</td>\n",
       "      <td>0.050120</td>\n",
       "      <td>0.477260</td>\n",
       "      <td>0.479571</td>\n",
       "      <td>0.002310</td>\n",
       "      <td>0.618986</td>\n",
       "      <td>0.735310</td>\n",
       "      <td>0.116324</td>\n",
       "      <td>0.618986</td>\n",
       "      <td>0.743143</td>\n",
       "      <td>0.124157</td>\n",
       "    </tr>\n",
       "    <tr>\n",
       "      <th>4</th>\n",
       "      <td>1.462674</td>\n",
       "      <td>1.198251</td>\n",
       "      <td>0.264423</td>\n",
       "      <td>0.200000</td>\n",
       "      <td>0.128971</td>\n",
       "      <td>0.071029</td>\n",
       "      <td>2.214079</td>\n",
       "      <td>2.173163</td>\n",
       "      <td>0.040916</td>\n",
       "      <td>2.214079</td>\n",
       "      <td>...</td>\n",
       "      <td>0.003909</td>\n",
       "      <td>0.257956</td>\n",
       "      <td>0.292184</td>\n",
       "      <td>0.034228</td>\n",
       "      <td>0.146158</td>\n",
       "      <td>0.294052</td>\n",
       "      <td>0.147894</td>\n",
       "      <td>0.146158</td>\n",
       "      <td>0.300588</td>\n",
       "      <td>0.154430</td>\n",
       "    </tr>\n",
       "  </tbody>\n",
       "</table>\n",
       "<p>5 rows × 30 columns</p>\n",
       "</div>"
      ],
      "text/plain": [
       "   inclination  P_inclination  inclination_abs_diff  mass_ratio  P_mass_ratio  \\\n",
       "0     0.935491       1.094681              0.159190    3.333333      4.739271   \n",
       "1     0.927295       1.017328              0.090033    2.500000      3.622497   \n",
       "2     1.485231       1.463987              0.021244    1.000000      0.916591   \n",
       "3     0.902054       0.920394              0.018341    1.666667      1.334700   \n",
       "4     1.462674       1.198251              0.264423    0.200000      0.128971   \n",
       "\n",
       "   mass_ratio_abs_diff  prim_surface_potential  P_prim_surf_potential  \\\n",
       "0             1.405937                7.007351               8.533597   \n",
       "1             1.122497                5.854167               7.047381   \n",
       "2             0.083409                3.600772               3.539768   \n",
       "3             0.331967                4.410223               3.860328   \n",
       "4             0.071029                2.214079               2.173163   \n",
       "\n",
       "   prim_surf_potent_abs_diff  sec_surface_potential  ...  \\\n",
       "0                   1.526246               7.007351  ...   \n",
       "1                   1.193215               5.854167  ...   \n",
       "2                   0.061004               3.600772  ...   \n",
       "3                   0.549895               4.410223  ...   \n",
       "4                   0.040916               2.214079  ...   \n",
       "\n",
       "   prim_equi_radius_abs_diff  sec_equi_radius  P_sec_equi_radius  \\\n",
       "0                   0.006248         0.492100           0.522325   \n",
       "1                   0.005160         0.471755           0.509637   \n",
       "2                   0.002910         0.406935           0.389204   \n",
       "3                   0.050120         0.477260           0.479571   \n",
       "4                   0.003909         0.257956           0.292184   \n",
       "\n",
       "   sec_equi_radius_abs_diff  prim_filling_factor  P_prim_filling_factor  \\\n",
       "0                  0.030226             0.074968               0.448388   \n",
       "1                  0.037882             0.149309               0.482214   \n",
       "2                  0.017730             0.274719               0.258317   \n",
       "3                  0.002310             0.618986               0.735310   \n",
       "4                  0.034228             0.146158               0.294052   \n",
       "\n",
       "   prim_filling_factor_abs_diff  sec_filling_factor  P_sec_filling_factor  \\\n",
       "0                      0.373420            0.074968              0.364946   \n",
       "1                      0.332905            0.149309              0.460357   \n",
       "2                      0.016402            0.274719              0.258596   \n",
       "3                      0.116324            0.618986              0.743143   \n",
       "4                      0.147894            0.146158              0.300588   \n",
       "\n",
       "   sec_filling_factor_abs_diff  \n",
       "0                     0.289979  \n",
       "1                     0.311047  \n",
       "2                     0.016123  \n",
       "3                     0.124157  \n",
       "4                     0.154430  \n",
       "\n",
       "[5 rows x 30 columns]"
      ]
     },
     "execution_count": 105,
     "metadata": {},
     "output_type": "execute_result"
    }
   ],
   "source": [
    "df.head()"
   ]
  },
  {
   "cell_type": "code",
   "execution_count": null,
   "metadata": {},
   "outputs": [],
   "source": [
    "df.to_csv('all_params_predictions/2_OvercontactSynthetic_allParams_OneModel.csv', index=False)"
   ]
  },
  {
   "cell_type": "code",
   "execution_count": 26,
   "metadata": {},
   "outputs": [],
   "source": [
    "df_copy = df.copy()"
   ]
  },
  {
   "cell_type": "code",
   "execution_count": 27,
   "metadata": {},
   "outputs": [],
   "source": [
    "df_comp = df_copy.drop([\n",
    "        'inclination_abs_diff',\n",
    "        'mass_ratio_abs_diff',\n",
    "        'prim_surf_potent_abs_diff',\n",
    "        'sec_surf_potent_abs_diff',\n",
    "        't1_t2_abs_diff',\n",
    "        'crit_surf_potential_abs_diff',\n",
    "        'prim_equi_radius_abs_diff',\n",
    "        'sec_equi_radius_abs_diff',\n",
    "        'prim_filling_factor_abs_diff',\n",
    "        'sec_filling_factor_abs_diff'\n",
    "        ], axis = 1)"
   ]
  },
  {
   "cell_type": "code",
   "execution_count": 28,
   "metadata": {},
   "outputs": [
    {
     "data": {
      "text/html": [
       "<div>\n",
       "<style scoped>\n",
       "    .dataframe tbody tr th:only-of-type {\n",
       "        vertical-align: middle;\n",
       "    }\n",
       "\n",
       "    .dataframe tbody tr th {\n",
       "        vertical-align: top;\n",
       "    }\n",
       "\n",
       "    .dataframe thead th {\n",
       "        text-align: right;\n",
       "    }\n",
       "</style>\n",
       "<table border=\"1\" class=\"dataframe\">\n",
       "  <thead>\n",
       "    <tr style=\"text-align: right;\">\n",
       "      <th></th>\n",
       "      <th>inclination</th>\n",
       "      <th>P_inclination</th>\n",
       "      <th>mass_ratio</th>\n",
       "      <th>P_mass_ratio</th>\n",
       "      <th>prim_surface_potential</th>\n",
       "      <th>P_prim_surf_potential</th>\n",
       "      <th>sec_surface_potential</th>\n",
       "      <th>P_sec_surf_potential</th>\n",
       "      <th>t1_t2</th>\n",
       "      <th>P_t1_t2</th>\n",
       "      <th>critical_surf_potential</th>\n",
       "      <th>P_crit_surf_potential</th>\n",
       "      <th>prim_equi_radius</th>\n",
       "      <th>P_prim_equi_radius</th>\n",
       "      <th>sec_equi_radius</th>\n",
       "      <th>P_sec_equi_radius</th>\n",
       "      <th>prim_filling_factor</th>\n",
       "      <th>P_prim_filling_factor</th>\n",
       "      <th>sec_filling_factor</th>\n",
       "      <th>P_sec_filling_factor</th>\n",
       "    </tr>\n",
       "  </thead>\n",
       "  <tbody>\n",
       "    <tr>\n",
       "      <th>0</th>\n",
       "      <td>0.935491</td>\n",
       "      <td>1.094681</td>\n",
       "      <td>3.333333</td>\n",
       "      <td>4.739271</td>\n",
       "      <td>7.007351</td>\n",
       "      <td>8.533597</td>\n",
       "      <td>7.007351</td>\n",
       "      <td>8.441549</td>\n",
       "      <td>1.037037</td>\n",
       "      <td>1.022082</td>\n",
       "      <td>7.054097</td>\n",
       "      <td>8.673995</td>\n",
       "      <td>0.284784</td>\n",
       "      <td>0.278536</td>\n",
       "      <td>0.492100</td>\n",
       "      <td>0.522325</td>\n",
       "      <td>0.074968</td>\n",
       "      <td>0.448388</td>\n",
       "      <td>0.074968</td>\n",
       "      <td>0.364946</td>\n",
       "    </tr>\n",
       "    <tr>\n",
       "      <th>1</th>\n",
       "      <td>0.927295</td>\n",
       "      <td>1.017328</td>\n",
       "      <td>2.500000</td>\n",
       "      <td>3.622497</td>\n",
       "      <td>5.854167</td>\n",
       "      <td>7.047381</td>\n",
       "      <td>5.854167</td>\n",
       "      <td>7.028968</td>\n",
       "      <td>1.000000</td>\n",
       "      <td>1.030903</td>\n",
       "      <td>5.945240</td>\n",
       "      <td>7.331349</td>\n",
       "      <td>0.312934</td>\n",
       "      <td>0.318094</td>\n",
       "      <td>0.471755</td>\n",
       "      <td>0.509637</td>\n",
       "      <td>0.149309</td>\n",
       "      <td>0.482214</td>\n",
       "      <td>0.149309</td>\n",
       "      <td>0.460357</td>\n",
       "    </tr>\n",
       "    <tr>\n",
       "      <th>2</th>\n",
       "      <td>1.485231</td>\n",
       "      <td>1.463987</td>\n",
       "      <td>1.000000</td>\n",
       "      <td>0.916591</td>\n",
       "      <td>3.600772</td>\n",
       "      <td>3.539768</td>\n",
       "      <td>3.600772</td>\n",
       "      <td>3.511590</td>\n",
       "      <td>1.071429</td>\n",
       "      <td>1.062556</td>\n",
       "      <td>3.750000</td>\n",
       "      <td>3.637359</td>\n",
       "      <td>0.406935</td>\n",
       "      <td>0.404025</td>\n",
       "      <td>0.406935</td>\n",
       "      <td>0.389204</td>\n",
       "      <td>0.274719</td>\n",
       "      <td>0.258317</td>\n",
       "      <td>0.274719</td>\n",
       "      <td>0.258596</td>\n",
       "    </tr>\n",
       "    <tr>\n",
       "      <th>3</th>\n",
       "      <td>0.902054</td>\n",
       "      <td>0.920394</td>\n",
       "      <td>1.666667</td>\n",
       "      <td>1.334700</td>\n",
       "      <td>4.410223</td>\n",
       "      <td>3.860328</td>\n",
       "      <td>4.410223</td>\n",
       "      <td>3.863567</td>\n",
       "      <td>1.086957</td>\n",
       "      <td>1.036972</td>\n",
       "      <td>4.772403</td>\n",
       "      <td>4.303124</td>\n",
       "      <td>0.389905</td>\n",
       "      <td>0.440025</td>\n",
       "      <td>0.477260</td>\n",
       "      <td>0.479571</td>\n",
       "      <td>0.618986</td>\n",
       "      <td>0.735310</td>\n",
       "      <td>0.618986</td>\n",
       "      <td>0.743143</td>\n",
       "    </tr>\n",
       "    <tr>\n",
       "      <th>4</th>\n",
       "      <td>1.462674</td>\n",
       "      <td>1.198251</td>\n",
       "      <td>0.200000</td>\n",
       "      <td>0.128971</td>\n",
       "      <td>2.214079</td>\n",
       "      <td>2.173163</td>\n",
       "      <td>2.214079</td>\n",
       "      <td>2.176864</td>\n",
       "      <td>1.041667</td>\n",
       "      <td>1.064237</td>\n",
       "      <td>2.232728</td>\n",
       "      <td>2.212610</td>\n",
       "      <td>0.529977</td>\n",
       "      <td>0.526068</td>\n",
       "      <td>0.257956</td>\n",
       "      <td>0.292184</td>\n",
       "      <td>0.146158</td>\n",
       "      <td>0.294052</td>\n",
       "      <td>0.146158</td>\n",
       "      <td>0.300588</td>\n",
       "    </tr>\n",
       "  </tbody>\n",
       "</table>\n",
       "</div>"
      ],
      "text/plain": [
       "   inclination  P_inclination  mass_ratio  P_mass_ratio  \\\n",
       "0     0.935491       1.094681    3.333333      4.739271   \n",
       "1     0.927295       1.017328    2.500000      3.622497   \n",
       "2     1.485231       1.463987    1.000000      0.916591   \n",
       "3     0.902054       0.920394    1.666667      1.334700   \n",
       "4     1.462674       1.198251    0.200000      0.128971   \n",
       "\n",
       "   prim_surface_potential  P_prim_surf_potential  sec_surface_potential  \\\n",
       "0                7.007351               8.533597               7.007351   \n",
       "1                5.854167               7.047381               5.854167   \n",
       "2                3.600772               3.539768               3.600772   \n",
       "3                4.410223               3.860328               4.410223   \n",
       "4                2.214079               2.173163               2.214079   \n",
       "\n",
       "   P_sec_surf_potential     t1_t2   P_t1_t2  critical_surf_potential  \\\n",
       "0              8.441549  1.037037  1.022082                 7.054097   \n",
       "1              7.028968  1.000000  1.030903                 5.945240   \n",
       "2              3.511590  1.071429  1.062556                 3.750000   \n",
       "3              3.863567  1.086957  1.036972                 4.772403   \n",
       "4              2.176864  1.041667  1.064237                 2.232728   \n",
       "\n",
       "   P_crit_surf_potential  prim_equi_radius  P_prim_equi_radius  \\\n",
       "0               8.673995          0.284784            0.278536   \n",
       "1               7.331349          0.312934            0.318094   \n",
       "2               3.637359          0.406935            0.404025   \n",
       "3               4.303124          0.389905            0.440025   \n",
       "4               2.212610          0.529977            0.526068   \n",
       "\n",
       "   sec_equi_radius  P_sec_equi_radius  prim_filling_factor  \\\n",
       "0         0.492100           0.522325             0.074968   \n",
       "1         0.471755           0.509637             0.149309   \n",
       "2         0.406935           0.389204             0.274719   \n",
       "3         0.477260           0.479571             0.618986   \n",
       "4         0.257956           0.292184             0.146158   \n",
       "\n",
       "   P_prim_filling_factor  sec_filling_factor  P_sec_filling_factor  \n",
       "0               0.448388            0.074968              0.364946  \n",
       "1               0.482214            0.149309              0.460357  \n",
       "2               0.258317            0.274719              0.258596  \n",
       "3               0.735310            0.618986              0.743143  \n",
       "4               0.294052            0.146158              0.300588  "
      ]
     },
     "execution_count": 28,
     "metadata": {},
     "output_type": "execute_result"
    }
   ],
   "source": [
    "df_comp.head()"
   ]
  },
  {
   "cell_type": "code",
   "execution_count": 140,
   "metadata": {},
   "outputs": [
    {
     "name": "stdout",
     "output_type": "stream",
     "text": [
      "Avg true inc 1.221348\n",
      "Avg pred inc 1.193492\n"
     ]
    }
   ],
   "source": [
    "# Results - inclination\n",
    "avg_true_inc = sum(df_comp.inclination)/len(y_test)\n",
    "avg_pred_inc = sum(df_comp.P_inclination)/len(y_test)\n",
    "print('Avg true inc %f' % avg_true_inc)\n",
    "print('Avg pred inc %f' % avg_pred_inc)"
   ]
  },
  {
   "cell_type": "code",
   "execution_count": 141,
   "metadata": {},
   "outputs": [
    {
     "name": "stdout",
     "output_type": "stream",
     "text": [
      "Avg true mass ratio 1.412813\n",
      "Avg pred mass ratio 1.417530\n"
     ]
    }
   ],
   "source": [
    "# Results - mass ratio\n",
    "avg_true_mr = sum(df_comp.mass_ratio)/len(y_test)\n",
    "avg_pred_mr = sum(df_comp.P_mass_ratio)/len(y_test)\n",
    "print('Avg true mass ratio %f' % avg_true_mr)\n",
    "print('Avg pred mass ratio %f' % avg_pred_mr)"
   ]
  },
  {
   "cell_type": "code",
   "execution_count": 142,
   "metadata": {},
   "outputs": [
    {
     "name": "stdout",
     "output_type": "stream",
     "text": [
      "Avg true primary surface potential 3.972770\n",
      "Avg pred primary surface potential 3.968599\n"
     ]
    }
   ],
   "source": [
    "# Results - primary surface potential\n",
    "avg_true_psp = sum(df_comp.prim_surface_potential)/len(y_test)\n",
    "avg_pred_psp = sum(df_comp.P_prim_surf_potential)/len(y_test)\n",
    "print('Avg true primary surface potential %f' % avg_true_psp)\n",
    "print('Avg pred primary surface potential %f' % avg_pred_psp)"
   ]
  },
  {
   "cell_type": "code",
   "execution_count": 143,
   "metadata": {},
   "outputs": [
    {
     "name": "stdout",
     "output_type": "stream",
     "text": [
      "Avg true secondary surface potential 3.972770\n",
      "Avg pred secondary surface potential 3.963105\n"
     ]
    }
   ],
   "source": [
    "# Results - secondary surface potential\n",
    "avg_true_ssp = sum(df_comp.sec_surface_potential)/len(y_test)\n",
    "avg_pred_ssp = sum(df_comp.P_sec_surf_potential)/len(y_test)\n",
    "print('Avg true secondary surface potential %f' % avg_true_ssp)\n",
    "print('Avg pred secondary surface potential %f' % avg_pred_ssp)"
   ]
  },
  {
   "cell_type": "code",
   "execution_count": 144,
   "metadata": {},
   "outputs": [
    {
     "name": "stdout",
     "output_type": "stream",
     "text": [
      "Avg true temperature ratio 1.048076\n",
      "Avg pred temperature ratio 1.046491\n"
     ]
    }
   ],
   "source": [
    "# Results - temperature ratio\n",
    "avg_true_tr = sum(df_comp.t1_t2)/len(y_test)\n",
    "avg_pred_tr = sum(df_comp.P_t1_t2)/len(y_test)\n",
    "print('Avg true temperature ratio %f' % avg_true_tr)\n",
    "print('Avg pred temperature ratio %f' % avg_pred_tr)"
   ]
  },
  {
   "cell_type": "code",
   "execution_count": 145,
   "metadata": {},
   "outputs": [
    {
     "name": "stdout",
     "output_type": "stream",
     "text": [
      "Avg true critical surface potential 4.286547\n",
      "Avg pred critical surface potential 4.314012\n"
     ]
    }
   ],
   "source": [
    "# Results - critical surface potential\n",
    "avg_true_csp = sum(df_comp.critical_surf_potential)/len(y_test)\n",
    "avg_pred_csp = sum(df_comp.P_crit_surf_potential)/len(y_test)\n",
    "print('Avg true critical surface potential %f' % avg_true_csp)\n",
    "print('Avg pred critical surface potential %f' % avg_pred_csp)"
   ]
  },
  {
   "cell_type": "code",
   "execution_count": 146,
   "metadata": {},
   "outputs": [
    {
     "name": "stdout",
     "output_type": "stream",
     "text": [
      "Avg true primary equivalent radius 0.431312\n",
      "Avg pred primary equivalent radius 0.440175\n"
     ]
    }
   ],
   "source": [
    "# Results - primary equivalent radius\n",
    "avg_true_per = sum(df_comp.prim_equi_radius)/len(y_test)\n",
    "avg_pred_per = sum(df_comp.P_prim_equi_radius)/len(y_test)\n",
    "print('Avg true primary equivalent radius %f' % avg_true_per)\n",
    "print('Avg pred primary equivalent radius %f' % avg_pred_per)"
   ]
  },
  {
   "cell_type": "code",
   "execution_count": 147,
   "metadata": {},
   "outputs": [
    {
     "name": "stdout",
     "output_type": "stream",
     "text": [
      "Avg true secondary equivalent radius 0.446961\n",
      "Avg pred secondary equivalent radius 0.450492\n"
     ]
    }
   ],
   "source": [
    "# Results - secondary equivalent radius\n",
    "avg_true_ser = sum(df_comp.sec_equi_radius)/len(y_test)\n",
    "avg_pred_ser = sum(df_comp.P_sec_equi_radius)/len(y_test)\n",
    "print('Avg true secondary equivalent radius %f' % avg_true_ser)\n",
    "print('Avg pred secondary equivalent radius %f' % avg_pred_ser)"
   ]
  },
  {
   "cell_type": "code",
   "execution_count": 148,
   "metadata": {},
   "outputs": [
    {
     "name": "stdout",
     "output_type": "stream",
     "text": [
      "Avg true primary filling factor 0.615457\n",
      "Avg pred primary filling factor 0.648980\n"
     ]
    }
   ],
   "source": [
    "# Results - primary filling factor\n",
    "avg_true_pff = sum(df_comp.prim_filling_factor)/len(y_test)\n",
    "avg_pred_pff = sum(df_comp.P_prim_filling_factor)/len(y_test)\n",
    "print('Avg true primary filling factor %f' % avg_true_pff)\n",
    "print('Avg pred primary filling factor %f' % avg_pred_pff)"
   ]
  },
  {
   "cell_type": "code",
   "execution_count": 149,
   "metadata": {},
   "outputs": [
    {
     "name": "stdout",
     "output_type": "stream",
     "text": [
      "Avg true secondary filling factor 0.615457\n",
      "Avg pred secondary filling factor 0.652366\n"
     ]
    }
   ],
   "source": [
    "# Results - secondary filling factor\n",
    "avg_true_sff = sum(df_comp.sec_filling_factor)/len(y_test)\n",
    "avg_pred_sff = sum(df_comp.P_sec_filling_factor)/len(y_test)\n",
    "print('Avg true secondary filling factor %f' % avg_true_sff)\n",
    "print('Avg pred secondary filling factor %f' % avg_pred_sff)"
   ]
  },
  {
   "cell_type": "code",
   "execution_count": 154,
   "metadata": {},
   "outputs": [],
   "source": [
    "avg_dict = {\n",
    "    \"true_inc\": [avg_true_inc],\n",
    "    \"pred_inc\": [avg_pred_inc],\n",
    "\n",
    "    \"true_mass_ratio\": [avg_true_mr],\n",
    "    \"pred_mass_ratio\": [avg_pred_mr],\n",
    "\n",
    "    \"true_prim_surf_potent\": [avg_true_psp],\n",
    "    \"pred_surf_potent\": [avg_pred_psp],\n",
    "\n",
    "    \"true_sec_surf_potent\": [avg_true_ssp],\n",
    "    \"pred_sec_surf_potent\": [avg_pred_ssp],\n",
    "\n",
    "    \"true_temp_ratio\": [avg_true_tr],\n",
    "    \"pred_temp_ratio\":[avg_pred_tr],\n",
    "\n",
    "    \"true_crit_surf_potent\":[avg_true_csp],\n",
    "    \"pred_crit_sufr_potent\":[avg_pred_csp],\n",
    "\n",
    "    \"true_prim_equi_radius\":[avg_true_per],\n",
    "    \"pred_prim_equi_radius\":[avg_pred_per],\n",
    "\n",
    "    \"true_sec_equi_radius\": [avg_true_ser],\n",
    "    \"preed_sec_equi_radius\":[avg_pred_ser],\n",
    "\n",
    "    \"true_prim_fill_factor\":[avg_true_pff],\n",
    "    \"pred_prim_fill_factor\":[avg_pred_pff],\n",
    "\n",
    "    \"true_sec_fill_factor\": [avg_true_sff],\n",
    "    \"pred_sec_fill_factor\": [avg_pred_sff]\n",
    "    }\n",
    "avg_df = pd.DataFrame.from_dict(avg_dict)"
   ]
  },
  {
   "cell_type": "code",
   "execution_count": 155,
   "metadata": {},
   "outputs": [
    {
     "data": {
      "text/html": [
       "<div>\n",
       "<style scoped>\n",
       "    .dataframe tbody tr th:only-of-type {\n",
       "        vertical-align: middle;\n",
       "    }\n",
       "\n",
       "    .dataframe tbody tr th {\n",
       "        vertical-align: top;\n",
       "    }\n",
       "\n",
       "    .dataframe thead th {\n",
       "        text-align: right;\n",
       "    }\n",
       "</style>\n",
       "<table border=\"1\" class=\"dataframe\">\n",
       "  <thead>\n",
       "    <tr style=\"text-align: right;\">\n",
       "      <th></th>\n",
       "      <th>true_inc</th>\n",
       "      <th>pred_inc</th>\n",
       "      <th>true_mass_ratio</th>\n",
       "      <th>pred_mass_ratio</th>\n",
       "      <th>true_prim_surf_potent</th>\n",
       "      <th>pred_surf_potent</th>\n",
       "      <th>true_sec_surf_potent</th>\n",
       "      <th>pred_sec_surf_potent</th>\n",
       "      <th>true_temp_ratio</th>\n",
       "      <th>pred_temp_ratio</th>\n",
       "      <th>true_crit_surf_potent</th>\n",
       "      <th>pred_crit_sufr_potent</th>\n",
       "      <th>true_prim_equi_radius</th>\n",
       "      <th>pred_prim_equi_radius</th>\n",
       "      <th>true_sec_equi_radius</th>\n",
       "      <th>preed_sec_equi_radius</th>\n",
       "      <th>true_prim_fill_factor</th>\n",
       "      <th>pred_prim_fill_factor</th>\n",
       "      <th>true_sec_fill_factor</th>\n",
       "      <th>pred_sec_fill_factor</th>\n",
       "    </tr>\n",
       "  </thead>\n",
       "  <tbody>\n",
       "    <tr>\n",
       "      <th>0</th>\n",
       "      <td>1.221348</td>\n",
       "      <td>1.193492</td>\n",
       "      <td>1.412813</td>\n",
       "      <td>1.41753</td>\n",
       "      <td>3.97277</td>\n",
       "      <td>3.968599</td>\n",
       "      <td>3.97277</td>\n",
       "      <td>3.963105</td>\n",
       "      <td>1.048076</td>\n",
       "      <td>1.046491</td>\n",
       "      <td>4.286547</td>\n",
       "      <td>4.314012</td>\n",
       "      <td>0.431312</td>\n",
       "      <td>0.440175</td>\n",
       "      <td>0.446961</td>\n",
       "      <td>0.450492</td>\n",
       "      <td>0.615457</td>\n",
       "      <td>0.64898</td>\n",
       "      <td>0.615457</td>\n",
       "      <td>0.652366</td>\n",
       "    </tr>\n",
       "  </tbody>\n",
       "</table>\n",
       "</div>"
      ],
      "text/plain": [
       "   true_inc  pred_inc  true_mass_ratio  pred_mass_ratio  \\\n",
       "0  1.221348  1.193492         1.412813          1.41753   \n",
       "\n",
       "   true_prim_surf_potent  pred_surf_potent  true_sec_surf_potent  \\\n",
       "0                3.97277          3.968599               3.97277   \n",
       "\n",
       "   pred_sec_surf_potent  true_temp_ratio  pred_temp_ratio  \\\n",
       "0              3.963105         1.048076         1.046491   \n",
       "\n",
       "   true_crit_surf_potent  pred_crit_sufr_potent  true_prim_equi_radius  \\\n",
       "0               4.286547               4.314012               0.431312   \n",
       "\n",
       "   pred_prim_equi_radius  true_sec_equi_radius  preed_sec_equi_radius  \\\n",
       "0               0.440175              0.446961               0.450492   \n",
       "\n",
       "   true_prim_fill_factor  pred_prim_fill_factor  true_sec_fill_factor  \\\n",
       "0               0.615457                0.64898              0.615457   \n",
       "\n",
       "   pred_sec_fill_factor  \n",
       "0              0.652366  "
      ]
     },
     "execution_count": 155,
     "metadata": {},
     "output_type": "execute_result"
    }
   ],
   "source": [
    "avg_df"
   ]
  },
  {
   "cell_type": "code",
   "execution_count": 29,
   "metadata": {},
   "outputs": [],
   "source": [
    "cols = [\n",
    "    \"inclination\",\n",
    "    \"mass_ratio\",\n",
    "    \"primary__surface_potential\",\n",
    "    \"secondary__surface_potential\",\n",
    "    \"t1_t2\",\n",
    "    \"critical_surface_potential\",\n",
    "    \"primary__equivalent_radius\",\n",
    "    \"secondary__equivalent_radius\",\n",
    "    \"primary__filling_factor\",\n",
    "    \"secondary__filling_factor\"]"
   ]
  },
  {
   "cell_type": "code",
   "execution_count": 30,
   "metadata": {},
   "outputs": [],
   "source": [
    "idx = np.random.choice(np.arange(len(y_test)), 1, replace=False)\n",
    "true_sample = y_test[idx]\n",
    "pred_sample = y_pred[idx]"
   ]
  },
  {
   "cell_type": "code",
   "execution_count": 31,
   "metadata": {},
   "outputs": [],
   "source": [
    "comp = pd.DataFrame(data={\"true_values\": true_sample.flatten(),\n",
    "                        \"predicted_values\": pred_sample.flatten(),\n",
    "                        \"abs diff\": abs(true_sample.flatten()-pred_sample.flatten()),\n",
    "                        \"relative diff %\": (abs(true_sample.flatten()-pred_sample.flatten())/true_sample.flatten()) * 100})"
   ]
  },
  {
   "cell_type": "code",
   "execution_count": 32,
   "metadata": {},
   "outputs": [
    {
     "data": {
      "text/html": [
       "<div>\n",
       "<style scoped>\n",
       "    .dataframe tbody tr th:only-of-type {\n",
       "        vertical-align: middle;\n",
       "    }\n",
       "\n",
       "    .dataframe tbody tr th {\n",
       "        vertical-align: top;\n",
       "    }\n",
       "\n",
       "    .dataframe thead th {\n",
       "        text-align: right;\n",
       "    }\n",
       "</style>\n",
       "<table border=\"1\" class=\"dataframe\">\n",
       "  <thead>\n",
       "    <tr style=\"text-align: right;\">\n",
       "      <th></th>\n",
       "      <th>true_values</th>\n",
       "      <th>predicted_values</th>\n",
       "      <th>abs diff</th>\n",
       "      <th>relative diff %</th>\n",
       "    </tr>\n",
       "  </thead>\n",
       "  <tbody>\n",
       "    <tr>\n",
       "      <th>0</th>\n",
       "      <td>1.458632</td>\n",
       "      <td>1.259716</td>\n",
       "      <td>0.198916</td>\n",
       "      <td>13.637155</td>\n",
       "    </tr>\n",
       "    <tr>\n",
       "      <th>1</th>\n",
       "      <td>0.300000</td>\n",
       "      <td>0.414693</td>\n",
       "      <td>0.114693</td>\n",
       "      <td>38.231138</td>\n",
       "    </tr>\n",
       "    <tr>\n",
       "      <th>2</th>\n",
       "      <td>2.306671</td>\n",
       "      <td>2.457006</td>\n",
       "      <td>0.150334</td>\n",
       "      <td>6.517363</td>\n",
       "    </tr>\n",
       "    <tr>\n",
       "      <th>3</th>\n",
       "      <td>2.306671</td>\n",
       "      <td>2.509428</td>\n",
       "      <td>0.202757</td>\n",
       "      <td>8.790011</td>\n",
       "    </tr>\n",
       "    <tr>\n",
       "      <th>4</th>\n",
       "      <td>1.033333</td>\n",
       "      <td>1.075377</td>\n",
       "      <td>0.042044</td>\n",
       "      <td>4.068752</td>\n",
       "    </tr>\n",
       "    <tr>\n",
       "      <th>5</th>\n",
       "      <td>2.466229</td>\n",
       "      <td>2.795861</td>\n",
       "      <td>0.329632</td>\n",
       "      <td>13.365824</td>\n",
       "    </tr>\n",
       "    <tr>\n",
       "      <th>6</th>\n",
       "      <td>0.538518</td>\n",
       "      <td>0.530790</td>\n",
       "      <td>0.007728</td>\n",
       "      <td>1.435094</td>\n",
       "    </tr>\n",
       "    <tr>\n",
       "      <th>7</th>\n",
       "      <td>0.337164</td>\n",
       "      <td>0.403092</td>\n",
       "      <td>0.065928</td>\n",
       "      <td>19.553721</td>\n",
       "    </tr>\n",
       "    <tr>\n",
       "      <th>8</th>\n",
       "      <td>0.852955</td>\n",
       "      <td>0.776245</td>\n",
       "      <td>0.076709</td>\n",
       "      <td>8.993381</td>\n",
       "    </tr>\n",
       "    <tr>\n",
       "      <th>9</th>\n",
       "      <td>0.852955</td>\n",
       "      <td>0.796070</td>\n",
       "      <td>0.056884</td>\n",
       "      <td>6.669103</td>\n",
       "    </tr>\n",
       "  </tbody>\n",
       "</table>\n",
       "</div>"
      ],
      "text/plain": [
       "   true_values  predicted_values  abs diff  relative diff %\n",
       "0     1.458632          1.259716  0.198916        13.637155\n",
       "1     0.300000          0.414693  0.114693        38.231138\n",
       "2     2.306671          2.457006  0.150334         6.517363\n",
       "3     2.306671          2.509428  0.202757         8.790011\n",
       "4     1.033333          1.075377  0.042044         4.068752\n",
       "5     2.466229          2.795861  0.329632        13.365824\n",
       "6     0.538518          0.530790  0.007728         1.435094\n",
       "7     0.337164          0.403092  0.065928        19.553721\n",
       "8     0.852955          0.776245  0.076709         8.993381\n",
       "9     0.852955          0.796070  0.056884         6.669103"
      ]
     },
     "execution_count": 32,
     "metadata": {},
     "output_type": "execute_result"
    }
   ],
   "source": [
    "comp"
   ]
  },
  {
   "cell_type": "code",
   "execution_count": 118,
   "metadata": {},
   "outputs": [
    {
     "data": {
      "image/png": "[encoded data removed]",
      "text/plain": [
       "<Figure size 1080x504 with 1 Axes>"
      ]
     },
     "metadata": {},
     "output_type": "display_data"
    }
   ],
   "source": [
    "fig, ax = plt.subplots(figsize=(15,7))\n",
    "x = np.arange(len(comp))\n",
    "width = 0.3\n",
    "\n",
    "plt.bar(x-0.15, sum(df_comp.inclination)/len(df_comp.inclination), width, label='True values')\n",
    "plt.bar(x+0.15, sum(df_comp.P_inclination)/len(df_comp.inclination), width, label='Predicted values')\n",
    "\n",
    "plt.title('Comparison of avg true and predicted values - curves without noise', fontsize=15)\n",
    "\n",
    "plt.xticks(x, cols, rotation=45, ha='right')\n",
    "ax.set_ylabel(\"Average Absolute difference\")\n",
    "ax.set_xlabel(\"Attributes\")\n",
    "ax.grid(False)\n",
    "ax.tick_params(bottom=False, left=True)\n",
    "plt.legend()\n",
    "plt.grid(b=\"on\")\n",
    "plt.show()"
   ]
  },
  {
   "cell_type": "code",
   "execution_count": null,
   "metadata": {},
   "outputs": [],
   "source": [
    "fig = plt.figure(figsize=(6, 4))\n",
    "\n",
    "t = np.arange(-5.0, 1.0, 0.1)\n",
    "\n",
    "sub1 = fig.add_subplot(221) # instead of plt.subplot(2, 2, 1)\n",
    "sub1.set_title('The function f') # non OOP: plt.title('The function f')\n",
    "sub1.plot(t, f(t))\n",
    "\n",
    "\n",
    "sub2 = fig.add_subplot(222, facecolor=\"lightgrey\")\n",
    "sub2.set_title('fp, the derivation of f')\n",
    "sub2.plot(t, fp(t))\n",
    "\n",
    "\n",
    "t = np.arange(-3.0, 2.0, 0.02)\n",
    "sub3 = fig.add_subplot(223)\n",
    "sub3.set_title('The function g')\n",
    "sub3.plot(t, g(t))\n",
    "\n",
    "t = np.arange(-0.2, 0.2, 0.001)\n",
    "sub4 = fig.add_subplot(224, facecolor=\"lightgrey\")\n",
    "sub4.set_title('A closer look at g')\n",
    "sub4.set_xticks([-0.2, -0.1, 0, 0.1, 0.2])\n",
    "sub4.set_yticks([-0.15, -0.1, 0, 0.1, 0.15])\n",
    "sub4.plot(t, g(t))\n",
    "\n",
    "plt.plot(t, g(t))\n",
    "\n",
    "plt.tight_layout()\n",
    "plt.show()"
   ]
  },
  {
   "cell_type": "markdown",
   "metadata": {},
   "source": [
    "### Prediction on synthetic test data - with  noise"
   ]
  },
  {
   "cell_type": "code",
   "execution_count": null,
   "metadata": {},
   "outputs": [],
   "source": [
    "y_pred_n=model.predict(X_test_n)"
   ]
  },
  {
   "cell_type": "code",
   "execution_count": null,
   "metadata": {},
   "outputs": [],
   "source": [
    "# P_prim__t_eff = [i[0] for i in y_pred]\n",
    "# P_sec__t_eff = [i[1] for i in y_pred]\n",
    "P_inclination = [i[0] for i in y_pred_n]\n",
    "P_mass_ratio = [i[1] for i in y_pred_n]\n",
    "P_prim__surface_potential = [i[2] for i in y_pred_n]\n",
    "P_sec__surface_potential = [i[3] for i in y_pred_n]\n",
    "P_t1_t2 = [i[4] for i in y_pred_n]\n",
    "P_critical_surface_potential = [i[5] for i in y_pred_n]\n",
    "P_primary_equivalent_radius = [i[6] for i in y_pred_n]\n",
    "P_secondary_equivalent_radius = [i[7] for i in y_pred_n]\n",
    "P_primary_filling_factor = [i[8] for i in y_pred_n]\n",
    "P_secondary_filling_factor = [i[9] for i in y_pred_n]"
   ]
  },
  {
   "cell_type": "code",
   "execution_count": null,
   "metadata": {},
   "outputs": [],
   "source": [
    "# P_prim__t_eff = np.reshape(P_prim__t_eff, len(P_prim__t_eff))\n",
    "# P_sec__t_eff = np.reshape(P_sec__t_eff, len(P_sec__t_eff))\n",
    "P_inclination = np.reshape(P_inclination, len(P_inclination))\n",
    "P_mass_ratio = np.reshape(P_mass_ratio, len(P_mass_ratio))\n",
    "P_prim__surface_potential = np.reshape(P_prim__surface_potential, len(P_prim__surface_potential))\n",
    "P_sec__surface_potential = np.reshape(P_sec__surface_potential, len(P_sec__surface_potential))\n",
    "P_t1_t2 = np.reshape(P_t1_t2, len(P_t1_t2))\n",
    "P_critical_surface_potential = np.reshape(P_critical_surface_potential, len(P_critical_surface_potential))\n",
    "P_primary_equivalent_radius = np.reshape(P_primary_equivalent_radius, len(P_primary_equivalent_radius))\n",
    "P_secondary_equivalent_radius = np.reshape(P_secondary_equivalent_radius, len(P_secondary_equivalent_radius))\n",
    "P_primary_filling_factor = np.reshape(P_primary_filling_factor, len(P_primary_filling_factor))\n",
    "P_secondary_filling_factor = np.reshape(P_secondary_filling_factor, len(P_secondary_filling_factor))\n"
   ]
  },
  {
   "cell_type": "code",
   "execution_count": null,
   "metadata": {},
   "outputs": [],
   "source": [
    "df = pd.DataFrame(data =\n",
    "    {\n",
    "    # 'primary__t_eff': [i[0] for i in y_test],\n",
    "    # 'P_prim__t_eff': P_prim__t_eff,\n",
    "    # 'prim_t_eff_abs_diff': abs([i[0] for i in y_test] - P_prim__t_eff),\n",
    "\n",
    "    # 'secondary__t_eff': [i[1] for i in y_test],\n",
    "    # 'P_sec__t_eff': P_sec__t_eff,\n",
    "    # 'sec_t_eff_abs_diff': abs([i[1] for i in y_test] - P_sec__t_eff),\n",
    "\n",
    "    'inclination': [i[0] for i in y_test_n],\n",
    "    'P_inclination': P_inclination,\n",
    "    'inclination_abs_diff': abs([i[0] for i in y_test_n] - P_inclination),\n",
    "\n",
    "    'mass_ratio': [i[1] for i in y_test_n],\n",
    "    'P_mass_ratio': P_mass_ratio,\n",
    "    'mass_ratio_abs_diff': abs([i[1] for i in y_test_n] - P_mass_ratio),\n",
    "\n",
    "    'prim_surface_potential': [i[2] for i in y_test_n],\n",
    "    'P_prim_surf_potential': P_prim__surface_potential,\n",
    "    'prim_surf_potent_abs_diff': abs([i[2] for i in y_test_n] - P_prim__surface_potential),\n",
    "\n",
    "    'sec_surface_potential': [i[3] for i in y_test_n],\n",
    "    'P_sec_surf_potential': P_sec__surface_potential,\n",
    "    'sec_surf_potent_abs_diff': abs([i[3] for i in y_test_n] - P_sec__surface_potential),\n",
    "\n",
    "    't1_t2': [i[4] for i in y_test_n],\n",
    "    'P_t1_t2': P_t1_t2,\n",
    "    't1_t2_abs_diff': abs([i[4] for i in y_test_n] - P_t1_t2),\n",
    "\n",
    "    'critical_surf_potential': [i[5] for i in y_test_n],\n",
    "    'P_crit_surf_potential': P_critical_surface_potential,\n",
    "    'crit_surf_potential_abs_diff': abs([i[5] for i in y_test_n] - P_critical_surface_potential),\n",
    "\n",
    "    'prim_equi_radius': [i[6] for i in y_test_n],\n",
    "    'P_prim_equi_radius': P_primary_equivalent_radius,\n",
    "    'prim_equi_radius_abs_diff': abs([i[6] for i in y_test_n] - P_primary_equivalent_radius),\n",
    "\n",
    "    'sec_equi_radius': [i[7] for i in y_test_n],\n",
    "    'P_sec_equi_radius': P_secondary_equivalent_radius,\n",
    "    'sec_equi_radius_abs_diff': abs([i[7] for i in y_test_n] - P_secondary_equivalent_radius),\n",
    "\n",
    "    'prim_filling_factor': [i[8] for i in y_test_n],\n",
    "    'P_prim_filling_factor': P_primary_filling_factor,\n",
    "    'prim_filling_factor_abs_diff': abs([i[8] for i in y_test_n] - P_primary_filling_factor),\n",
    "\n",
    "    'sec_filling_factor': [i[9] for i in y_test_n],\n",
    "    'P_sec_filling_factor': P_secondary_filling_factor,\n",
    "    'sec_filling_factor_abs_diff': abs([i[9] for i in y_test_n] - P_secondary_filling_factor)\n",
    "    })\n"
   ]
  },
  {
   "cell_type": "code",
   "execution_count": null,
   "metadata": {},
   "outputs": [],
   "source": [
    "df.head()"
   ]
  },
  {
   "cell_type": "code",
   "execution_count": null,
   "metadata": {},
   "outputs": [],
   "source": [
    "df.to_csv('all_params_predictions/2_OvercontactNoiseSynthetic_allParams_OneModel.csv', index=False)"
   ]
  },
  {
   "cell_type": "code",
   "execution_count": null,
   "metadata": {},
   "outputs": [],
   "source": [
    "df_copy = df.copy()\n",
    "df_comp = df_copy.drop([\n",
    "        # 'prim_t_eff_abs_diff',\n",
    "        # 'sec_t_eff_abs_diff',\n",
    "        'inclination_abs_diff',\n",
    "        'mass_ratio_abs_diff',\n",
    "        'prim_surf_potent_abs_diff',\n",
    "        'sec_surf_potent_abs_diff',\n",
    "        't1_t2_abs_diff',\n",
    "        'crit_surf_potential_abs_diff',\n",
    "        'prim_equi_radius_abs_diff',\n",
    "        'sec_equi_radius_abs_diff',\n",
    "        'prim_filling_factor_abs_diff',\n",
    "        'sec_filling_factor_abs_diff'\n",
    "        ], axis = 1)\n",
    "df_comp.head()"
   ]
  },
  {
   "cell_type": "code",
   "execution_count": null,
   "metadata": {},
   "outputs": [],
   "source": [
    "cols = [\n",
    "    # \"primary__t_eff\",\n",
    "    # \"secondary__t_eff\",\n",
    "    \"inclination\",\n",
    "    \"mass_ratio\",\n",
    "    \"primary__surface_potential\",\n",
    "    \"secondary__surface_potential\",\n",
    "    \"t1_t2\",\n",
    "    \"critical_surface_potential\",\n",
    "    \"primary__equivalent_radius\",\n",
    "    \"secondary__equivalent_radius\",\n",
    "    \"primary__filling_factor\",\n",
    "    \"secondary__filling_factor\"]"
   ]
  },
  {
   "cell_type": "code",
   "execution_count": null,
   "metadata": {},
   "outputs": [],
   "source": [
    "idx = np.random.choice(np.arange(len(y_test_n)), 1, replace=False)\n",
    "true_sample = y_test_n[idx]\n",
    "pred_sample = y_pred_n[idx]"
   ]
  },
  {
   "cell_type": "code",
   "execution_count": null,
   "metadata": {},
   "outputs": [],
   "source": [
    "comp = pd.DataFrame(data={\"true_values\": true_sample.flatten(),\n",
    "                        \"predicted_values\": pred_sample.flatten(),\n",
    "                        \"abs diff\": abs(true_sample.flatten()-pred_sample.flatten()),\n",
    "                        \"relative diff %\": (abs(true_sample.flatten()-pred_sample.flatten())/true_sample.flatten()) * 100})"
   ]
  },
  {
   "cell_type": "code",
   "execution_count": null,
   "metadata": {},
   "outputs": [],
   "source": [
    "# Porovnanie hodnot pre 1 krivku \n",
    "comp"
   ]
  },
  {
   "cell_type": "code",
   "execution_count": null,
   "metadata": {},
   "outputs": [],
   "source": [
    "fig, ax = plt.subplots(figsize=(15,7))\n",
    "x = np.arange(len(comp))\n",
    "width = 0.3\n",
    "plt.bar(x-0.15, comp.true_values/len(comp.true_values), width, label='True values')\n",
    "plt.bar(x+0.15, comp.predicted_values/len(comp.predicted_values), width, label='Predicted values')\n",
    "plt.title('Comparison of avg true and predicted values - curves with noise', fontsize=15)\n",
    "plt.xticks(x, cols, rotation=45, ha='right')\n",
    "ax.set_ylabel(\"Average Absolute difference\")\n",
    "ax.set_xlabel(\"Attributes\")\n",
    "ax.grid(False)\n",
    "ax.tick_params(bottom=False, left=True)\n",
    "plt.legend()\n",
    "plt.grid(b=\"on\")\n",
    "plt.show()"
   ]
  }
 ],
 "metadata": {
  "interpreter": {
   "hash": "b8fc6ce4f931e35f5dd2ff00f5d2ede33ff85432a244cf6e3e9d498f6426f487"
  },
  "kernelspec": {
   "display_name": "Python 3.8.12 ('global')",
   "language": "python",
   "name": "python3"
  },
  "language_info": {
   "codemirror_mode": {
    "name": "ipython",
    "version": 3
   },
   "file_extension": ".py",
   "mimetype": "text/x-python",
   "name": "python",
   "nbconvert_exporter": "python",
   "pygments_lexer": "ipython3",
   "version": "3.8.12"
  },
  "orig_nbformat": 4
 },
 "nbformat": 4,
 "nbformat_minor": 2
}
