{
 "cells": [
  {
   "cell_type": "markdown",
   "metadata": {},
   "source": [
    "# Predikcia detached kriviek vybranych parametrov\n",
    "### Model NN s concatenate vrstvou"
   ]
  },
  {
   "cell_type": "code",
   "execution_count": 1,
   "metadata": {},
   "outputs": [],
   "source": [
    "# LIBRARIES\n",
    "import numpy as np\n",
    "import pandas as pd\n",
    "import seaborn as sns\n",
    "import matplotlib.pyplot as plt\n",
    "from sklearn.preprocessing import MinMaxScaler\n",
    "\n",
    "from keras.utils import np_utils\n",
    "from keras.models import load_model\n",
    "from sklearn.model_selection import train_test_split\n",
    "from sklearn.metrics import confusion_matrix, classification_report\n",
    "from sklearn.metrics import precision_recall_fscore_support\n",
    "from keras.layers import Conv1D, GlobalMaxPooling1D, MaxPooling1D, SpatialDropout1D, GlobalAveragePooling1D\n",
    "from keras.layers import Input, Dense, concatenate, Activation, LSTM, Dropout, Flatten\n",
    "from keras.models import Model\n",
    "from keras.layers import Concatenate\n",
    "from tensorflow.keras.callbacks import ModelCheckpoint, EarlyStopping\n",
    "\n",
    "np.random.seed(1234)\n",
    "pd.set_option('display.max_rows', None)"
   ]
  },
  {
   "cell_type": "code",
   "execution_count": 2,
   "metadata": {},
   "outputs": [],
   "source": [
    "def generate_observation_sigma(space_obs_frac=0.5):\n",
    "    \"\"\"\n",
    "    Draws a standard deviation of noise in light curve points from a \"true\" value provided in synthetic light curve.\n",
    "    Noise sigma is drawn from bimodal distribution taking into account contributions from space based and earth based\n",
    "    observations which have different levels of stochastic noise.\n",
    "\n",
    "    :param space_obs_frac: ratio between earth based and space based observations\n",
    "    :return: float; standard deviation of the light curve noise\n",
    "    \"\"\"\n",
    "    earth_based_sigma = 4e-3\n",
    "    space_based_sigma = 2e-4\n",
    "    sigma = np.random.choice([earth_based_sigma, space_based_sigma], p=[1-space_obs_frac, space_obs_frac])\n",
    "    return np.random.rayleigh(sigma)\n",
    "\n",
    "def stochastic_noise_generator(curve):\n",
    "    \"\"\"\n",
    "    Introduces gaussian noise into synthetic observation provided in `curve`.\n",
    "\n",
    "    :param curve: numpy.array; normalized light curve\n",
    "    :return: Tuple(numpy.array, float); normalized light curve with added noise, standard deviation of observations\n",
    "    \"\"\"\n",
    "    sigma = generate_observation_sigma()\n",
    "    return np.random.normal(curve, sigma), np.full(curve.shape, sigma)"
   ]
  },
  {
   "cell_type": "markdown",
   "metadata": {},
   "source": [
    "## Data loading"
   ]
  },
  {
   "cell_type": "code",
   "execution_count": 3,
   "metadata": {},
   "outputs": [],
   "source": [
    "data = pd.read_pickle(\"detached_all_parameters.pkl\").reset_index()\n",
    "data_sample = data.sample(n=200000)"
   ]
  },
  {
   "cell_type": "code",
   "execution_count": 4,
   "metadata": {},
   "outputs": [],
   "source": [
    "X = []\n",
    "for row in data_sample[\"curve\"]:\n",
    "    X.append(row)\n",
    "X=np.array(X)"
   ]
  },
  {
   "cell_type": "code",
   "execution_count": 5,
   "metadata": {},
   "outputs": [],
   "source": [
    "y = np.array(data_sample[[\n",
    "    \"inclination\",\n",
    "    \"mass_ratio\",\n",
    "    \"primary__surface_potential\",\n",
    "    \"secondary__surface_potential\",\n",
    "    \"t1_t2\"]])"
   ]
  },
  {
   "cell_type": "code",
   "execution_count": 6,
   "metadata": {},
   "outputs": [
    {
     "data": {
      "text/plain": [
       "array([0.71584635, 0.05050505, 0.17208073, 0.0020424 , 0.7804878 ])"
      ]
     },
     "execution_count": 6,
     "metadata": {},
     "output_type": "execute_result"
    }
   ],
   "source": [
    "# MinMax Scaler\n",
    "scaler = MinMaxScaler()\n",
    "y_minmax_scaled = scaler.fit_transform(y)\n",
    "y_minmax_scaled[0]"
   ]
  },
  {
   "cell_type": "code",
   "execution_count": 7,
   "metadata": {},
   "outputs": [],
   "source": [
    "X_train1, X_test, y_train1, y_test = train_test_split(X, y_minmax_scaled, test_size=0.2)"
   ]
  },
  {
   "cell_type": "code",
   "execution_count": 8,
   "metadata": {},
   "outputs": [],
   "source": [
    "# Adding noise to train data\n",
    "X_train_n = []\n",
    "y_train_n = []\n",
    "for i in range(len(X_train1)):\n",
    "    for j in range(3):\n",
    "        curve = stochastic_noise_generator(X_train1[i])\n",
    "        X_train_n.append(curve[0])\n",
    "        y_train_n.append(y_train1[i])\n",
    "X_train_n = np.array(X_train_n)\n",
    "y_train_n=np.array(y_train_n)"
   ]
  },
  {
   "cell_type": "code",
   "execution_count": 9,
   "metadata": {},
   "outputs": [
    {
     "name": "stdout",
     "output_type": "stream",
     "text": [
      "Number of records in dataset:  1300000 \n",
      "Number of records in sample:  200000 \n",
      "Number of train data without noise:  160000 \n",
      "Number of train data with noise:  480000 \n",
      "Number of test data without noise:  40000\n"
     ]
    }
   ],
   "source": [
    "print(\"Number of records in dataset: \", len(data),\n",
    "    \"\\nNumber of records in sample: \", len(X),\n",
    "    \"\\nNumber of train data without noise: \", len(X_train1),\n",
    "    \"\\nNumber of train data with noise: \", len(X_train_n),\n",
    "    \"\\nNumber of test data without noise: \", len(X_test))"
   ]
  },
  {
   "cell_type": "code",
   "execution_count": 10,
   "metadata": {},
   "outputs": [
    {
     "data": {
      "text/plain": [
       "(480000, 5)"
      ]
     },
     "execution_count": 10,
     "metadata": {},
     "output_type": "execute_result"
    }
   ],
   "source": [
    "y_train_n.shape"
   ]
  },
  {
   "cell_type": "code",
   "execution_count": 11,
   "metadata": {},
   "outputs": [],
   "source": [
    "y_inc = np.array([arr[0] for arr in y_train_n])\n",
    "y_mass = np.array([arr[1] for arr in y_train_n])\n",
    "y_prim_potent = np.array([arr[2] for arr in y_train_n])\n",
    "y_sec_potent = np.array([arr[3] for arr in y_train_n])\n",
    "y_temp_ratio = np.array([arr[4] for arr in y_train_n])"
   ]
  },
  {
   "cell_type": "code",
   "execution_count": 12,
   "metadata": {},
   "outputs": [
    {
     "data": {
      "text/plain": [
       "(480000,)"
      ]
     },
     "execution_count": 12,
     "metadata": {},
     "output_type": "execute_result"
    }
   ],
   "source": [
    "y_inc.shape"
   ]
  },
  {
   "cell_type": "markdown",
   "metadata": {},
   "source": [
    "## Model v1"
   ]
  },
  {
   "cell_type": "code",
   "execution_count": 28,
   "metadata": {},
   "outputs": [
    {
     "name": "stdout",
     "output_type": "stream",
     "text": [
      "Model: \"functional_47\"\n",
      "__________________________________________________________________________________________________\n",
      "Layer (type)                    Output Shape         Param #     Connected to                     \n",
      "==================================================================================================\n",
      "input_4 (InputLayer)            [(None, 400, 1)]     0                                            \n",
      "__________________________________________________________________________________________________\n",
      "conv1d_25 (Conv1D)              (None, 398, 64)      256         input_4[0][0]                    \n",
      "__________________________________________________________________________________________________\n",
      "conv1d_27 (Conv1D)              (None, 398, 64)      256         input_4[0][0]                    \n",
      "__________________________________________________________________________________________________\n",
      "conv1d_29 (Conv1D)              (None, 398, 64)      256         input_4[0][0]                    \n",
      "__________________________________________________________________________________________________\n",
      "conv1d_31 (Conv1D)              (None, 398, 64)      256         input_4[0][0]                    \n",
      "__________________________________________________________________________________________________\n",
      "conv1d_33 (Conv1D)              (None, 398, 64)      256         input_4[0][0]                    \n",
      "__________________________________________________________________________________________________\n",
      "max_pooling1d_15 (MaxPooling1D) (None, 199, 64)      0           conv1d_25[0][0]                  \n",
      "__________________________________________________________________________________________________\n",
      "max_pooling1d_16 (MaxPooling1D) (None, 199, 64)      0           conv1d_27[0][0]                  \n",
      "__________________________________________________________________________________________________\n",
      "max_pooling1d_17 (MaxPooling1D) (None, 199, 64)      0           conv1d_29[0][0]                  \n",
      "__________________________________________________________________________________________________\n",
      "max_pooling1d_18 (MaxPooling1D) (None, 199, 64)      0           conv1d_31[0][0]                  \n",
      "__________________________________________________________________________________________________\n",
      "max_pooling1d_19 (MaxPooling1D) (None, 199, 64)      0           conv1d_33[0][0]                  \n",
      "__________________________________________________________________________________________________\n",
      "conv1d_26 (Conv1D)              (None, 197, 32)      6176        max_pooling1d_15[0][0]           \n",
      "__________________________________________________________________________________________________\n",
      "conv1d_28 (Conv1D)              (None, 197, 32)      6176        max_pooling1d_16[0][0]           \n",
      "__________________________________________________________________________________________________\n",
      "conv1d_30 (Conv1D)              (None, 197, 32)      6176        max_pooling1d_17[0][0]           \n",
      "__________________________________________________________________________________________________\n",
      "conv1d_32 (Conv1D)              (None, 197, 32)      6176        max_pooling1d_18[0][0]           \n",
      "__________________________________________________________________________________________________\n",
      "conv1d_34 (Conv1D)              (None, 197, 32)      6176        max_pooling1d_19[0][0]           \n",
      "__________________________________________________________________________________________________\n",
      "dense_24 (Dense)                (None, 197, 32)      1056        conv1d_26[0][0]                  \n",
      "__________________________________________________________________________________________________\n",
      "dense_25 (Dense)                (None, 197, 32)      1056        conv1d_28[0][0]                  \n",
      "__________________________________________________________________________________________________\n",
      "dense_26 (Dense)                (None, 197, 32)      1056        conv1d_30[0][0]                  \n",
      "__________________________________________________________________________________________________\n",
      "dense_27 (Dense)                (None, 197, 32)      1056        conv1d_32[0][0]                  \n",
      "__________________________________________________________________________________________________\n",
      "dense_28 (Dense)                (None, 197, 32)      1056        conv1d_34[0][0]                  \n",
      "__________________________________________________________________________________________________\n",
      "concatenate_3 (Concatenate)     (None, 197, 160)     0           dense_24[0][0]                   \n",
      "                                                                 dense_25[0][0]                   \n",
      "                                                                 dense_26[0][0]                   \n",
      "                                                                 dense_27[0][0]                   \n",
      "                                                                 dense_28[0][0]                   \n",
      "__________________________________________________________________________________________________\n",
      "flatten_3 (Flatten)             (None, 31520)        0           concatenate_3[0][0]              \n",
      "__________________________________________________________________________________________________\n",
      "dense_29 (Dense)                (None, 32)           1008672     flatten_3[0][0]                  \n",
      "__________________________________________________________________________________________________\n",
      "dropout_3 (Dropout)             (None, 32)           0           dense_29[0][0]                   \n",
      "__________________________________________________________________________________________________\n",
      "dense_30 (Dense)                (None, 32)           1056        dropout_3[0][0]                  \n",
      "__________________________________________________________________________________________________\n",
      "dense_31 (Dense)                (None, 5)            165         dense_30[0][0]                   \n",
      "==================================================================================================\n",
      "Total params: 1,047,333\n",
      "Trainable params: 1,047,333\n",
      "Non-trainable params: 0\n",
      "__________________________________________________________________________________________________\n",
      "None\n"
     ]
    }
   ],
   "source": [
    "inputs_y = Input(shape=(X_train_n.shape[1], 1))\n",
    "\n",
    "a = Conv1D(64, kernel_size = 3, padding = \"valid\")(inputs_y)\n",
    "a = MaxPooling1D(2)(a)\n",
    "a = Conv1D(32, kernel_size = 3, padding = \"valid\")(a)\n",
    "a = Dense(32, activation='relu')(a)\n",
    "a = Model(inputs=inputs_y, outputs=a)\n",
    "\n",
    "b = Conv1D(64, kernel_size = 3, padding = \"valid\")(inputs_y)\n",
    "b = MaxPooling1D(2)(b)\n",
    "b = Conv1D(32, kernel_size = 3, padding = \"valid\")(b)\n",
    "b = Dense(32, activation='relu')(b)\n",
    "b = Model(inputs=inputs_y, outputs=b)\n",
    "\n",
    "c = Conv1D(64, kernel_size = 3, padding = \"valid\")(inputs_y)\n",
    "c = MaxPooling1D(2)(c)\n",
    "c = Conv1D(32, kernel_size = 3, padding = \"valid\")(c)\n",
    "c = Dense(32, activation='relu')(c)\n",
    "c = Model(inputs=inputs_y, outputs=c)\n",
    "\n",
    "d = Conv1D(64, kernel_size = 3, padding = \"valid\")(inputs_y)\n",
    "d = MaxPooling1D(2)(d)\n",
    "d = Conv1D(32, kernel_size = 3, padding = \"valid\")(d)\n",
    "d = Dense(32, activation='relu')(d)\n",
    "d = Model(inputs=inputs_y, outputs=d)\n",
    "\n",
    "e = Conv1D(64, kernel_size = 3, padding = \"valid\")(inputs_y)\n",
    "e = MaxPooling1D(2)(e)\n",
    "e = Conv1D(32, kernel_size = 3, padding = \"valid\")(e)\n",
    "e = Dense(32, activation='relu')(e)\n",
    "e = Model(inputs=inputs_y, outputs=e)\n",
    "\n",
    "x = concatenate([a.output, b.output, c.output, d.output, e.output])\n",
    "x = Flatten()(x)\n",
    "x = Dense(32, activation='relu')(x)\n",
    "x = Dropout(0.2)(x)\n",
    "x = Dense(32, activation='relu')(x)\n",
    "\n",
    "output = Dense(5, activation='linear')(x)\n",
    "\n",
    "model_multi = Model(inputs=inputs_y, outputs=output)\n",
    "model_multi.compile(loss='mse', optimizer='adam', metrics=[\"mae\", \"mape\"])\n",
    "print(model_multi.summary())"
   ]
  },
  {
   "cell_type": "code",
   "execution_count": 29,
   "metadata": {},
   "outputs": [],
   "source": [
    "saved_model = \"models/norm_det_multi_v1.hdf5\"\n",
    "checkpoint = ModelCheckpoint(saved_model, monitor = 'val_mae', verbose = 1, save_best_only = True, mode = 'min')\n",
    "early = EarlyStopping(monitor = \"val_mae\", mode = \"min\", patience = 25)\n",
    "callbacks_list = [checkpoint, early]"
   ]
  },
  {
   "cell_type": "code",
   "execution_count": 30,
   "metadata": {},
   "outputs": [
    {
     "name": "stdout",
     "output_type": "stream",
     "text": [
      "Epoch 1/10\n",
      "3375/3375 [==============================] - ETA: 0s - loss: 0.0308 - mae: 0.1305 - mape: 257336.5312\n",
      "Epoch 00001: val_mae improved from inf to 0.15540, saving model to models\\norm_det_multi_v1.hdf5\n",
      "3375/3375 [==============================] - 703s 208ms/step - loss: 0.0308 - mae: 0.1305 - mape: 257336.5312 - val_loss: 0.0343 - val_mae: 0.1554 - val_mape: 235136.5938\n",
      "Epoch 2/10\n",
      "3375/3375 [==============================] - ETA: 0s - loss: 0.0200 - mae: 0.1091 - mape: 230650.7656- ETA: 9s -\n",
      "Epoch 00002: val_mae improved from 0.15540 to 0.14855, saving model to models\\norm_det_multi_v1.hdf5\n",
      "3375/3375 [==============================] - 702s 208ms/step - loss: 0.0200 - mae: 0.1091 - mape: 230650.7656 - val_loss: 0.0318 - val_mae: 0.1485 - val_mape: 223692.2812\n",
      "Epoch 3/10\n",
      "3375/3375 [==============================] - ETA: 0s - loss: 0.0169 - mae: 0.0979 - mape: 218868.6562- ETA: 4s - loss: 0.0169 - mae: 0.09\n",
      "Epoch 00003: val_mae improved from 0.14855 to 0.11200, saving model to models\\norm_det_multi_v1.hdf5\n",
      "3375/3375 [==============================] - 708s 210ms/step - loss: 0.0169 - mae: 0.0979 - mape: 218868.6562 - val_loss: 0.0199 - val_mae: 0.1120 - val_mape: 232217.0625\n",
      "Epoch 4/10\n",
      "3375/3375 [==============================] - ETA: 0s - loss: 0.0147 - mae: 0.0886 - mape: 226229.6406\n",
      "Epoch 00004: val_mae improved from 0.11200 to 0.10583, saving model to models\\norm_det_multi_v1.hdf5\n",
      "3375/3375 [==============================] - 719s 213ms/step - loss: 0.0147 - mae: 0.0886 - mape: 226229.6406 - val_loss: 0.0185 - val_mae: 0.1058 - val_mape: 227235.7500\n",
      "Epoch 5/10\n",
      "3375/3375 [==============================] - ETA: 0s - loss: 0.0140 - mae: 0.0858 - mape: 225703.9688\n",
      "Epoch 00005: val_mae did not improve from 0.10583\n",
      "3375/3375 [==============================] - 690s 205ms/step - loss: 0.0140 - mae: 0.0858 - mape: 225703.9688 - val_loss: 0.0200 - val_mae: 0.1143 - val_mape: 278738.4375\n",
      "Epoch 6/10\n",
      "3375/3375 [==============================] - ETA: 0s - loss: 0.0139 - mae: 0.0855 - mape: 225755.0469\n",
      "Epoch 00006: val_mae did not improve from 0.10583\n",
      "3375/3375 [==============================] - 694s 206ms/step - loss: 0.0139 - mae: 0.0855 - mape: 225755.0469 - val_loss: 0.0186 - val_mae: 0.1109 - val_mape: 224684.4375\n",
      "Epoch 7/10\n",
      "3375/3375 [==============================] - ETA: 0s - loss: 0.0136 - mae: 0.0842 - mape: 216989.9062\n",
      "Epoch 00007: val_mae improved from 0.10583 to 0.09838, saving model to models\\norm_det_multi_v1.hdf5\n",
      "3375/3375 [==============================] - 698s 207ms/step - loss: 0.0136 - mae: 0.0842 - mape: 216989.9062 - val_loss: 0.0167 - val_mae: 0.0984 - val_mape: 249812.3594\n",
      "Epoch 8/10\n",
      "3375/3375 [==============================] - ETA: 0s - loss: 0.0131 - mae: 0.0818 - mape: 218566.8906- ETA: 2s - loss: 0.0131 - mae: 0.0818 - map\n",
      "Epoch 00008: val_mae improved from 0.09838 to 0.09789, saving model to models\\norm_det_multi_v1.hdf5\n",
      "3375/3375 [==============================] - 699s 207ms/step - loss: 0.0131 - mae: 0.0818 - mape: 218566.8906 - val_loss: 0.0172 - val_mae: 0.0979 - val_mape: 203470.8438\n",
      "Epoch 9/10\n",
      "3375/3375 [==============================] - ETA: 0s - loss: 0.0131 - mae: 0.0818 - mape: 213041.5469\n",
      "Epoch 00009: val_mae did not improve from 0.09789\n",
      "3375/3375 [==============================] - 692s 205ms/step - loss: 0.0131 - mae: 0.0818 - mape: 213041.5469 - val_loss: 0.0180 - val_mae: 0.1072 - val_mape: 221230.2969\n",
      "Epoch 10/10\n",
      "3375/3375 [==============================] - ETA: 0s - loss: 0.0127 - mae: 0.0804 - mape: 214714.5625\n",
      "Epoch 00010: val_mae did not improve from 0.09789\n",
      "3375/3375 [==============================] - 694s 206ms/step - loss: 0.0127 - mae: 0.0804 - mape: 214714.5625 - val_loss: 0.0191 - val_mae: 0.1117 - val_mape: 210120.9219\n"
     ]
    }
   ],
   "source": [
    "history_multi = model_multi.fit(\n",
    "    x=X_train_n,\n",
    "    y=[y_inc, y_mass, y_prim_potent, y_sec_potent, y_temp_ratio],\n",
    "    validation_split = 0.1,\n",
    "    epochs = 10,\n",
    "    verbose = 1,\n",
    "    callbacks = callbacks_list,\n",
    "    batch_size = 64)"
   ]
  },
  {
   "cell_type": "code",
   "execution_count": 32,
   "metadata": {},
   "outputs": [
    {
     "data": {
      "image/png": "[encoded data removed]",
      "text/plain": [
       "<Figure size 432x288 with 1 Axes>"
      ]
     },
     "metadata": {},
     "output_type": "display_data"
    },
    {
     "data": {
      "image/png": "[encoded data removed]",
      "text/plain": [
       "<Figure size 432x288 with 1 Axes>"
      ]
     },
     "metadata": {},
     "output_type": "display_data"
    }
   ],
   "source": [
    "def training_loss(history):\n",
    "    plt.style.use('ggplot')\n",
    "    plt.plot(history.history['mae'])\n",
    "    plt.plot(history.history['val_mae'])\n",
    "    plt.title('Multi model - v1')\n",
    "    plt.ylabel('MAE')\n",
    "    plt.xlabel('Epochs')\n",
    "    plt.legend(['train', 'validation'], loc='upper left')\n",
    "    plt.show()\n",
    "    plt.style.use('ggplot')\n",
    "    plt.plot(history.history['loss'])\n",
    "    plt.plot(history.history['val_loss'])\n",
    "    plt.title('Multi model - v1')\n",
    "    plt.ylabel('Loss')\n",
    "    plt.xlabel('Epochs')\n",
    "    plt.legend(['train', 'validation'], loc='upper left')\n",
    "    plt.show()\n",
    "\n",
    "training_loss(history_multi)"
   ]
  },
  {
   "cell_type": "markdown",
   "metadata": {},
   "source": [
    "## Model v2"
   ]
  },
  {
   "cell_type": "code",
   "execution_count": 21,
   "metadata": {},
   "outputs": [
    {
     "name": "stdout",
     "output_type": "stream",
     "text": [
      "Model: \"functional_99\"\n",
      "__________________________________________________________________________________________________\n",
      "Layer (type)                    Output Shape         Param #     Connected to                     \n",
      "==================================================================================================\n",
      "input_9 (InputLayer)            [(None, 400, 1)]     0                                            \n",
      "__________________________________________________________________________________________________\n",
      "lstm_37 (LSTM)                  (None, 400, 32)      4352        input_9[0][0]                    \n",
      "__________________________________________________________________________________________________\n",
      "lstm_38 (LSTM)                  (None, 400, 32)      4352        input_9[0][0]                    \n",
      "__________________________________________________________________________________________________\n",
      "lstm_39 (LSTM)                  (None, 400, 32)      4352        input_9[0][0]                    \n",
      "__________________________________________________________________________________________________\n",
      "lstm_40 (LSTM)                  (None, 400, 32)      4352        input_9[0][0]                    \n",
      "__________________________________________________________________________________________________\n",
      "lstm_41 (LSTM)                  (None, 400, 32)      4352        input_9[0][0]                    \n",
      "__________________________________________________________________________________________________\n",
      "max_pooling1d_11 (MaxPooling1D) (None, 200, 32)      0           lstm_37[0][0]                    \n",
      "__________________________________________________________________________________________________\n",
      "max_pooling1d_12 (MaxPooling1D) (None, 200, 32)      0           lstm_38[0][0]                    \n",
      "__________________________________________________________________________________________________\n",
      "max_pooling1d_13 (MaxPooling1D) (None, 200, 32)      0           lstm_39[0][0]                    \n",
      "__________________________________________________________________________________________________\n",
      "max_pooling1d_14 (MaxPooling1D) (None, 200, 32)      0           lstm_40[0][0]                    \n",
      "__________________________________________________________________________________________________\n",
      "max_pooling1d_15 (MaxPooling1D) (None, 200, 32)      0           lstm_41[0][0]                    \n",
      "__________________________________________________________________________________________________\n",
      "dense_51 (Dense)                (None, 200, 32)      1056        max_pooling1d_11[0][0]           \n",
      "__________________________________________________________________________________________________\n",
      "dense_52 (Dense)                (None, 200, 32)      1056        max_pooling1d_12[0][0]           \n",
      "__________________________________________________________________________________________________\n",
      "dense_53 (Dense)                (None, 200, 32)      1056        max_pooling1d_13[0][0]           \n",
      "__________________________________________________________________________________________________\n",
      "dense_54 (Dense)                (None, 200, 32)      1056        max_pooling1d_14[0][0]           \n",
      "__________________________________________________________________________________________________\n",
      "dense_55 (Dense)                (None, 200, 32)      1056        max_pooling1d_15[0][0]           \n",
      "__________________________________________________________________________________________________\n",
      "concatenate_8 (Concatenate)     (None, 200, 160)     0           dense_51[0][0]                   \n",
      "                                                                 dense_52[0][0]                   \n",
      "                                                                 dense_53[0][0]                   \n",
      "                                                                 dense_54[0][0]                   \n",
      "                                                                 dense_55[0][0]                   \n",
      "__________________________________________________________________________________________________\n",
      "flatten_4 (Flatten)             (None, 32000)        0           concatenate_8[0][0]              \n",
      "__________________________________________________________________________________________________\n",
      "dense_56 (Dense)                (None, 32)           1024032     flatten_4[0][0]                  \n",
      "__________________________________________________________________________________________________\n",
      "dropout_3 (Dropout)             (None, 32)           0           dense_56[0][0]                   \n",
      "__________________________________________________________________________________________________\n",
      "dense_57 (Dense)                (None, 16)           528         dropout_3[0][0]                  \n",
      "__________________________________________________________________________________________________\n",
      "dense_58 (Dense)                (None, 5)            85          dense_57[0][0]                   \n",
      "==================================================================================================\n",
      "Total params: 1,051,685\n",
      "Trainable params: 1,051,685\n",
      "Non-trainable params: 0\n",
      "__________________________________________________________________________________________________\n",
      "None\n"
     ]
    }
   ],
   "source": [
    "inputs_y = Input(shape=(X_train_n.shape[1], 1))\n",
    "\n",
    "a = LSTM(32, return_sequences=True)(inputs_y)\n",
    "a = MaxPooling1D(2)(a)\n",
    "a = Dense(32, activation='relu')(a)\n",
    "a = Model(inputs=inputs_y, outputs=a)\n",
    "\n",
    "b = LSTM(32, return_sequences=True)(inputs_y)\n",
    "b = MaxPooling1D(2)(b)\n",
    "b = Dense(32, activation='relu')(b)\n",
    "b = Model(inputs=inputs_y, outputs=b)\n",
    "\n",
    "c = LSTM(32, return_sequences=True)(inputs_y)\n",
    "c = MaxPooling1D(2)(c)\n",
    "c = Dense(32, activation='relu')(c)\n",
    "c = Model(inputs=inputs_y, outputs=c)\n",
    "\n",
    "d = LSTM(32, return_sequences=True)(inputs_y)\n",
    "d = MaxPooling1D(2)(d)\n",
    "d = Dense(32, activation='relu')(d)\n",
    "d = Model(inputs=inputs_y, outputs=d)\n",
    "\n",
    "e = LSTM(32, return_sequences=True)(inputs_y)\n",
    "e = MaxPooling1D(2)(e)\n",
    "e = Dense(32, activation='relu')(e)\n",
    "e = Model(inputs=inputs_y, outputs=e)\n",
    "\n",
    "x = concatenate([a.output, b.output, c.output, d.output, e.output])\n",
    "x = Flatten()(x)\n",
    "x = Dense(32, activation='relu')(x)\n",
    "x = Dropout(0.2)(x)\n",
    "x = Dense(16, activation='relu')(x)\n",
    "\n",
    "output = Dense(5, activation='linear')(x)\n",
    "\n",
    "model_multi_v2 = Model(inputs=inputs_y, outputs=output)\n",
    "model_multi_v2.compile(loss='mse', optimizer='adam', metrics=[\"mae\", \"mape\"])\n",
    "print(model_multi_v2.summary())"
   ]
  },
  {
   "cell_type": "code",
   "execution_count": 22,
   "metadata": {},
   "outputs": [],
   "source": [
    "saved_model = \"models/norm_det_multi_v2.hdf5\"\n",
    "checkpoint = ModelCheckpoint(saved_model, monitor = 'val_mae', verbose = 1, save_best_only = True, mode = 'min')\n",
    "early = EarlyStopping(monitor = \"val_mae\", mode = \"min\", patience = 25)\n",
    "callbacks_list = [checkpoint, early]"
   ]
  },
  {
   "cell_type": "code",
   "execution_count": 23,
   "metadata": {},
   "outputs": [
    {
     "name": "stdout",
     "output_type": "stream",
     "text": [
      "Epoch 1/10\n",
      "3375/3375 [==============================] - ETA: 0s - loss: 0.0269 - mae: 0.1233 - mape: 245505.5781\n",
      "Epoch 00001: val_mae improved from inf to 0.10448, saving model to models\\norm_det_multi_v2.hdf5\n",
      "3375/3375 [==============================] - 1111s 329ms/step - loss: 0.0269 - mae: 0.1233 - mape: 245505.5781 - val_loss: 0.0176 - val_mae: 0.1045 - val_mape: 259749.4844\n",
      "Epoch 2/10\n",
      "3375/3375 [==============================] - ETA: 0s - loss: 0.0152 - mae: 0.0918 - mape: 206972.0625\n",
      "Epoch 00002: val_mae improved from 0.10448 to 0.08705, saving model to models\\norm_det_multi_v2.hdf5\n",
      "3375/3375 [==============================] - 978s 290ms/step - loss: 0.0152 - mae: 0.0918 - mape: 206972.0625 - val_loss: 0.0130 - val_mae: 0.0870 - val_mape: 236313.1250\n",
      "Epoch 3/10\n",
      "3375/3375 [==============================] - ETA: 0s - loss: 0.0132 - mae: 0.0846 - mape: 197433.1094\n",
      "Epoch 00003: val_mae did not improve from 0.08705\n",
      "3375/3375 [==============================] - 956s 283ms/step - loss: 0.0132 - mae: 0.0846 - mape: 197433.1094 - val_loss: 0.0127 - val_mae: 0.0882 - val_mape: 224062.0312\n",
      "Epoch 4/10\n",
      "3375/3375 [==============================] - ETA: 0s - loss: 0.0120 - mae: 0.0804 - mape: 192625.7031\n",
      "Epoch 00004: val_mae did not improve from 0.08705\n",
      "3375/3375 [==============================] - 950s 281ms/step - loss: 0.0120 - mae: 0.0804 - mape: 192625.7031 - val_loss: 0.0129 - val_mae: 0.0905 - val_mape: 218027.4062\n",
      "Epoch 5/10\n",
      "3375/3375 [==============================] - ETA: 0s - loss: 0.0111 - mae: 0.0772 - mape: 187078.7188\n",
      "Epoch 00005: val_mae did not improve from 0.08705\n",
      "3375/3375 [==============================] - 950s 282ms/step - loss: 0.0111 - mae: 0.0772 - mape: 187078.7188 - val_loss: 0.0149 - val_mae: 0.1000 - val_mape: 217703.9531\n",
      "Epoch 6/10\n",
      "3375/3375 [==============================] - ETA: 0s - loss: 0.0106 - mae: 0.0747 - mape: 182239.5156\n",
      "Epoch 00006: val_mae did not improve from 0.08705\n",
      "3375/3375 [==============================] - 970s 287ms/step - loss: 0.0106 - mae: 0.0747 - mape: 182239.5156 - val_loss: 0.0121 - val_mae: 0.0882 - val_mape: 196685.3281\n",
      "Epoch 7/10\n",
      "3375/3375 [==============================] - ETA: 0s - loss: 0.0101 - mae: 0.0726 - mape: 184023.5781\n",
      "Epoch 00007: val_mae improved from 0.08705 to 0.08471, saving model to models\\norm_det_multi_v2.hdf5\n",
      "3375/3375 [==============================] - 971s 288ms/step - loss: 0.0101 - mae: 0.0726 - mape: 184023.5781 - val_loss: 0.0115 - val_mae: 0.0847 - val_mape: 192572.9688\n",
      "Epoch 8/10\n",
      "3375/3375 [==============================] - ETA: 0s - loss: 0.0099 - mae: 0.0714 - mape: 184957.1562\n",
      "Epoch 00008: val_mae improved from 0.08471 to 0.08044, saving model to models\\norm_det_multi_v2.hdf5\n",
      "3375/3375 [==============================] - 977s 289ms/step - loss: 0.0099 - mae: 0.0714 - mape: 184957.1562 - val_loss: 0.0113 - val_mae: 0.0804 - val_mape: 236855.6406\n",
      "Epoch 9/10\n",
      "3375/3375 [==============================] - ETA: 0s - loss: 0.0095 - mae: 0.0696 - mape: 179443.1094\n",
      "Epoch 00009: val_mae did not improve from 0.08044\n",
      "3375/3375 [==============================] - 976s 289ms/step - loss: 0.0095 - mae: 0.0696 - mape: 179443.1094 - val_loss: 0.0121 - val_mae: 0.0893 - val_mape: 192803.0312\n",
      "Epoch 10/10\n",
      "3375/3375 [==============================] - ETA: 0s - loss: 0.0092 - mae: 0.0678 - mape: 177736.4062\n",
      "Epoch 00010: val_mae did not improve from 0.08044\n",
      "3375/3375 [==============================] - 971s 288ms/step - loss: 0.0092 - mae: 0.0678 - mape: 177736.4062 - val_loss: 0.0112 - val_mae: 0.0843 - val_mape: 224396.7344\n"
     ]
    }
   ],
   "source": [
    "history_multi_v2 = model_multi_v2.fit(\n",
    "    x=X_train_n,\n",
    "    y=[y_inc, y_mass, y_prim_potent, y_sec_potent, y_temp_ratio],\n",
    "    validation_split = 0.1,\n",
    "    epochs = 10,\n",
    "    verbose = 1,\n",
    "    callbacks = callbacks_list,\n",
    "    batch_size = 64)"
   ]
  },
  {
   "cell_type": "code",
   "execution_count": 26,
   "metadata": {},
   "outputs": [
    {
     "data": {
      "image/png": "[encoded data removed]",
      "text/plain": [
       "<Figure size 432x288 with 1 Axes>"
      ]
     },
     "metadata": {},
     "output_type": "display_data"
    },
    {
     "data": {
      "image/png": "[encoded data removed]",
      "text/plain": [
       "<Figure size 432x288 with 1 Axes>"
      ]
     },
     "metadata": {},
     "output_type": "display_data"
    }
   ],
   "source": [
    "def training_loss(history):\n",
    "    plt.style.use('ggplot')\n",
    "    plt.plot(history.history['mae'])\n",
    "    plt.plot(history.history['val_mae'])\n",
    "    plt.title('Multi model - v2')\n",
    "    plt.ylabel('MAE')\n",
    "    plt.xlabel('Epochs')\n",
    "    plt.legend(['train', 'validation'], loc='upper left')\n",
    "    plt.show()\n",
    "    plt.style.use('ggplot')\n",
    "    plt.plot(history.history['loss'])\n",
    "    plt.plot(history.history['val_loss'])\n",
    "    plt.title('Multi model - v2')\n",
    "    plt.ylabel('Loss')\n",
    "    plt.xlabel('Epochs')\n",
    "    plt.legend(['train', 'validation'], loc='upper left')\n",
    "    plt.show()\n",
    "\n",
    "training_loss(history_multi_v2)"
   ]
  },
  {
   "cell_type": "markdown",
   "metadata": {},
   "source": [
    "## Model v3 - trained on sample of 200 000"
   ]
  },
  {
   "cell_type": "code",
   "execution_count": 15,
   "metadata": {},
   "outputs": [
    {
     "name": "stdout",
     "output_type": "stream",
     "text": [
      "Model: \"model_11\"\n",
      "__________________________________________________________________________________________________\n",
      " Layer (type)                   Output Shape         Param #     Connected to                     \n",
      "==================================================================================================\n",
      " input_2 (InputLayer)           [(None, 400, 1)]     0           []                               \n",
      "                                                                                                  \n",
      " conv1d_5 (Conv1D)              (None, 398, 64)      256         ['input_2[0][0]']                \n",
      "                                                                                                  \n",
      " conv1d_6 (Conv1D)              (None, 398, 64)      256         ['input_2[0][0]']                \n",
      "                                                                                                  \n",
      " conv1d_7 (Conv1D)              (None, 398, 64)      256         ['input_2[0][0]']                \n",
      "                                                                                                  \n",
      " conv1d_8 (Conv1D)              (None, 398, 64)      256         ['input_2[0][0]']                \n",
      "                                                                                                  \n",
      " conv1d_9 (Conv1D)              (None, 398, 64)      256         ['input_2[0][0]']                \n",
      "                                                                                                  \n",
      " lstm_5 (LSTM)                  (None, 398, 64)      33024       ['conv1d_5[0][0]']               \n",
      "                                                                                                  \n",
      " lstm_6 (LSTM)                  (None, 398, 64)      33024       ['conv1d_6[0][0]']               \n",
      "                                                                                                  \n",
      " lstm_7 (LSTM)                  (None, 398, 64)      33024       ['conv1d_7[0][0]']               \n",
      "                                                                                                  \n",
      " lstm_8 (LSTM)                  (None, 398, 64)      33024       ['conv1d_8[0][0]']               \n",
      "                                                                                                  \n",
      " lstm_9 (LSTM)                  (None, 398, 64)      33024       ['conv1d_9[0][0]']               \n",
      "                                                                                                  \n",
      " dense_8 (Dense)                (None, 398, 32)      2080        ['lstm_5[0][0]']                 \n",
      "                                                                                                  \n",
      " dense_9 (Dense)                (None, 398, 32)      2080        ['lstm_6[0][0]']                 \n",
      "                                                                                                  \n",
      " dense_10 (Dense)               (None, 398, 32)      2080        ['lstm_7[0][0]']                 \n",
      "                                                                                                  \n",
      " dense_11 (Dense)               (None, 398, 32)      2080        ['lstm_8[0][0]']                 \n",
      "                                                                                                  \n",
      " dense_12 (Dense)               (None, 398, 32)      2080        ['lstm_9[0][0]']                 \n",
      "                                                                                                  \n",
      " concatenate_1 (Concatenate)    (None, 398, 160)     0           ['dense_8[0][0]',                \n",
      "                                                                  'dense_9[0][0]',                \n",
      "                                                                  'dense_10[0][0]',               \n",
      "                                                                  'dense_11[0][0]',               \n",
      "                                                                  'dense_12[0][0]']               \n",
      "                                                                                                  \n",
      " flatten_1 (Flatten)            (None, 63680)        0           ['concatenate_1[0][0]']          \n",
      "                                                                                                  \n",
      " dense_13 (Dense)               (None, 32)           2037792     ['flatten_1[0][0]']              \n",
      "                                                                                                  \n",
      " dropout_1 (Dropout)            (None, 32)           0           ['dense_13[0][0]']               \n",
      "                                                                                                  \n",
      " dense_14 (Dense)               (None, 32)           1056        ['dropout_1[0][0]']              \n",
      "                                                                                                  \n",
      " dense_15 (Dense)               (None, 5)            165         ['dense_14[0][0]']               \n",
      "                                                                                                  \n",
      "==================================================================================================\n",
      "Total params: 2,215,813\n",
      "Trainable params: 2,215,813\n",
      "Non-trainable params: 0\n",
      "__________________________________________________________________________________________________\n",
      "None\n"
     ]
    }
   ],
   "source": [
    "inputs_y = Input(shape=(X_train_n.shape[1], 1))\n",
    "\n",
    "a = Conv1D(64, kernel_size = 3, padding = \"valid\")(inputs_y)\n",
    "a = LSTM(64, return_sequences=True)(a)\n",
    "a = Dense(32, activation='relu')(a)\n",
    "a = Model(inputs=inputs_y, outputs=a)\n",
    "\n",
    "b = Conv1D(64, kernel_size = 3, padding = \"valid\")(inputs_y)\n",
    "b = LSTM(64, return_sequences=True)(b)\n",
    "b = Dense(32, activation='relu')(b)\n",
    "b = Model(inputs=inputs_y, outputs=b)\n",
    "\n",
    "c = Conv1D(64, kernel_size = 3, padding = \"valid\")(inputs_y)\n",
    "c = LSTM(64, return_sequences=True)(c)\n",
    "c = Dense(32, activation='relu')(c)\n",
    "c = Model(inputs=inputs_y, outputs=c)\n",
    "\n",
    "d = Conv1D(64, kernel_size = 3, padding = \"valid\")(inputs_y)\n",
    "d = LSTM(64, return_sequences=True)(d)\n",
    "d = Dense(32, activation='relu')(d)\n",
    "d = Model(inputs=inputs_y, outputs=d)\n",
    "\n",
    "e = Conv1D(64, kernel_size = 3, padding = \"valid\")(inputs_y)\n",
    "e = LSTM(64, return_sequences=True)(e)\n",
    "e = Dense(32, activation='relu')(e)\n",
    "e = Model(inputs=inputs_y, outputs=e)\n",
    "\n",
    "x = concatenate([a.output, b.output, c.output, d.output, e.output])\n",
    "x = Flatten()(x)\n",
    "x = Dense(32, activation='relu')(x)\n",
    "x = Dropout(0.2)(x)\n",
    "x = Dense(32, activation='relu')(x)\n",
    "\n",
    "output = Dense(5, activation='linear')(x)\n",
    "\n",
    "model_multi_v3 = Model(inputs=inputs_y, outputs=output)\n",
    "model_multi_v3.compile(loss='mse', optimizer='adam', metrics=[\"mae\", \"mape\"])\n",
    "print(model_multi_v3.summary())"
   ]
  },
  {
   "cell_type": "code",
   "execution_count": 16,
   "metadata": {},
   "outputs": [],
   "source": [
    "saved_model = \"models/norm_det_multiNN_v3.hdf5\"\n",
    "checkpoint = ModelCheckpoint(saved_model, monitor = 'val_mae', verbose = 1, save_best_only = True, mode = 'min')\n",
    "early = EarlyStopping(monitor = \"val_mae\", mode = \"min\", patience = 25)\n",
    "callbacks_list = [checkpoint, early]"
   ]
  },
  {
   "cell_type": "code",
   "execution_count": 17,
   "metadata": {},
   "outputs": [
    {
     "name": "stdout",
     "output_type": "stream",
     "text": [
      "Epoch 1/15\n"
     ]
    },
    {
     "name": "stderr",
     "output_type": "stream",
     "text": [
      "2023-01-06 20:23:19.293283: I tensorflow/stream_executor/cuda/cuda_dnn.cc:384] Loaded cuDNN version 8201\n"
     ]
    },
    {
     "name": "stdout",
     "output_type": "stream",
     "text": [
      "6750/6750 [==============================] - ETA: 0s - loss: 0.0208 - mae: 0.1061 - mape: 190698.9531\n",
      "Epoch 1: val_mae improved from inf to 0.09981, saving model to models/norm_det_multiNN_v3.hdf5\n",
      "6750/6750 [==============================] - 691s 101ms/step - loss: 0.0208 - mae: 0.1061 - mape: 190698.9531 - val_loss: 0.0153 - val_mae: 0.0998 - val_mape: 159203.5469\n",
      "Epoch 2/15\n",
      "6750/6750 [==============================] - ETA: 0s - loss: 0.0109 - mae: 0.0754 - mape: 163155.9531\n",
      "Epoch 2: val_mae improved from 0.09981 to 0.09333, saving model to models/norm_det_multiNN_v3.hdf5\n",
      "6750/6750 [==============================] - 674s 100ms/step - loss: 0.0109 - mae: 0.0754 - mape: 163155.9531 - val_loss: 0.0130 - val_mae: 0.0933 - val_mape: 146653.5938\n",
      "Epoch 3/15\n",
      "6750/6750 [==============================] - ETA: 0s - loss: 0.0085 - mae: 0.0643 - mape: 158226.9688\n",
      "Epoch 3: val_mae improved from 0.09333 to 0.08643, saving model to models/norm_det_multiNN_v3.hdf5\n",
      "6750/6750 [==============================] - 683s 101ms/step - loss: 0.0085 - mae: 0.0643 - mape: 158226.9688 - val_loss: 0.0115 - val_mae: 0.0864 - val_mape: 145051.3906\n",
      "Epoch 4/15\n",
      "6750/6750 [==============================] - ETA: 0s - loss: 0.0077 - mae: 0.0597 - mape: 152829.7188\n",
      "Epoch 4: val_mae improved from 0.08643 to 0.08598, saving model to models/norm_det_multiNN_v3.hdf5\n",
      "6750/6750 [==============================] - 689s 102ms/step - loss: 0.0077 - mae: 0.0597 - mape: 152829.7188 - val_loss: 0.0108 - val_mae: 0.0860 - val_mape: 139286.1094\n",
      "Epoch 5/15\n",
      "6750/6750 [==============================] - ETA: 0s - loss: 0.0073 - mae: 0.0574 - mape: 150243.0000\n",
      "Epoch 5: val_mae improved from 0.08598 to 0.06980, saving model to models/norm_det_multiNN_v3.hdf5\n",
      "6750/6750 [==============================] - 674s 100ms/step - loss: 0.0073 - mae: 0.0574 - mape: 150243.0000 - val_loss: 0.0083 - val_mae: 0.0698 - val_mape: 151508.8594\n",
      "Epoch 6/15\n",
      "6750/6750 [==============================] - ETA: 0s - loss: 0.0069 - mae: 0.0555 - mape: 149245.2500\n",
      "Epoch 6: val_mae improved from 0.06980 to 0.06953, saving model to models/norm_det_multiNN_v3.hdf5\n",
      "6750/6750 [==============================] - 674s 100ms/step - loss: 0.0069 - mae: 0.0555 - mape: 149245.2500 - val_loss: 0.0082 - val_mae: 0.0695 - val_mape: 141035.4531\n",
      "Epoch 7/15\n",
      "6750/6750 [==============================] - ETA: 0s - loss: 0.0066 - mae: 0.0538 - mape: 145480.6250\n",
      "Epoch 7: val_mae did not improve from 0.06953\n",
      "6750/6750 [==============================] - 686s 102ms/step - loss: 0.0066 - mae: 0.0538 - mape: 145480.6250 - val_loss: 0.0095 - val_mae: 0.0798 - val_mape: 142538.9844\n",
      "Epoch 8/15\n",
      "6750/6750 [==============================] - ETA: 0s - loss: 0.0064 - mae: 0.0525 - mape: 146800.6562\n",
      "Epoch 8: val_mae did not improve from 0.06953\n",
      "6750/6750 [==============================] - 677s 100ms/step - loss: 0.0064 - mae: 0.0525 - mape: 146800.6562 - val_loss: 0.0103 - val_mae: 0.0852 - val_mape: 144430.9688\n",
      "Epoch 9/15\n",
      "6750/6750 [==============================] - ETA: 0s - loss: 0.0062 - mae: 0.0515 - mape: 145420.0312\n",
      "Epoch 9: val_mae improved from 0.06953 to 0.06871, saving model to models/norm_det_multiNN_v3.hdf5\n",
      "6750/6750 [==============================] - 674s 100ms/step - loss: 0.0062 - mae: 0.0515 - mape: 145420.0312 - val_loss: 0.0077 - val_mae: 0.0687 - val_mape: 137602.1719\n",
      "Epoch 10/15\n",
      "6750/6750 [==============================] - ETA: 0s - loss: 0.0060 - mae: 0.0503 - mape: 140448.0625\n",
      "Epoch 10: val_mae did not improve from 0.06871\n",
      "6750/6750 [==============================] - 685s 101ms/step - loss: 0.0060 - mae: 0.0503 - mape: 140448.0625 - val_loss: 0.0094 - val_mae: 0.0798 - val_mape: 131944.5469\n",
      "Epoch 11/15\n",
      "6750/6750 [==============================] - ETA: 0s - loss: 0.0059 - mae: 0.0495 - mape: 142348.7500\n",
      "Epoch 11: val_mae did not improve from 0.06871\n",
      "6750/6750 [==============================] - 718s 106ms/step - loss: 0.0059 - mae: 0.0495 - mape: 142348.7500 - val_loss: 0.0087 - val_mae: 0.0752 - val_mape: 133775.1719\n",
      "Epoch 12/15\n",
      "6750/6750 [==============================] - ETA: 0s - loss: 0.0058 - mae: 0.0488 - mape: 142287.0000\n",
      "Epoch 12: val_mae did not improve from 0.06871\n",
      "6750/6750 [==============================] - 690s 102ms/step - loss: 0.0058 - mae: 0.0488 - mape: 142287.0000 - val_loss: 0.0082 - val_mae: 0.0720 - val_mape: 139342.6719\n",
      "Epoch 13/15\n",
      "6750/6750 [==============================] - ETA: 0s - loss: 0.0056 - mae: 0.0478 - mape: 138639.8750\n",
      "Epoch 13: val_mae did not improve from 0.06871\n",
      "6750/6750 [==============================] - 672s 100ms/step - loss: 0.0056 - mae: 0.0478 - mape: 138639.8750 - val_loss: 0.0076 - val_mae: 0.0691 - val_mape: 132352.9219\n",
      "Epoch 14/15\n",
      "6750/6750 [==============================] - ETA: 0s - loss: 0.0055 - mae: 0.0472 - mape: 142242.8438\n",
      "Epoch 14: val_mae improved from 0.06871 to 0.06653, saving model to models/norm_det_multiNN_v3.hdf5\n",
      "6750/6750 [==============================] - 684s 101ms/step - loss: 0.0055 - mae: 0.0472 - mape: 142242.8438 - val_loss: 0.0073 - val_mae: 0.0665 - val_mape: 153096.7500\n",
      "Epoch 15/15\n",
      "6750/6750 [==============================] - ETA: 0s - loss: 0.0053 - mae: 0.0461 - mape: 140752.0625\n",
      "Epoch 15: val_mae improved from 0.06653 to 0.06300, saving model to models/norm_det_multiNN_v3.hdf5\n",
      "6750/6750 [==============================] - 672s 100ms/step - loss: 0.0053 - mae: 0.0461 - mape: 140752.0625 - val_loss: 0.0070 - val_mae: 0.0630 - val_mape: 145127.1719\n"
     ]
    }
   ],
   "source": [
    "history_multi_v3 = model_multi_v3.fit(\n",
    "    x=X_train_n,\n",
    "    y=[y_inc, y_mass, y_prim_potent, y_sec_potent, y_temp_ratio],\n",
    "    validation_split = 0.1,\n",
    "    epochs = 15,\n",
    "    verbose = 1,\n",
    "    callbacks = callbacks_list,\n",
    "    batch_size = 64)"
   ]
  },
  {
   "cell_type": "code",
   "execution_count": 18,
   "metadata": {},
   "outputs": [
    {
     "data": {
      "image/png": "[encoded data removed]",
      "text/plain": [
       "<Figure size 640x480 with 1 Axes>"
      ]
     },
     "metadata": {},
     "output_type": "display_data"
    },
    {
     "data": {
      "image/png": "[encoded data removed]",
      "text/plain": [
       "<Figure size 640x480 with 1 Axes>"
      ]
     },
     "metadata": {},
     "output_type": "display_data"
    }
   ],
   "source": [
    "def training_loss(history):\n",
    "    plt.style.use('ggplot')\n",
    "    plt.plot(history.history['mae'])\n",
    "    plt.plot(history.history['val_mae'])\n",
    "    plt.title('Multi model - v3')\n",
    "    plt.ylabel('MAE')\n",
    "    plt.xlabel('Epochs')\n",
    "    plt.legend(['train', 'validation'], loc='upper left')\n",
    "    plt.show()\n",
    "    plt.style.use('ggplot')\n",
    "    plt.plot(history.history['loss'])\n",
    "    plt.plot(history.history['val_loss'])\n",
    "    plt.title('Multi model - v3')\n",
    "    plt.ylabel('Loss')\n",
    "    plt.xlabel('Epochs')\n",
    "    plt.legend(['train', 'validation'], loc='upper left')\n",
    "    plt.show()\n",
    "\n",
    "training_loss(history_multi_v3)"
   ]
  },
  {
   "cell_type": "markdown",
   "metadata": {},
   "source": [
    "## Model evaluation"
   ]
  },
  {
   "cell_type": "code",
   "execution_count": 9,
   "metadata": {},
   "outputs": [],
   "source": [
    "model_concat = load_model(\"models/norm_det_multi_v1.hdf5\")"
   ]
  },
  {
   "cell_type": "code",
   "execution_count": 10,
   "metadata": {},
   "outputs": [
    {
     "name": "stdout",
     "output_type": "stream",
     "text": [
      "625/625 [==============================] - 17s 27ms/step - loss: 0.3175 - mean_absolute_error: 0.4895 - mean_absolute_percentage_error: 14970493.0000\n",
      "Multi model v1 -- Loss: 0.3175, MAE: 0.4895\n"
     ]
    }
   ],
   "source": [
    "# MODELS EVALUATION ON TEST DATA WITHOUT NOISE\n",
    "scores1 = model_concat.evaluate(X_test, y_test)\n",
    "print('Multi model v1 -- Loss: {:.4f}, MAE: {:.4f}'.format(scores1[0], scores1[1]))"
   ]
  },
  {
   "cell_type": "code",
   "execution_count": 11,
   "metadata": {},
   "outputs": [],
   "source": [
    "# Adding noise to normalized test data\n",
    "X_test_n = []\n",
    "y_test_norm_n = []\n",
    "for i in range(len(X_test)):\n",
    "    for j in range(3):\n",
    "        curve = stochastic_noise_generator(X_test[i])\n",
    "        X_test_n.append(curve[0])\n",
    "        y_test_norm_n.append(y_test[i])\n",
    "        j += 1\n",
    "X_test_n = np.array(X_test_n)\n",
    "y_test_norm_n = np.array(y_test_norm_n)"
   ]
  },
  {
   "cell_type": "code",
   "execution_count": 14,
   "metadata": {},
   "outputs": [
    {
     "name": "stdout",
     "output_type": "stream",
     "text": [
      "1875/1875 [==============================] - 58s 31ms/step - loss: 0.3142 - mean_absolute_error: 0.4884 - mean_absolute_percentage_error: 15008573.0000 3s - loss: 0.3143 - mean_absolute\n",
      "Loss: 0.3142, MAE: 0.4884\n"
     ]
    }
   ],
   "source": [
    "# Normalized test data with noise\n",
    "scores_n = model_concat.evaluate(X_test_n, y_test_norm_n)\n",
    "print('Loss: {:.4f}, MAE: {:.4f}'.format(scores_n[0], scores_n[1]))"
   ]
  },
  {
   "cell_type": "markdown",
   "metadata": {},
   "source": [
    "## Prediction on test data without noise"
   ]
  },
  {
   "cell_type": "code",
   "execution_count": 16,
   "metadata": {},
   "outputs": [
    {
     "data": {
      "text/plain": [
       "array([  1.3632575,   7.5382347,  82.35166  , 741.6608   ,   8.739022 ],\n",
       "      dtype=float32)"
      ]
     },
     "execution_count": 16,
     "metadata": {},
     "output_type": "execute_result"
    }
   ],
   "source": [
    "y_pred_norm = model_concat.predict(X_test)\n",
    "denorm = scaler.inverse_transform(y_pred_norm)\n",
    "denorm[0]"
   ]
  },
  {
   "cell_type": "code",
   "execution_count": 17,
   "metadata": {},
   "outputs": [],
   "source": [
    "denorm_pred_df = pd.DataFrame(denorm,\n",
    "                           columns = [\n",
    "                                \"inclination\",\n",
    "                                \"mass_ratio\",\n",
    "                                \"primary__surface_potential\",\n",
    "                                \"secondary__surface_potential\",\n",
    "                                \"t1_t2\"\n",
    "                            ])\n",
    "pred_mean = denorm_pred_df.mean(axis=0)"
   ]
  },
  {
   "cell_type": "code",
   "execution_count": 18,
   "metadata": {},
   "outputs": [],
   "source": [
    "y_test_df = pd.DataFrame(y,\n",
    "                        columns = [\n",
    "                            \"inclination\",\n",
    "                            \"mass_ratio\",\n",
    "                            \"primary__surface_potential\",\n",
    "                            \"secondary__surface_potential\",\n",
    "                            \"t1_t2\"\n",
    "                            ])\n",
    "test_mean = y_test_df.mean(axis=0)"
   ]
  },
  {
   "cell_type": "code",
   "execution_count": 19,
   "metadata": {},
   "outputs": [
    {
     "data": {
      "text/html": [
       "<div>\n",
       "<style scoped>\n",
       "    .dataframe tbody tr th:only-of-type {\n",
       "        vertical-align: middle;\n",
       "    }\n",
       "\n",
       "    .dataframe tbody tr th {\n",
       "        vertical-align: top;\n",
       "    }\n",
       "\n",
       "    .dataframe thead th {\n",
       "        text-align: right;\n",
       "    }\n",
       "</style>\n",
       "<table border=\"1\" class=\"dataframe\">\n",
       "  <thead>\n",
       "    <tr style=\"text-align: right;\">\n",
       "      <th></th>\n",
       "      <th>attribute</th>\n",
       "      <th>avg_true</th>\n",
       "      <th>avg_pred</th>\n",
       "      <th>MAE</th>\n",
       "    </tr>\n",
       "  </thead>\n",
       "  <tbody>\n",
       "    <tr>\n",
       "      <th>0</th>\n",
       "      <td>inclination</td>\n",
       "      <td>1.375792</td>\n",
       "      <td>1.317150</td>\n",
       "      <td>0.058642</td>\n",
       "    </tr>\n",
       "    <tr>\n",
       "      <th>1</th>\n",
       "      <td>mass_ratio</td>\n",
       "      <td>1.749395</td>\n",
       "      <td>6.986374</td>\n",
       "      <td>5.236980</td>\n",
       "    </tr>\n",
       "    <tr>\n",
       "      <th>2</th>\n",
       "      <td>primary__surface_potential</td>\n",
       "      <td>18.224785</td>\n",
       "      <td>76.769684</td>\n",
       "      <td>58.544898</td>\n",
       "    </tr>\n",
       "    <tr>\n",
       "      <th>3</th>\n",
       "      <td>secondary__surface_potential</td>\n",
       "      <td>16.789932</td>\n",
       "      <td>688.823303</td>\n",
       "      <td>672.033371</td>\n",
       "    </tr>\n",
       "    <tr>\n",
       "      <th>4</th>\n",
       "      <td>t1_t2</td>\n",
       "      <td>2.660959</td>\n",
       "      <td>8.156228</td>\n",
       "      <td>5.495269</td>\n",
       "    </tr>\n",
       "  </tbody>\n",
       "</table>\n",
       "</div>"
      ],
      "text/plain": [
       "                      attribute   avg_true    avg_pred         MAE\n",
       "0                   inclination   1.375792    1.317150    0.058642\n",
       "1                    mass_ratio   1.749395    6.986374    5.236980\n",
       "2    primary__surface_potential  18.224785   76.769684   58.544898\n",
       "3  secondary__surface_potential  16.789932  688.823303  672.033371\n",
       "4                         t1_t2   2.660959    8.156228    5.495269"
      ]
     },
     "execution_count": 19,
     "metadata": {},
     "output_type": "execute_result"
    }
   ],
   "source": [
    "eval_pred = pd.DataFrame({'attribute': test_mean.index,\n",
    "            'avg_true': test_mean.values,\n",
    "            'avg_pred': pred_mean.values,\n",
    "            'MAE': abs(test_mean.values - pred_mean.values)})\n",
    "eval_pred"
   ]
  },
  {
   "cell_type": "markdown",
   "metadata": {},
   "source": [
    "## Prediction on normalized test data with noise"
   ]
  },
  {
   "cell_type": "code",
   "execution_count": 20,
   "metadata": {},
   "outputs": [
    {
     "data": {
      "text/plain": [
       "array([  1.3466185,   7.300246 ,  80.61077  , 725.35535  ,   8.488098 ],\n",
       "      dtype=float32)"
      ]
     },
     "execution_count": 20,
     "metadata": {},
     "output_type": "execute_result"
    }
   ],
   "source": [
    "y_pred_norm_n = model_concat.predict(X_test_n)\n",
    "denorm_n = scaler.inverse_transform(y_pred_norm_n)\n",
    "denorm_n[0]"
   ]
  },
  {
   "cell_type": "code",
   "execution_count": 21,
   "metadata": {},
   "outputs": [],
   "source": [
    "denorm_pred_n_df = pd.DataFrame(denorm_n,\n",
    "                            columns = [\n",
    "                                \"inclination\",\n",
    "                                \"mass_ratio\",\n",
    "                                \"primary__surface_potential\",\n",
    "                                \"secondary__surface_potential\",\n",
    "                                \"t1_t2\"\n",
    "                            ])\n",
    "pred_n_mean = denorm_pred_n_df.mean(axis=0)"
   ]
  },
  {
   "cell_type": "code",
   "execution_count": 23,
   "metadata": {},
   "outputs": [],
   "source": [
    "y_test_n_denorm = scaler.inverse_transform(y_test_norm_n)\n",
    "y_test_norm_n_df = pd.DataFrame(y_test_n_denorm,\n",
    "                            columns = [\n",
    "                            \"inclination\",\n",
    "                            \"mass_ratio\",\n",
    "                            \"primary__surface_potential\",\n",
    "                            \"secondary__surface_potential\",\n",
    "                            \"t1_t2\"\n",
    "                            ])\n",
    "test_mean_n = y_test_norm_n_df.mean(axis=0)\n"
   ]
  },
  {
   "cell_type": "code",
   "execution_count": 24,
   "metadata": {},
   "outputs": [
    {
     "data": {
      "text/html": [
       "<div>\n",
       "<style scoped>\n",
       "    .dataframe tbody tr th:only-of-type {\n",
       "        vertical-align: middle;\n",
       "    }\n",
       "\n",
       "    .dataframe tbody tr th {\n",
       "        vertical-align: top;\n",
       "    }\n",
       "\n",
       "    .dataframe thead th {\n",
       "        text-align: right;\n",
       "    }\n",
       "</style>\n",
       "<table border=\"1\" class=\"dataframe\">\n",
       "  <thead>\n",
       "    <tr style=\"text-align: right;\">\n",
       "      <th></th>\n",
       "      <th>attribute</th>\n",
       "      <th>avg_true</th>\n",
       "      <th>avg_pred</th>\n",
       "      <th>MAE</th>\n",
       "    </tr>\n",
       "  </thead>\n",
       "  <tbody>\n",
       "    <tr>\n",
       "      <th>0</th>\n",
       "      <td>inclination</td>\n",
       "      <td>1.375910</td>\n",
       "      <td>1.314814</td>\n",
       "      <td>0.061096</td>\n",
       "    </tr>\n",
       "    <tr>\n",
       "      <th>1</th>\n",
       "      <td>mass_ratio</td>\n",
       "      <td>1.747564</td>\n",
       "      <td>6.956733</td>\n",
       "      <td>5.209168</td>\n",
       "    </tr>\n",
       "    <tr>\n",
       "      <th>2</th>\n",
       "      <td>primary__surface_potential</td>\n",
       "      <td>18.126015</td>\n",
       "      <td>76.454735</td>\n",
       "      <td>58.328720</td>\n",
       "    </tr>\n",
       "    <tr>\n",
       "      <th>3</th>\n",
       "      <td>secondary__surface_potential</td>\n",
       "      <td>16.289401</td>\n",
       "      <td>686.029785</td>\n",
       "      <td>669.740385</td>\n",
       "    </tr>\n",
       "    <tr>\n",
       "      <th>4</th>\n",
       "      <td>t1_t2</td>\n",
       "      <td>2.675162</td>\n",
       "      <td>8.126790</td>\n",
       "      <td>5.451628</td>\n",
       "    </tr>\n",
       "  </tbody>\n",
       "</table>\n",
       "</div>"
      ],
      "text/plain": [
       "                      attribute   avg_true    avg_pred         MAE\n",
       "0                   inclination   1.375910    1.314814    0.061096\n",
       "1                    mass_ratio   1.747564    6.956733    5.209168\n",
       "2    primary__surface_potential  18.126015   76.454735   58.328720\n",
       "3  secondary__surface_potential  16.289401  686.029785  669.740385\n",
       "4                         t1_t2   2.675162    8.126790    5.451628"
      ]
     },
     "execution_count": 24,
     "metadata": {},
     "output_type": "execute_result"
    }
   ],
   "source": [
    "eval_pred = pd.DataFrame({'attribute': test_mean_n.index,\n",
    "            'avg_true': test_mean_n.values,\n",
    "            'avg_pred': pred_n_mean.values,\n",
    "            'MAE': abs(test_mean_n.values - pred_n_mean.values)})\n",
    "eval_pred"
   ]
  }
 ],
 "metadata": {
  "kernelspec": {
   "display_name": "Python 3 (ipykernel)",
   "language": "python",
   "name": "python3"
  },
  "language_info": {
   "codemirror_mode": {
    "name": "ipython",
    "version": 3
   },
   "file_extension": ".py",
   "mimetype": "text/x-python",
   "name": "python",
   "nbconvert_exporter": "python",
   "pygments_lexer": "ipython3",
   "version": "3.8.12 (default, Oct 12 2021, 03:01:40) [MSC v.1916 64 bit (AMD64)]"
  },
  "vscode": {
   "interpreter": {
    "hash": "b8fc6ce4f931e35f5dd2ff00f5d2ede33ff85432a244cf6e3e9d498f6426f487"
   }
  }
 },
 "nbformat": 4,
 "nbformat_minor": 4
}
