{
 "cells": [
  {
   "cell_type": "markdown",
   "metadata": {},
   "source": [
    "## Predikcia vybranych parametrov\n",
    "### Detached krivky\n",
    "\n",
    "### Predikcia inclination, mass ratio, temperature ratio, potentials"
   ]
  },
  {
   "cell_type": "code",
   "execution_count": 1,
   "metadata": {},
   "outputs": [],
   "source": [
    "# LIBRARIES\n",
    "import numpy as np\n",
    "import pandas as pd\n",
    "import seaborn as sns\n",
    "import matplotlib.pyplot as plt\n",
    "\n",
    "from sklearn.preprocessing import MinMaxScaler"
   ]
  },
  {
   "cell_type": "code",
   "execution_count": 2,
   "metadata": {},
   "outputs": [],
   "source": [
    "from keras.utils import np_utils\n",
    "from keras.models import load_model\n",
    "from sklearn.model_selection import train_test_split\n",
    "from sklearn.metrics import confusion_matrix, classification_report\n",
    "from sklearn.metrics import precision_recall_fscore_support\n",
    "from keras.layers import Conv1D, GlobalMaxPooling1D, MaxPooling1D, SpatialDropout1D, GlobalAveragePooling1D\n",
    "from keras.layers import Input, Dense, concatenate, Activation, LSTM, Dropout, Flatten\n",
    "from keras.models import Model\n",
    "from keras.layers.merge import Concatenate\n",
    "from tensorflow.keras.callbacks import ModelCheckpoint, EarlyStopping"
   ]
  },
  {
   "cell_type": "code",
   "execution_count": 3,
   "metadata": {},
   "outputs": [],
   "source": [
    "np.random.seed(1234)\n",
    "pd.set_option('display.max_rows', None)"
   ]
  },
  {
   "cell_type": "code",
   "execution_count": 4,
   "metadata": {},
   "outputs": [],
   "source": [
    "def generate_observation_sigma(space_obs_frac=0.5):\n",
    "    \"\"\"\n",
    "    Draws a standard deviation of noise in light curve points from a \"true\" value provided in synthetic light curve.\n",
    "    Noise sigma is drawn from bimodal distribution taking into account contributions from space based and earth based\n",
    "    observations which have different levels of stochastic noise.\n",
    "\n",
    "    :param space_obs_frac: ratio between earth based and space based observations\n",
    "    :return: float; standard deviation of the light curve noise\n",
    "    \"\"\"\n",
    "    earth_based_sigma = 4e-3\n",
    "    space_based_sigma = 2e-4\n",
    "    sigma = np.random.choice([earth_based_sigma, space_based_sigma], p=[1-space_obs_frac, space_obs_frac])\n",
    "    return np.random.rayleigh(sigma)\n",
    "\n",
    "def stochastic_noise_generator(curve):\n",
    "    \"\"\"\n",
    "    Introduces gaussian noise into synthetic observation provided in `curve`.\n",
    "\n",
    "    :param curve: numpy.array; normalized light curve\n",
    "    :return: Tuple(numpy.array, float); normalized light curve with added noise, standard deviation of observations\n",
    "    \"\"\"\n",
    "    sigma = generate_observation_sigma()\n",
    "    return np.random.normal(curve, sigma), np.full(curve.shape, sigma)"
   ]
  },
  {
   "cell_type": "markdown",
   "metadata": {},
   "source": [
    "## Data loading"
   ]
  },
  {
   "cell_type": "code",
   "execution_count": 5,
   "metadata": {},
   "outputs": [],
   "source": [
    "data = pd.read_pickle(\"detached_all_parameters.pkl\").reset_index()"
   ]
  },
  {
   "cell_type": "code",
   "execution_count": 6,
   "metadata": {},
   "outputs": [],
   "source": [
    "data_sample = data.sample(n=200000)"
   ]
  },
  {
   "cell_type": "code",
   "execution_count": 7,
   "metadata": {},
   "outputs": [
    {
     "data": {
      "text/plain": [
       "['index',\n",
       " 'id',\n",
       " 'curve',\n",
       " 'primary__t_eff',\n",
       " 'secondary__t_eff',\n",
       " 'inclination',\n",
       " 'mass_ratio',\n",
       " 'primary__surface_potential',\n",
       " 'secondary__surface_potential',\n",
       " 't1_t2',\n",
       " 'filter',\n",
       " 'critical_surface_potential',\n",
       " 'primary__equivalent_radius',\n",
       " 'secondary__equivalent_radius',\n",
       " 'primary__filling_factor',\n",
       " 'secondary__filling_factor']"
      ]
     },
     "execution_count": 7,
     "metadata": {},
     "output_type": "execute_result"
    }
   ],
   "source": [
    "list(data_sample.columns)"
   ]
  },
  {
   "cell_type": "code",
   "execution_count": 7,
   "metadata": {},
   "outputs": [],
   "source": [
    "X = []\n",
    "for row in data_sample[\"curve\"]:\n",
    "    X.append(row)\n",
    "X=np.array(X)"
   ]
  },
  {
   "cell_type": "code",
   "execution_count": 8,
   "metadata": {},
   "outputs": [],
   "source": [
    "y = np.array(data_sample[[\n",
    "    \"inclination\",\n",
    "    \"mass_ratio\",\n",
    "    \"primary__surface_potential\",\n",
    "    \"secondary__surface_potential\",\n",
    "    \"t1_t2\"]])"
   ]
  },
  {
   "cell_type": "code",
   "execution_count": 9,
   "metadata": {},
   "outputs": [
    {
     "data": {
      "text/plain": [
       "array([0.71584635, 0.05050505, 0.17208073, 0.0020424 , 0.7804878 ])"
      ]
     },
     "execution_count": 9,
     "metadata": {},
     "output_type": "execute_result"
    }
   ],
   "source": [
    "# MinMax Scaler\n",
    "scaler = MinMaxScaler()\n",
    "y_minmax_scaled = scaler.fit_transform(y)\n",
    "y_minmax_scaled[0]"
   ]
  },
  {
   "cell_type": "code",
   "execution_count": 10,
   "metadata": {},
   "outputs": [],
   "source": [
    "X_train1, X_test, y_train1, y_test = train_test_split(X, y_minmax_scaled, test_size=0.2)"
   ]
  },
  {
   "cell_type": "code",
   "execution_count": 11,
   "metadata": {},
   "outputs": [],
   "source": [
    "# Adding noise to train data\n",
    "X_train_n = []\n",
    "y_train_n = []\n",
    "for i in range(len(X_train1)):\n",
    "    for j in range(3):\n",
    "        curve = stochastic_noise_generator(X_train1[i])\n",
    "        X_train_n.append(curve[0])\n",
    "        y_train_n.append(y_train1[i])\n",
    "X_train_n = np.array(X_train_n)\n",
    "y_train_n=np.array(y_train_n)"
   ]
  },
  {
   "cell_type": "code",
   "execution_count": 13,
   "metadata": {},
   "outputs": [
    {
     "name": "stdout",
     "output_type": "stream",
     "text": [
      "Number of records in dataset:  1300000 \n",
      "Number of records in sample:  150000 \n",
      "Number of train data without noise:  120000 \n",
      "Number of train data with noise:  360000 \n",
      "Number of test data without noise:  30000\n"
     ]
    }
   ],
   "source": [
    "print(\"Number of records in dataset: \", len(data),\n",
    "    \"\\nNumber of records in sample: \", len(X),\n",
    "    \"\\nNumber of train data without noise: \", len(X_train1),\n",
    "    \"\\nNumber of train data with noise: \", len(X_train_n),\n",
    "    \"\\nNumber of test data without noise: \", len(X_test))"
   ]
  },
  {
   "cell_type": "markdown",
   "metadata": {},
   "source": [
    "## Model"
   ]
  },
  {
   "cell_type": "code",
   "execution_count": 17,
   "metadata": {},
   "outputs": [
    {
     "name": "stdout",
     "output_type": "stream",
     "text": [
      "Model: \"functional_3\"\n",
      "_________________________________________________________________\n",
      "Layer (type)                 Output Shape              Param #   \n",
      "=================================================================\n",
      "input_4 (InputLayer)         [(None, 400, 1)]          0         \n",
      "_________________________________________________________________\n",
      "conv1d_6 (Conv1D)            (None, 398, 64)           256       \n",
      "_________________________________________________________________\n",
      "max_pooling1d_4 (MaxPooling1 (None, 199, 64)           0         \n",
      "_________________________________________________________________\n",
      "dropout_2 (Dropout)          (None, 199, 64)           0         \n",
      "_________________________________________________________________\n",
      "lstm_1 (LSTM)                (None, 199, 64)           33024     \n",
      "_________________________________________________________________\n",
      "flatten_1 (Flatten)          (None, 12736)             0         \n",
      "_________________________________________________________________\n",
      "dense_3 (Dense)              (None, 64)                815168    \n",
      "_________________________________________________________________\n",
      "dense_4 (Dense)              (None, 32)                2080      \n",
      "_________________________________________________________________\n",
      "dense_5 (Dense)              (None, 5)                 165       \n",
      "=================================================================\n",
      "Total params: 850,693\n",
      "Trainable params: 850,693\n",
      "Non-trainable params: 0\n",
      "_________________________________________________________________\n",
      "None\n"
     ]
    }
   ],
   "source": [
    "inputs = Input(shape=(400, 1))\n",
    "b = Conv1D(64, kernel_size = 3, padding = \"valid\")(inputs)\n",
    "b = MaxPooling1D(2)(b)\n",
    "b = Dropout(0.2)(b)\n",
    "b = LSTM(64, return_sequences=True)(b)\n",
    "b = Flatten()(b)\n",
    "b = Dense(64, activation='relu')(b)\n",
    "x = Dense(32, activation='relu')(b)\n",
    "output = Dense(5, activation='linear')(x)\n",
    "model = Model(inputs=inputs, outputs=output)\n",
    "model.compile(loss='mse', optimizer='adam', metrics=[\"mae\", \"mape\"])\n",
    "print(model.summary())"
   ]
  },
  {
   "cell_type": "code",
   "execution_count": null,
   "metadata": {},
   "outputs": [],
   "source": [
    "saved_model = \"models/norm_detached_selection.hdf5\"\n",
    "checkpoint = ModelCheckpoint(saved_model, monitor = 'val_mae', verbose = 1, save_best_only = True, mode = 'min')\n",
    "early = EarlyStopping(monitor = \"val_mae\", mode = \"min\", patience = 25)\n",
    "callbacks_list = [checkpoint, early]"
   ]
  },
  {
   "cell_type": "code",
   "execution_count": null,
   "metadata": {},
   "outputs": [],
   "source": [
    "history = model.fit(X_train_n, y_train_n, validation_split = 0.1, epochs = 10, verbose = 1, callbacks = callbacks_list, batch_size = 64)"
   ]
  },
  {
   "cell_type": "code",
   "execution_count": null,
   "metadata": {},
   "outputs": [],
   "source": [
    "model = load_model(\"models/norm_detached_selection.hdf5\")"
   ]
  },
  {
   "cell_type": "markdown",
   "metadata": {},
   "source": [
    "## Model v2\n",
    "Pridana konvolucna vrstva + zmenene pocty neuronov na konvolucnych vrstvach"
   ]
  },
  {
   "cell_type": "code",
   "execution_count": 20,
   "metadata": {},
   "outputs": [
    {
     "name": "stdout",
     "output_type": "stream",
     "text": [
      "Model: \"functional_7\"\n",
      "_________________________________________________________________\n",
      "Layer (type)                 Output Shape              Param #   \n",
      "=================================================================\n",
      "input_6 (InputLayer)         [(None, 400, 1)]          0         \n",
      "_________________________________________________________________\n",
      "conv1d_9 (Conv1D)            (None, 398, 128)          512       \n",
      "_________________________________________________________________\n",
      "max_pooling1d_6 (MaxPooling1 (None, 199, 128)          0         \n",
      "_________________________________________________________________\n",
      "conv1d_10 (Conv1D)           (None, 197, 64)           24640     \n",
      "_________________________________________________________________\n",
      "dropout_4 (Dropout)          (None, 197, 64)           0         \n",
      "_________________________________________________________________\n",
      "lstm_3 (LSTM)                (None, 197, 64)           33024     \n",
      "_________________________________________________________________\n",
      "flatten_3 (Flatten)          (None, 12608)             0         \n",
      "_________________________________________________________________\n",
      "dense_9 (Dense)              (None, 64)                806976    \n",
      "_________________________________________________________________\n",
      "dense_10 (Dense)             (None, 32)                2080      \n",
      "_________________________________________________________________\n",
      "dense_11 (Dense)             (None, 5)                 165       \n",
      "=================================================================\n",
      "Total params: 867,397\n",
      "Trainable params: 867,397\n",
      "Non-trainable params: 0\n",
      "_________________________________________________________________\n",
      "None\n"
     ]
    }
   ],
   "source": [
    "inputs = Input(shape=(400, 1))\n",
    "b = Conv1D(128, kernel_size = 3, padding = \"valid\")(inputs)\n",
    "b = MaxPooling1D(2)(b)\n",
    "b = Conv1D(64, kernel_size = 3, padding = \"valid\")(b)\n",
    "b = Dropout(0.2)(b)\n",
    "b = LSTM(64, return_sequences=True)(b)\n",
    "b = Flatten()(b)\n",
    "b = Dense(64, activation='relu')(b)\n",
    "x = Dense(32, activation='relu')(b)\n",
    "output = Dense(5, activation='linear')(x)\n",
    "model_v2 = Model(inputs=inputs, outputs=output)\n",
    "model_v2.compile(loss='mse', optimizer='adam', metrics=[\"mae\", \"mape\"])\n",
    "print(model_v2.summary())"
   ]
  },
  {
   "cell_type": "code",
   "execution_count": 21,
   "metadata": {},
   "outputs": [],
   "source": [
    "saved_model = \"models/norm_detached_selection_v2.hdf5\"\n",
    "checkpoint = ModelCheckpoint(saved_model, monitor = 'val_mae', verbose = 1, save_best_only = True, mode = 'min')\n",
    "early = EarlyStopping(monitor = \"val_mae\", mode = \"min\", patience = 25)\n",
    "callbacks_list = [checkpoint, early]"
   ]
  },
  {
   "cell_type": "code",
   "execution_count": 22,
   "metadata": {},
   "outputs": [
    {
     "name": "stdout",
     "output_type": "stream",
     "text": [
      "Epoch 1/10\n",
      "5063/5063 [==============================] - ETA: 0s - loss: 0.0241 - mae: 0.0904 - mape: 1877585.0000\n",
      "Epoch 00001: val_mae improved from inf to 0.08301, saving model to models\\norm_detached_selection_v2.hdf5\n",
      "5063/5063 [==============================] - 1039s 205ms/step - loss: 0.0241 - mae: 0.0904 - mape: 1877585.0000 - val_loss: 0.0224 - val_mae: 0.0830 - val_mape: 1993514.5000\n",
      "Epoch 2/10\n",
      "5063/5063 [==============================] - ETA: 0s - loss: 0.0161 - mae: 0.0690 - mape: 1673852.3750\n",
      "Epoch 00002: val_mae improved from 0.08301 to 0.06328, saving model to models\\norm_detached_selection_v2.hdf5\n",
      "5063/5063 [==============================] - 1046s 207ms/step - loss: 0.0161 - mae: 0.0690 - mape: 1673852.3750 - val_loss: 0.0141 - val_mae: 0.0633 - val_mape: 1460208.1250\n",
      "Epoch 3/10\n",
      "5063/5063 [==============================] - ETA: 0s - loss: 0.0134 - mae: 0.0612 - mape: 1460427.5000\n",
      "Epoch 00003: val_mae did not improve from 0.06328\n",
      "5063/5063 [==============================] - 1127s 223ms/step - loss: 0.0134 - mae: 0.0612 - mape: 1460427.5000 - val_loss: 0.0137 - val_mae: 0.0640 - val_mape: 1426634.0000\n",
      "Epoch 4/10\n",
      "5063/5063 [==============================] - ETA: 0s - loss: 0.0125 - mae: 0.0584 - mape: 1359152.8750\n",
      "Epoch 00004: val_mae improved from 0.06328 to 0.05770, saving model to models\\norm_detached_selection_v2.hdf5\n",
      "5063/5063 [==============================] - 1106s 218ms/step - loss: 0.0125 - mae: 0.0584 - mape: 1359152.8750 - val_loss: 0.0122 - val_mae: 0.0577 - val_mape: 1343109.5000\n",
      "Epoch 5/10\n",
      "5063/5063 [==============================] - ETA: 0s - loss: 0.0119 - mae: 0.0564 - mape: 1299326.1250\n",
      "Epoch 00005: val_mae improved from 0.05770 to 0.05531, saving model to models\\norm_detached_selection_v2.hdf5\n",
      "5063/5063 [==============================] - 1101s 217ms/step - loss: 0.0119 - mae: 0.0564 - mape: 1299326.1250 - val_loss: 0.0117 - val_mae: 0.0553 - val_mape: 1237642.6250\n",
      "Epoch 6/10\n",
      "5063/5063 [==============================] - ETA: 0s - loss: 0.0114 - mae: 0.0548 - mape: 1267843.7500\n",
      "Epoch 00006: val_mae improved from 0.05531 to 0.05359, saving model to models\\norm_detached_selection_v2.hdf5\n",
      "5063/5063 [==============================] - 1096s 217ms/step - loss: 0.0114 - mae: 0.0548 - mape: 1267843.7500 - val_loss: 0.0113 - val_mae: 0.0536 - val_mape: 1070809.8750\n",
      "Epoch 7/10\n",
      "5063/5063 [==============================] - ETA: 0s - loss: 0.0110 - mae: 0.0537 - mape: 1212950.3750\n",
      "Epoch 00007: val_mae improved from 0.05359 to 0.05288, saving model to models\\norm_detached_selection_v2.hdf5\n",
      "5063/5063 [==============================] - 1091s 215ms/step - loss: 0.0110 - mae: 0.0537 - mape: 1212950.3750 - val_loss: 0.0114 - val_mae: 0.0529 - val_mape: 1109291.7500\n",
      "Epoch 8/10\n",
      "5063/5063 [==============================] - ETA: 0s - loss: 0.0108 - mae: 0.0529 - mape: 1202796.1250\n",
      "Epoch 00008: val_mae improved from 0.05288 to 0.05238, saving model to models\\norm_detached_selection_v2.hdf5\n",
      "5063/5063 [==============================] - 1086s 214ms/step - loss: 0.0108 - mae: 0.0529 - mape: 1202796.1250 - val_loss: 0.0108 - val_mae: 0.0524 - val_mape: 1276548.1250\n",
      "Epoch 9/10\n",
      "5063/5063 [==============================] - ETA: 0s - loss: 0.0104 - mae: 0.0519 - mape: 1177714.7500\n",
      "Epoch 00009: val_mae improved from 0.05238 to 0.05113, saving model to models\\norm_detached_selection_v2.hdf5\n",
      "5063/5063 [==============================] - 1084s 214ms/step - loss: 0.0104 - mae: 0.0519 - mape: 1177714.7500 - val_loss: 0.0106 - val_mae: 0.0511 - val_mape: 1139428.6250\n",
      "Epoch 10/10\n",
      "5063/5063 [==============================] - ETA: 0s - loss: 0.0102 - mae: 0.0512 - mape: 1169994.5000\n",
      "Epoch 00010: val_mae improved from 0.05113 to 0.05028, saving model to models\\norm_detached_selection_v2.hdf5\n",
      "5063/5063 [==============================] - 1105s 218ms/step - loss: 0.0102 - mae: 0.0512 - mape: 1169994.5000 - val_loss: 0.0106 - val_mae: 0.0503 - val_mape: 968496.1250\n"
     ]
    }
   ],
   "source": [
    "history = model_v2.fit(X_train_n, y_train_n, validation_split = 0.1, epochs = 10, verbose = 1, callbacks = callbacks_list, batch_size = 64)"
   ]
  },
  {
   "cell_type": "code",
   "execution_count": 28,
   "metadata": {},
   "outputs": [
    {
     "data": {
      "image/png": "[encoded data removed]",
      "text/plain": [
       "<Figure size 432x288 with 1 Axes>"
      ]
     },
     "metadata": {
      "needs_background": "light"
     },
     "output_type": "display_data"
    }
   ],
   "source": [
    "plt.plot(history.history['loss'])\n",
    "plt.title(\"Model v2 for detached curves - process of learning\")\n",
    "plt.xlabel(\"Epoch\")\n",
    "plt.ylabel(\"Loss\")\n",
    "plt.savefig(\"models_plots/model_v2.jpg\")"
   ]
  },
  {
   "cell_type": "markdown",
   "metadata": {},
   "source": [
    "## Model v3\n",
    "Pridana lstm vrstva + maxpooling vrstva po 2. conv"
   ]
  },
  {
   "cell_type": "code",
   "execution_count": 17,
   "metadata": {},
   "outputs": [
    {
     "name": "stdout",
     "output_type": "stream",
     "text": [
      "Model: \"functional_5\"\n",
      "_________________________________________________________________\n",
      "Layer (type)                 Output Shape              Param #   \n",
      "=================================================================\n",
      "input_3 (InputLayer)         [(None, 400, 1)]          0         \n",
      "_________________________________________________________________\n",
      "conv1d_4 (Conv1D)            (None, 398, 128)          512       \n",
      "_________________________________________________________________\n",
      "max_pooling1d_4 (MaxPooling1 (None, 199, 128)          0         \n",
      "_________________________________________________________________\n",
      "conv1d_5 (Conv1D)            (None, 197, 64)           24640     \n",
      "_________________________________________________________________\n",
      "max_pooling1d_5 (MaxPooling1 (None, 98, 64)            0         \n",
      "_________________________________________________________________\n",
      "dropout_2 (Dropout)          (None, 98, 64)            0         \n",
      "_________________________________________________________________\n",
      "lstm_4 (LSTM)                (None, 98, 64)            33024     \n",
      "_________________________________________________________________\n",
      "lstm_5 (LSTM)                (None, 98, 64)            33024     \n",
      "_________________________________________________________________\n",
      "flatten_2 (Flatten)          (None, 6272)              0         \n",
      "_________________________________________________________________\n",
      "dense_6 (Dense)              (None, 64)                401472    \n",
      "_________________________________________________________________\n",
      "dense_7 (Dense)              (None, 32)                2080      \n",
      "_________________________________________________________________\n",
      "dense_8 (Dense)              (None, 5)                 165       \n",
      "=================================================================\n",
      "Total params: 494,917\n",
      "Trainable params: 494,917\n",
      "Non-trainable params: 0\n",
      "_________________________________________________________________\n",
      "None\n"
     ]
    }
   ],
   "source": [
    "inputs = Input(shape=(400, 1))\n",
    "b = Conv1D(128, kernel_size = 3, padding = \"valid\")(inputs)\n",
    "b = MaxPooling1D(2)(b)\n",
    "b = Conv1D(64, kernel_size = 3, padding = \"valid\")(b)\n",
    "b = MaxPooling1D(2)(b)\n",
    "b = Dropout(0.2)(b)\n",
    "b = LSTM(64, return_sequences=True)(b)\n",
    "b = LSTM(64, return_sequences=True)(b)\n",
    "b = Flatten()(b)\n",
    "b = Dense(64, activation='relu')(b)\n",
    "x = Dense(32, activation='relu')(b)\n",
    "output = Dense(5, activation='linear')(x)\n",
    "model_v3 = Model(inputs=inputs, outputs=output)\n",
    "model_v3.compile(loss='mse', optimizer='adam', metrics=[\"mae\", \"mape\"])\n",
    "print(model_v3.summary())"
   ]
  },
  {
   "cell_type": "code",
   "execution_count": 18,
   "metadata": {},
   "outputs": [],
   "source": [
    "saved_model = \"models/norm_detached_selection_v3.hdf5\"\n",
    "checkpoint = ModelCheckpoint(saved_model, monitor = 'val_mae', verbose = 1, save_best_only = True, mode = 'min')\n",
    "early = EarlyStopping(monitor = \"val_mae\", mode = \"min\", patience = 25)\n",
    "callbacks_list = [checkpoint, early]"
   ]
  },
  {
   "cell_type": "code",
   "execution_count": 19,
   "metadata": {},
   "outputs": [
    {
     "name": "stdout",
     "output_type": "stream",
     "text": [
      "Epoch 1/10\n",
      "5063/5063 [==============================] - ETA: 0s - loss: 0.0234 - mae: 0.0888 - mape: 1873995.5000\n",
      "Epoch 00001: val_mae improved from inf to 0.07525, saving model to models\\norm_detached_selection_v3.hdf5\n",
      "5063/5063 [==============================] - 1105s 218ms/step - loss: 0.0234 - mae: 0.0888 - mape: 1873995.5000 - val_loss: 0.0181 - val_mae: 0.0753 - val_mape: 1746996.3750\n",
      "Epoch 2/10\n",
      "5063/5063 [==============================] - ETA: 0s - loss: 0.0165 - mae: 0.0708 - mape: 1727628.6250\n",
      "Epoch 00002: val_mae improved from 0.07525 to 0.06361, saving model to models\\norm_detached_selection_v3.hdf5\n",
      "5063/5063 [==============================] - 1071s 212ms/step - loss: 0.0165 - mae: 0.0708 - mape: 1727628.6250 - val_loss: 0.0144 - val_mae: 0.0636 - val_mape: 1571002.6250\n",
      "Epoch 3/10\n",
      "5063/5063 [==============================] - ETA: 0s - loss: 0.0139 - mae: 0.0627 - mape: 1559445.6250\n",
      "Epoch 00003: val_mae improved from 0.06361 to 0.06024, saving model to models\\norm_detached_selection_v3.hdf5\n",
      "5063/5063 [==============================] - 1021s 202ms/step - loss: 0.0139 - mae: 0.0627 - mape: 1559445.6250 - val_loss: 0.0130 - val_mae: 0.0602 - val_mape: 1422489.1250\n",
      "Epoch 4/10\n",
      "5063/5063 [==============================] - ETA: 0s - loss: 0.0128 - mae: 0.0593 - mape: 1450076.7500\n",
      "Epoch 00004: val_mae improved from 0.06024 to 0.05952, saving model to models\\norm_detached_selection_v3.hdf5\n",
      "5063/5063 [==============================] - 1011s 200ms/step - loss: 0.0128 - mae: 0.0593 - mape: 1450076.7500 - val_loss: 0.0126 - val_mae: 0.0595 - val_mape: 1423670.6250\n",
      "Epoch 5/10\n",
      "5063/5063 [==============================] - ETA: 0s - loss: 0.0121 - mae: 0.0569 - mape: 1362707.8750\n",
      "Epoch 00005: val_mae improved from 0.05952 to 0.05639, saving model to models\\norm_detached_selection_v3.hdf5\n",
      "5063/5063 [==============================] - 1013s 200ms/step - loss: 0.0121 - mae: 0.0569 - mape: 1362707.8750 - val_loss: 0.0120 - val_mae: 0.0564 - val_mape: 1287617.3750\n",
      "Epoch 6/10\n",
      "5063/5063 [==============================] - ETA: 0s - loss: 0.0116 - mae: 0.0552 - mape: 1313787.0000\n",
      "Epoch 00006: val_mae improved from 0.05639 to 0.05319, saving model to models\\norm_detached_selection_v3.hdf5\n",
      "5063/5063 [==============================] - 1010s 199ms/step - loss: 0.0116 - mae: 0.0552 - mape: 1313787.0000 - val_loss: 0.0110 - val_mae: 0.0532 - val_mape: 1292507.5000\n",
      "Epoch 7/10\n",
      "5063/5063 [==============================] - ETA: 0s - loss: 0.0111 - mae: 0.0538 - mape: 1258175.7500\n",
      "Epoch 00007: val_mae improved from 0.05319 to 0.05183, saving model to models\\norm_detached_selection_v3.hdf5\n",
      "5063/5063 [==============================] - 1014s 200ms/step - loss: 0.0111 - mae: 0.0538 - mape: 1258175.7500 - val_loss: 0.0108 - val_mae: 0.0518 - val_mape: 1092812.0000\n",
      "Epoch 8/10\n",
      "5063/5063 [==============================] - ETA: 0s - loss: 0.0108 - mae: 0.0528 - mape: 1207540.5000\n",
      "Epoch 00008: val_mae improved from 0.05183 to 0.05140, saving model to models\\norm_detached_selection_v3.hdf5\n",
      "5063/5063 [==============================] - 1015s 200ms/step - loss: 0.0108 - mae: 0.0528 - mape: 1207540.5000 - val_loss: 0.0107 - val_mae: 0.0514 - val_mape: 1033008.0000\n",
      "Epoch 9/10\n",
      "5063/5063 [==============================] - ETA: 0s - loss: 0.0105 - mae: 0.0520 - mape: 1171808.6250\n",
      "Epoch 00009: val_mae improved from 0.05140 to 0.05089, saving model to models\\norm_detached_selection_v3.hdf5\n",
      "5063/5063 [==============================] - 1011s 200ms/step - loss: 0.0105 - mae: 0.0520 - mape: 1171808.6250 - val_loss: 0.0102 - val_mae: 0.0509 - val_mape: 1238187.8750\n",
      "Epoch 10/10\n",
      "5063/5063 [==============================] - ETA: 0s - loss: 0.0103 - mae: 0.0512 - mape: 1151302.0000\n",
      "Epoch 00010: val_mae improved from 0.05089 to 0.05077, saving model to models\\norm_detached_selection_v3.hdf5\n",
      "5063/5063 [==============================] - 1001s 198ms/step - loss: 0.0103 - mae: 0.0512 - mape: 1151302.0000 - val_loss: 0.0103 - val_mae: 0.0508 - val_mape: 1013168.9375\n"
     ]
    }
   ],
   "source": [
    "history = model_v3.fit(X_train_n, y_train_n, validation_split = 0.1, epochs = 10, verbose = 1, callbacks = callbacks_list, batch_size = 64)"
   ]
  },
  {
   "cell_type": "code",
   "execution_count": 20,
   "metadata": {},
   "outputs": [
    {
     "data": {
      "image/png": "[encoded data removed]",
      "text/plain": [
       "<Figure size 432x288 with 1 Axes>"
      ]
     },
     "metadata": {
      "needs_background": "light"
     },
     "output_type": "display_data"
    }
   ],
   "source": [
    "plt.plot(history.history['loss'])\n",
    "plt.title(\"Model v3 for detached curves - process of learning\")\n",
    "plt.xlabel(\"Epoch\")\n",
    "plt.ylabel(\"Loss\")\n",
    "plt.savefig(\"models_plots/model_v3.jpg\")"
   ]
  },
  {
   "cell_type": "markdown",
   "metadata": {},
   "source": [
    "## Model v4\n",
    "Povodny model v2 + maxpooling po 2 konv, kt. ma 128 neuronov namesto 64 + pridane 3 epochy, vzorka dat 200 000"
   ]
  },
  {
   "cell_type": "code",
   "execution_count": 12,
   "metadata": {},
   "outputs": [
    {
     "name": "stdout",
     "output_type": "stream",
     "text": [
      "Model: \"functional_1\"\n",
      "_________________________________________________________________\n",
      "Layer (type)                 Output Shape              Param #   \n",
      "=================================================================\n",
      "input_1 (InputLayer)         [(None, 400, 1)]          0         \n",
      "_________________________________________________________________\n",
      "conv1d (Conv1D)              (None, 398, 128)          512       \n",
      "_________________________________________________________________\n",
      "max_pooling1d (MaxPooling1D) (None, 199, 128)          0         \n",
      "_________________________________________________________________\n",
      "conv1d_1 (Conv1D)            (None, 197, 124)          47740     \n",
      "_________________________________________________________________\n",
      "max_pooling1d_1 (MaxPooling1 (None, 98, 124)           0         \n",
      "_________________________________________________________________\n",
      "dropout (Dropout)            (None, 98, 124)           0         \n",
      "_________________________________________________________________\n",
      "lstm (LSTM)                  (None, 98, 64)            48384     \n",
      "_________________________________________________________________\n",
      "flatten (Flatten)            (None, 6272)              0         \n",
      "_________________________________________________________________\n",
      "dense (Dense)                (None, 64)                401472    \n",
      "_________________________________________________________________\n",
      "dense_1 (Dense)              (None, 32)                2080      \n",
      "_________________________________________________________________\n",
      "dense_2 (Dense)              (None, 5)                 165       \n",
      "=================================================================\n",
      "Total params: 500,353\n",
      "Trainable params: 500,353\n",
      "Non-trainable params: 0\n",
      "_________________________________________________________________\n",
      "None\n"
     ]
    }
   ],
   "source": [
    "inputs = Input(shape=(400, 1))\n",
    "b = Conv1D(128, kernel_size = 3, padding = \"valid\")(inputs)\n",
    "b = MaxPooling1D(2)(b)\n",
    "b = Conv1D(124, kernel_size = 3, padding = \"valid\")(b)\n",
    "b = MaxPooling1D(2)(b)\n",
    "b = Dropout(0.2)(b)\n",
    "b = LSTM(64, return_sequences=True)(b)\n",
    "b = Flatten()(b)\n",
    "b = Dense(64, activation='relu')(b)\n",
    "x = Dense(32, activation='relu')(b)\n",
    "output = Dense(5, activation='linear')(x)\n",
    "model_v4 = Model(inputs=inputs, outputs=output)\n",
    "model_v4.compile(loss='mse', optimizer='adam', metrics=[\"mae\", \"mape\"])\n",
    "print(model_v4.summary())"
   ]
  },
  {
   "cell_type": "code",
   "execution_count": 13,
   "metadata": {},
   "outputs": [],
   "source": [
    "saved_model = \"models/norm_detached_selection_v4.hdf5\"\n",
    "checkpoint = ModelCheckpoint(saved_model, monitor = 'val_mae', verbose = 1, save_best_only = True, mode = 'min')\n",
    "early = EarlyStopping(monitor = \"val_mae\", mode = \"min\", patience = 25)\n",
    "callbacks_list = [checkpoint, early]"
   ]
  },
  {
   "cell_type": "code",
   "execution_count": 14,
   "metadata": {},
   "outputs": [
    {
     "name": "stdout",
     "output_type": "stream",
     "text": [
      "Epoch 1/13\n",
      "6750/6750 [==============================] - ETA: 0s - loss: 0.0221 - mae: 0.0852 - mape: 1840314.7500\n",
      "Epoch 00001: val_mae improved from inf to 0.07069, saving model to models\\norm_detached_selection_v4.hdf5\n",
      "6750/6750 [==============================] - 1420s 210ms/step - loss: 0.0221 - mae: 0.0852 - mape: 1840314.7500 - val_loss: 0.0164 - val_mae: 0.0707 - val_mape: 1529846.5000\n",
      "Epoch 2/13\n",
      "6750/6750 [==============================] - ETA: 0s - loss: 0.0156 - mae: 0.0677 - mape: 1588290.5000\n",
      "Epoch 00002: val_mae improved from 0.07069 to 0.06135, saving model to models\\norm_detached_selection_v4.hdf5\n",
      "6750/6750 [==============================] - 1129s 167ms/step - loss: 0.0156 - mae: 0.0677 - mape: 1588290.5000 - val_loss: 0.0142 - val_mae: 0.0613 - val_mape: 1252051.1250\n",
      "Epoch 3/13\n",
      "6750/6750 [==============================] - ETA: 0s - loss: 0.0135 - mae: 0.0614 - mape: 1448697.0000\n",
      "Epoch 00003: val_mae improved from 0.06135 to 0.05819, saving model to models\\norm_detached_selection_v4.hdf5\n",
      "6750/6750 [==============================] - 1171s 174ms/step - loss: 0.0135 - mae: 0.0614 - mape: 1448697.0000 - val_loss: 0.0128 - val_mae: 0.0582 - val_mape: 1160672.7500\n",
      "Epoch 4/13\n",
      "6750/6750 [==============================] - ETA: 0s - loss: 0.0124 - mae: 0.0581 - mape: 1354907.5000\n",
      "Epoch 00004: val_mae improved from 0.05819 to 0.05377, saving model to models\\norm_detached_selection_v4.hdf5\n",
      "6750/6750 [==============================] - 1169s 173ms/step - loss: 0.0124 - mae: 0.0581 - mape: 1354907.5000 - val_loss: 0.0114 - val_mae: 0.0538 - val_mape: 1221292.0000\n",
      "Epoch 5/13\n",
      "6750/6750 [==============================] - ETA: 0s - loss: 0.0117 - mae: 0.0557 - mape: 1282388.0000\n",
      "Epoch 00005: val_mae improved from 0.05377 to 0.05365, saving model to models\\norm_detached_selection_v4.hdf5\n",
      "6750/6750 [==============================] - 1183s 175ms/step - loss: 0.0117 - mae: 0.0557 - mape: 1282388.0000 - val_loss: 0.0114 - val_mae: 0.0537 - val_mape: 1062267.0000\n",
      "Epoch 6/13\n",
      "6750/6750 [==============================] - ETA: 0s - loss: 0.0113 - mae: 0.0543 - mape: 1225544.0000\n",
      "Epoch 00006: val_mae did not improve from 0.05365\n",
      "6750/6750 [==============================] - 1165s 173ms/step - loss: 0.0113 - mae: 0.0543 - mape: 1225544.0000 - val_loss: 0.0112 - val_mae: 0.0553 - val_mape: 1146857.0000\n",
      "Epoch 7/13\n",
      "6750/6750 [==============================] - ETA: 0s - loss: 0.0109 - mae: 0.0531 - mape: 1190373.3750\n",
      "Epoch 00007: val_mae improved from 0.05365 to 0.05310, saving model to models\\norm_detached_selection_v4.hdf5\n",
      "6750/6750 [==============================] - 1168s 173ms/step - loss: 0.0109 - mae: 0.0531 - mape: 1190373.3750 - val_loss: 0.0108 - val_mae: 0.0531 - val_mape: 1158564.1250\n",
      "Epoch 8/13\n",
      "6750/6750 [==============================] - ETA: 0s - loss: 0.0106 - mae: 0.0522 - mape: 1166315.2500\n",
      "Epoch 00008: val_mae improved from 0.05310 to 0.05126, saving model to models\\norm_detached_selection_v4.hdf5\n",
      "6750/6750 [==============================] - 1174s 174ms/step - loss: 0.0106 - mae: 0.0522 - mape: 1166315.2500 - val_loss: 0.0104 - val_mae: 0.0513 - val_mape: 1127462.8750\n",
      "Epoch 9/13\n",
      "6750/6750 [==============================] - ETA: 0s - loss: 0.0103 - mae: 0.0514 - mape: 1137323.3750\n",
      "Epoch 00009: val_mae improved from 0.05126 to 0.05108, saving model to models\\norm_detached_selection_v4.hdf5\n",
      "6750/6750 [==============================] - 1318s 195ms/step - loss: 0.0103 - mae: 0.0514 - mape: 1137323.3750 - val_loss: 0.0103 - val_mae: 0.0511 - val_mape: 1009894.5000\n",
      "Epoch 10/13\n",
      "6750/6750 [==============================] - ETA: 0s - loss: 0.0101 - mae: 0.0508 - mape: 1112539.5000\n",
      "Epoch 00010: val_mae improved from 0.05108 to 0.05019, saving model to models\\norm_detached_selection_v4.hdf5\n",
      "6750/6750 [==============================] - 1279s 190ms/step - loss: 0.0101 - mae: 0.0508 - mape: 1112539.5000 - val_loss: 0.0103 - val_mae: 0.0502 - val_mape: 982449.0000\n",
      "Epoch 11/13\n",
      "6750/6750 [==============================] - ETA: 0s - loss: 0.0100 - mae: 0.0503 - mape: 1097486.2500\n",
      "Epoch 00011: val_mae did not improve from 0.05019\n",
      "6750/6750 [==============================] - 1179s 175ms/step - loss: 0.0100 - mae: 0.0503 - mape: 1097486.2500 - val_loss: 0.0102 - val_mae: 0.0504 - val_mape: 1104041.1250\n",
      "Epoch 12/13\n",
      "6750/6750 [==============================] - ETA: 0s - loss: 0.0098 - mae: 0.0497 - mape: 1084843.2500\n",
      "Epoch 00012: val_mae improved from 0.05019 to 0.04912, saving model to models\\norm_detached_selection_v4.hdf5\n",
      "6750/6750 [==============================] - 1284s 190ms/step - loss: 0.0098 - mae: 0.0497 - mape: 1084843.2500 - val_loss: 0.0100 - val_mae: 0.0491 - val_mape: 986210.5000\n",
      "Epoch 13/13\n",
      "6750/6750 [==============================] - ETA: 0s - loss: 0.0096 - mae: 0.0494 - mape: 1075699.0000\n",
      "Epoch 00013: val_mae improved from 0.04912 to 0.04871, saving model to models\\norm_detached_selection_v4.hdf5\n",
      "6750/6750 [==============================] - 1367s 203ms/step - loss: 0.0096 - mae: 0.0494 - mape: 1075699.0000 - val_loss: 0.0097 - val_mae: 0.0487 - val_mape: 1009356.0625\n"
     ]
    }
   ],
   "source": [
    "history = model_v4.fit(X_train_n, y_train_n, validation_split = 0.1, epochs = 13, verbose = 1, callbacks = callbacks_list, batch_size = 64)"
   ]
  },
  {
   "cell_type": "code",
   "execution_count": 15,
   "metadata": {},
   "outputs": [
    {
     "data": {
      "image/png": "[encoded data removed]",
      "text/plain": [
       "<Figure size 432x288 with 1 Axes>"
      ]
     },
     "metadata": {
      "needs_background": "light"
     },
     "output_type": "display_data"
    }
   ],
   "source": [
    "plt.plot(history.history['loss'])\n",
    "plt.title(\"Model v4 for detached curves - process of learning\")\n",
    "plt.xlabel(\"Epoch\")\n",
    "plt.ylabel(\"Loss\")\n",
    "plt.savefig(\"models_plots/model_v4.jpg\")"
   ]
  },
  {
   "cell_type": "markdown",
   "metadata": {},
   "source": [
    "## Model v5\n",
    "architektura v4 + lstm vrstvy"
   ]
  },
  {
   "cell_type": "code",
   "execution_count": 12,
   "metadata": {},
   "outputs": [
    {
     "name": "stdout",
     "output_type": "stream",
     "text": [
      "Model: \"functional_1\"\n",
      "_________________________________________________________________\n",
      "Layer (type)                 Output Shape              Param #   \n",
      "=================================================================\n",
      "input_1 (InputLayer)         [(None, 400, 1)]          0         \n",
      "_________________________________________________________________\n",
      "conv1d (Conv1D)              (None, 398, 128)          512       \n",
      "_________________________________________________________________\n",
      "max_pooling1d (MaxPooling1D) (None, 199, 128)          0         \n",
      "_________________________________________________________________\n",
      "conv1d_1 (Conv1D)            (None, 197, 64)           24640     \n",
      "_________________________________________________________________\n",
      "max_pooling1d_1 (MaxPooling1 (None, 98, 64)            0         \n",
      "_________________________________________________________________\n",
      "dropout (Dropout)            (None, 98, 64)            0         \n",
      "_________________________________________________________________\n",
      "lstm (LSTM)                  (None, 98, 64)            33024     \n",
      "_________________________________________________________________\n",
      "lstm_1 (LSTM)                (None, 98, 64)            33024     \n",
      "_________________________________________________________________\n",
      "flatten (Flatten)            (None, 6272)              0         \n",
      "_________________________________________________________________\n",
      "dense (Dense)                (None, 64)                401472    \n",
      "_________________________________________________________________\n",
      "dense_1 (Dense)              (None, 32)                2080      \n",
      "_________________________________________________________________\n",
      "dense_2 (Dense)              (None, 5)                 165       \n",
      "=================================================================\n",
      "Total params: 494,917\n",
      "Trainable params: 494,917\n",
      "Non-trainable params: 0\n",
      "_________________________________________________________________\n",
      "None\n"
     ]
    }
   ],
   "source": [
    "inputs = Input(shape=(400, 1))\n",
    "b = Conv1D(128, kernel_size = 3, padding = \"valid\")(inputs)\n",
    "b = MaxPooling1D(2)(b)\n",
    "b = Conv1D(64, kernel_size = 3, padding = \"valid\")(b)\n",
    "b = MaxPooling1D(2)(b)\n",
    "b = Dropout(0.2)(b)\n",
    "b = LSTM(64, return_sequences=True)(b)\n",
    "b = LSTM(64, return_sequences=True)(b)\n",
    "b = Flatten()(b)\n",
    "b = Dense(64, activation='relu')(b)\n",
    "x = Dense(32, activation='relu')(b)\n",
    "output = Dense(5, activation='linear')(x)\n",
    "model_v5 = Model(inputs=inputs, outputs=output)\n",
    "model_v5.compile(loss='mse', optimizer='adam', metrics=[\"mae\", \"mape\"])\n",
    "print(model_v5.summary())"
   ]
  },
  {
   "cell_type": "code",
   "execution_count": 13,
   "metadata": {},
   "outputs": [],
   "source": [
    "saved_model = \"models/norm_detached_selection_v5.hdf5\"\n",
    "checkpoint = ModelCheckpoint(saved_model, monitor = 'val_mae', verbose = 1, save_best_only = True, mode = 'min')\n",
    "early = EarlyStopping(monitor = \"val_mae\", mode = \"min\", patience = 25)\n",
    "callbacks_list = [checkpoint, early]"
   ]
  },
  {
   "cell_type": "code",
   "execution_count": 14,
   "metadata": {},
   "outputs": [
    {
     "name": "stdout",
     "output_type": "stream",
     "text": [
      "Epoch 1/10\n",
      "6750/6750 [==============================] - ETA: 0s - loss: 0.0215 - mae: 0.0841 - mape: 1795248.6250\n",
      "Epoch 00001: val_mae improved from inf to 0.06778, saving model to models\\norm_detached_selection_v5.hdf5\n",
      "6750/6750 [==============================] - 1280s 190ms/step - loss: 0.0215 - mae: 0.0841 - mape: 1795248.6250 - val_loss: 0.0157 - val_mae: 0.0678 - val_mape: 1600589.8750\n",
      "Epoch 2/10\n",
      "6750/6750 [==============================] - ETA: 0s - loss: 0.0145 - mae: 0.0642 - mape: 1523896.6250\n",
      "Epoch 00002: val_mae improved from 0.06778 to 0.05759, saving model to models\\norm_detached_selection_v5.hdf5\n",
      "6750/6750 [==============================] - 1369s 203ms/step - loss: 0.0145 - mae: 0.0642 - mape: 1523896.6250 - val_loss: 0.0124 - val_mae: 0.0576 - val_mape: 1377364.3750\n",
      "Epoch 3/10\n",
      "6750/6750 [==============================] - ETA: 0s - loss: 0.0122 - mae: 0.0568 - mape: 1350933.8750\n",
      "Epoch 00003: val_mae improved from 0.05759 to 0.05500, saving model to models\\norm_detached_selection_v5.hdf5\n",
      "6750/6750 [==============================] - 1378s 204ms/step - loss: 0.0122 - mae: 0.0568 - mape: 1350933.8750 - val_loss: 0.0114 - val_mae: 0.0550 - val_mape: 1210678.7500\n",
      "Epoch 4/10\n",
      "6750/6750 [==============================] - ETA: 0s - loss: 0.0113 - mae: 0.0537 - mape: 1241790.3750\n",
      "Epoch 00004: val_mae improved from 0.05500 to 0.05234, saving model to models\\norm_detached_selection_v5.hdf5\n",
      "6750/6750 [==============================] - 1378s 204ms/step - loss: 0.0113 - mae: 0.0537 - mape: 1241790.3750 - val_loss: 0.0107 - val_mae: 0.0523 - val_mape: 1132358.8750\n",
      "Epoch 5/10\n",
      "6750/6750 [==============================] - ETA: 0s - loss: 0.0107 - mae: 0.0517 - mape: 1172614.2500\n",
      "Epoch 00005: val_mae improved from 0.05234 to 0.05059, saving model to models\\norm_detached_selection_v5.hdf5\n",
      "6750/6750 [==============================] - 1381s 205ms/step - loss: 0.0107 - mae: 0.0517 - mape: 1172614.2500 - val_loss: 0.0102 - val_mae: 0.0506 - val_mape: 1122840.2500\n",
      "Epoch 6/10\n",
      "6750/6750 [==============================] - ETA: 0s - loss: 0.0103 - mae: 0.0502 - mape: 1121654.1250\n",
      "Epoch 00006: val_mae improved from 0.05059 to 0.04827, saving model to models\\norm_detached_selection_v5.hdf5\n",
      "6750/6750 [==============================] - 1381s 205ms/step - loss: 0.0103 - mae: 0.0502 - mape: 1121654.1250 - val_loss: 0.0100 - val_mae: 0.0483 - val_mape: 975117.1250\n",
      "Epoch 7/10\n",
      "6750/6750 [==============================] - ETA: 0s - loss: 0.0099 - mae: 0.0491 - mape: 1090181.0000\n",
      "Epoch 00007: val_mae improved from 0.04827 to 0.04738, saving model to models\\norm_detached_selection_v5.hdf5\n",
      "6750/6750 [==============================] - 1396s 207ms/step - loss: 0.0099 - mae: 0.0491 - mape: 1090181.0000 - val_loss: 0.0096 - val_mae: 0.0474 - val_mape: 1001258.7500\n",
      "Epoch 8/10\n",
      "6750/6750 [==============================] - ETA: 0s - loss: 0.0096 - mae: 0.0482 - mape: 1059891.5000 ETA: 1s - loss: 0.0096 - mae: 0.0482 - \n",
      "Epoch 00008: val_mae improved from 0.04738 to 0.04554, saving model to models\\norm_detached_selection_v5.hdf5\n",
      "6750/6750 [==============================] - 1394s 207ms/step - loss: 0.0096 - mae: 0.0482 - mape: 1059891.5000 - val_loss: 0.0095 - val_mae: 0.0455 - val_mape: 983576.7500\n",
      "Epoch 9/10\n",
      "6750/6750 [==============================] - ETA: 0s - loss: 0.0094 - mae: 0.0474 - mape: 1043042.3125 ETA: 1s - loss: 0.0094 - mae: 0.0474 - mape: \n",
      "Epoch 00009: val_mae improved from 0.04554 to 0.04506, saving model to models\\norm_detached_selection_v5.hdf5\n",
      "6750/6750 [==============================] - 1399s 207ms/step - loss: 0.0094 - mae: 0.0474 - mape: 1043042.3125 - val_loss: 0.0090 - val_mae: 0.0451 - val_mape: 1039597.0000\n",
      "Epoch 10/10\n",
      "6750/6750 [==============================] - ETA: 0s - loss: 0.0091 - mae: 0.0466 - mape: 1016191.4375\n",
      "Epoch 00010: val_mae did not improve from 0.04506\n",
      "6750/6750 [==============================] - 1395s 207ms/step - loss: 0.0091 - mae: 0.0466 - mape: 1016191.4375 - val_loss: 0.0093 - val_mae: 0.0464 - val_mape: 1014495.9375\n"
     ]
    }
   ],
   "source": [
    "history = model_v5.fit(X_train_n, y_train_n, validation_split = 0.1, epochs = 10, verbose = 1, callbacks = callbacks_list, batch_size = 64)"
   ]
  },
  {
   "cell_type": "code",
   "execution_count": 15,
   "metadata": {},
   "outputs": [
    {
     "data": {
      "image/png": "[encoded data removed]",
      "text/plain": [
       "<Figure size 432x288 with 1 Axes>"
      ]
     },
     "metadata": {
      "needs_background": "light"
     },
     "output_type": "display_data"
    }
   ],
   "source": [
    "plt.plot(history.history['loss'])\n",
    "plt.title(\"Model v4 for detached curves - process of learning\")\n",
    "plt.xlabel(\"Epoch\")\n",
    "plt.ylabel(\"Loss\")\n",
    "plt.savefig(\"models_plots/model_v5.jpg\")"
   ]
  },
  {
   "cell_type": "markdown",
   "metadata": {},
   "source": [
    "## Model evaluation on  normalized test data"
   ]
  },
  {
   "cell_type": "code",
   "execution_count": null,
   "metadata": {},
   "outputs": [],
   "source": [
    "# Normalized test data without noise\n",
    "scores = model.evaluate(X_test, y_test)\n",
    "print('Loss: {:.4f}, MAE: {:.4f}'.format(scores[0], scores[1]))"
   ]
  },
  {
   "cell_type": "code",
   "execution_count": null,
   "metadata": {},
   "outputs": [],
   "source": [
    "# Adding noise to normalized test data\n",
    "X_test_n = []\n",
    "y_test_norm_n = []\n",
    "for i in range(len(X_test)):\n",
    "    for j in range(3):\n",
    "        curve = stochastic_noise_generator(X_test[i])\n",
    "        X_test_n.append(curve[0])\n",
    "        y_test_norm_n.append(y_test[i])\n",
    "        j += 1\n",
    "X_test_n = np.array(X_test_n)\n",
    "y_test_norm_n = np.array(y_test_norm_n)"
   ]
  },
  {
   "cell_type": "code",
   "execution_count": null,
   "metadata": {},
   "outputs": [],
   "source": [
    "# Normalized test data with noise\n",
    "scores_n = model.evaluate(X_test_n, y_test_norm_n)\n",
    "print('Loss: {:.4f}, MAE: {:.4f}'.format(scores_n[0], scores_n[1]))"
   ]
  },
  {
   "cell_type": "markdown",
   "metadata": {},
   "source": [
    "## Prediction on normalized test data without noise + inverse normalization"
   ]
  },
  {
   "cell_type": "code",
   "execution_count": null,
   "metadata": {},
   "outputs": [],
   "source": [
    "y_pred_norm = model.predict(X_test)"
   ]
  },
  {
   "cell_type": "code",
   "execution_count": null,
   "metadata": {},
   "outputs": [],
   "source": [
    "y_pred_norm[0]"
   ]
  },
  {
   "cell_type": "code",
   "execution_count": null,
   "metadata": {},
   "outputs": [],
   "source": [
    "denorm = scaler.inverse_transform(y_pred_norm)\n",
    "denorm[0]"
   ]
  },
  {
   "cell_type": "code",
   "execution_count": null,
   "metadata": {},
   "outputs": [],
   "source": [
    "denorm_pred_df = pd.DataFrame(denorm,\n",
    "                           columns = [\n",
    "                                \"inclination\",\n",
    "                                \"mass_ratio\",\n",
    "                                \"primary__surface_potential\",\n",
    "                                \"secondary__surface_potential\",\n",
    "                                \"t1_t2\"\n",
    "                            ])\n",
    "denorm_pred_df.head()"
   ]
  },
  {
   "cell_type": "code",
   "execution_count": null,
   "metadata": {},
   "outputs": [],
   "source": [
    "pred_mean = denorm_pred_df.mean(axis=0)\n",
    "pred_mean"
   ]
  },
  {
   "cell_type": "code",
   "execution_count": null,
   "metadata": {},
   "outputs": [],
   "source": [
    "y_test_df = pd.DataFrame(y,\n",
    "                        columns = [\n",
    "                            \"inclination\",\n",
    "                            \"mass_ratio\",\n",
    "                            \"primary__surface_potential\",\n",
    "                            \"secondary__surface_potential\",\n",
    "                            \"t1_t2\"\n",
    "                            ])\n",
    "test_mean = y_test_df.mean(axis=0)\n",
    "test_mean"
   ]
  },
  {
   "cell_type": "code",
   "execution_count": null,
   "metadata": {},
   "outputs": [],
   "source": [
    "eval_pred = pd.DataFrame({'attribute': test_mean.index,\n",
    "            'avg_true': test_mean.values,\n",
    "            'avg_pred': pred_mean.values,\n",
    "            'MAE': abs(test_mean.values - pred_mean.values)})\n",
    "eval_pred"
   ]
  },
  {
   "cell_type": "markdown",
   "metadata": {},
   "source": [
    "## Prediction on normalized test data with noise + inverse normalization"
   ]
  },
  {
   "cell_type": "code",
   "execution_count": null,
   "metadata": {},
   "outputs": [],
   "source": [
    "y_pred_norm_n = model.predict(X_test_n)"
   ]
  },
  {
   "cell_type": "code",
   "execution_count": null,
   "metadata": {},
   "outputs": [],
   "source": [
    "denorm_n = scaler.inverse_transform(y_pred_norm_n)\n",
    "denorm_n[0]"
   ]
  },
  {
   "cell_type": "code",
   "execution_count": null,
   "metadata": {},
   "outputs": [],
   "source": [
    "denorm_pred_n_df = pd.DataFrame(denorm_n,\n",
    "                            columns = [\n",
    "                                \"inclination\",\n",
    "                                \"mass_ratio\",\n",
    "                                \"primary__surface_potential\",\n",
    "                                \"secondary__surface_potential\",\n",
    "                                \"t1_t2\"\n",
    "                            ])\n",
    "denorm_pred_n_df.head()"
   ]
  },
  {
   "cell_type": "code",
   "execution_count": null,
   "metadata": {},
   "outputs": [],
   "source": [
    "pred_n_mean = denorm_pred_n_df.mean(axis=0)\n",
    "pred_n_mean"
   ]
  },
  {
   "cell_type": "code",
   "execution_count": null,
   "metadata": {},
   "outputs": [],
   "source": [
    "y_test_n_denorm = scaler.inverse_transform(y_test_norm_n)\n",
    "y_test_norm_n_df = pd.DataFrame(y_test_n_denorm,\n",
    "                            columns = [\n",
    "                            \"inclination\",\n",
    "                            \"mass_ratio\",\n",
    "                            \"primary__surface_potential\",\n",
    "                            \"secondary__surface_potential\",\n",
    "                            \"t1_t2\"\n",
    "                            ])\n",
    "test_mean_n = y_test_norm_n_df.mean(axis=0)\n",
    "test_mean_n"
   ]
  },
  {
   "cell_type": "code",
   "execution_count": null,
   "metadata": {},
   "outputs": [],
   "source": [
    "eval_pred = pd.DataFrame({'attribute': test_mean_n.index,\n",
    "            'avg_true': test_mean_n.values,\n",
    "            'avg_pred': pred_n_mean.values,\n",
    "            'MAE': abs(test_mean_n.values - pred_n_mean.values)})\n",
    "eval_pred"
   ]
  }
 ],
 "metadata": {
  "kernelspec": {
   "display_name": "Python 3.8.12 ('global')",
   "language": "python",
   "name": "python3"
  },
  "language_info": {
   "codemirror_mode": {
    "name": "ipython",
    "version": 3
   },
   "file_extension": ".py",
   "mimetype": "text/x-python",
   "name": "python",
   "nbconvert_exporter": "python",
   "pygments_lexer": "ipython3",
   "version": "3.8.12"
  },
  "orig_nbformat": 4,
  "vscode": {
   "interpreter": {
    "hash": "b8fc6ce4f931e35f5dd2ff00f5d2ede33ff85432a244cf6e3e9d498f6426f487"
   }
  }
 },
 "nbformat": 4,
 "nbformat_minor": 2
}
