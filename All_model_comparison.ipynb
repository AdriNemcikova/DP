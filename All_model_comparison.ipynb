{
 "cells": [
  {
   "attachments": {},
   "cell_type": "markdown",
   "metadata": {},
   "source": [
    "## Skript pre porovnanie predikcii vsetkych modelov\n",
    "Modely trenovane na detached krivkach"
   ]
  },
  {
   "cell_type": "code",
   "execution_count": 1,
   "metadata": {},
   "outputs": [],
   "source": [
    "# LIBRARIES\n",
    "import numpy as np\n",
    "import pandas as pd\n",
    "import seaborn as sns\n",
    "import matplotlib.pyplot as plt\n",
    "from sklearn.preprocessing import MinMaxScaler\n",
    "\n",
    "from keras.utils import np_utils, plot_model\n",
    "from keras.models import load_model\n",
    "from sklearn.model_selection import train_test_split\n",
    "from sklearn.metrics import confusion_matrix, classification_report\n",
    "from sklearn.metrics import precision_recall_fscore_support\n",
    "from keras.layers import Conv1D, GlobalMaxPooling1D, MaxPooling1D, SpatialDropout1D, GlobalAveragePooling1D\n",
    "from keras.layers import Input, Dense, concatenate, Activation, LSTM, Dropout, Flatten\n",
    "from keras.models import Model\n",
    "from keras.layers import Concatenate\n",
    "from tensorflow.keras.callbacks import ModelCheckpoint, EarlyStopping, CSVLogger\n",
    "\n",
    "np.random.seed(1234)\n",
    "pd.set_option('display.max_rows', None)"
   ]
  },
  {
   "cell_type": "code",
   "execution_count": null,
   "metadata": {},
   "outputs": [],
   "source": [
    "# MODELS\n",
    "# Model pre predikciu vsetkych parametrov\n",
    "## Vystup - vsetky parametre\n",
    "det_all_params = load_model(\"models/detached_allParams.hdf5\")\n",
    "\n",
    "# Modely pre predikciu jednotlivych parametrov samostatne - silvia\n",
    "## Kazdy model ma na vystupe prislusny 1 parameter\n",
    "det_inc = load_model(\"models/detached_inclination.hdf5\")        # inclination\n",
    "det_mass_ratio = load_model(\"models/detached_mass_ratio.hdf5\")  # mass ratio\n",
    "det_prim_potent = load_model(\"models/detached_pSP.hdf5\")        # primary surface potential\n",
    "det_sec_potent = load_model(\"models/detached_sSP.hdf5\")         # secondary surface potential\n",
    "det_temp_ratio = load_model(\"models/detached_pT_sT.hdf5\")       # temperature ratio\n",
    "\n",
    "# Modely pre predikciu vybranych parametrov - trenovany na normovanych krivkach - 1 model\n",
    "## Vystup - 5 parametrov - inc, mass, prim. potential, sec. potential, temp. ratio\n",
    "## vystupom su normovane krivky - potrebne denormovat\n",
    "det_selected_params = load_model(\"models/norm_detached_sel_v4.hdf5\")\n",
    "\n",
    "# Multi NN del - trenovany na normovanych krivkach\n",
    "## vystupom je 5 parametrov - inc, mass, prim. potential, sec. potential, temp. ratio\n",
    "## vystupom su normovane krivky - potrebne denormovat\n",
    "det_multi_nn = load_model(\"models/norm_det_multiNN_v5.hdf5\")\n",
    "\n"
   ]
  }
 ],
 "metadata": {
  "kernelspec": {
   "display_name": "global",
   "language": "python",
   "name": "python3"
  },
  "language_info": {
   "codemirror_mode": {
    "name": "ipython",
    "version": 3
   },
   "file_extension": ".py",
   "mimetype": "text/x-python",
   "name": "python",
   "nbconvert_exporter": "python",
   "pygments_lexer": "ipython3",
   "version": "3.8.12"
  },
  "orig_nbformat": 4,
  "vscode": {
   "interpreter": {
    "hash": "b8fc6ce4f931e35f5dd2ff00f5d2ede33ff85432a244cf6e3e9d498f6426f487"
   }
  }
 },
 "nbformat": 4,
 "nbformat_minor": 2
}
