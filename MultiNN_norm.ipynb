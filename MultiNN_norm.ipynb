{
 "cells": [
  {
   "cell_type": "markdown",
   "id": "1b07ad90-e4e9-47a5-a6da-1ac43823598e",
   "metadata": {},
   "source": [
    "## Predikcia parametrov pre detached krivky\n",
    "### Predikovane parametre: inclination, mass ratio, primary surface potential, secondary surface potential, temperature ratio\n",
    "Model je trenovany na normovanych krivkach so sumom"
   ]
  },
  {
   "cell_type": "code",
   "execution_count": 1,
   "id": "69c42f18-1b42-437a-83da-52e38ba4c1e2",
   "metadata": {},
   "outputs": [],
   "source": [
    "# LIBRARIES\n",
    "import numpy as np\n",
    "import pandas as pd\n",
    "import seaborn as sns\n",
    "import matplotlib.pyplot as plt\n",
    "from sklearn.preprocessing import MinMaxScaler\n",
    "\n",
    "from keras.utils import np_utils, plot_model\n",
    "from keras.models import load_model\n",
    "from sklearn.model_selection import train_test_split\n",
    "from sklearn.metrics import confusion_matrix, classification_report\n",
    "from sklearn.metrics import precision_recall_fscore_support\n",
    "from keras.layers import Conv1D, GlobalMaxPooling1D, MaxPooling1D, SpatialDropout1D, GlobalAveragePooling1D\n",
    "from keras.layers import Input, Dense, concatenate, Activation, LSTM, Dropout, Flatten\n",
    "from keras.models import Model\n",
    "from keras.layers import Concatenate\n",
    "from tensorflow.keras.callbacks import ModelCheckpoint, EarlyStopping, CSVLogger\n",
    "\n",
    "np.random.seed(1234)\n",
    "pd.set_option('display.max_rows', None)"
   ]
  },
  {
   "cell_type": "code",
   "execution_count": 2,
   "id": "59ab42ba-4061-467a-b0da-4757baea395c",
   "metadata": {},
   "outputs": [],
   "source": [
    "def generate_observation_sigma(space_obs_frac=0.5):\n",
    "    \"\"\"\n",
    "    Draws a standard deviation of noise in light curve points from a \"true\" value provided in synthetic light curve.\n",
    "    Noise sigma is drawn from bimodal distribution taking into account contributions from space based and earth based\n",
    "    observations which have different levels of stochastic noise.\n",
    "\n",
    "    :param space_obs_frac: ratio between earth based and space based observations\n",
    "    :return: float; standard deviation of the light curve noise\n",
    "    \"\"\"\n",
    "    earth_based_sigma = 4e-3\n",
    "    space_based_sigma = 2e-4\n",
    "    sigma = np.random.choice([earth_based_sigma, space_based_sigma], p=[1-space_obs_frac, space_obs_frac])\n",
    "    return np.random.rayleigh(sigma)\n",
    "\n",
    "def stochastic_noise_generator(curve):\n",
    "    \"\"\"\n",
    "    Introduces gaussian noise into synthetic observation provided in `curve`.\n",
    "\n",
    "    :param curve: numpy.array; normalized light curve\n",
    "    :return: Tuple(numpy.array, float); normalized light curve with added noise, standard deviation of observations\n",
    "    \"\"\"\n",
    "    sigma = generate_observation_sigma()\n",
    "    return np.random.normal(curve, sigma), np.full(curve.shape, sigma)"
   ]
  },
  {
   "cell_type": "code",
   "execution_count": 3,
   "id": "8a9873cb-7670-434c-9530-2c13e309a837",
   "metadata": {},
   "outputs": [],
   "source": [
    "data = pd.read_pickle(\"detached_all_parameters.pkl\").reset_index()\n",
    "data_sample = data.sample(n=400000)"
   ]
  },
  {
   "cell_type": "code",
   "execution_count": 4,
   "id": "0dba6ec9-baf9-4622-b75c-f439a749d29f",
   "metadata": {},
   "outputs": [],
   "source": [
    "X = []\n",
    "for row in data_sample[\"curve\"]:\n",
    "    X.append(row)\n",
    "X=np.array(X)\n",
    "\n",
    "y = np.array(data_sample[[\n",
    "    \"inclination\",\n",
    "    \"mass_ratio\",\n",
    "    \"primary__surface_potential\",\n",
    "    \"secondary__surface_potential\",\n",
    "    \"t1_t2\"]])"
   ]
  },
  {
   "cell_type": "code",
   "execution_count": 5,
   "id": "dc11bac7-4e11-46c8-8e45-a0f0d59de4f5",
   "metadata": {},
   "outputs": [],
   "source": [
    "X_train1, X_test, y_train1, y_test = train_test_split(X, y, test_size=0.2)"
   ]
  },
  {
   "cell_type": "code",
   "execution_count": 6,
   "id": "3eab3673-fd73-4aea-8aa7-ec79614e4776",
   "metadata": {},
   "outputs": [],
   "source": [
    "# Adding noise to train data\n",
    "X_train_n = []\n",
    "y_train_n = []\n",
    "for i in range(len(X_train1)):\n",
    "    for j in range(3):\n",
    "        curve = stochastic_noise_generator(X_train1[i])\n",
    "        X_train_n.append(curve[0])\n",
    "        y_train_n.append(y_train1[i])\n",
    "X_train_n = np.array(X_train_n)\n",
    "y_train_n=np.array(y_train_n)"
   ]
  },
  {
   "cell_type": "code",
   "execution_count": 7,
   "id": "16b8a3c6-6be1-4038-8c50-1c76cb7c8531",
   "metadata": {},
   "outputs": [
    {
     "name": "stdout",
     "output_type": "stream",
     "text": [
      "Number of records in dataset:  1300000 \n",
      "Number of records in sample:  400000 \n",
      "Number of train data without noise:  320000 \n",
      "Number of train data with noise:  960000 \n",
      "Number of test data without noise:  80000\n"
     ]
    }
   ],
   "source": [
    "print(\"Number of records in dataset: \", len(data),\n",
    "    \"\\nNumber of records in sample: \", len(data_sample),\n",
    "    \"\\nNumber of train data without noise: \", len(X_train1),\n",
    "    \"\\nNumber of train data with noise: \", len(X_train_n),\n",
    "    \"\\nNumber of test data without noise: \", len(X_test))"
   ]
  },
  {
   "cell_type": "code",
   "execution_count": 9,
   "id": "78453c36-50fa-464b-be2f-676139817b77",
   "metadata": {},
   "outputs": [],
   "source": [
    "y_inc = np.array([arr[0] for arr in y_train_n])\n",
    "y_mass = np.array([arr[1] for arr in y_train_n])\n",
    "y_prim_potent = np.array([arr[2] for arr in y_train_n])\n",
    "y_sec_potent = np.array([arr[3] for arr in y_train_n])\n",
    "y_temp_ratio = np.array([arr[4] for arr in y_train_n])"
   ]
  },
  {
   "cell_type": "code",
   "execution_count": 10,
   "id": "d6d2ced4-3621-4dbc-8bd3-168eca5cc94c",
   "metadata": {},
   "outputs": [],
   "source": [
    "y_inc = y_inc.reshape(-1,1)\n",
    "y_mass = y_mass.reshape(-1,1)\n",
    "y_prim_potent = y_prim_potent.reshape(-1,1)\n",
    "y_sec_potent = y_sec_potent.reshape(-1,1)\n",
    "y_temp_ratio = y_temp_ratio.reshape(-1,1)"
   ]
  },
  {
   "cell_type": "code",
   "execution_count": 11,
   "id": "d5778ff4-6c70-416c-8af4-1abe16c6116b",
   "metadata": {},
   "outputs": [],
   "source": [
    "# MinMax Scaler - each attribute is scaled separately\n",
    "scaler_inc = MinMaxScaler()\n",
    "scaler_q = MinMaxScaler()\n",
    "scaler_pp = MinMaxScaler()\n",
    "scaler_sp = MinMaxScaler()\n",
    "scaler_tr = MinMaxScaler()\n",
    "\n",
    "y_inc_scaled = scaler_inc.fit_transform(y_inc)\n",
    "y_q_scaled = scaler_q.fit_transform(y_mass)\n",
    "y_pp_scaled = scaler_pp.fit_transform(y_prim_potent)\n",
    "y_sp_scaled = scaler_sp.fit_transform(y_sec_potent)\n",
    "y_tr_scaled = scaler_tr.fit_transform(y_temp_ratio)"
   ]
  },
  {
   "cell_type": "code",
   "execution_count": 13,
   "id": "23e237d3-78a6-4fe0-b491-9e7f6da9b222",
   "metadata": {},
   "outputs": [],
   "source": [
    "y_inc_scaled = np.array(y_inc_scaled)\n",
    "y_q_scaled = np.array(y_q_scaled)\n",
    "y_pp_scaled = np.array(y_pp_scaled)\n",
    "y_sp_scaled = np.array(y_sp_scaled)\n",
    "y_tr_scaled = np.array(y_tr_scaled)"
   ]
  },
  {
   "cell_type": "code",
   "execution_count": 18,
   "id": "ec064b2f-3f38-43dd-a6d3-3c82197b62b9",
   "metadata": {
    "collapsed": true,
    "jupyter": {
     "outputs_hidden": true
    },
    "tags": []
   },
   "outputs": [
    {
     "name": "stderr",
     "output_type": "stream",
     "text": [
      "/tmp/ipykernel_122/2954303928.py:7: MatplotlibDeprecationWarning: The 'b' parameter of grid() has been renamed 'visible' since Matplotlib 3.5; support for the old name will be dropped two minor releases later.\n",
      "  plt.grid(b=\"on\")\n"
     ]
    },
    {
     "data": {
      "image/png": "[encoded data removed]",
      "text/plain": [
       "<Figure size 1500x700 with 1 Axes>"
      ]
     },
     "metadata": {},
     "output_type": "display_data"
    }
   ],
   "source": [
    "# Vykreslenie distribucie\n",
    "plt.figure(figsize=(15,7))\n",
    "plt.hist(y_pp_scaled, bins=200)\n",
    "plt.title(\"Test data\")\n",
    "plt.xlabel(\"primary surface potential Ω1\")\n",
    "plt.ylabel(\"count\")\n",
    "plt.grid(b=\"on\")\n",
    "plt.show()"
   ]
  },
  {
   "cell_type": "code",
   "execution_count": 21,
   "id": "a362c48d-6e40-4fac-a414-420fb8c38560",
   "metadata": {
    "collapsed": true,
    "jupyter": {
     "outputs_hidden": true
    },
    "tags": []
   },
   "outputs": [
    {
     "name": "stdout",
     "output_type": "stream",
     "text": [
      "Model: \"model_11\"\n",
      "__________________________________________________________________________________________________\n",
      " Layer (type)                   Output Shape         Param #     Connected to                     \n",
      "==================================================================================================\n",
      " input_2 (InputLayer)           [(None, 400, 1)]     0           []                               \n",
      "                                                                                                  \n",
      " conv1d_10 (Conv1D)             (None, 398, 128)     512         ['input_2[0][0]']                \n",
      "                                                                                                  \n",
      " conv1d_12 (Conv1D)             (None, 398, 128)     512         ['input_2[0][0]']                \n",
      "                                                                                                  \n",
      " conv1d_14 (Conv1D)             (None, 398, 128)     512         ['input_2[0][0]']                \n",
      "                                                                                                  \n",
      " conv1d_16 (Conv1D)             (None, 398, 128)     512         ['input_2[0][0]']                \n",
      "                                                                                                  \n",
      " max_pooling1d_4 (MaxPooling1D)  (None, 199, 128)    0           ['conv1d_10[0][0]']              \n",
      "                                                                                                  \n",
      " max_pooling1d_5 (MaxPooling1D)  (None, 199, 128)    0           ['conv1d_12[0][0]']              \n",
      "                                                                                                  \n",
      " max_pooling1d_6 (MaxPooling1D)  (None, 199, 128)    0           ['conv1d_14[0][0]']              \n",
      "                                                                                                  \n",
      " max_pooling1d_7 (MaxPooling1D)  (None, 199, 128)    0           ['conv1d_16[0][0]']              \n",
      "                                                                                                  \n",
      " conv1d_11 (Conv1D)             (None, 197, 128)     49280       ['max_pooling1d_4[0][0]']        \n",
      "                                                                                                  \n",
      " conv1d_13 (Conv1D)             (None, 197, 128)     49280       ['max_pooling1d_5[0][0]']        \n",
      "                                                                                                  \n",
      " conv1d_15 (Conv1D)             (None, 197, 128)     49280       ['max_pooling1d_6[0][0]']        \n",
      "                                                                                                  \n",
      " conv1d_17 (Conv1D)             (None, 197, 128)     49280       ['max_pooling1d_7[0][0]']        \n",
      "                                                                                                  \n",
      " conv1d_9 (Conv1D)              (None, 398, 128)     512         ['input_2[0][0]']                \n",
      "                                                                                                  \n",
      " lstm_10 (LSTM)                 (None, 197, 64)      49408       ['conv1d_11[0][0]']              \n",
      "                                                                                                  \n",
      " lstm_12 (LSTM)                 (None, 197, 64)      49408       ['conv1d_13[0][0]']              \n",
      "                                                                                                  \n",
      " lstm_14 (LSTM)                 (None, 197, 64)      49408       ['conv1d_15[0][0]']              \n",
      "                                                                                                  \n",
      " lstm_16 (LSTM)                 (None, 197, 64)      49408       ['conv1d_17[0][0]']              \n",
      "                                                                                                  \n",
      " lstm_9 (LSTM)                  (None, 398, 64)      49408       ['conv1d_9[0][0]']               \n",
      "                                                                                                  \n",
      " lstm_11 (LSTM)                 (None, 197, 64)      33024       ['lstm_10[0][0]']                \n",
      "                                                                                                  \n",
      " lstm_13 (LSTM)                 (None, 197, 64)      33024       ['lstm_12[0][0]']                \n",
      "                                                                                                  \n",
      " lstm_15 (LSTM)                 (None, 197, 64)      33024       ['lstm_14[0][0]']                \n",
      "                                                                                                  \n",
      " lstm_17 (LSTM)                 (None, 197, 64)      33024       ['lstm_16[0][0]']                \n",
      "                                                                                                  \n",
      " flatten_5 (Flatten)            (None, 25472)        0           ['lstm_9[0][0]']                 \n",
      "                                                                                                  \n",
      " flatten_6 (Flatten)            (None, 12608)        0           ['lstm_11[0][0]']                \n",
      "                                                                                                  \n",
      " flatten_7 (Flatten)            (None, 12608)        0           ['lstm_13[0][0]']                \n",
      "                                                                                                  \n",
      " flatten_8 (Flatten)            (None, 12608)        0           ['lstm_15[0][0]']                \n",
      "                                                                                                  \n",
      " flatten_9 (Flatten)            (None, 12608)        0           ['lstm_17[0][0]']                \n",
      "                                                                                                  \n",
      " dense_9 (Dense)                (None, 64)           1630272     ['flatten_5[0][0]']              \n",
      "                                                                                                  \n",
      " dense_10 (Dense)               (None, 64)           806976      ['flatten_6[0][0]']              \n",
      "                                                                                                  \n",
      " dense_11 (Dense)               (None, 64)           806976      ['flatten_7[0][0]']              \n",
      "                                                                                                  \n",
      " dense_12 (Dense)               (None, 64)           806976      ['flatten_8[0][0]']              \n",
      "                                                                                                  \n",
      " dense_13 (Dense)               (None, 64)           806976      ['flatten_9[0][0]']              \n",
      "                                                                                                  \n",
      " concatenate_1 (Concatenate)    (None, 320)          0           ['dense_9[0][0]',                \n",
      "                                                                  'dense_10[0][0]',               \n",
      "                                                                  'dense_11[0][0]',               \n",
      "                                                                  'dense_12[0][0]',               \n",
      "                                                                  'dense_13[0][0]']               \n",
      "                                                                                                  \n",
      " dense_14 (Dense)               (None, 128)          41088       ['concatenate_1[0][0]']          \n",
      "                                                                                                  \n",
      " dropout_1 (Dropout)            (None, 128)          0           ['dense_14[0][0]']               \n",
      "                                                                                                  \n",
      " dense_15 (Dense)               (None, 64)           8256        ['dropout_1[0][0]']              \n",
      "                                                                                                  \n",
      " dense_16 (Dense)               (None, 64)           4160        ['dense_15[0][0]']               \n",
      "                                                                                                  \n",
      " dense_17 (Dense)               (None, 5)            325         ['dense_16[0][0]']               \n",
      "                                                                                                  \n",
      "==================================================================================================\n",
      "Total params: 5,490,821\n",
      "Trainable params: 5,490,821\n",
      "Non-trainable params: 0\n",
      "__________________________________________________________________________________________________\n",
      "None\n"
     ]
    }
   ],
   "source": [
    "inputs_y = Input(shape=(400, 1))\n",
    "\n",
    "a = Conv1D(128, kernel_size = 3, padding = \"valid\")(inputs_y)\n",
    "a = LSTM(64, return_sequences=True)(a)\n",
    "a = Flatten()(a)\n",
    "a = Dense(64, activation='relu')(a)\n",
    "a = Model(inputs=inputs_y, outputs=a)\n",
    "\n",
    "b = Conv1D(128, kernel_size = 3, padding = \"valid\")(inputs_y)\n",
    "b = MaxPooling1D(2)(b)\n",
    "b = Conv1D(128, kernel_size = 3, padding = \"valid\")(b)\n",
    "b = LSTM(64, return_sequences=True)(b)\n",
    "b = LSTM(64, return_sequences=True)(b)\n",
    "b = Flatten()(b)\n",
    "b = Dense(64, activation='relu')(b)\n",
    "b = Model(inputs=inputs_y, outputs=b)\n",
    "\n",
    "c = Conv1D(128, kernel_size = 3, padding = \"valid\")(inputs_y)\n",
    "c = MaxPooling1D(2)(c)\n",
    "c = Conv1D(128, kernel_size = 3, padding = \"valid\")(c)\n",
    "c = LSTM(64, return_sequences=True)(c)\n",
    "c = LSTM(64, return_sequences=True)(c)\n",
    "c = Flatten()(c)\n",
    "c = Dense(64, activation='relu')(c)\n",
    "c = Model(inputs=inputs_y, outputs=c)\n",
    "\n",
    "d = Conv1D(128, kernel_size = 3, padding = \"valid\")(inputs_y)\n",
    "d = MaxPooling1D(2)(d)\n",
    "d = Conv1D(128, kernel_size = 3, padding = \"valid\")(d)\n",
    "d = LSTM(64, return_sequences=True)(d)\n",
    "d = LSTM(64, return_sequences=True)(d)\n",
    "d = Flatten()(d)\n",
    "d = Dense(64, activation='relu')(d)\n",
    "d = Model(inputs=inputs_y, outputs=d)\n",
    "\n",
    "e = Conv1D(128, kernel_size = 3, padding = \"valid\")(inputs_y)\n",
    "e = MaxPooling1D(2)(e)\n",
    "e = Conv1D(128, kernel_size = 3, padding = \"valid\")(e)\n",
    "e = LSTM(64, return_sequences=True)(e)\n",
    "e = LSTM(64, return_sequences=True)(e)\n",
    "e = Flatten()(e)\n",
    "e = Dense(64, activation='relu')(e)\n",
    "e = Model(inputs=inputs_y, outputs=e)\n",
    "\n",
    "x = concatenate([a.output, b.output, c.output, d.output, e.output])\n",
    "x = Dense(128, activation='relu')(x)\n",
    "x = Dropout(0.2)(x)\n",
    "x = Dense(64, activation='relu')(x)\n",
    "x = Dense(64, activation='relu')(x)\n",
    "\n",
    "output = Dense(5, activation='linear')(x)\n",
    "\n",
    "detached_multiNN_norm_model = Model(inputs=inputs_y, outputs=output)\n",
    "detached_multiNN_norm_model.compile(loss='mse', optimizer='adam', metrics=[\"mae\", \"mape\"])\n",
    "print(detached_multiNN_norm_model.summary())"
   ]
  },
  {
   "cell_type": "code",
   "execution_count": 22,
   "id": "599d7504-5744-4551-a1c4-5a448f93320f",
   "metadata": {},
   "outputs": [],
   "source": [
    "saved_model = \"models/det_multiNN_norm_model.hdf5\"\n",
    "checkpoint = ModelCheckpoint(saved_model, monitor = 'val_mae', verbose = 1, save_best_only = True, mode = 'min')\n",
    "early = EarlyStopping(monitor = \"val_mae\", mode = \"min\", patience = 25)\n",
    "csv_logger = CSVLogger('det_multiNN_norm_model.log', separator=',', append = True)\n",
    "callbacks_list = [checkpoint, early, csv_logger]"
   ]
  },
  {
   "cell_type": "code",
   "execution_count": 25,
   "id": "1060a65f-db5b-44e5-a495-baded3b7c4af",
   "metadata": {},
   "outputs": [
    {
     "name": "stdout",
     "output_type": "stream",
     "text": [
      "Epoch 1/15\n"
     ]
    },
    {
     "name": "stderr",
     "output_type": "stream",
     "text": [
      "2023-01-14 16:52:30.756119: I tensorflow/stream_executor/cuda/cuda_dnn.cc:384] Loaded cuDNN version 8201\n"
     ]
    },
    {
     "name": "stdout",
     "output_type": "stream",
     "text": [
      "13500/13500 [==============================] - ETA: 0s - loss: 0.0104 - mae: 0.0713 - mape: 165727.7812\n",
      "Epoch 1: val_mae improved from inf to 0.06958, saving model to models/det_multiNN_norm_model.hdf5\n",
      "13500/13500 [==============================] - 1410s 104ms/step - loss: 0.0104 - mae: 0.0713 - mape: 165727.7812 - val_loss: 0.0080 - val_mae: 0.0696 - val_mape: 116346.7734\n",
      "Epoch 2/15\n",
      "13500/13500 [==============================] - ETA: 0s - loss: 0.0058 - mae: 0.0512 - mape: 146182.1094\n",
      "Epoch 2: val_mae improved from 0.06958 to 0.06256, saving model to models/det_multiNN_norm_model.hdf5\n",
      "13500/13500 [==============================] - 1379s 102ms/step - loss: 0.0058 - mae: 0.0512 - mape: 146182.1094 - val_loss: 0.0068 - val_mae: 0.0626 - val_mape: 115670.8281\n",
      "Epoch 3/15\n",
      "13500/13500 [==============================] - ETA: 0s - loss: 0.0051 - mae: 0.0467 - mape: 143723.0781\n",
      "Epoch 3: val_mae did not improve from 0.06256\n",
      "13500/13500 [==============================] - 1380s 102ms/step - loss: 0.0051 - mae: 0.0467 - mape: 143723.0781 - val_loss: 0.0072 - val_mae: 0.0672 - val_mape: 110852.9297\n",
      "Epoch 4/15\n",
      "13500/13500 [==============================] - ETA: 0s - loss: 0.0047 - mae: 0.0442 - mape: 140636.4219\n",
      "Epoch 4: val_mae did not improve from 0.06256\n",
      "13500/13500 [==============================] - 1366s 101ms/step - loss: 0.0047 - mae: 0.0442 - mape: 140636.4219 - val_loss: 0.0072 - val_mae: 0.0669 - val_mape: 105901.3750\n",
      "Epoch 5/15\n",
      "13500/13500 [==============================] - ETA: 0s - loss: 0.0044 - mae: 0.0422 - mape: 138448.8281\n",
      "Epoch 5: val_mae did not improve from 0.06256\n",
      "13500/13500 [==============================] - 1365s 101ms/step - loss: 0.0044 - mae: 0.0422 - mape: 138448.8281 - val_loss: 0.0073 - val_mae: 0.0688 - val_mape: 112958.0391\n",
      "Epoch 6/15\n",
      "13500/13500 [==============================] - ETA: 0s - loss: 0.0042 - mae: 0.0408 - mape: 136001.6250\n",
      "Epoch 6: val_mae improved from 0.06256 to 0.05889, saving model to models/det_multiNN_norm_model.hdf5\n",
      "13500/13500 [==============================] - 1366s 101ms/step - loss: 0.0042 - mae: 0.0408 - mape: 136001.6250 - val_loss: 0.0058 - val_mae: 0.0589 - val_mape: 122709.8203\n",
      "Epoch 7/15\n",
      "13500/13500 [==============================] - ETA: 0s - loss: 0.0040 - mae: 0.0397 - mape: 135092.0625\n",
      "Epoch 7: val_mae did not improve from 0.05889\n",
      "13500/13500 [==============================] - 1367s 101ms/step - loss: 0.0040 - mae: 0.0397 - mape: 135092.0625 - val_loss: 0.0060 - val_mae: 0.0617 - val_mape: 106845.9922\n",
      "Epoch 8/15\n",
      "13500/13500 [==============================] - ETA: 0s - loss: 0.0040 - mae: 0.0391 - mape: 134035.0781\n",
      "Epoch 8: val_mae did not improve from 0.05889\n",
      "13500/13500 [==============================] - 1374s 102ms/step - loss: 0.0040 - mae: 0.0391 - mape: 134035.0781 - val_loss: 0.0236 - val_mae: 0.1160 - val_mape: 207356.8281\n",
      "Epoch 9/15\n",
      "13500/13500 [==============================] - ETA: 0s - loss: 0.0134 - mae: 0.0843 - mape: 172840.8594\n",
      "Epoch 9: val_mae did not improve from 0.05889\n",
      "13500/13500 [==============================] - 1374s 102ms/step - loss: 0.0134 - mae: 0.0843 - mape: 172840.8594 - val_loss: 0.0108 - val_mae: 0.0749 - val_mape: 152800.6250\n",
      "Epoch 10/15\n",
      "13500/13500 [==============================] - ETA: 0s - loss: 0.0089 - mae: 0.0666 - mape: 156476.8594\n",
      "Epoch 10: val_mae did not improve from 0.05889\n",
      "13500/13500 [==============================] - 1367s 101ms/step - loss: 0.0089 - mae: 0.0666 - mape: 156476.8594 - val_loss: 0.0092 - val_mae: 0.0711 - val_mape: 154480.7188\n",
      "Epoch 11/15\n",
      "13500/13500 [==============================] - ETA: 0s - loss: 0.0069 - mae: 0.0570 - mape: 150089.1094\n",
      "Epoch 11: val_mae did not improve from 0.05889\n",
      "13500/13500 [==============================] - 1369s 101ms/step - loss: 0.0069 - mae: 0.0570 - mape: 150089.1094 - val_loss: 0.0075 - val_mae: 0.0622 - val_mape: 147562.6094\n",
      "Epoch 12/15\n",
      "13500/13500 [==============================] - ETA: 0s - loss: 0.0062 - mae: 0.0532 - mape: 148258.2500\n",
      "Epoch 12: val_mae improved from 0.05889 to 0.05796, saving model to models/det_multiNN_norm_model.hdf5\n",
      "13500/13500 [==============================] - 1373s 102ms/step - loss: 0.0062 - mae: 0.0532 - mape: 148258.2500 - val_loss: 0.0066 - val_mae: 0.0580 - val_mape: 141638.2969\n",
      "Epoch 13/15\n",
      "13500/13500 [==============================] - ETA: 0s - loss: 0.0057 - mae: 0.0501 - mape: 148048.4844\n",
      "Epoch 13: val_mae improved from 0.05796 to 0.05414, saving model to models/det_multiNN_norm_model.hdf5\n",
      "13500/13500 [==============================] - 1339s 99ms/step - loss: 0.0057 - mae: 0.0501 - mape: 148048.4844 - val_loss: 0.0061 - val_mae: 0.0541 - val_mape: 142693.4688\n",
      "Epoch 14/15\n",
      "13500/13500 [==============================] - ETA: 0s - loss: 0.0053 - mae: 0.0478 - mape: 145590.6562\n",
      "Epoch 14: val_mae improved from 0.05414 to 0.05034, saving model to models/det_multiNN_norm_model.hdf5\n",
      "13500/13500 [==============================] - 1370s 101ms/step - loss: 0.0053 - mae: 0.0478 - mape: 145590.6562 - val_loss: 0.0057 - val_mae: 0.0503 - val_mape: 145100.0000\n",
      "Epoch 15/15\n",
      "13500/13500 [==============================] - ETA: 0s - loss: 0.0051 - mae: 0.0464 - mape: 143300.0781\n",
      "Epoch 15: val_mae did not improve from 0.05034\n",
      "13500/13500 [==============================] - 1370s 101ms/step - loss: 0.0051 - mae: 0.0464 - mape: 143300.0781 - val_loss: 0.0061 - val_mae: 0.0555 - val_mape: 146426.7656\n"
     ]
    }
   ],
   "source": [
    "history_multiNN_norm = detached_multiNN_norm_model.fit(\n",
    "    x=X_train_n,\n",
    "    y=[y_inc_scaled, y_q_scaled, y_pp_scaled, y_sp_scaled, y_tr_scaled],\n",
    "    validation_split = 0.1,\n",
    "    epochs = 15,\n",
    "    verbose = 1,\n",
    "    callbacks = callbacks_list,\n",
    "    batch_size = 64)"
   ]
  },
  {
   "cell_type": "markdown",
   "id": "9c59a414-0887-4b90-af90-57cbd1713b9c",
   "metadata": {},
   "source": [
    "## Vyhodnotenie modelu - loss, MAE"
   ]
  },
  {
   "cell_type": "code",
   "execution_count": 26,
   "id": "a3cb7d7f-e4df-412b-a6d3-00b1c27d35de",
   "metadata": {},
   "outputs": [],
   "source": [
    "multi_model = load_model(\"models/det_multiNN_norm_model.hdf5\")"
   ]
  },
  {
   "cell_type": "code",
   "execution_count": 28,
   "id": "f8ba69e7-c290-4735-bff1-9ac5926d33e4",
   "metadata": {},
   "outputs": [
    {
     "name": "stdout",
     "output_type": "stream",
     "text": [
      "2500/2500 [==============================] - 106s 41ms/step - loss: 677.5099 - mae: 7.4669 - mape: 74.3023\n",
      "Multi NN model -- Loss: 677.5099, MAE: 7.4669\n"
     ]
    }
   ],
   "source": [
    "scores = multi_model.evaluate(X_test, y_test) \n",
    "print('Multi NN model -- Loss: {:.4f}, MAE: {:.4f}'.format(scores[0], scores[1]))"
   ]
  },
  {
   "cell_type": "code",
   "execution_count": 29,
   "id": "6b832cf9-9567-44ce-a169-f20759c191e3",
   "metadata": {},
   "outputs": [],
   "source": [
    "# Adding noise to  test data\n",
    "X_test_n = []\n",
    "y_test_n = []\n",
    "for i in range(len(X_test)):\n",
    "    for j in range(3):\n",
    "        curve = stochastic_noise_generator(X_test[i])\n",
    "        X_test_n.append(curve[0])\n",
    "        y_test_n.append(y_test[i])\n",
    "        j += 1\n",
    "X_test_n = np.array(X_test_n)\n",
    "y_test_n = np.array(y_test_n)"
   ]
  },
  {
   "cell_type": "code",
   "execution_count": 30,
   "id": "1ec1647c-7474-4ea7-a03a-105181f78619",
   "metadata": {},
   "outputs": [
    {
     "name": "stdout",
     "output_type": "stream",
     "text": [
      "7500/7500 [==============================] - 313s 42ms/step - loss: 677.5145 - mae: 7.4660 - mape: 74.2880\n",
      "Multi NN model - data with noise -- Loss: 677.5145, MAE: 7.4660\n"
     ]
    }
   ],
   "source": [
    "scores_n = multi_model.evaluate(X_test_n, y_test_n) \n",
    "print('Multi NN model - data with noise -- Loss: {:.4f}, MAE: {:.4f}'.format(scores_n[0], scores_n[1]))"
   ]
  },
  {
   "cell_type": "markdown",
   "id": "358c37db-d891-4ce4-858c-f773d629b611",
   "metadata": {},
   "source": [
    "## Predikcie - data bez sumu"
   ]
  },
  {
   "cell_type": "code",
   "execution_count": 48,
   "id": "24fb82b6-65d7-474d-bf6f-2b92a95f5994",
   "metadata": {},
   "outputs": [
    {
     "name": "stdout",
     "output_type": "stream",
     "text": [
      "2500/2500 [==============================] - 101s 40ms/step\n"
     ]
    },
    {
     "data": {
      "text/plain": [
       "array([0.31985906, 0.31986335, 0.31986684, 0.3198728 , 0.31986997],\n",
       "      dtype=float32)"
      ]
     },
     "execution_count": 48,
     "metadata": {},
     "output_type": "execute_result"
    }
   ],
   "source": [
    "pred_multi = multi_model.predict(X_test)\n",
    "pred_multi[0]"
   ]
  },
  {
   "cell_type": "code",
   "execution_count": 49,
   "id": "58e32680-f11b-4ab1-a898-785da47d15f2",
   "metadata": {},
   "outputs": [],
   "source": [
    "pred_inc = np.array([arr[0] for arr in pred_multi])\n",
    "pred_mass = np.array([arr[1] for arr in pred_multi])\n",
    "pred_prim_potent = np.array([arr[2] for arr in pred_multi])\n",
    "pred_sec_potent = np.array([arr[3] for arr in pred_multi])\n",
    "pred_temp_ratio = np.array([arr[4] for arr in pred_multi])"
   ]
  },
  {
   "cell_type": "code",
   "execution_count": 50,
   "id": "60503c7c-f196-4d37-b038-d700eedff608",
   "metadata": {},
   "outputs": [
    {
     "data": {
      "text/plain": [
       "array([0.31985906, 0.78190315, 0.746999  , 0.66448075, 0.8521988 ,\n",
       "       0.82561046, 0.7856216 , 0.66779435, 0.90486383, 0.84347826],\n",
       "      dtype=float32)"
      ]
     },
     "execution_count": 50,
     "metadata": {},
     "output_type": "execute_result"
    }
   ],
   "source": [
    "pred_inc[0:10]"
   ]
  },
  {
   "cell_type": "code",
   "execution_count": 51,
   "id": "2f951b85-85cd-4b83-ba00-449345ce6520",
   "metadata": {},
   "outputs": [],
   "source": [
    "pred_inc = pred_inc.reshape(-1,1)\n",
    "pred_mass = pred_mass.reshape(-1,1)\n",
    "pred_prim_potent = pred_prim_potent.reshape(-1,1)\n",
    "pred_sec_potent = pred_sec_potent.reshape(-1,1)\n",
    "pred_temp_ratio = pred_temp_ratio.reshape(-1,1)"
   ]
  },
  {
   "cell_type": "code",
   "execution_count": 52,
   "id": "9b61c78f-da38-4a68-80df-de0393c341fe",
   "metadata": {},
   "outputs": [],
   "source": [
    "pred_inc_denorm = scaler_inc.inverse_transform(pred_inc)\n",
    "pred_q_denorm = scaler_q.inverse_transform(pred_mass)\n",
    "pred_pp_denorm = scaler_pp.inverse_transform(pred_prim_potent)\n",
    "pred_sp_denorm = scaler_sp.inverse_transform(pred_sec_potent)\n",
    "pred_tr_denorm = scaler_tr.inverse_transform(pred_temp_ratio)"
   ]
  },
  {
   "cell_type": "code",
   "execution_count": 62,
   "id": "774919fa-0088-4578-90f9-0429e2a9c625",
   "metadata": {},
   "outputs": [],
   "source": [
    "pred_inc_denorm = pred_inc_denorm.flatten()\n",
    "pred_q_denorm = pred_q_denorm.flatten()\n",
    "pred_pp_denorm = pred_pp_denorm.flatten()\n",
    "pred_sp_denorm = pred_sp_denorm.flatten()\n",
    "pred_tr_denorm = pred_tr_denorm.flatten()"
   ]
  },
  {
   "cell_type": "code",
   "execution_count": 64,
   "id": "321e522c-a612-4a5a-8b3a-ad332d9cbe8b",
   "metadata": {},
   "outputs": [
    {
     "data": {
      "text/html": [
       "<div>\n",
       "<style scoped>\n",
       "    .dataframe tbody tr th:only-of-type {\n",
       "        vertical-align: middle;\n",
       "    }\n",
       "\n",
       "    .dataframe tbody tr th {\n",
       "        vertical-align: top;\n",
       "    }\n",
       "\n",
       "    .dataframe thead th {\n",
       "        text-align: right;\n",
       "    }\n",
       "</style>\n",
       "<table border=\"1\" class=\"dataframe\">\n",
       "  <thead>\n",
       "    <tr style=\"text-align: right;\">\n",
       "      <th></th>\n",
       "      <th>pred_inc_denorm</th>\n",
       "      <th>pred_q_denorm</th>\n",
       "      <th>pred_pp_denorm</th>\n",
       "      <th>pred_sp_denorm</th>\n",
       "      <th>pred_tr_denorm</th>\n",
       "    </tr>\n",
       "  </thead>\n",
       "  <tbody>\n",
       "    <tr>\n",
       "      <th>0</th>\n",
       "      <td>1.004191</td>\n",
       "      <td>3.266647</td>\n",
       "      <td>36.559208</td>\n",
       "      <td>320.140869</td>\n",
       "      <td>4.278667</td>\n",
       "    </tr>\n",
       "    <tr>\n",
       "      <th>1</th>\n",
       "      <td>1.389106</td>\n",
       "      <td>7.840817</td>\n",
       "      <td>86.449417</td>\n",
       "      <td>779.603943</td>\n",
       "      <td>9.014439</td>\n",
       "    </tr>\n",
       "    <tr>\n",
       "      <th>2</th>\n",
       "      <td>1.360029</td>\n",
       "      <td>7.495257</td>\n",
       "      <td>82.680305</td>\n",
       "      <td>744.890198</td>\n",
       "      <td>8.656649</td>\n",
       "    </tr>\n",
       "    <tr>\n",
       "      <th>3</th>\n",
       "      <td>1.291285</td>\n",
       "      <td>6.678303</td>\n",
       "      <td>73.769562</td>\n",
       "      <td>662.821899</td>\n",
       "      <td>7.810781</td>\n",
       "    </tr>\n",
       "    <tr>\n",
       "      <th>4</th>\n",
       "      <td>1.447667</td>\n",
       "      <td>8.536765</td>\n",
       "      <td>94.040306</td>\n",
       "      <td>849.516174</td>\n",
       "      <td>9.735017</td>\n",
       "    </tr>\n",
       "  </tbody>\n",
       "</table>\n",
       "</div>"
      ],
      "text/plain": [
       "   pred_inc_denorm  pred_q_denorm  pred_pp_denorm  pred_sp_denorm  \\\n",
       "0         1.004191       3.266647       36.559208      320.140869   \n",
       "1         1.389106       7.840817       86.449417      779.603943   \n",
       "2         1.360029       7.495257       82.680305      744.890198   \n",
       "3         1.291285       6.678303       73.769562      662.821899   \n",
       "4         1.447667       8.536765       94.040306      849.516174   \n",
       "\n",
       "   pred_tr_denorm  \n",
       "0        4.278667  \n",
       "1        9.014439  \n",
       "2        8.656649  \n",
       "3        7.810781  \n",
       "4        9.735017  "
      ]
     },
     "execution_count": 64,
     "metadata": {},
     "output_type": "execute_result"
    }
   ],
   "source": [
    "predictions_df = pd.DataFrame()\n",
    "predictions_df['pred_inc_denorm']=pd.Series(pred_inc_denorm)\n",
    "predictions_df['pred_q_denorm']=pd.Series(pred_q_denorm)\n",
    "predictions_df['pred_pp_denorm']=pd.Series(pred_pp_denorm)\n",
    "predictions_df['pred_sp_denorm']=pd.Series(pred_sp_denorm)\n",
    "predictions_df['pred_tr_denorm']=pd.Series(pred_tr_denorm)\n",
    "predictions_df.head()"
   ]
  },
  {
   "cell_type": "code",
   "execution_count": 66,
   "id": "5125e48b-3dcb-43de-b8e9-f8216edc5d68",
   "metadata": {},
   "outputs": [
    {
     "data": {
      "text/plain": [
       "pred_inc_denorm      1.375205\n",
       "pred_q_denorm        7.675644\n",
       "pred_pp_denorm      84.647873\n",
       "pred_sp_denorm     763.017517\n",
       "pred_tr_denorm       8.843466\n",
       "dtype: float32"
      ]
     },
     "execution_count": 66,
     "metadata": {},
     "output_type": "execute_result"
    }
   ],
   "source": [
    "pred_mean = predictions_df.mean(axis=0)\n",
    "pred_mean"
   ]
  },
  {
   "cell_type": "code",
   "execution_count": 67,
   "id": "5d594725-0988-4af5-a7cf-2bd68a01e4ad",
   "metadata": {},
   "outputs": [
    {
     "data": {
      "text/plain": [
       "inclination                      1.375489\n",
       "mass_ratio                       1.762092\n",
       "primary__surface_potential      18.131032\n",
       "secondary__surface_potential    17.008164\n",
       "t1_t2                            2.649509\n",
       "dtype: float64"
      ]
     },
     "execution_count": 67,
     "metadata": {},
     "output_type": "execute_result"
    }
   ],
   "source": [
    "test_df = pd.DataFrame(y_test,\n",
    "                        columns = [\n",
    "                            \"inclination\",\n",
    "                            \"mass_ratio\",\n",
    "                            \"primary__surface_potential\",\n",
    "                            \"secondary__surface_potential\",\n",
    "                            \"t1_t2\"\n",
    "                            ])\n",
    "test_df = test_df.mean(axis=0)\n",
    "test_df"
   ]
  },
  {
   "cell_type": "code",
   "execution_count": 68,
   "id": "7e6f3b6c-17b4-4f9c-bb1b-20c61620b13b",
   "metadata": {},
   "outputs": [
    {
     "data": {
      "text/html": [
       "<div>\n",
       "<style scoped>\n",
       "    .dataframe tbody tr th:only-of-type {\n",
       "        vertical-align: middle;\n",
       "    }\n",
       "\n",
       "    .dataframe tbody tr th {\n",
       "        vertical-align: top;\n",
       "    }\n",
       "\n",
       "    .dataframe thead th {\n",
       "        text-align: right;\n",
       "    }\n",
       "</style>\n",
       "<table border=\"1\" class=\"dataframe\">\n",
       "  <thead>\n",
       "    <tr style=\"text-align: right;\">\n",
       "      <th></th>\n",
       "      <th>attribute</th>\n",
       "      <th>avg_true</th>\n",
       "      <th>avg_pred</th>\n",
       "      <th>MAE</th>\n",
       "    </tr>\n",
       "  </thead>\n",
       "  <tbody>\n",
       "    <tr>\n",
       "      <th>0</th>\n",
       "      <td>inclination</td>\n",
       "      <td>1.375489</td>\n",
       "      <td>1.375205</td>\n",
       "      <td>0.000285</td>\n",
       "    </tr>\n",
       "    <tr>\n",
       "      <th>1</th>\n",
       "      <td>mass_ratio</td>\n",
       "      <td>1.762092</td>\n",
       "      <td>7.675644</td>\n",
       "      <td>5.913552</td>\n",
       "    </tr>\n",
       "    <tr>\n",
       "      <th>2</th>\n",
       "      <td>primary__surface_potential</td>\n",
       "      <td>18.131032</td>\n",
       "      <td>84.647873</td>\n",
       "      <td>66.516841</td>\n",
       "    </tr>\n",
       "    <tr>\n",
       "      <th>3</th>\n",
       "      <td>secondary__surface_potential</td>\n",
       "      <td>17.008164</td>\n",
       "      <td>763.017517</td>\n",
       "      <td>746.009353</td>\n",
       "    </tr>\n",
       "    <tr>\n",
       "      <th>4</th>\n",
       "      <td>t1_t2</td>\n",
       "      <td>2.649509</td>\n",
       "      <td>8.843466</td>\n",
       "      <td>6.193957</td>\n",
       "    </tr>\n",
       "  </tbody>\n",
       "</table>\n",
       "</div>"
      ],
      "text/plain": [
       "                      attribute   avg_true    avg_pred         MAE\n",
       "0                   inclination   1.375489    1.375205    0.000285\n",
       "1                    mass_ratio   1.762092    7.675644    5.913552\n",
       "2    primary__surface_potential  18.131032   84.647873   66.516841\n",
       "3  secondary__surface_potential  17.008164  763.017517  746.009353\n",
       "4                         t1_t2   2.649509    8.843466    6.193957"
      ]
     },
     "execution_count": 68,
     "metadata": {},
     "output_type": "execute_result"
    }
   ],
   "source": [
    "eval_pred = pd.DataFrame({'attribute': test_df.index,\n",
    "            'avg_true': test_df.values,\n",
    "            'avg_pred': pred_mean.values,\n",
    "            'MAE': abs(test_df.values - pred_mean.values)})\n",
    "eval_pred"
   ]
  },
  {
   "cell_type": "markdown",
   "id": "2415c67e-e237-455f-b9a4-66ef11421e64",
   "metadata": {},
   "source": [
    "## Predikcie - data so sumom"
   ]
  },
  {
   "cell_type": "code",
   "execution_count": 69,
   "id": "864832b8-85a8-477c-9b92-2f7346394717",
   "metadata": {},
   "outputs": [
    {
     "name": "stdout",
     "output_type": "stream",
     "text": [
      "7500/7500 [==============================] - 308s 41ms/step\n"
     ]
    },
    {
     "data": {
      "text/plain": [
       "array([0.31674588, 0.31675026, 0.3167538 , 0.3167599 , 0.316757  ],\n",
       "      dtype=float32)"
      ]
     },
     "execution_count": 69,
     "metadata": {},
     "output_type": "execute_result"
    }
   ],
   "source": [
    "pred_multi_n= multi_model.predict(X_test_n)\n",
    "pred_multi_n[0]"
   ]
  },
  {
   "cell_type": "code",
   "execution_count": 71,
   "id": "1b7814f6-472d-4de9-a97c-792fc4015d07",
   "metadata": {},
   "outputs": [],
   "source": [
    "pred_inc_n = np.array([arr[0] for arr in pred_multi_n])\n",
    "pred_mass_n = np.array([arr[1] for arr in pred_multi_n])\n",
    "pred_prim_potent_n = np.array([arr[2] for arr in pred_multi_n])\n",
    "pred_sec_potent_n = np.array([arr[3] for arr in pred_multi_n])\n",
    "pred_temp_ratio_n = np.array([arr[4] for arr in pred_multi_n])"
   ]
  },
  {
   "cell_type": "code",
   "execution_count": 72,
   "id": "6b0ba6ee-7f91-493c-a94d-8881403b181c",
   "metadata": {},
   "outputs": [],
   "source": [
    "pred_inc_n = pred_inc_n.reshape(-1,1)\n",
    "pred_mass_n = pred_mass_n.reshape(-1,1)\n",
    "pred_prim_potent_n = pred_prim_potent_n.reshape(-1,1)\n",
    "pred_sec_potent_n = pred_sec_potent_n.reshape(-1,1)\n",
    "pred_temp_ratio_n = pred_temp_ratio_n.reshape(-1,1)"
   ]
  },
  {
   "cell_type": "code",
   "execution_count": 73,
   "id": "49720157-192f-4e66-884a-427d5ce5de41",
   "metadata": {},
   "outputs": [],
   "source": [
    "pred_inc_denorm_n = scaler_inc.inverse_transform(pred_inc_n).flatten()\n",
    "pred_q_denorm_n = scaler_q.inverse_transform(pred_mass_n).flatten()\n",
    "pred_pp_denorm_n = scaler_pp.inverse_transform(pred_prim_potent_n).flatten()\n",
    "pred_sp_denorm_n = scaler_sp.inverse_transform(pred_sec_potent_n).flatten()\n",
    "pred_tr_denorm_n = scaler_tr.inverse_transform(pred_temp_ratio_n).flatten()"
   ]
  },
  {
   "cell_type": "code",
   "execution_count": 75,
   "id": "86615b3a-d628-4548-9467-6dda322740ec",
   "metadata": {},
   "outputs": [
    {
     "data": {
      "text/html": [
       "<div>\n",
       "<style scoped>\n",
       "    .dataframe tbody tr th:only-of-type {\n",
       "        vertical-align: middle;\n",
       "    }\n",
       "\n",
       "    .dataframe tbody tr th {\n",
       "        vertical-align: top;\n",
       "    }\n",
       "\n",
       "    .dataframe thead th {\n",
       "        text-align: right;\n",
       "    }\n",
       "</style>\n",
       "<table border=\"1\" class=\"dataframe\">\n",
       "  <thead>\n",
       "    <tr style=\"text-align: right;\">\n",
       "      <th></th>\n",
       "      <th>pred_inc_denorm_n</th>\n",
       "      <th>pred_q_denorm_n</th>\n",
       "      <th>pred_pp_denorm_n</th>\n",
       "      <th>pred_sp_denorm_n</th>\n",
       "      <th>pred_tr_denorm_n</th>\n",
       "    </tr>\n",
       "  </thead>\n",
       "  <tbody>\n",
       "    <tr>\n",
       "      <th>0</th>\n",
       "      <td>1.001598</td>\n",
       "      <td>3.235828</td>\n",
       "      <td>36.223064</td>\n",
       "      <td>317.045227</td>\n",
       "      <td>4.246759</td>\n",
       "    </tr>\n",
       "    <tr>\n",
       "      <th>1</th>\n",
       "      <td>1.005403</td>\n",
       "      <td>3.281046</td>\n",
       "      <td>36.716248</td>\n",
       "      <td>321.587067</td>\n",
       "      <td>4.293573</td>\n",
       "    </tr>\n",
       "    <tr>\n",
       "      <th>2</th>\n",
       "      <td>1.004006</td>\n",
       "      <td>3.264449</td>\n",
       "      <td>36.535233</td>\n",
       "      <td>319.920044</td>\n",
       "      <td>4.276391</td>\n",
       "    </tr>\n",
       "    <tr>\n",
       "      <th>3</th>\n",
       "      <td>1.389086</td>\n",
       "      <td>7.840571</td>\n",
       "      <td>86.446739</td>\n",
       "      <td>779.579224</td>\n",
       "      <td>9.014184</td>\n",
       "    </tr>\n",
       "    <tr>\n",
       "      <th>4</th>\n",
       "      <td>1.388277</td>\n",
       "      <td>7.830962</td>\n",
       "      <td>86.341927</td>\n",
       "      <td>778.613770</td>\n",
       "      <td>9.004234</td>\n",
       "    </tr>\n",
       "  </tbody>\n",
       "</table>\n",
       "</div>"
      ],
      "text/plain": [
       "   pred_inc_denorm_n  pred_q_denorm_n  pred_pp_denorm_n  pred_sp_denorm_n  \\\n",
       "0           1.001598         3.235828         36.223064        317.045227   \n",
       "1           1.005403         3.281046         36.716248        321.587067   \n",
       "2           1.004006         3.264449         36.535233        319.920044   \n",
       "3           1.389086         7.840571         86.446739        779.579224   \n",
       "4           1.388277         7.830962         86.341927        778.613770   \n",
       "\n",
       "   pred_tr_denorm_n  \n",
       "0          4.246759  \n",
       "1          4.293573  \n",
       "2          4.276391  \n",
       "3          9.014184  \n",
       "4          9.004234  "
      ]
     },
     "execution_count": 75,
     "metadata": {},
     "output_type": "execute_result"
    }
   ],
   "source": [
    "predictions_n_df = pd.DataFrame()\n",
    "predictions_n_df['pred_inc_denorm_n']=pd.Series(pred_inc_denorm_n)\n",
    "predictions_n_df['pred_q_denorm_n']=pd.Series(pred_q_denorm_n)\n",
    "predictions_n_df['pred_pp_denorm_n']=pd.Series(pred_pp_denorm_n)\n",
    "predictions_n_df['pred_sp_denorm_n']=pd.Series(pred_sp_denorm_n)\n",
    "predictions_n_df['pred_tr_denorm_n']=pd.Series(pred_tr_denorm_n)\n",
    "predictions_n_df.head()"
   ]
  },
  {
   "cell_type": "code",
   "execution_count": 76,
   "id": "25564b82-d02e-445d-8c5a-28698a12c832",
   "metadata": {},
   "outputs": [
    {
     "data": {
      "text/plain": [
       "pred_inc_denorm_n      1.376187\n",
       "pred_q_denorm_n        7.687326\n",
       "pred_pp_denorm_n      84.775391\n",
       "pred_sp_denorm_n     764.191711\n",
       "pred_tr_denorm_n       8.855566\n",
       "dtype: float32"
      ]
     },
     "execution_count": 76,
     "metadata": {},
     "output_type": "execute_result"
    }
   ],
   "source": [
    "pred_mean_n = predictions_n_df.mean(axis=0)\n",
    "pred_mean_n"
   ]
  },
  {
   "cell_type": "code",
   "execution_count": 77,
   "id": "86d9f1e5-dea4-45f6-a5bb-5689b03d8645",
   "metadata": {},
   "outputs": [
    {
     "data": {
      "text/plain": [
       "inclination                      1.375489\n",
       "mass_ratio                       1.762092\n",
       "primary__surface_potential      18.131032\n",
       "secondary__surface_potential    17.008164\n",
       "t1_t2                            2.649509\n",
       "dtype: float64"
      ]
     },
     "execution_count": 77,
     "metadata": {},
     "output_type": "execute_result"
    }
   ],
   "source": [
    "test_df_n = pd.DataFrame(y_test_n,\n",
    "                        columns = [\n",
    "                            \"inclination\",\n",
    "                            \"mass_ratio\",\n",
    "                            \"primary__surface_potential\",\n",
    "                            \"secondary__surface_potential\",\n",
    "                            \"t1_t2\"\n",
    "                            ])\n",
    "test_df_n = test_df_n.mean(axis=0)\n",
    "test_df_n"
   ]
  },
  {
   "cell_type": "code",
   "execution_count": 78,
   "id": "f48d685e-afde-4899-920c-06b8f570d5a6",
   "metadata": {},
   "outputs": [
    {
     "data": {
      "text/html": [
       "<div>\n",
       "<style scoped>\n",
       "    .dataframe tbody tr th:only-of-type {\n",
       "        vertical-align: middle;\n",
       "    }\n",
       "\n",
       "    .dataframe tbody tr th {\n",
       "        vertical-align: top;\n",
       "    }\n",
       "\n",
       "    .dataframe thead th {\n",
       "        text-align: right;\n",
       "    }\n",
       "</style>\n",
       "<table border=\"1\" class=\"dataframe\">\n",
       "  <thead>\n",
       "    <tr style=\"text-align: right;\">\n",
       "      <th></th>\n",
       "      <th>attribute</th>\n",
       "      <th>avg_true</th>\n",
       "      <th>avg_pred</th>\n",
       "      <th>MAE</th>\n",
       "    </tr>\n",
       "  </thead>\n",
       "  <tbody>\n",
       "    <tr>\n",
       "      <th>0</th>\n",
       "      <td>inclination</td>\n",
       "      <td>1.375489</td>\n",
       "      <td>1.376187</td>\n",
       "      <td>0.000698</td>\n",
       "    </tr>\n",
       "    <tr>\n",
       "      <th>1</th>\n",
       "      <td>mass_ratio</td>\n",
       "      <td>1.762092</td>\n",
       "      <td>7.687326</td>\n",
       "      <td>5.925234</td>\n",
       "    </tr>\n",
       "    <tr>\n",
       "      <th>2</th>\n",
       "      <td>primary__surface_potential</td>\n",
       "      <td>18.131032</td>\n",
       "      <td>84.775391</td>\n",
       "      <td>66.644359</td>\n",
       "    </tr>\n",
       "    <tr>\n",
       "      <th>3</th>\n",
       "      <td>secondary__surface_potential</td>\n",
       "      <td>17.008164</td>\n",
       "      <td>764.191711</td>\n",
       "      <td>747.183548</td>\n",
       "    </tr>\n",
       "    <tr>\n",
       "      <th>4</th>\n",
       "      <td>t1_t2</td>\n",
       "      <td>2.649509</td>\n",
       "      <td>8.855566</td>\n",
       "      <td>6.206057</td>\n",
       "    </tr>\n",
       "  </tbody>\n",
       "</table>\n",
       "</div>"
      ],
      "text/plain": [
       "                      attribute   avg_true    avg_pred         MAE\n",
       "0                   inclination   1.375489    1.376187    0.000698\n",
       "1                    mass_ratio   1.762092    7.687326    5.925234\n",
       "2    primary__surface_potential  18.131032   84.775391   66.644359\n",
       "3  secondary__surface_potential  17.008164  764.191711  747.183548\n",
       "4                         t1_t2   2.649509    8.855566    6.206057"
      ]
     },
     "execution_count": 78,
     "metadata": {},
     "output_type": "execute_result"
    }
   ],
   "source": [
    "eval_pred_n = pd.DataFrame({'attribute': test_df_n.index,\n",
    "            'avg_true': test_df_n.values,\n",
    "            'avg_pred': pred_mean_n.values,\n",
    "            'MAE': abs(test_df_n.values - pred_mean_n.values)})\n",
    "eval_pred_n"
   ]
  }
 ],
 "metadata": {
  "kernelspec": {
   "display_name": "global",
   "language": "python",
   "name": "python3"
  },
  "language_info": {
   "codemirror_mode": {
    "name": "ipython",
    "version": 3
   },
   "file_extension": ".py",
   "mimetype": "text/x-python",
   "name": "python",
   "nbconvert_exporter": "python",
   "pygments_lexer": "ipython3",
   "version": "3.8.12 (default, Oct 12 2021, 03:01:40) [MSC v.1916 64 bit (AMD64)]"
  },
  "vscode": {
   "interpreter": {
    "hash": "b8fc6ce4f931e35f5dd2ff00f5d2ede33ff85432a244cf6e3e9d498f6426f487"
   }
  }
 },
 "nbformat": 4,
 "nbformat_minor": 5
}
