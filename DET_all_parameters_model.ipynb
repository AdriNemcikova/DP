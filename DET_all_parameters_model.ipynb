{
 "cells": [
  {
   "attachments": {},
   "cell_type": "markdown",
   "metadata": {},
   "source": [
    "# Prediction of all physical parameters for detached data with simple combined NN model\n",
    "In this Jupyter Notebook we will train NN model to predict all physical parameters of detached binary system.\n",
    "Content:\n",
    "* Libraries, functions\n",
    "* Data preparation\n",
    "* Create architecture of NN model\n",
    "* Evaluation of model\n",
    "* Predictions\n",
    "* Evaluation of predictions"
   ]
  },
  {
   "attachments": {},
   "cell_type": "markdown",
   "metadata": {},
   "source": [
    "## 1. Environment set-up\n",
    "* Importing libraries"
   ]
  },
  {
   "cell_type": "code",
   "execution_count": 1,
   "metadata": {},
   "outputs": [],
   "source": [
    "import numpy as np\n",
    "import pandas as pd\n",
    "import matplotlib.pyplot as plt\n",
    "\n",
    "from keras.models import load_model\n",
    "from sklearn.model_selection import train_test_split\n",
    "from keras.layers import Conv1D, MaxPooling1D\n",
    "from keras.layers import Input, Dense, LSTM, Dropout, Flatten\n",
    "from keras.models import Model\n",
    "from tensorflow.keras.callbacks import ModelCheckpoint, EarlyStopping\n",
    "\n",
    "np.random.seed(1234)\n",
    "pd.set_option('display.max_rows', None)"
   ]
  },
  {
   "cell_type": "markdown",
   "metadata": {},
   "source": [
    "* Defining functions for noise generation, set-up of random sigma value generator."
   ]
  },
  {
   "cell_type": "code",
   "execution_count": 2,
   "metadata": {},
   "outputs": [],
   "source": [
    "def generate_observation_sigma(space_obs_frac=0.5):\n",
    "    \"\"\"\n",
    "    Draws a standard deviation of noise in light curve points from a \"true\" value provided in synthetic light curve.\n",
    "    Noise sigma is drawn from bimodal distribution taking into account contributions from space based and earth based\n",
    "    observations which have different levels of stochastic noise.\n",
    "\n",
    "    :param space_obs_frac: ratio between earth based and space based observations\n",
    "    :return: float; standard deviation of the light curve noise\n",
    "    \"\"\"\n",
    "    earth_based_sigma = 4e-3\n",
    "    space_based_sigma = 2e-4\n",
    "    sigma = np.random.choice([earth_based_sigma, space_based_sigma], p=[1-space_obs_frac, space_obs_frac])\n",
    "    return np.random.rayleigh(sigma)\n",
    "\n",
    "def stochastic_noise_generator(curve):\n",
    "    \"\"\"\n",
    "    Introduces gaussian noise into synthetic observation provided in `curve`.\n",
    "\n",
    "    :param curve: numpy.array; normalized light curve\n",
    "    :return: Tuple(numpy.array, float); normalized light curve with added noise, standard deviation of observations\n",
    "    \"\"\"\n",
    "    sigma = generate_observation_sigma()\n",
    "    return np.random.normal(curve, sigma), np.full(curve.shape, sigma)"
   ]
  },
  {
   "cell_type": "markdown",
   "metadata": {},
   "source": [
    "## 2. Data loading\n",
    "* Loading synthetic data from .pkl file"
   ]
  },
  {
   "cell_type": "code",
   "execution_count": 3,
   "metadata": {},
   "outputs": [],
   "source": [
    "data = pd.read_pickle(\"detached_all_parameters.pkl\").reset_index()"
   ]
  },
  {
   "cell_type": "markdown",
   "metadata": {},
   "source": [
    "* Selecting random sample of data of size 100 000 records"
   ]
  },
  {
   "cell_type": "code",
   "execution_count": 4,
   "metadata": {},
   "outputs": [
    {
     "data": {
      "text/html": [
       "<div>\n",
       "<style scoped>\n",
       "    .dataframe tbody tr th:only-of-type {\n",
       "        vertical-align: middle;\n",
       "    }\n",
       "\n",
       "    .dataframe tbody tr th {\n",
       "        vertical-align: top;\n",
       "    }\n",
       "\n",
       "    .dataframe thead th {\n",
       "        text-align: right;\n",
       "    }\n",
       "</style>\n",
       "<table border=\"1\" class=\"dataframe\">\n",
       "  <thead>\n",
       "    <tr style=\"text-align: right;\">\n",
       "      <th></th>\n",
       "      <th>index</th>\n",
       "      <th>id</th>\n",
       "      <th>curve</th>\n",
       "      <th>primary__t_eff</th>\n",
       "      <th>secondary__t_eff</th>\n",
       "      <th>inclination</th>\n",
       "      <th>mass_ratio</th>\n",
       "      <th>primary__surface_potential</th>\n",
       "      <th>secondary__surface_potential</th>\n",
       "      <th>t1_t2</th>\n",
       "      <th>filter</th>\n",
       "      <th>critical_surface_potential</th>\n",
       "      <th>primary__equivalent_radius</th>\n",
       "      <th>secondary__equivalent_radius</th>\n",
       "      <th>primary__filling_factor</th>\n",
       "      <th>secondary__filling_factor</th>\n",
       "    </tr>\n",
       "  </thead>\n",
       "  <tbody>\n",
       "    <tr>\n",
       "      <th>647973</th>\n",
       "      <td>647973</td>\n",
       "      <td>10032749</td>\n",
       "      <td>[0.48835963039886077, 0.4913287663336375, 0.49...</td>\n",
       "      <td>45000</td>\n",
       "      <td>5000</td>\n",
       "      <td>1.334076</td>\n",
       "      <td>0.600000</td>\n",
       "      <td>20.601251</td>\n",
       "      <td>4.071076</td>\n",
       "      <td>9.00</td>\n",
       "      <td>Bessell_B</td>\n",
       "      <td>3.063442</td>\n",
       "      <td>0.049981</td>\n",
       "      <td>0.210724</td>\n",
       "      <td>-49.955205</td>\n",
       "      <td>-2.870176</td>\n",
       "    </tr>\n",
       "    <tr>\n",
       "      <th>1109932</th>\n",
       "      <td>1109932</td>\n",
       "      <td>16384835</td>\n",
       "      <td>[0.5932746668156491, 0.594846617739326, 0.5994...</td>\n",
       "      <td>12000</td>\n",
       "      <td>5000</td>\n",
       "      <td>1.310729</td>\n",
       "      <td>1.111111</td>\n",
       "      <td>7.008254</td>\n",
       "      <td>5.425004</td>\n",
       "      <td>2.40</td>\n",
       "      <td>SLOAN_u</td>\n",
       "      <td>3.928447</td>\n",
       "      <td>0.170106</td>\n",
       "      <td>0.250460</td>\n",
       "      <td>-5.570841</td>\n",
       "      <td>-2.707013</td>\n",
       "    </tr>\n",
       "    <tr>\n",
       "      <th>731380</th>\n",
       "      <td>731380</td>\n",
       "      <td>10579972</td>\n",
       "      <td>[0.0559029780103817, 0.05590501277853746, 0.05...</td>\n",
       "      <td>10000</td>\n",
       "      <td>5000</td>\n",
       "      <td>1.427398</td>\n",
       "      <td>1.666667</td>\n",
       "      <td>9.367600</td>\n",
       "      <td>5.812000</td>\n",
       "      <td>2.00</td>\n",
       "      <td>Bessell_U</td>\n",
       "      <td>4.772403</td>\n",
       "      <td>0.130062</td>\n",
       "      <td>0.330428</td>\n",
       "      <td>-7.853457</td>\n",
       "      <td>-1.776732</td>\n",
       "    </tr>\n",
       "    <tr>\n",
       "      <th>692703</th>\n",
       "      <td>692703</td>\n",
       "      <td>10341530</td>\n",
       "      <td>[0.9719087814691745, 0.9719390320925176, 0.971...</td>\n",
       "      <td>9000</td>\n",
       "      <td>5000</td>\n",
       "      <td>1.223879</td>\n",
       "      <td>1.666667</td>\n",
       "      <td>9.367600</td>\n",
       "      <td>8.640628</td>\n",
       "      <td>1.80</td>\n",
       "      <td>GaiaDR2</td>\n",
       "      <td>4.772403</td>\n",
       "      <td>0.130062</td>\n",
       "      <td>0.209983</td>\n",
       "      <td>-7.853457</td>\n",
       "      <td>-6.611019</td>\n",
       "    </tr>\n",
       "    <tr>\n",
       "      <th>1145336</th>\n",
       "      <td>1145336</td>\n",
       "      <td>16615611</td>\n",
       "      <td>[0.8654052436804602, 0.8654499986635169, 0.865...</td>\n",
       "      <td>20000</td>\n",
       "      <td>16000</td>\n",
       "      <td>1.180696</td>\n",
       "      <td>0.900000</td>\n",
       "      <td>3.676833</td>\n",
       "      <td>19.051127</td>\n",
       "      <td>1.25</td>\n",
       "      <td>Kepler</td>\n",
       "      <td>3.585603</td>\n",
       "      <td>0.373969</td>\n",
       "      <td>0.049982</td>\n",
       "      <td>-0.183357</td>\n",
       "      <td>-31.082753</td>\n",
       "    </tr>\n",
       "  </tbody>\n",
       "</table>\n",
       "</div>"
      ],
      "text/plain": [
       "           index        id                                              curve  \\\n",
       "647973    647973  10032749  [0.48835963039886077, 0.4913287663336375, 0.49...   \n",
       "1109932  1109932  16384835  [0.5932746668156491, 0.594846617739326, 0.5994...   \n",
       "731380    731380  10579972  [0.0559029780103817, 0.05590501277853746, 0.05...   \n",
       "692703    692703  10341530  [0.9719087814691745, 0.9719390320925176, 0.971...   \n",
       "1145336  1145336  16615611  [0.8654052436804602, 0.8654499986635169, 0.865...   \n",
       "\n",
       "         primary__t_eff  secondary__t_eff  inclination  mass_ratio  \\\n",
       "647973            45000              5000     1.334076    0.600000   \n",
       "1109932           12000              5000     1.310729    1.111111   \n",
       "731380            10000              5000     1.427398    1.666667   \n",
       "692703             9000              5000     1.223879    1.666667   \n",
       "1145336           20000             16000     1.180696    0.900000   \n",
       "\n",
       "         primary__surface_potential  secondary__surface_potential  t1_t2  \\\n",
       "647973                    20.601251                      4.071076   9.00   \n",
       "1109932                    7.008254                      5.425004   2.40   \n",
       "731380                     9.367600                      5.812000   2.00   \n",
       "692703                     9.367600                      8.640628   1.80   \n",
       "1145336                    3.676833                     19.051127   1.25   \n",
       "\n",
       "            filter  critical_surface_potential  primary__equivalent_radius  \\\n",
       "647973   Bessell_B                    3.063442                    0.049981   \n",
       "1109932    SLOAN_u                    3.928447                    0.170106   \n",
       "731380   Bessell_U                    4.772403                    0.130062   \n",
       "692703     GaiaDR2                    4.772403                    0.130062   \n",
       "1145336     Kepler                    3.585603                    0.373969   \n",
       "\n",
       "         secondary__equivalent_radius  primary__filling_factor  \\\n",
       "647973                       0.210724               -49.955205   \n",
       "1109932                      0.250460                -5.570841   \n",
       "731380                       0.330428                -7.853457   \n",
       "692703                       0.209983                -7.853457   \n",
       "1145336                      0.049982                -0.183357   \n",
       "\n",
       "         secondary__filling_factor  \n",
       "647973                   -2.870176  \n",
       "1109932                  -2.707013  \n",
       "731380                   -1.776732  \n",
       "692703                   -6.611019  \n",
       "1145336                 -31.082753  "
      ]
     },
     "execution_count": 4,
     "metadata": {},
     "output_type": "execute_result"
    }
   ],
   "source": [
    "data_sample = data.sample(n=100000)\n",
    "data_sample.head()"
   ]
  },
  {
   "cell_type": "markdown",
   "metadata": {},
   "source": [
    "## 3. Data preparation"
   ]
  },
  {
   "cell_type": "markdown",
   "metadata": {},
   "source": [
    "* Create multi-dimensional array of vectors of light curves"
   ]
  },
  {
   "cell_type": "code",
   "execution_count": 5,
   "metadata": {},
   "outputs": [],
   "source": [
    "X = []\n",
    "for row in data_sample[\"curve\"]:\n",
    "    X.append(row)\n",
    "X = np.array(X)"
   ]
  },
  {
   "cell_type": "markdown",
   "metadata": {},
   "source": [
    "* Create array of features, which will model predict"
   ]
  },
  {
   "cell_type": "code",
   "execution_count": 6,
   "metadata": {},
   "outputs": [],
   "source": [
    "y = np.array(data_sample[[\n",
    "    \"inclination\",\n",
    "    \"mass_ratio\",\n",
    "    \"primary__surface_potential\",\n",
    "    \"secondary__surface_potential\",\n",
    "    \"t1_t2\",\n",
    "    \"critical_surface_potential\",\n",
    "    \"primary__equivalent_radius\",\n",
    "    \"secondary__equivalent_radius\",\n",
    "    \"primary__filling_factor\",\n",
    "    \"secondary__filling_factor\"]])"
   ]
  },
  {
   "cell_type": "markdown",
   "metadata": {},
   "source": [
    "* Splitting data into training and testing data sets in 80:20 ratio"
   ]
  },
  {
   "cell_type": "code",
   "execution_count": 7,
   "metadata": {},
   "outputs": [],
   "source": [
    "X_train1, X_test, y_train1, y_test = train_test_split(X, y, test_size=0.2)"
   ]
  },
  {
   "cell_type": "markdown",
   "metadata": {},
   "source": [
    "* Adding noise into training datasets (noise generated with functions defined earlier)"
   ]
  },
  {
   "cell_type": "code",
   "execution_count": 8,
   "metadata": {},
   "outputs": [],
   "source": [
    "X_train = []\n",
    "y_train = []\n",
    "for i in range(len(X_train1)):\n",
    "    for j in range(3):\n",
    "        curve = stochastic_noise_generator(X_train1[i])\n",
    "        X_train.append(curve[0])\n",
    "        y_train.append(y_train1[i])\n",
    "X_train = np.array(X_train)\n",
    "y_train=np.array(y_train)"
   ]
  },
  {
   "cell_type": "markdown",
   "metadata": {},
   "source": [
    "* Details about number of records in specific data sets"
   ]
  },
  {
   "cell_type": "code",
   "execution_count": 9,
   "metadata": {},
   "outputs": [
    {
     "name": "stdout",
     "output_type": "stream",
     "text": [
      "Number of records in dataset:  1300000 \n",
      "Number of records in sample:  100000 \n",
      "Number of train data without noise:  80000 \n",
      "Number of train data with noise:  240000 \n",
      "Number of test data without noise:  20000\n"
     ]
    }
   ],
   "source": [
    "print(\"Number of records in dataset: \", len(data),\n",
    "    \"\\nNumber of records in sample: \", len(X),\n",
    "    \"\\nNumber of train data without noise: \", len(X_train1),\n",
    "    \"\\nNumber of train data with noise: \", len(X_train),\n",
    "    \"\\nNumber of test data without noise: \", len(X_test))"
   ]
  },
  {
   "cell_type": "markdown",
   "metadata": {},
   "source": [
    "## 4. Modeling"
   ]
  },
  {
   "attachments": {},
   "cell_type": "markdown",
   "metadata": {},
   "source": [
    "* Defining neural network model architecture\n",
    "    * it is simple combined architecture with 1D CNN and recurrent LSTM layer\n",
    "    * input shape of vector is  400x1, output is array 10x1 - 10 predicted physical parameters\n",
    "    * model will be saved as *detached_allParams.hdf5* in *models* folder"
   ]
  },
  {
   "cell_type": "code",
   "execution_count": 13,
   "metadata": {},
   "outputs": [
    {
     "name": "stdout",
     "output_type": "stream",
     "text": [
      "Model: \"functional_1\"\n",
      "_________________________________________________________________\n",
      "Layer (type)                 Output Shape              Param #   \n",
      "=================================================================\n",
      "input_1 (InputLayer)         [(None, 400, 1)]          0         \n",
      "_________________________________________________________________\n",
      "conv1d (Conv1D)              (None, 398, 64)           256       \n",
      "_________________________________________________________________\n",
      "max_pooling1d (MaxPooling1D) (None, 199, 64)           0         \n",
      "_________________________________________________________________\n",
      "dropout (Dropout)            (None, 199, 64)           0         \n",
      "_________________________________________________________________\n",
      "lstm (LSTM)                  (None, 199, 64)           33024     \n",
      "_________________________________________________________________\n",
      "flatten (Flatten)            (None, 12736)             0         \n",
      "_________________________________________________________________\n",
      "dense (Dense)                (None, 64)                815168    \n",
      "_________________________________________________________________\n",
      "dense_1 (Dense)              (None, 32)                2080      \n",
      "_________________________________________________________________\n",
      "dense_2 (Dense)              (None, 10)                330       \n",
      "=================================================================\n",
      "Total params: 850,858\n",
      "Trainable params: 850,858\n",
      "Non-trainable params: 0\n",
      "_________________________________________________________________\n",
      "None\n"
     ]
    }
   ],
   "source": [
    "inputs = Input(shape=(400, 1))\n",
    "b = Conv1D(64, kernel_size = 3, padding = \"valid\")(inputs)\n",
    "b = MaxPooling1D(2)(b)\n",
    "b = Dropout(0.2)(b)\n",
    "b = LSTM(64, return_sequences=True)(b)\n",
    "b = Flatten()(b)\n",
    "b = Dense(64, activation='relu')(b)\n",
    "x = Dense(32, activation='relu')(b)\n",
    "output = Dense(10, activation='linear')(x)\n",
    "model = Model(inputs=inputs, outputs=output)\n",
    "model.compile(loss='mse', optimizer='adam', metrics=[\"mae\", \"mape\"])\n",
    "\n",
    "saved_model = \"models/detached_allParams.hdf5\"\n",
    "checkpoint = ModelCheckpoint(saved_model, monitor = 'val_mae', verbose = 1, save_best_only = True, mode = 'min')\n",
    "early = EarlyStopping(monitor = \"val_mae\", mode = \"min\", patience = 25)\n",
    "callbacks_list = [checkpoint, early]\n",
    "\n",
    "print(model.summary())"
   ]
  },
  {
   "cell_type": "markdown",
   "metadata": {},
   "source": [
    "* Model training\n",
    "    * Model is trained for 10 epochs\n",
    "    * For validation data set we selected 10% of training data"
   ]
  },
  {
   "cell_type": "code",
   "execution_count": 15,
   "metadata": {},
   "outputs": [
    {
     "name": "stdout",
     "output_type": "stream",
     "text": [
      "Epoch 1/10\n",
      "3375/3375 [==============================] - ETA: 0s - loss: 1328.0272 - mae: 9.6728 - mape: 3432.2437\n",
      "Epoch 00001: val_mae improved from inf to 8.66192, saving model to models\\detached_allParams.hdf5\n",
      "3375/3375 [==============================] - 626s 186ms/step - loss: 1328.0272 - mae: 9.6728 - mape: 3432.2437 - val_loss: 1217.9954 - val_mae: 8.6619 - val_mape: 2219.9961\n",
      "Epoch 2/10\n",
      "3375/3375 [==============================] - ETA: 0s - loss: 1224.9697 - mae: 8.9784 - mape: 2610.2327 ETA: 2s - loss: 1225.5969 - mae: \n",
      "Epoch 00002: val_mae did not improve from 8.66192\n",
      "3375/3375 [==============================] - 629s 186ms/step - loss: 1224.9697 - mae: 8.9784 - mape: 2610.2327 - val_loss: 1243.6257 - val_mae: 9.7287 - val_mape: 2925.8972\n",
      "Epoch 3/10\n",
      "3375/3375 [==============================] - ETA: 0s - loss: 1185.8466 - mae: 8.6748 - mape: 2297.4058\n",
      "Epoch 00003: val_mae improved from 8.66192 to 7.64794, saving model to models\\detached_allParams.hdf5\n",
      "3375/3375 [==============================] - 762s 226ms/step - loss: 1185.8466 - mae: 8.6748 - mape: 2297.4058 - val_loss: 1220.4130 - val_mae: 7.6479 - val_mape: 1329.3967\n",
      "Epoch 4/10\n",
      "3375/3375 [==============================] - ETA: 0s - loss: 1120.8966 - mae: 8.2097 - mape: 2389.1431\n",
      "Epoch 00004: val_mae did not improve from 7.64794\n",
      "3375/3375 [==============================] - 475s 141ms/step - loss: 1120.8966 - mae: 8.2097 - mape: 2389.1431 - val_loss: 1093.4109 - val_mae: 7.6728 - val_mape: 1667.3240\n",
      "Epoch 5/10\n",
      "3375/3375 [==============================] - ETA: 0s - loss: 1134.3701 - mae: 8.2178 - mape: 2132.3081\n",
      "Epoch 00005: val_mae did not improve from 7.64794\n",
      "3375/3375 [==============================] - 508s 151ms/step - loss: 1134.3701 - mae: 8.2178 - mape: 2132.3081 - val_loss: 1646.3011 - val_mae: 9.1604 - val_mape: 4050.4333\n",
      "Epoch 6/10\n",
      "3375/3375 [==============================] - ETA: 0s - loss: 1296.6138 - mae: 9.2043 - mape: 2966.2649\n",
      "Epoch 00006: val_mae did not improve from 7.64794\n",
      "3375/3375 [==============================] - 513s 152ms/step - loss: 1296.6138 - mae: 9.2043 - mape: 2966.2649 - val_loss: 1237.4164 - val_mae: 8.7115 - val_mape: 2466.6992\n",
      "Epoch 7/10\n",
      "3375/3375 [==============================] - ETA: 0s - loss: 1132.2301 - mae: 8.1269 - mape: 2027.9034\n",
      "Epoch 00007: val_mae did not improve from 7.64794\n",
      "3375/3375 [==============================] - 521s 154ms/step - loss: 1132.2301 - mae: 8.1269 - mape: 2027.9034 - val_loss: 1141.0839 - val_mae: 8.0932 - val_mape: 2058.2026\n",
      "Epoch 8/10\n",
      "3375/3375 [==============================] - ETA: 0s - loss: 1036.3597 - mae: 7.4409 - mape: 1407.8699\n",
      "Epoch 00008: val_mae improved from 7.64794 to 7.24666, saving model to models\\detached_allParams.hdf5\n",
      "3375/3375 [==============================] - 536s 159ms/step - loss: 1036.3597 - mae: 7.4409 - mape: 1407.8699 - val_loss: 1031.1855 - val_mae: 7.2467 - val_mape: 962.3931\n",
      "Epoch 9/10\n",
      "3375/3375 [==============================] - ETA: 0s - loss: 989.9492 - mae: 7.0016 - mape: 1130.4142\n",
      "Epoch 00009: val_mae improved from 7.24666 to 6.96629, saving model to models\\detached_allParams.hdf5\n",
      "3375/3375 [==============================] - 536s 159ms/step - loss: 989.9492 - mae: 7.0016 - mape: 1130.4142 - val_loss: 995.9229 - val_mae: 6.9663 - val_mape: 908.3751\n",
      "Epoch 10/10\n",
      "3375/3375 [==============================] - ETA: 0s - loss: 961.7232 - mae: 6.7354 - mape: 1015.8821\n",
      "Epoch 00010: val_mae improved from 6.96629 to 6.64964, saving model to models\\detached_allParams.hdf5\n",
      "3375/3375 [==============================] - 555s 165ms/step - loss: 961.7232 - mae: 6.7354 - mape: 1015.8821 - val_loss: 966.6676 - val_mae: 6.6496 - val_mape: 997.5285\n"
     ]
    }
   ],
   "source": [
    "history = model.fit(X_train, y_train, validation_split = 0.1, epochs = 10, verbose = 1, callbacks = callbacks_list, batch_size = 64)"
   ]
  },
  {
   "cell_type": "markdown",
   "metadata": {},
   "source": [
    "* Loading of trained model"
   ]
  },
  {
   "cell_type": "code",
   "execution_count": 9,
   "metadata": {},
   "outputs": [],
   "source": [
    "model = load_model(\"models/detached_allParams.hdf5\")"
   ]
  },
  {
   "cell_type": "markdown",
   "metadata": {},
   "source": [
    "## 5. Model evaluation"
   ]
  },
  {
   "cell_type": "markdown",
   "metadata": {},
   "source": [
    "* Model evaluation on test data without added noise\n",
    "* In the output we can see loss and MAE values"
   ]
  },
  {
   "cell_type": "code",
   "execution_count": 10,
   "metadata": {},
   "outputs": [
    {
     "name": "stdout",
     "output_type": "stream",
     "text": [
      "625/625 [==============================] - 31s 50ms/step - loss: 980.3248 - mean_absolute_error: 6.5634 - mean_absolute_percentage_error: 960.3643\n",
      "Loss: 980.3248, MAE: 6.5634\n"
     ]
    }
   ],
   "source": [
    "scores = model.evaluate(X_test, y_test)\n",
    "print('Loss: {:.4f}, MAE: {:.4f}'.format(scores[0], scores[1]))"
   ]
  },
  {
   "cell_type": "markdown",
   "metadata": {},
   "source": [
    "* Adding random noise to test data"
   ]
  },
  {
   "cell_type": "code",
   "execution_count": 11,
   "metadata": {},
   "outputs": [],
   "source": [
    "X_test_n = []\n",
    "y_test_n = []\n",
    "for i in range(len(X_test)):\n",
    "    for j in range(3):\n",
    "        curve = stochastic_noise_generator(X_test[i])\n",
    "        X_test_n.append(curve[0])\n",
    "        y_test_n.append(y_test[i])\n",
    "        j += 1\n",
    "X_test_n = np.array(X_test_n)\n",
    "y_test_n = np.array(y_test_n)"
   ]
  },
  {
   "cell_type": "markdown",
   "metadata": {},
   "source": [
    "* Model evaluation on test data with added noise\n",
    "* In the output we can see loss and MAE values"
   ]
  },
  {
   "cell_type": "code",
   "execution_count": 12,
   "metadata": {},
   "outputs": [
    {
     "name": "stdout",
     "output_type": "stream",
     "text": [
      "1875/1875 [==============================] - 70s 37ms/step - loss: 990.9431 - mean_absolute_error: 6.6170 - mean_absolute_percentage_error: 958.5410\n",
      "Loss: 990.9431, MAE: 6.6170\n"
     ]
    }
   ],
   "source": [
    "scores_n = model.evaluate(X_test_n, y_test_n)\n",
    "print('Loss: {:.4f}, MAE: {:.4f}'.format(scores_n[0], scores_n[1]))"
   ]
  },
  {
   "cell_type": "markdown",
   "metadata": {},
   "source": [
    "## 6. Predictions on test data without noise"
   ]
  },
  {
   "cell_type": "markdown",
   "metadata": {},
   "source": [
    "* Predictions on test data without noise\n",
    "* Predictions are saved into *y_pred* variable in the form of multi-dimensional array"
   ]
  },
  {
   "cell_type": "code",
   "execution_count": 13,
   "metadata": {},
   "outputs": [],
   "source": [
    "y_pred = model.predict(X_test)"
   ]
  },
  {
   "cell_type": "markdown",
   "metadata": {},
   "source": [
    "* Data frame created of *y_pred* array with specified column names"
   ]
  },
  {
   "cell_type": "code",
   "execution_count": 14,
   "metadata": {},
   "outputs": [
    {
     "data": {
      "text/html": [
       "<div>\n",
       "<style scoped>\n",
       "    .dataframe tbody tr th:only-of-type {\n",
       "        vertical-align: middle;\n",
       "    }\n",
       "\n",
       "    .dataframe tbody tr th {\n",
       "        vertical-align: top;\n",
       "    }\n",
       "\n",
       "    .dataframe thead th {\n",
       "        text-align: right;\n",
       "    }\n",
       "</style>\n",
       "<table border=\"1\" class=\"dataframe\">\n",
       "  <thead>\n",
       "    <tr style=\"text-align: right;\">\n",
       "      <th></th>\n",
       "      <th>p_inclination</th>\n",
       "      <th>p_mass_ratio</th>\n",
       "      <th>p_primary__surface_potential</th>\n",
       "      <th>p_secondary__surface_potential</th>\n",
       "      <th>p_t1_t2</th>\n",
       "      <th>p_critical_surface_potential</th>\n",
       "      <th>p_primary_equivalent_radius</th>\n",
       "      <th>p_secondary_equivalent_radius</th>\n",
       "      <th>p_primary_filling_factor</th>\n",
       "      <th>p_secondary_filling_factor</th>\n",
       "    </tr>\n",
       "  </thead>\n",
       "  <tbody>\n",
       "    <tr>\n",
       "      <th>0</th>\n",
       "      <td>1.447385</td>\n",
       "      <td>1.397426</td>\n",
       "      <td>7.617913</td>\n",
       "      <td>7.339401</td>\n",
       "      <td>1.774296</td>\n",
       "      <td>4.291509</td>\n",
       "      <td>0.200144</td>\n",
       "      <td>0.234835</td>\n",
       "      <td>-10.480977</td>\n",
       "      <td>-5.427356</td>\n",
       "    </tr>\n",
       "    <tr>\n",
       "      <th>1</th>\n",
       "      <td>1.368769</td>\n",
       "      <td>1.541101</td>\n",
       "      <td>32.897808</td>\n",
       "      <td>39.313465</td>\n",
       "      <td>2.067462</td>\n",
       "      <td>4.323411</td>\n",
       "      <td>0.079443</td>\n",
       "      <td>0.151454</td>\n",
       "      <td>-69.918755</td>\n",
       "      <td>-83.338280</td>\n",
       "    </tr>\n",
       "    <tr>\n",
       "      <th>2</th>\n",
       "      <td>1.348097</td>\n",
       "      <td>1.281925</td>\n",
       "      <td>4.772484</td>\n",
       "      <td>4.516875</td>\n",
       "      <td>2.221587</td>\n",
       "      <td>4.046817</td>\n",
       "      <td>0.243484</td>\n",
       "      <td>0.278222</td>\n",
       "      <td>-3.849552</td>\n",
       "      <td>-1.336509</td>\n",
       "    </tr>\n",
       "    <tr>\n",
       "      <th>3</th>\n",
       "      <td>1.341550</td>\n",
       "      <td>1.593990</td>\n",
       "      <td>3.961015</td>\n",
       "      <td>5.562094</td>\n",
       "      <td>2.179913</td>\n",
       "      <td>4.422863</td>\n",
       "      <td>0.300006</td>\n",
       "      <td>0.303935</td>\n",
       "      <td>-1.142694</td>\n",
       "      <td>-3.159188</td>\n",
       "    </tr>\n",
       "    <tr>\n",
       "      <th>4</th>\n",
       "      <td>1.313521</td>\n",
       "      <td>1.387535</td>\n",
       "      <td>7.820548</td>\n",
       "      <td>7.853835</td>\n",
       "      <td>2.842840</td>\n",
       "      <td>4.085032</td>\n",
       "      <td>0.185630</td>\n",
       "      <td>0.185440</td>\n",
       "      <td>-10.351947</td>\n",
       "      <td>-9.845681</td>\n",
       "    </tr>\n",
       "  </tbody>\n",
       "</table>\n",
       "</div>"
      ],
      "text/plain": [
       "   p_inclination  p_mass_ratio  p_primary__surface_potential  \\\n",
       "0       1.447385      1.397426                      7.617913   \n",
       "1       1.368769      1.541101                     32.897808   \n",
       "2       1.348097      1.281925                      4.772484   \n",
       "3       1.341550      1.593990                      3.961015   \n",
       "4       1.313521      1.387535                      7.820548   \n",
       "\n",
       "   p_secondary__surface_potential   p_t1_t2  p_critical_surface_potential  \\\n",
       "0                        7.339401  1.774296                      4.291509   \n",
       "1                       39.313465  2.067462                      4.323411   \n",
       "2                        4.516875  2.221587                      4.046817   \n",
       "3                        5.562094  2.179913                      4.422863   \n",
       "4                        7.853835  2.842840                      4.085032   \n",
       "\n",
       "   p_primary_equivalent_radius  p_secondary_equivalent_radius  \\\n",
       "0                     0.200144                       0.234835   \n",
       "1                     0.079443                       0.151454   \n",
       "2                     0.243484                       0.278222   \n",
       "3                     0.300006                       0.303935   \n",
       "4                     0.185630                       0.185440   \n",
       "\n",
       "   p_primary_filling_factor  p_secondary_filling_factor  \n",
       "0                -10.480977                   -5.427356  \n",
       "1                -69.918755                  -83.338280  \n",
       "2                 -3.849552                   -1.336509  \n",
       "3                 -1.142694                   -3.159188  \n",
       "4                -10.351947                   -9.845681  "
      ]
     },
     "execution_count": 14,
     "metadata": {},
     "output_type": "execute_result"
    }
   ],
   "source": [
    "pred_df = pd.DataFrame(y_pred,\n",
    "                        columns = [\n",
    "                            \"p_inclination\",\n",
    "                            \"p_mass_ratio\",\n",
    "                            \"p_primary__surface_potential\",\n",
    "                            \"p_secondary__surface_potential\",\n",
    "                            \"p_t1_t2\",\n",
    "                            \"p_critical_surface_potential\",\n",
    "                            \"p_primary_equivalent_radius\",\n",
    "                            \"p_secondary_equivalent_radius\",\n",
    "                            \"p_primary_filling_factor\",\n",
    "                            \"p_secondary_filling_factor\"\n",
    "                            ])\n",
    "pred_df.head()"
   ]
  },
  {
   "cell_type": "markdown",
   "metadata": {},
   "source": [
    "* Average values for each predicted attribute calculated with *mean()* function"
   ]
  },
  {
   "cell_type": "code",
   "execution_count": 15,
   "metadata": {},
   "outputs": [
    {
     "data": {
      "text/plain": [
       "p_inclination                      1.380883\n",
       "p_mass_ratio                       1.591343\n",
       "p_primary__surface_potential      17.445621\n",
       "p_secondary__surface_potential    17.667978\n",
       "p_t1_t2                            2.692803\n",
       "p_critical_surface_potential       4.502497\n",
       "p_primary_equivalent_radius        0.193741\n",
       "p_secondary_equivalent_radius      0.225057\n",
       "p_primary_filling_factor         -36.413895\n",
       "p_secondary_filling_factor       -26.370497\n",
       "dtype: float32"
      ]
     },
     "execution_count": 15,
     "metadata": {},
     "output_type": "execute_result"
    }
   ],
   "source": [
    "pred_mean = pred_df.mean(axis=0)\n",
    "pred_mean"
   ]
  },
  {
   "cell_type": "markdown",
   "metadata": {},
   "source": [
    "* Data frame created from test datasets\n",
    "* Average values for each attribute is calculated with *mean()* function"
   ]
  },
  {
   "cell_type": "code",
   "execution_count": 19,
   "metadata": {},
   "outputs": [
    {
     "data": {
      "text/plain": [
       "inclination                      1.375910\n",
       "mass_ratio                       1.747564\n",
       "primary__surface_potential      18.126015\n",
       "secondary__surface_potential    16.289401\n",
       "t1_t2                            2.675162\n",
       "critical_surface_potential       4.666303\n",
       "primary_equivalent_radius        0.176560\n",
       "secondary_equivalent_radius      0.200172\n",
       "primary_filling_factor         -34.399594\n",
       "secondary_filling_factor       -23.618069\n",
       "dtype: float64"
      ]
     },
     "execution_count": 19,
     "metadata": {},
     "output_type": "execute_result"
    }
   ],
   "source": [
    "y_test_df = pd.DataFrame(y_test,\n",
    "                        columns = [\n",
    "                            \"inclination\",\n",
    "                            \"mass_ratio\",\n",
    "                            \"primary__surface_potential\",\n",
    "                            \"secondary__surface_potential\",\n",
    "                            \"t1_t2\",\n",
    "                            \"critical_surface_potential\",\n",
    "                            \"primary_equivalent_radius\",\n",
    "                            \"secondary_equivalent_radius\",\n",
    "                            \"primary_filling_factor\",\n",
    "                            \"secondary_filling_factor\"\n",
    "                            ])\n",
    "test_mean = y_test_df.mean(axis=0)\n",
    "test_mean"
   ]
  },
  {
   "cell_type": "markdown",
   "metadata": {},
   "source": [
    "* Dataframe created for purpose to compare average true and predicted value, with Mean Average Error showed"
   ]
  },
  {
   "cell_type": "code",
   "execution_count": 20,
   "metadata": {},
   "outputs": [
    {
     "data": {
      "text/html": [
       "<div>\n",
       "<style scoped>\n",
       "    .dataframe tbody tr th:only-of-type {\n",
       "        vertical-align: middle;\n",
       "    }\n",
       "\n",
       "    .dataframe tbody tr th {\n",
       "        vertical-align: top;\n",
       "    }\n",
       "\n",
       "    .dataframe thead th {\n",
       "        text-align: right;\n",
       "    }\n",
       "</style>\n",
       "<table border=\"1\" class=\"dataframe\">\n",
       "  <thead>\n",
       "    <tr style=\"text-align: right;\">\n",
       "      <th></th>\n",
       "      <th>Attribute</th>\n",
       "      <th>AVG True values</th>\n",
       "      <th>AVG Pred Values</th>\n",
       "      <th>MAE</th>\n",
       "    </tr>\n",
       "  </thead>\n",
       "  <tbody>\n",
       "    <tr>\n",
       "      <th>0</th>\n",
       "      <td>inclination</td>\n",
       "      <td>1.375910</td>\n",
       "      <td>1.380883</td>\n",
       "      <td>0.004973</td>\n",
       "    </tr>\n",
       "    <tr>\n",
       "      <th>1</th>\n",
       "      <td>mass_ratio</td>\n",
       "      <td>1.747564</td>\n",
       "      <td>1.591343</td>\n",
       "      <td>0.156221</td>\n",
       "    </tr>\n",
       "    <tr>\n",
       "      <th>2</th>\n",
       "      <td>primary__surface_potential</td>\n",
       "      <td>18.126015</td>\n",
       "      <td>17.445621</td>\n",
       "      <td>0.680394</td>\n",
       "    </tr>\n",
       "    <tr>\n",
       "      <th>3</th>\n",
       "      <td>secondary__surface_potential</td>\n",
       "      <td>16.289401</td>\n",
       "      <td>17.667978</td>\n",
       "      <td>1.378578</td>\n",
       "    </tr>\n",
       "    <tr>\n",
       "      <th>4</th>\n",
       "      <td>t1_t2</td>\n",
       "      <td>2.675162</td>\n",
       "      <td>2.692803</td>\n",
       "      <td>0.017641</td>\n",
       "    </tr>\n",
       "    <tr>\n",
       "      <th>5</th>\n",
       "      <td>critical_surface_potential</td>\n",
       "      <td>4.666303</td>\n",
       "      <td>4.502497</td>\n",
       "      <td>0.163806</td>\n",
       "    </tr>\n",
       "    <tr>\n",
       "      <th>6</th>\n",
       "      <td>primary_equivalent_radius</td>\n",
       "      <td>0.176560</td>\n",
       "      <td>0.193741</td>\n",
       "      <td>0.017181</td>\n",
       "    </tr>\n",
       "    <tr>\n",
       "      <th>7</th>\n",
       "      <td>secondary_equivalent_radius</td>\n",
       "      <td>0.200172</td>\n",
       "      <td>0.225057</td>\n",
       "      <td>0.024886</td>\n",
       "    </tr>\n",
       "    <tr>\n",
       "      <th>8</th>\n",
       "      <td>primary_filling_factor</td>\n",
       "      <td>-34.399594</td>\n",
       "      <td>-36.413895</td>\n",
       "      <td>2.014300</td>\n",
       "    </tr>\n",
       "    <tr>\n",
       "      <th>9</th>\n",
       "      <td>secondary_filling_factor</td>\n",
       "      <td>-23.618069</td>\n",
       "      <td>-26.370497</td>\n",
       "      <td>2.752428</td>\n",
       "    </tr>\n",
       "  </tbody>\n",
       "</table>\n",
       "</div>"
      ],
      "text/plain": [
       "                      Attribute  AVG True values  AVG Pred Values       MAE\n",
       "0                   inclination         1.375910         1.380883  0.004973\n",
       "1                    mass_ratio         1.747564         1.591343  0.156221\n",
       "2    primary__surface_potential        18.126015        17.445621  0.680394\n",
       "3  secondary__surface_potential        16.289401        17.667978  1.378578\n",
       "4                         t1_t2         2.675162         2.692803  0.017641\n",
       "5    critical_surface_potential         4.666303         4.502497  0.163806\n",
       "6     primary_equivalent_radius         0.176560         0.193741  0.017181\n",
       "7   secondary_equivalent_radius         0.200172         0.225057  0.024886\n",
       "8        primary_filling_factor       -34.399594       -36.413895  2.014300\n",
       "9      secondary_filling_factor       -23.618069       -26.370497  2.752428"
      ]
     },
     "execution_count": 20,
     "metadata": {},
     "output_type": "execute_result"
    }
   ],
   "source": [
    "eval_pred = pd.DataFrame({'Attribute': test_mean.index,\n",
    "            'AVG True values': test_mean.values,\n",
    "            'AVG Pred Values': pred_mean.values,\n",
    "            'MAE': abs(test_mean.values - pred_mean.values)})\n",
    "eval_pred"
   ]
  },
  {
   "cell_type": "markdown",
   "metadata": {},
   "source": [
    "## 7. Prediction on test data with noise"
   ]
  },
  {
   "cell_type": "markdown",
   "metadata": {},
   "source": [
    "* Prediction on test data with noise\n",
    "* Predictions are save into *y_pred_n* variable in the form of multi-dimensional array"
   ]
  },
  {
   "cell_type": "code",
   "execution_count": 21,
   "metadata": {},
   "outputs": [],
   "source": [
    "y_pred_n = model.predict(X_test_n)"
   ]
  },
  {
   "cell_type": "markdown",
   "metadata": {},
   "source": [
    "* Data frame created of *y_pred_n* array with specified column names\n",
    "* Average values for each predicted attribute iis calculated with *mean()* function"
   ]
  },
  {
   "cell_type": "code",
   "execution_count": 22,
   "metadata": {},
   "outputs": [
    {
     "data": {
      "text/html": [
       "<div>\n",
       "<style scoped>\n",
       "    .dataframe tbody tr th:only-of-type {\n",
       "        vertical-align: middle;\n",
       "    }\n",
       "\n",
       "    .dataframe tbody tr th {\n",
       "        vertical-align: top;\n",
       "    }\n",
       "\n",
       "    .dataframe thead th {\n",
       "        text-align: right;\n",
       "    }\n",
       "</style>\n",
       "<table border=\"1\" class=\"dataframe\">\n",
       "  <thead>\n",
       "    <tr style=\"text-align: right;\">\n",
       "      <th></th>\n",
       "      <th>p_inclination</th>\n",
       "      <th>p_mass_ratio</th>\n",
       "      <th>p_primary__surface_potential</th>\n",
       "      <th>p_secondary__surface_potential</th>\n",
       "      <th>p_t1_t2</th>\n",
       "      <th>p_critical_surface_potential</th>\n",
       "      <th>p_primary_equivalent_radius</th>\n",
       "      <th>p_secondary_equivalent_radius</th>\n",
       "      <th>p_primary_filling_factor</th>\n",
       "      <th>p_secondary_filling_factor</th>\n",
       "    </tr>\n",
       "  </thead>\n",
       "  <tbody>\n",
       "    <tr>\n",
       "      <th>0</th>\n",
       "      <td>1.434870</td>\n",
       "      <td>1.526116</td>\n",
       "      <td>7.810741</td>\n",
       "      <td>8.243753</td>\n",
       "      <td>1.777654</td>\n",
       "      <td>4.459871</td>\n",
       "      <td>0.207764</td>\n",
       "      <td>0.243389</td>\n",
       "      <td>-10.568967</td>\n",
       "      <td>-7.017222</td>\n",
       "    </tr>\n",
       "    <tr>\n",
       "      <th>1</th>\n",
       "      <td>1.447080</td>\n",
       "      <td>1.396980</td>\n",
       "      <td>7.607511</td>\n",
       "      <td>7.338118</td>\n",
       "      <td>1.776797</td>\n",
       "      <td>4.290952</td>\n",
       "      <td>0.200623</td>\n",
       "      <td>0.234561</td>\n",
       "      <td>-10.423254</td>\n",
       "      <td>-5.423965</td>\n",
       "    </tr>\n",
       "    <tr>\n",
       "      <th>2</th>\n",
       "      <td>1.444691</td>\n",
       "      <td>1.358741</td>\n",
       "      <td>7.502760</td>\n",
       "      <td>6.912149</td>\n",
       "      <td>1.805448</td>\n",
       "      <td>4.243828</td>\n",
       "      <td>0.202868</td>\n",
       "      <td>0.234922</td>\n",
       "      <td>-10.151290</td>\n",
       "      <td>-4.557940</td>\n",
       "    </tr>\n",
       "    <tr>\n",
       "      <th>3</th>\n",
       "      <td>1.406243</td>\n",
       "      <td>1.510198</td>\n",
       "      <td>27.451214</td>\n",
       "      <td>42.401932</td>\n",
       "      <td>1.892819</td>\n",
       "      <td>4.307508</td>\n",
       "      <td>0.095731</td>\n",
       "      <td>0.098716</td>\n",
       "      <td>-59.907612</td>\n",
       "      <td>-89.814438</td>\n",
       "    </tr>\n",
       "    <tr>\n",
       "      <th>4</th>\n",
       "      <td>1.367107</td>\n",
       "      <td>1.578320</td>\n",
       "      <td>29.017546</td>\n",
       "      <td>42.870331</td>\n",
       "      <td>2.027571</td>\n",
       "      <td>4.379554</td>\n",
       "      <td>0.109217</td>\n",
       "      <td>0.125922</td>\n",
       "      <td>-62.589600</td>\n",
       "      <td>-90.097260</td>\n",
       "    </tr>\n",
       "  </tbody>\n",
       "</table>\n",
       "</div>"
      ],
      "text/plain": [
       "   p_inclination  p_mass_ratio  p_primary__surface_potential  \\\n",
       "0       1.434870      1.526116                      7.810741   \n",
       "1       1.447080      1.396980                      7.607511   \n",
       "2       1.444691      1.358741                      7.502760   \n",
       "3       1.406243      1.510198                     27.451214   \n",
       "4       1.367107      1.578320                     29.017546   \n",
       "\n",
       "   p_secondary__surface_potential   p_t1_t2  p_critical_surface_potential  \\\n",
       "0                        8.243753  1.777654                      4.459871   \n",
       "1                        7.338118  1.776797                      4.290952   \n",
       "2                        6.912149  1.805448                      4.243828   \n",
       "3                       42.401932  1.892819                      4.307508   \n",
       "4                       42.870331  2.027571                      4.379554   \n",
       "\n",
       "   p_primary_equivalent_radius  p_secondary_equivalent_radius  \\\n",
       "0                     0.207764                       0.243389   \n",
       "1                     0.200623                       0.234561   \n",
       "2                     0.202868                       0.234922   \n",
       "3                     0.095731                       0.098716   \n",
       "4                     0.109217                       0.125922   \n",
       "\n",
       "   p_primary_filling_factor  p_secondary_filling_factor  \n",
       "0                -10.568967                   -7.017222  \n",
       "1                -10.423254                   -5.423965  \n",
       "2                -10.151290                   -4.557940  \n",
       "3                -59.907612                  -89.814438  \n",
       "4                -62.589600                  -90.097260  "
      ]
     },
     "execution_count": 22,
     "metadata": {},
     "output_type": "execute_result"
    }
   ],
   "source": [
    "pred_df_n = pd.DataFrame(y_pred_n,\n",
    "                        columns = [\n",
    "                            \"p_inclination\",\n",
    "                            \"p_mass_ratio\",\n",
    "                            \"p_primary__surface_potential\",\n",
    "                            \"p_secondary__surface_potential\",\n",
    "                            \"p_t1_t2\",\n",
    "                            \"p_critical_surface_potential\",\n",
    "                            \"p_primary_equivalent_radius\",\n",
    "                            \"p_secondary_equivalent_radius\",\n",
    "                            \"p_primary_filling_factor\",\n",
    "                            \"p_secondary_filling_factor\"\n",
    "                            ])\n",
    "pred_df_n.head()"
   ]
  },
  {
   "cell_type": "markdown",
   "metadata": {},
   "source": [
    "* Data frame created from test data with noise\n",
    "* Average values for each attribute are calculated with *mean()* function"
   ]
  },
  {
   "cell_type": "code",
   "execution_count": 23,
   "metadata": {},
   "outputs": [
    {
     "data": {
      "text/plain": [
       "p_inclination                      1.379663\n",
       "p_mass_ratio                       1.584814\n",
       "p_primary__surface_potential      17.508308\n",
       "p_secondary__surface_potential    17.623581\n",
       "p_t1_t2                            2.699197\n",
       "p_critical_surface_potential       4.496512\n",
       "p_primary_equivalent_radius        0.194844\n",
       "p_secondary_equivalent_radius      0.224914\n",
       "p_primary_filling_factor         -36.504875\n",
       "p_secondary_filling_factor       -26.280840\n",
       "dtype: float32"
      ]
     },
     "execution_count": 23,
     "metadata": {},
     "output_type": "execute_result"
    }
   ],
   "source": [
    "pred_mean_n = pred_df_n.mean(axis=0)\n",
    "pred_mean_n"
   ]
  },
  {
   "cell_type": "markdown",
   "metadata": {},
   "source": [
    "* Data frame created from test data with noise\n",
    "* Average values for each attribute are calculated with *mean()* function"
   ]
  },
  {
   "cell_type": "code",
   "execution_count": 26,
   "metadata": {},
   "outputs": [
    {
     "data": {
      "text/plain": [
       "inclination                      1.375910\n",
       "mass_ratio                       1.747564\n",
       "primary__surface_potential      18.126015\n",
       "secondary__surface_potential    16.289401\n",
       "t1_t2                            2.675162\n",
       "critical_surface_potential       4.666303\n",
       "primary_equivalent_radius        0.176560\n",
       "secondary_equivalent_radius      0.200172\n",
       "primary_filling_factor         -34.399594\n",
       "secondary_filling_factor       -23.618069\n",
       "dtype: float64"
      ]
     },
     "execution_count": 26,
     "metadata": {},
     "output_type": "execute_result"
    }
   ],
   "source": [
    "y_test_df_n = pd.DataFrame(y_test_n,\n",
    "                        columns = [\n",
    "                            \"inclination\",\n",
    "                            \"mass_ratio\",\n",
    "                            \"primary__surface_potential\",\n",
    "                            \"secondary__surface_potential\",\n",
    "                            \"t1_t2\",\n",
    "                            \"critical_surface_potential\",\n",
    "                            \"primary_equivalent_radius\",\n",
    "                            \"secondary_equivalent_radius\",\n",
    "                            \"primary_filling_factor\",\n",
    "                            \"secondary_filling_factor\"\n",
    "                            ])\n",
    "test_mean_n = y_test_df_n.mean(axis=0)\n",
    "test_mean_n"
   ]
  },
  {
   "cell_type": "markdown",
   "metadata": {},
   "source": [
    "* Dataframe created for purpose to compare average true and predicted value, with Mean Average Error showed"
   ]
  },
  {
   "cell_type": "code",
   "execution_count": 27,
   "metadata": {},
   "outputs": [
    {
     "data": {
      "text/html": [
       "<div>\n",
       "<style scoped>\n",
       "    .dataframe tbody tr th:only-of-type {\n",
       "        vertical-align: middle;\n",
       "    }\n",
       "\n",
       "    .dataframe tbody tr th {\n",
       "        vertical-align: top;\n",
       "    }\n",
       "\n",
       "    .dataframe thead th {\n",
       "        text-align: right;\n",
       "    }\n",
       "</style>\n",
       "<table border=\"1\" class=\"dataframe\">\n",
       "  <thead>\n",
       "    <tr style=\"text-align: right;\">\n",
       "      <th></th>\n",
       "      <th>Attribute</th>\n",
       "      <th>AVG True values</th>\n",
       "      <th>AVG Pred Values</th>\n",
       "      <th>MAE</th>\n",
       "    </tr>\n",
       "  </thead>\n",
       "  <tbody>\n",
       "    <tr>\n",
       "      <th>0</th>\n",
       "      <td>inclination</td>\n",
       "      <td>1.375910</td>\n",
       "      <td>1.379663</td>\n",
       "      <td>0.003752</td>\n",
       "    </tr>\n",
       "    <tr>\n",
       "      <th>1</th>\n",
       "      <td>mass_ratio</td>\n",
       "      <td>1.747564</td>\n",
       "      <td>1.584814</td>\n",
       "      <td>0.162750</td>\n",
       "    </tr>\n",
       "    <tr>\n",
       "      <th>2</th>\n",
       "      <td>primary__surface_potential</td>\n",
       "      <td>18.126015</td>\n",
       "      <td>17.508308</td>\n",
       "      <td>0.617707</td>\n",
       "    </tr>\n",
       "    <tr>\n",
       "      <th>3</th>\n",
       "      <td>secondary__surface_potential</td>\n",
       "      <td>16.289401</td>\n",
       "      <td>17.623581</td>\n",
       "      <td>1.334180</td>\n",
       "    </tr>\n",
       "    <tr>\n",
       "      <th>4</th>\n",
       "      <td>t1_t2</td>\n",
       "      <td>2.675162</td>\n",
       "      <td>2.699197</td>\n",
       "      <td>0.024035</td>\n",
       "    </tr>\n",
       "    <tr>\n",
       "      <th>5</th>\n",
       "      <td>critical_surface_potential</td>\n",
       "      <td>4.666303</td>\n",
       "      <td>4.496512</td>\n",
       "      <td>0.169791</td>\n",
       "    </tr>\n",
       "    <tr>\n",
       "      <th>6</th>\n",
       "      <td>primary_equivalent_radius</td>\n",
       "      <td>0.176560</td>\n",
       "      <td>0.194844</td>\n",
       "      <td>0.018284</td>\n",
       "    </tr>\n",
       "    <tr>\n",
       "      <th>7</th>\n",
       "      <td>secondary_equivalent_radius</td>\n",
       "      <td>0.200172</td>\n",
       "      <td>0.224914</td>\n",
       "      <td>0.024742</td>\n",
       "    </tr>\n",
       "    <tr>\n",
       "      <th>8</th>\n",
       "      <td>primary_filling_factor</td>\n",
       "      <td>-34.399594</td>\n",
       "      <td>-36.504875</td>\n",
       "      <td>2.105281</td>\n",
       "    </tr>\n",
       "    <tr>\n",
       "      <th>9</th>\n",
       "      <td>secondary_filling_factor</td>\n",
       "      <td>-23.618069</td>\n",
       "      <td>-26.280840</td>\n",
       "      <td>2.662771</td>\n",
       "    </tr>\n",
       "  </tbody>\n",
       "</table>\n",
       "</div>"
      ],
      "text/plain": [
       "                      Attribute  AVG True values  AVG Pred Values       MAE\n",
       "0                   inclination         1.375910         1.379663  0.003752\n",
       "1                    mass_ratio         1.747564         1.584814  0.162750\n",
       "2    primary__surface_potential        18.126015        17.508308  0.617707\n",
       "3  secondary__surface_potential        16.289401        17.623581  1.334180\n",
       "4                         t1_t2         2.675162         2.699197  0.024035\n",
       "5    critical_surface_potential         4.666303         4.496512  0.169791\n",
       "6     primary_equivalent_radius         0.176560         0.194844  0.018284\n",
       "7   secondary_equivalent_radius         0.200172         0.224914  0.024742\n",
       "8        primary_filling_factor       -34.399594       -36.504875  2.105281\n",
       "9      secondary_filling_factor       -23.618069       -26.280840  2.662771"
      ]
     },
     "execution_count": 27,
     "metadata": {},
     "output_type": "execute_result"
    }
   ],
   "source": [
    "eval_pred_n = pd.DataFrame({'Attribute': test_mean_n.index,\n",
    "            'AVG True values': test_mean_n.values,\n",
    "            'AVG Pred Values': pred_mean_n.values,\n",
    "            'MAE': abs(test_mean_n.values - pred_mean_n.values)})\n",
    "eval_pred_n"
   ]
  }
 ],
 "metadata": {
  "interpreter": {
   "hash": "b8fc6ce4f931e35f5dd2ff00f5d2ede33ff85432a244cf6e3e9d498f6426f487"
  },
  "kernelspec": {
   "display_name": "Python 3.8.12 ('global')",
   "language": "python",
   "name": "python3"
  },
  "language_info": {
   "codemirror_mode": {
    "name": "ipython",
    "version": 3
   },
   "file_extension": ".py",
   "mimetype": "text/x-python",
   "name": "python",
   "nbconvert_exporter": "python",
   "pygments_lexer": "ipython3",
   "version": "3.8.12"
  },
  "orig_nbformat": 4
 },
 "nbformat": 4,
 "nbformat_minor": 2
}
