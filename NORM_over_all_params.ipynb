{
 "cells": [
  {
   "cell_type": "markdown",
   "metadata": {},
   "source": [
    "# Predikcia vsetkych parametrov pomocou jednej NN\n",
    "## Normovane overcontact data"
   ]
  },
  {
   "cell_type": "code",
   "execution_count": 1,
   "metadata": {},
   "outputs": [],
   "source": [
    "# Blok 1 - nacitanie kniznic\n",
    "import numpy as np\n",
    "import pandas as pd\n",
    "import matplotlib.pyplot as plt\n",
    "from sklearn.preprocessing import MinMaxScaler\n",
    "\n",
    "from keras.utils import np_utils\n",
    "from keras.models import load_model\n",
    "from sklearn.model_selection import train_test_split\n",
    "from keras.layers import Conv1D, MaxPooling1D\n",
    "from keras.layers import Input, Dense, LSTM, Dropout, Flatten\n",
    "from keras.models import Model\n",
    "from tensorflow.keras.callbacks import ModelCheckpoint, EarlyStopping\n",
    "\n",
    "np.random.seed(1234)\n",
    "pd.set_option('display.max_rows', None)"
   ]
  },
  {
   "cell_type": "code",
   "execution_count": 2,
   "metadata": {},
   "outputs": [],
   "source": [
    "# Blok 2 - Funkcie pre generovanie sumu. Nastavenie pseudo-nahodneho generatora.\n",
    "\n",
    "def generate_observation_sigma(space_obs_frac=0.5):\n",
    "    \"\"\"\n",
    "    Draws a standard deviation of noise in light curve points from a \"true\" value provided in synthetic light curve.\n",
    "    Noise sigma is drawn from bimodal distribution taking into account contributions from space based and earth based\n",
    "    observations which have different levels of stochastic noise.\n",
    "\n",
    "    :param space_obs_frac: ratio between earth based and space based observations\n",
    "    :return: float; standard deviation of the light curve noise\n",
    "    \"\"\"\n",
    "    earth_based_sigma = 4e-3\n",
    "    space_based_sigma = 2e-4\n",
    "    sigma = np.random.choice([earth_based_sigma, space_based_sigma], p=[1-space_obs_frac, space_obs_frac])\n",
    "    return np.random.rayleigh(sigma)\n",
    "\n",
    "def stochastic_noise_generator(curve):\n",
    "    \"\"\"\n",
    "    Introduces gaussian noise into synthetic observation provided in `curve`.\n",
    "\n",
    "    :param curve: numpy.array; normalized light curve\n",
    "    :return: Tuple(numpy.array, float); normalized light curve with added noise, standard deviation of observations\n",
    "    \"\"\"\n",
    "    sigma = generate_observation_sigma()\n",
    "    return np.random.normal(curve, sigma), np.full(curve.shape, sigma)"
   ]
  },
  {
   "cell_type": "markdown",
   "metadata": {},
   "source": [
    "## Data loading"
   ]
  },
  {
   "cell_type": "code",
   "execution_count": 3,
   "metadata": {},
   "outputs": [],
   "source": [
    "# Blok 3 - nacitanie dat\n",
    "data = pd.read_pickle(\"overcontact_all_parameters.pkl\").reset_index()"
   ]
  },
  {
   "cell_type": "code",
   "execution_count": 4,
   "metadata": {},
   "outputs": [],
   "source": [
    "# Blok 4 - vyselektovanie nahodnej vzorky dat o velkosti 100 000\n",
    "data_sample = data.sample(n=100000)"
   ]
  },
  {
   "cell_type": "markdown",
   "metadata": {},
   "source": [
    "## Train test split"
   ]
  },
  {
   "cell_type": "code",
   "execution_count": 5,
   "metadata": {},
   "outputs": [],
   "source": [
    "# Blok 5 - vytvorenie pola kriviek\n",
    "X = []\n",
    "for row in data_sample[\"curve\"]:\n",
    "    X.append(row)\n",
    "X=np.array(X)"
   ]
  },
  {
   "cell_type": "code",
   "execution_count": 6,
   "metadata": {},
   "outputs": [],
   "source": [
    "# Blok 6 - vytvorenie pola features, ktore bude model predikovat\n",
    "y = np.array(data_sample[[\n",
    "    \"primary__t_eff\",\n",
    "    \"secondary__t_eff\",\n",
    "    \"inclination\",\n",
    "    \"mass_ratio\",\n",
    "    \"primary__surface_potential\",\n",
    "    \"secondary__surface_potential\",\n",
    "    \"t1/t2\",\n",
    "    \"critical_surface_potential\",\n",
    "    \"primary__equivalent_radius\",\n",
    "    \"secondary__equivalent_radius\",\n",
    "    \"primary__filling_factor\",\n",
    "    \"secondary__filling_factor\"]])"
   ]
  },
  {
   "cell_type": "code",
   "execution_count": 7,
   "metadata": {},
   "outputs": [
    {
     "data": {
      "text/plain": [
       "array([0.8       , 0.8       , 0.79148929, 0.49494949, 0.53031622,\n",
       "       0.53031622, 0.        , 0.54862702, 0.1671155 , 0.85762583,\n",
       "       0.48776465, 0.48776465])"
      ]
     },
     "execution_count": 7,
     "metadata": {},
     "output_type": "execute_result"
    }
   ],
   "source": [
    "# Blok 7 - zadefinovanie scalera pre min max normalizaciu dat\n",
    "scaler = MinMaxScaler()\n",
    "y_minmax_scaled = scaler.fit_transform(y)\n",
    "y_minmax_scaled[0]"
   ]
  },
  {
   "cell_type": "code",
   "execution_count": 8,
   "metadata": {},
   "outputs": [],
   "source": [
    "# Blok 8 - rozdelenie dat na trenovaciua a testovaciu mnozinu v pomere 80/20\n",
    "X_train1, X_test, y_train1, y_test = train_test_split(X, y_minmax_scaled, test_size=0.2)"
   ]
  },
  {
   "cell_type": "code",
   "execution_count": 9,
   "metadata": {},
   "outputs": [],
   "source": [
    "# Blok 9 - pridanie sumu do trenovacich dat\n",
    "X_train_n = []\n",
    "y_train_n = []\n",
    "for i in range(len(X_train1)):\n",
    "    for j in range(3):\n",
    "        curve = stochastic_noise_generator(X_train1[i])\n",
    "        X_train_n.append(curve[0])\n",
    "        y_train_n.append(y_train1[i])\n",
    "X_train_n = np.array(X_train_n)\n",
    "y_train_n=np.array(y_train_n)"
   ]
  },
  {
   "cell_type": "code",
   "execution_count": 15,
   "metadata": {},
   "outputs": [
    {
     "name": "stdout",
     "output_type": "stream",
     "text": [
      "Number of records in dataset:  1212796 \n",
      "Number of records in sample:  100000 \n",
      "Number of train data without noise:  80000 \n",
      "Number of train data with noise:  240000 \n",
      "Number of test data without noise:  20000\n"
     ]
    }
   ],
   "source": [
    "# Blok 10 - vypis poctu dat v jednotlivych datovych mnozinach\n",
    "print(\"Number of records in dataset: \", len(data),\n",
    "    \"\\nNumber of records in sample: \", len(X),\n",
    "    \"\\nNumber of train data without noise: \", len(X_train1),\n",
    "    \"\\nNumber of train data with noise: \", len(X_train_n),\n",
    "    \"\\nNumber of test data without noise: \", len(X_test))"
   ]
  },
  {
   "cell_type": "markdown",
   "metadata": {},
   "source": [
    "## Model"
   ]
  },
  {
   "cell_type": "code",
   "execution_count": 16,
   "metadata": {},
   "outputs": [
    {
     "name": "stdout",
     "output_type": "stream",
     "text": [
      "Model: \"functional_1\"\n",
      "_________________________________________________________________\n",
      "Layer (type)                 Output Shape              Param #   \n",
      "=================================================================\n",
      "input_1 (InputLayer)         [(None, 400, 1)]          0         \n",
      "_________________________________________________________________\n",
      "conv1d (Conv1D)              (None, 398, 64)           256       \n",
      "_________________________________________________________________\n",
      "max_pooling1d (MaxPooling1D) (None, 199, 64)           0         \n",
      "_________________________________________________________________\n",
      "dropout (Dropout)            (None, 199, 64)           0         \n",
      "_________________________________________________________________\n",
      "lstm (LSTM)                  (None, 199, 64)           33024     \n",
      "_________________________________________________________________\n",
      "flatten (Flatten)            (None, 12736)             0         \n",
      "_________________________________________________________________\n",
      "dense (Dense)                (None, 64)                815168    \n",
      "_________________________________________________________________\n",
      "dense_1 (Dense)              (None, 32)                2080      \n",
      "_________________________________________________________________\n",
      "dense_2 (Dense)              (None, 12)                396       \n",
      "=================================================================\n",
      "Total params: 850,924\n",
      "Trainable params: 850,924\n",
      "Non-trainable params: 0\n",
      "_________________________________________________________________\n",
      "None\n"
     ]
    }
   ],
   "source": [
    "# Blok 11 - zadefinovanie architektury modelu NN\n",
    "inputs = Input(shape=(400, 1))\n",
    "b = Conv1D(64, kernel_size = 3, padding = \"valid\")(inputs)\n",
    "b = MaxPooling1D(2)(b)\n",
    "b = Dropout(0.2)(b)\n",
    "b = LSTM(64, return_sequences=True)(b)\n",
    "b = Flatten()(b)\n",
    "b = Dense(64, activation='relu')(b)\n",
    "x = Dense(32, activation='relu')(b)\n",
    "output = Dense(12, activation='linear')(x)\n",
    "model = Model(inputs=inputs, outputs=output)\n",
    "model.compile(loss='mse', optimizer='adam', metrics=[\"mae\", \"mape\"])\n",
    "\n",
    "saved_model = \"models/norm_overcontact_all_params.hdf5\"\n",
    "checkpoint = ModelCheckpoint(saved_model, monitor = 'val_mae', verbose = 1, save_best_only = True, mode = 'min')\n",
    "early = EarlyStopping(monitor = \"val_mae\", mode = \"min\", patience = 25)\n",
    "callbacks_list = [checkpoint, early]\n",
    "\n",
    "print(model.summary())"
   ]
  },
  {
   "cell_type": "code",
   "execution_count": 18,
   "metadata": {},
   "outputs": [
    {
     "name": "stdout",
     "output_type": "stream",
     "text": [
      "Epoch 1/10\n",
      "3375/3375 [==============================] - ETA: 0s - loss: 0.0285 - mae: 0.1177 - mape: 6007802.0000\n",
      "Epoch 00001: val_mae improved from inf to 0.08945, saving model to models\\norm_overcontact_all_params.hdf5\n",
      "3375/3375 [==============================] - 398s 118ms/step - loss: 0.0285 - mae: 0.1177 - mape: 6007802.0000 - val_loss: 0.0182 - val_mae: 0.0894 - val_mape: 4261444.0000\n",
      "Epoch 2/10\n",
      "3375/3375 [==============================] - ETA: 0s - loss: 0.0181 - mae: 0.0895 - mape: 3811119.0000\n",
      "Epoch 00002: val_mae improved from 0.08945 to 0.08291, saving model to models\\norm_overcontact_all_params.hdf5\n",
      "3375/3375 [==============================] - 403s 120ms/step - loss: 0.0181 - mae: 0.0895 - mape: 3811119.0000 - val_loss: 0.0160 - val_mae: 0.0829 - val_mape: 3664032.7500\n",
      "Epoch 3/10\n",
      "3375/3375 [==============================] - ETA: 0s - loss: 0.0167 - mae: 0.0841 - mape: 3351118.7500\n",
      "Epoch 00003: val_mae improved from 0.08291 to 0.07869, saving model to models\\norm_overcontact_all_params.hdf5\n",
      "3375/3375 [==============================] - 409s 121ms/step - loss: 0.0167 - mae: 0.0841 - mape: 3351118.7500 - val_loss: 0.0150 - val_mae: 0.0787 - val_mape: 2615379.7500\n",
      "Epoch 4/10\n",
      "3375/3375 [==============================] - ETA: 0s - loss: 0.0158 - mae: 0.0811 - mape: 3204083.2500\n",
      "Epoch 00004: val_mae improved from 0.07869 to 0.07388, saving model to models\\norm_overcontact_all_params.hdf5\n",
      "3375/3375 [==============================] - 408s 121ms/step - loss: 0.0158 - mae: 0.0811 - mape: 3204083.2500 - val_loss: 0.0141 - val_mae: 0.0739 - val_mape: 3210589.7500\n",
      "Epoch 5/10\n",
      "3375/3375 [==============================] - ETA: 0s - loss: 0.0152 - mae: 0.0786 - mape: 3102112.0000\n",
      "Epoch 00005: val_mae improved from 0.07388 to 0.07295, saving model to models\\norm_overcontact_all_params.hdf5\n",
      "3375/3375 [==============================] - 405s 120ms/step - loss: 0.0152 - mae: 0.0786 - mape: 3102112.0000 - val_loss: 0.0136 - val_mae: 0.0730 - val_mape: 3006711.5000\n",
      "Epoch 6/10\n",
      "3375/3375 [==============================] - ETA: 0s - loss: 0.0147 - mae: 0.0769 - mape: 3019600.2500\n",
      "Epoch 00006: val_mae improved from 0.07295 to 0.07271, saving model to models\\norm_overcontact_all_params.hdf5\n",
      "3375/3375 [==============================] - 405s 120ms/step - loss: 0.0147 - mae: 0.0769 - mape: 3019600.2500 - val_loss: 0.0137 - val_mae: 0.0727 - val_mape: 2910212.0000\n",
      "Epoch 7/10\n",
      "3375/3375 [==============================] - ETA: 0s - loss: 0.0144 - mae: 0.0757 - mape: 2976898.5000\n",
      "Epoch 00007: val_mae did not improve from 0.07271\n",
      "3375/3375 [==============================] - 408s 121ms/step - loss: 0.0144 - mae: 0.0757 - mape: 2976898.5000 - val_loss: 0.0136 - val_mae: 0.0730 - val_mape: 2459254.0000\n",
      "Epoch 8/10\n",
      "3375/3375 [==============================] - ETA: 0s - loss: 0.0142 - mae: 0.0747 - mape: 2920772.2500\n",
      "Epoch 00008: val_mae improved from 0.07271 to 0.06867, saving model to models\\norm_overcontact_all_params.hdf5\n",
      "3375/3375 [==============================] - 403s 120ms/step - loss: 0.0142 - mae: 0.0747 - mape: 2920772.2500 - val_loss: 0.0127 - val_mae: 0.0687 - val_mape: 2378837.2500\n",
      "Epoch 9/10\n",
      "3375/3375 [==============================] - ETA: 0s - loss: 0.0140 - mae: 0.0741 - mape: 2871236.2500\n",
      "Epoch 00009: val_mae improved from 0.06867 to 0.06775, saving model to models\\norm_overcontact_all_params.hdf5\n",
      "3375/3375 [==============================] - 405s 120ms/step - loss: 0.0140 - mae: 0.0741 - mape: 2871236.2500 - val_loss: 0.0127 - val_mae: 0.0678 - val_mape: 2492129.7500\n",
      "Epoch 10/10\n",
      "3375/3375 [==============================] - ETA: 0s - loss: 0.0138 - mae: 0.0735 - mape: 2835517.2500\n",
      "Epoch 00010: val_mae did not improve from 0.06775\n",
      "3375/3375 [==============================] - 402s 119ms/step - loss: 0.0138 - mae: 0.0735 - mape: 2835517.2500 - val_loss: 0.0127 - val_mae: 0.0679 - val_mape: 2273107.5000\n"
     ]
    }
   ],
   "source": [
    "# Blok 12 - trenovanie modelu\n",
    "history = model.fit(X_train_n, y_train_n, validation_split = 0.1, epochs = 10, verbose = 1, callbacks = callbacks_list, batch_size = 64)"
   ]
  },
  {
   "cell_type": "code",
   "execution_count": 10,
   "metadata": {},
   "outputs": [],
   "source": [
    "# Blok 13 - necitanie modelu\n",
    "model = load_model(\"models/norm_overcontact_all_params.hdf5\")"
   ]
  },
  {
   "cell_type": "markdown",
   "metadata": {},
   "source": [
    "## Model evaluation on normalized test data"
   ]
  },
  {
   "cell_type": "code",
   "execution_count": 11,
   "metadata": {},
   "outputs": [
    {
     "name": "stdout",
     "output_type": "stream",
     "text": [
      "625/625 [==============================] - 31s 50ms/step - loss: 0.0123 - mean_absolute_error: 0.0656 - mean_absolute_percentage_error: 2601702.5000\n",
      "Loss: 0.0123, MAE: 0.0656\n"
     ]
    }
   ],
   "source": [
    "# Blok 14 - evaluacia modelu na testovacej mnozine bez sumu\n",
    "scores = model.evaluate(X_test, y_test)\n",
    "print('Loss: {:.4f}, MAE: {:.4f}'.format(scores[0], scores[1]))"
   ]
  },
  {
   "cell_type": "code",
   "execution_count": 12,
   "metadata": {},
   "outputs": [],
   "source": [
    "# Blok 15 - pridanie sumu do testovacich dat\n",
    "X_test_n = []\n",
    "y_test_norm_n = []\n",
    "for i in range(len(X_test)):\n",
    "    for j in range(3):\n",
    "        curve = stochastic_noise_generator(X_test[i])\n",
    "        X_test_n.append(curve[0])\n",
    "        y_test_norm_n.append(y_test[i])\n",
    "        j += 1\n",
    "X_test_n = np.array(X_test_n)\n",
    "y_test_norm_n = np.array(y_test_norm_n)"
   ]
  },
  {
   "cell_type": "code",
   "execution_count": 13,
   "metadata": {},
   "outputs": [
    {
     "name": "stdout",
     "output_type": "stream",
     "text": [
      "1875/1875 [==============================] - 141s 75ms/step - loss: 0.0126 - mean_absolute_error: 0.0674 - mean_absolute_percentage_error: 2633009.0000\n",
      "Loss: 0.0126, MAE: 0.0674\n"
     ]
    }
   ],
   "source": [
    "# Blok 16 - evaluacia modelu na testovacej mnozine so sumom\n",
    "scores_n = model.evaluate(X_test_n, y_test_norm_n)\n",
    "print('Loss: {:.4f}, MAE: {:.4f}'.format(scores_n[0], scores_n[1]))"
   ]
  },
  {
   "attachments": {},
   "cell_type": "markdown",
   "metadata": {},
   "source": [
    "### Prediction on normalized test data without noise + inverse normalization"
   ]
  },
  {
   "cell_type": "code",
   "execution_count": 14,
   "metadata": {},
   "outputs": [],
   "source": [
    "# Blok 17 - predikcia na datach bez sumu\n",
    "y_pred_norm = model.predict(X_test)"
   ]
  },
  {
   "cell_type": "code",
   "execution_count": 15,
   "metadata": {},
   "outputs": [
    {
     "data": {
      "text/plain": [
       "array([6.9901250e+03, 6.6553823e+03, 9.4541442e-01, 3.9031935e+00,\n",
       "       7.5019617e+00, 7.5348935e+00, 1.0541420e+00, 7.7449927e+00,\n",
       "       2.8597540e-01, 5.1029235e-01, 2.9373312e-01, 2.9713902e-01],\n",
       "      dtype=float32)"
      ]
     },
     "execution_count": 15,
     "metadata": {},
     "output_type": "execute_result"
    }
   ],
   "source": [
    "# Blok 18 - spatna normalizacia predikcii\n",
    "denorm = scaler.inverse_transform(y_pred_norm)\n",
    "denorm[0]"
   ]
  },
  {
   "cell_type": "code",
   "execution_count": 16,
   "metadata": {},
   "outputs": [
    {
     "data": {
      "text/html": [
       "<div>\n",
       "<style scoped>\n",
       "    .dataframe tbody tr th:only-of-type {\n",
       "        vertical-align: middle;\n",
       "    }\n",
       "\n",
       "    .dataframe tbody tr th {\n",
       "        vertical-align: top;\n",
       "    }\n",
       "\n",
       "    .dataframe thead th {\n",
       "        text-align: right;\n",
       "    }\n",
       "</style>\n",
       "<table border=\"1\" class=\"dataframe\">\n",
       "  <thead>\n",
       "    <tr style=\"text-align: right;\">\n",
       "      <th></th>\n",
       "      <th>P_prim__t_eff</th>\n",
       "      <th>P_sec__t_eff</th>\n",
       "      <th>P_inclination</th>\n",
       "      <th>P_mass_ratio</th>\n",
       "      <th>P_prim__surface_potential</th>\n",
       "      <th>P_sec__surface_potential</th>\n",
       "      <th>P_t1_t2</th>\n",
       "      <th>P_critical_surface_potential</th>\n",
       "      <th>P_primary_equivalent_radius</th>\n",
       "      <th>P_secondary_equivalent_radius</th>\n",
       "      <th>P_primary_filling_factor</th>\n",
       "      <th>P_secondary_filling_factor</th>\n",
       "    </tr>\n",
       "  </thead>\n",
       "  <tbody>\n",
       "    <tr>\n",
       "      <th>0</th>\n",
       "      <td>6990.125000</td>\n",
       "      <td>6655.382324</td>\n",
       "      <td>0.945414</td>\n",
       "      <td>3.903193</td>\n",
       "      <td>7.501962</td>\n",
       "      <td>7.534894</td>\n",
       "      <td>1.054142</td>\n",
       "      <td>7.744993</td>\n",
       "      <td>0.285975</td>\n",
       "      <td>0.510292</td>\n",
       "      <td>0.293733</td>\n",
       "      <td>0.297139</td>\n",
       "    </tr>\n",
       "    <tr>\n",
       "      <th>1</th>\n",
       "      <td>6752.203125</td>\n",
       "      <td>6624.109375</td>\n",
       "      <td>0.915045</td>\n",
       "      <td>3.697112</td>\n",
       "      <td>7.150830</td>\n",
       "      <td>7.194067</td>\n",
       "      <td>1.025620</td>\n",
       "      <td>7.526182</td>\n",
       "      <td>0.306539</td>\n",
       "      <td>0.531069</td>\n",
       "      <td>0.558212</td>\n",
       "      <td>0.563122</td>\n",
       "    </tr>\n",
       "    <tr>\n",
       "      <th>2</th>\n",
       "      <td>6846.311523</td>\n",
       "      <td>6500.617676</td>\n",
       "      <td>1.522212</td>\n",
       "      <td>1.108788</td>\n",
       "      <td>3.781532</td>\n",
       "      <td>3.790986</td>\n",
       "      <td>1.056917</td>\n",
       "      <td>3.936830</td>\n",
       "      <td>0.396615</td>\n",
       "      <td>0.415668</td>\n",
       "      <td>0.293223</td>\n",
       "      <td>0.299829</td>\n",
       "    </tr>\n",
       "    <tr>\n",
       "      <th>3</th>\n",
       "      <td>5917.981934</td>\n",
       "      <td>5570.070312</td>\n",
       "      <td>0.915215</td>\n",
       "      <td>1.313440</td>\n",
       "      <td>3.850923</td>\n",
       "      <td>3.905050</td>\n",
       "      <td>1.067454</td>\n",
       "      <td>4.273981</td>\n",
       "      <td>0.424953</td>\n",
       "      <td>0.474609</td>\n",
       "      <td>0.723804</td>\n",
       "      <td>0.726519</td>\n",
       "    </tr>\n",
       "    <tr>\n",
       "      <th>4</th>\n",
       "      <td>6731.123535</td>\n",
       "      <td>6471.833496</td>\n",
       "      <td>1.496251</td>\n",
       "      <td>0.046823</td>\n",
       "      <td>2.107799</td>\n",
       "      <td>2.306593</td>\n",
       "      <td>1.045047</td>\n",
       "      <td>2.082450</td>\n",
       "      <td>0.519066</td>\n",
       "      <td>0.237436</td>\n",
       "      <td>0.250759</td>\n",
       "      <td>0.235542</td>\n",
       "    </tr>\n",
       "  </tbody>\n",
       "</table>\n",
       "</div>"
      ],
      "text/plain": [
       "   P_prim__t_eff  P_sec__t_eff  P_inclination  P_mass_ratio  \\\n",
       "0    6990.125000   6655.382324       0.945414      3.903193   \n",
       "1    6752.203125   6624.109375       0.915045      3.697112   \n",
       "2    6846.311523   6500.617676       1.522212      1.108788   \n",
       "3    5917.981934   5570.070312       0.915215      1.313440   \n",
       "4    6731.123535   6471.833496       1.496251      0.046823   \n",
       "\n",
       "   P_prim__surface_potential  P_sec__surface_potential   P_t1_t2  \\\n",
       "0                   7.501962                  7.534894  1.054142   \n",
       "1                   7.150830                  7.194067  1.025620   \n",
       "2                   3.781532                  3.790986  1.056917   \n",
       "3                   3.850923                  3.905050  1.067454   \n",
       "4                   2.107799                  2.306593  1.045047   \n",
       "\n",
       "   P_critical_surface_potential  P_primary_equivalent_radius  \\\n",
       "0                      7.744993                     0.285975   \n",
       "1                      7.526182                     0.306539   \n",
       "2                      3.936830                     0.396615   \n",
       "3                      4.273981                     0.424953   \n",
       "4                      2.082450                     0.519066   \n",
       "\n",
       "   P_secondary_equivalent_radius  P_primary_filling_factor  \\\n",
       "0                       0.510292                  0.293733   \n",
       "1                       0.531069                  0.558212   \n",
       "2                       0.415668                  0.293223   \n",
       "3                       0.474609                  0.723804   \n",
       "4                       0.237436                  0.250759   \n",
       "\n",
       "   P_secondary_filling_factor  \n",
       "0                    0.297139  \n",
       "1                    0.563122  \n",
       "2                    0.299829  \n",
       "3                    0.726519  \n",
       "4                    0.235542  "
      ]
     },
     "execution_count": 16,
     "metadata": {},
     "output_type": "execute_result"
    }
   ],
   "source": [
    "# Blok 19 - vytvorenie df z denormovanych predikcii\n",
    "denorm_pred_df = pd.DataFrame(denorm,\n",
    "                           columns = [\n",
    "                                \"P_prim__t_eff\",\n",
    "                                \"P_sec__t_eff\",\n",
    "                                \"P_inclination\",\n",
    "                                \"P_mass_ratio\",\n",
    "                                \"P_prim__surface_potential\",\n",
    "                                \"P_sec__surface_potential\",\n",
    "                                \"P_t1_t2\",\n",
    "                                \"P_critical_surface_potential\",\n",
    "                                \"P_primary_equivalent_radius\",\n",
    "                                \"P_secondary_equivalent_radius\",\n",
    "                                \"P_primary_filling_factor\",\n",
    "                                \"P_secondary_filling_factor\"\n",
    "                            ])\n",
    "denorm_pred_df.head()"
   ]
  },
  {
   "cell_type": "code",
   "execution_count": 17,
   "metadata": {},
   "outputs": [
    {
     "data": {
      "text/plain": [
       "P_prim__t_eff                    6430.596191\n",
       "P_sec__t_eff                     6149.156250\n",
       "P_inclination                       1.229885\n",
       "P_mass_ratio                        1.405825\n",
       "P_prim__surface_potential           3.968041\n",
       "P_sec__surface_potential            4.008068\n",
       "P_t1_t2                             1.048048\n",
       "P_critical_surface_potential        4.318586\n",
       "P_primary_equivalent_radius         0.427423\n",
       "P_secondary_equivalent_radius       0.452089\n",
       "P_primary_filling_factor            0.631660\n",
       "P_secondary_filling_factor          0.630456\n",
       "dtype: float32"
      ]
     },
     "execution_count": 17,
     "metadata": {},
     "output_type": "execute_result"
    }
   ],
   "source": [
    "# Blok 20 - vypocet priemernych hodnot\n",
    "pred_mean = denorm_pred_df.mean(axis=0)\n",
    "pred_mean"
   ]
  },
  {
   "cell_type": "code",
   "execution_count": 22,
   "metadata": {},
   "outputs": [
    {
     "data": {
      "text/plain": [
       "P_prim__t_eff                    6542.375000\n",
       "P_sec__t_eff                     6252.187500\n",
       "P_inclination                       1.221348\n",
       "P_mass_ratio                        1.412813\n",
       "P_prim__surface_potential           3.972770\n",
       "P_sec__surface_potential            3.972770\n",
       "P_t1_t2                             1.048076\n",
       "P_critical_surface_potential        4.286547\n",
       "P_primary_equivalent_radius         0.431312\n",
       "P_secondary_equivalent_radius       0.446961\n",
       "P_primary_filling_factor            0.615457\n",
       "P_secondary_filling_factor          0.615457\n",
       "dtype: float64"
      ]
     },
     "execution_count": 22,
     "metadata": {},
     "output_type": "execute_result"
    }
   ],
   "source": [
    "# Blok 21 - vytvorenie df z testovaich dat bez sumu, vypocet priemernych hodnot\n",
    "denorm_test = scaler.inverse_transform(y_test)\n",
    "y_test_norm = pd.DataFrame(denorm_test,\n",
    "                            columns = [\n",
    "                                \"P_prim__t_eff\",\n",
    "                                \"P_sec__t_eff\",\n",
    "                                \"P_inclination\",\n",
    "                                \"P_mass_ratio\",\n",
    "                                \"P_prim__surface_potential\",\n",
    "                                \"P_sec__surface_potential\",\n",
    "                                \"P_t1_t2\",\n",
    "                                \"P_critical_surface_potential\",\n",
    "                                \"P_primary_equivalent_radius\",\n",
    "                                \"P_secondary_equivalent_radius\",\n",
    "                                \"P_primary_filling_factor\",\n",
    "                                \"P_secondary_filling_factor\"\n",
    "                            ])\n",
    "true_mean = y_test_norm.mean(axis=0)\n",
    "true_mean"
   ]
  },
  {
   "cell_type": "code",
   "execution_count": 23,
   "metadata": {},
   "outputs": [
    {
     "data": {
      "text/html": [
       "<div>\n",
       "<style scoped>\n",
       "    .dataframe tbody tr th:only-of-type {\n",
       "        vertical-align: middle;\n",
       "    }\n",
       "\n",
       "    .dataframe tbody tr th {\n",
       "        vertical-align: top;\n",
       "    }\n",
       "\n",
       "    .dataframe thead th {\n",
       "        text-align: right;\n",
       "    }\n",
       "</style>\n",
       "<table border=\"1\" class=\"dataframe\">\n",
       "  <thead>\n",
       "    <tr style=\"text-align: right;\">\n",
       "      <th></th>\n",
       "      <th>attribute</th>\n",
       "      <th>avg_true</th>\n",
       "      <th>avg_pred</th>\n",
       "      <th>MAE</th>\n",
       "    </tr>\n",
       "  </thead>\n",
       "  <tbody>\n",
       "    <tr>\n",
       "      <th>0</th>\n",
       "      <td>P_prim__t_eff</td>\n",
       "      <td>6542.375000</td>\n",
       "      <td>6430.596191</td>\n",
       "      <td>111.778809</td>\n",
       "    </tr>\n",
       "    <tr>\n",
       "      <th>1</th>\n",
       "      <td>P_sec__t_eff</td>\n",
       "      <td>6252.187500</td>\n",
       "      <td>6149.156250</td>\n",
       "      <td>103.031250</td>\n",
       "    </tr>\n",
       "    <tr>\n",
       "      <th>2</th>\n",
       "      <td>P_inclination</td>\n",
       "      <td>1.221348</td>\n",
       "      <td>1.229885</td>\n",
       "      <td>0.008536</td>\n",
       "    </tr>\n",
       "    <tr>\n",
       "      <th>3</th>\n",
       "      <td>P_mass_ratio</td>\n",
       "      <td>1.412813</td>\n",
       "      <td>1.405825</td>\n",
       "      <td>0.006989</td>\n",
       "    </tr>\n",
       "    <tr>\n",
       "      <th>4</th>\n",
       "      <td>P_prim__surface_potential</td>\n",
       "      <td>3.972770</td>\n",
       "      <td>3.968041</td>\n",
       "      <td>0.004728</td>\n",
       "    </tr>\n",
       "    <tr>\n",
       "      <th>5</th>\n",
       "      <td>P_sec__surface_potential</td>\n",
       "      <td>3.972770</td>\n",
       "      <td>4.008068</td>\n",
       "      <td>0.035298</td>\n",
       "    </tr>\n",
       "    <tr>\n",
       "      <th>6</th>\n",
       "      <td>P_t1_t2</td>\n",
       "      <td>1.048076</td>\n",
       "      <td>1.048048</td>\n",
       "      <td>0.000028</td>\n",
       "    </tr>\n",
       "    <tr>\n",
       "      <th>7</th>\n",
       "      <td>P_critical_surface_potential</td>\n",
       "      <td>4.286547</td>\n",
       "      <td>4.318586</td>\n",
       "      <td>0.032040</td>\n",
       "    </tr>\n",
       "    <tr>\n",
       "      <th>8</th>\n",
       "      <td>P_primary_equivalent_radius</td>\n",
       "      <td>0.431312</td>\n",
       "      <td>0.427423</td>\n",
       "      <td>0.003889</td>\n",
       "    </tr>\n",
       "    <tr>\n",
       "      <th>9</th>\n",
       "      <td>P_secondary_equivalent_radius</td>\n",
       "      <td>0.446961</td>\n",
       "      <td>0.452089</td>\n",
       "      <td>0.005128</td>\n",
       "    </tr>\n",
       "    <tr>\n",
       "      <th>10</th>\n",
       "      <td>P_primary_filling_factor</td>\n",
       "      <td>0.615457</td>\n",
       "      <td>0.631660</td>\n",
       "      <td>0.016203</td>\n",
       "    </tr>\n",
       "    <tr>\n",
       "      <th>11</th>\n",
       "      <td>P_secondary_filling_factor</td>\n",
       "      <td>0.615457</td>\n",
       "      <td>0.630456</td>\n",
       "      <td>0.014999</td>\n",
       "    </tr>\n",
       "  </tbody>\n",
       "</table>\n",
       "</div>"
      ],
      "text/plain": [
       "                        attribute     avg_true     avg_pred         MAE\n",
       "0                   P_prim__t_eff  6542.375000  6430.596191  111.778809\n",
       "1                    P_sec__t_eff  6252.187500  6149.156250  103.031250\n",
       "2                   P_inclination     1.221348     1.229885    0.008536\n",
       "3                    P_mass_ratio     1.412813     1.405825    0.006989\n",
       "4       P_prim__surface_potential     3.972770     3.968041    0.004728\n",
       "5        P_sec__surface_potential     3.972770     4.008068    0.035298\n",
       "6                         P_t1_t2     1.048076     1.048048    0.000028\n",
       "7    P_critical_surface_potential     4.286547     4.318586    0.032040\n",
       "8     P_primary_equivalent_radius     0.431312     0.427423    0.003889\n",
       "9   P_secondary_equivalent_radius     0.446961     0.452089    0.005128\n",
       "10       P_primary_filling_factor     0.615457     0.631660    0.016203\n",
       "11     P_secondary_filling_factor     0.615457     0.630456    0.014999"
      ]
     },
     "execution_count": 23,
     "metadata": {},
     "output_type": "execute_result"
    }
   ],
   "source": [
    "# Blok 22 - vytvorenie df na porovnanie priemernych predikovanych a skutocnych hodnot\n",
    "eval_pred = pd.DataFrame({'attribute': true_mean.index,\n",
    "            'avg_true': true_mean.values,\n",
    "            'avg_pred': pred_mean.values,\n",
    "            'MAE': abs(true_mean.values - pred_mean.values)})\n",
    "eval_pred"
   ]
  },
  {
   "cell_type": "markdown",
   "metadata": {},
   "source": [
    "## Prediction on normalized test data with noise"
   ]
  },
  {
   "cell_type": "code",
   "execution_count": 24,
   "metadata": {},
   "outputs": [],
   "source": [
    "# Blok 23 - predikcia na datach so sumom\n",
    "y_pred_norm_n = model.predict(X_test_n)"
   ]
  },
  {
   "cell_type": "code",
   "execution_count": 25,
   "metadata": {},
   "outputs": [
    {
     "data": {
      "text/plain": [
       "array([6.9901250e+03, 6.6553823e+03, 9.4541442e-01, 3.9031935e+00,\n",
       "       7.5019617e+00, 7.5348935e+00, 1.0541420e+00, 7.7449927e+00,\n",
       "       2.8597540e-01, 5.1029235e-01, 2.9373312e-01, 2.9713902e-01],\n",
       "      dtype=float32)"
      ]
     },
     "execution_count": 25,
     "metadata": {},
     "output_type": "execute_result"
    }
   ],
   "source": [
    "# Blok 24 - spatna normalizacia predikcii\n",
    "denorm_n = scaler.inverse_transform(y_pred_norm)\n",
    "denorm_n[0]"
   ]
  },
  {
   "cell_type": "code",
   "execution_count": 26,
   "metadata": {},
   "outputs": [
    {
     "data": {
      "text/html": [
       "<div>\n",
       "<style scoped>\n",
       "    .dataframe tbody tr th:only-of-type {\n",
       "        vertical-align: middle;\n",
       "    }\n",
       "\n",
       "    .dataframe tbody tr th {\n",
       "        vertical-align: top;\n",
       "    }\n",
       "\n",
       "    .dataframe thead th {\n",
       "        text-align: right;\n",
       "    }\n",
       "</style>\n",
       "<table border=\"1\" class=\"dataframe\">\n",
       "  <thead>\n",
       "    <tr style=\"text-align: right;\">\n",
       "      <th></th>\n",
       "      <th>P_prim__t_eff</th>\n",
       "      <th>P_sec__t_eff</th>\n",
       "      <th>P_inclination</th>\n",
       "      <th>P_mass_ratio</th>\n",
       "      <th>P_prim__surface_potential</th>\n",
       "      <th>P_sec__surface_potential</th>\n",
       "      <th>P_t1_t2</th>\n",
       "      <th>P_critical_surface_potential</th>\n",
       "      <th>P_primary_equivalent_radius</th>\n",
       "      <th>P_secondary_equivalent_radius</th>\n",
       "      <th>P_primary_filling_factor</th>\n",
       "      <th>P_secondary_filling_factor</th>\n",
       "    </tr>\n",
       "  </thead>\n",
       "  <tbody>\n",
       "    <tr>\n",
       "      <th>0</th>\n",
       "      <td>6990.125000</td>\n",
       "      <td>6655.382324</td>\n",
       "      <td>0.945414</td>\n",
       "      <td>3.903193</td>\n",
       "      <td>7.501962</td>\n",
       "      <td>7.534894</td>\n",
       "      <td>1.054142</td>\n",
       "      <td>7.744993</td>\n",
       "      <td>0.285975</td>\n",
       "      <td>0.510292</td>\n",
       "      <td>0.293733</td>\n",
       "      <td>0.297139</td>\n",
       "    </tr>\n",
       "    <tr>\n",
       "      <th>1</th>\n",
       "      <td>6752.203125</td>\n",
       "      <td>6624.109375</td>\n",
       "      <td>0.915045</td>\n",
       "      <td>3.697112</td>\n",
       "      <td>7.150830</td>\n",
       "      <td>7.194067</td>\n",
       "      <td>1.025620</td>\n",
       "      <td>7.526182</td>\n",
       "      <td>0.306539</td>\n",
       "      <td>0.531069</td>\n",
       "      <td>0.558212</td>\n",
       "      <td>0.563122</td>\n",
       "    </tr>\n",
       "    <tr>\n",
       "      <th>2</th>\n",
       "      <td>6846.311523</td>\n",
       "      <td>6500.617676</td>\n",
       "      <td>1.522212</td>\n",
       "      <td>1.108788</td>\n",
       "      <td>3.781532</td>\n",
       "      <td>3.790986</td>\n",
       "      <td>1.056917</td>\n",
       "      <td>3.936830</td>\n",
       "      <td>0.396615</td>\n",
       "      <td>0.415668</td>\n",
       "      <td>0.293223</td>\n",
       "      <td>0.299829</td>\n",
       "    </tr>\n",
       "    <tr>\n",
       "      <th>3</th>\n",
       "      <td>5917.981934</td>\n",
       "      <td>5570.070312</td>\n",
       "      <td>0.915215</td>\n",
       "      <td>1.313440</td>\n",
       "      <td>3.850923</td>\n",
       "      <td>3.905050</td>\n",
       "      <td>1.067454</td>\n",
       "      <td>4.273981</td>\n",
       "      <td>0.424953</td>\n",
       "      <td>0.474609</td>\n",
       "      <td>0.723804</td>\n",
       "      <td>0.726519</td>\n",
       "    </tr>\n",
       "    <tr>\n",
       "      <th>4</th>\n",
       "      <td>6731.123535</td>\n",
       "      <td>6471.833496</td>\n",
       "      <td>1.496251</td>\n",
       "      <td>0.046823</td>\n",
       "      <td>2.107799</td>\n",
       "      <td>2.306593</td>\n",
       "      <td>1.045047</td>\n",
       "      <td>2.082450</td>\n",
       "      <td>0.519066</td>\n",
       "      <td>0.237436</td>\n",
       "      <td>0.250759</td>\n",
       "      <td>0.235542</td>\n",
       "    </tr>\n",
       "  </tbody>\n",
       "</table>\n",
       "</div>"
      ],
      "text/plain": [
       "   P_prim__t_eff  P_sec__t_eff  P_inclination  P_mass_ratio  \\\n",
       "0    6990.125000   6655.382324       0.945414      3.903193   \n",
       "1    6752.203125   6624.109375       0.915045      3.697112   \n",
       "2    6846.311523   6500.617676       1.522212      1.108788   \n",
       "3    5917.981934   5570.070312       0.915215      1.313440   \n",
       "4    6731.123535   6471.833496       1.496251      0.046823   \n",
       "\n",
       "   P_prim__surface_potential  P_sec__surface_potential   P_t1_t2  \\\n",
       "0                   7.501962                  7.534894  1.054142   \n",
       "1                   7.150830                  7.194067  1.025620   \n",
       "2                   3.781532                  3.790986  1.056917   \n",
       "3                   3.850923                  3.905050  1.067454   \n",
       "4                   2.107799                  2.306593  1.045047   \n",
       "\n",
       "   P_critical_surface_potential  P_primary_equivalent_radius  \\\n",
       "0                      7.744993                     0.285975   \n",
       "1                      7.526182                     0.306539   \n",
       "2                      3.936830                     0.396615   \n",
       "3                      4.273981                     0.424953   \n",
       "4                      2.082450                     0.519066   \n",
       "\n",
       "   P_secondary_equivalent_radius  P_primary_filling_factor  \\\n",
       "0                       0.510292                  0.293733   \n",
       "1                       0.531069                  0.558212   \n",
       "2                       0.415668                  0.293223   \n",
       "3                       0.474609                  0.723804   \n",
       "4                       0.237436                  0.250759   \n",
       "\n",
       "   P_secondary_filling_factor  \n",
       "0                    0.297139  \n",
       "1                    0.563122  \n",
       "2                    0.299829  \n",
       "3                    0.726519  \n",
       "4                    0.235542  "
      ]
     },
     "execution_count": 26,
     "metadata": {},
     "output_type": "execute_result"
    }
   ],
   "source": [
    "# Blok 25 - vytvorenie df z denormovanych predikcii\n",
    "denorm_pred_n_df = pd.DataFrame(denorm_n,\n",
    "                           columns = [\n",
    "                                \"P_prim__t_eff\",\n",
    "                                \"P_sec__t_eff\",\n",
    "                                \"P_inclination\",\n",
    "                                \"P_mass_ratio\",\n",
    "                                \"P_prim__surface_potential\",\n",
    "                                \"P_sec__surface_potential\",\n",
    "                                \"P_t1_t2\",\n",
    "                                \"P_critical_surface_potential\",\n",
    "                                \"P_primary_equivalent_radius\",\n",
    "                                \"P_secondary_equivalent_radius\",\n",
    "                                \"P_primary_filling_factor\",\n",
    "                                \"P_secondary_filling_factor\"\n",
    "                            ])\n",
    "denorm_pred_n_df.head()"
   ]
  },
  {
   "cell_type": "code",
   "execution_count": 27,
   "metadata": {},
   "outputs": [
    {
     "data": {
      "text/plain": [
       "P_prim__t_eff                    6430.596191\n",
       "P_sec__t_eff                     6149.156250\n",
       "P_inclination                       1.229885\n",
       "P_mass_ratio                        1.405825\n",
       "P_prim__surface_potential           3.968041\n",
       "P_sec__surface_potential            4.008068\n",
       "P_t1_t2                             1.048048\n",
       "P_critical_surface_potential        4.318586\n",
       "P_primary_equivalent_radius         0.427423\n",
       "P_secondary_equivalent_radius       0.452089\n",
       "P_primary_filling_factor            0.631660\n",
       "P_secondary_filling_factor          0.630456\n",
       "dtype: float32"
      ]
     },
     "execution_count": 27,
     "metadata": {},
     "output_type": "execute_result"
    }
   ],
   "source": [
    "# Blok 26 - vypocet priemernych hodnot\n",
    "pred_mean_n = denorm_pred_n_df.mean(axis=0)\n",
    "pred_mean_n"
   ]
  },
  {
   "cell_type": "code",
   "execution_count": 31,
   "metadata": {},
   "outputs": [
    {
     "data": {
      "text/plain": [
       "P_prim__t_eff                    6542.375000\n",
       "P_sec__t_eff                     6252.187500\n",
       "P_inclination                       1.221348\n",
       "P_mass_ratio                        1.412813\n",
       "P_prim__surface_potential           3.972770\n",
       "P_sec__surface_potential            3.972770\n",
       "P_t1_t2                             1.048076\n",
       "P_critical_surface_potential        4.286547\n",
       "P_primary_equivalent_radius         0.431312\n",
       "P_secondary_equivalent_radius       0.446961\n",
       "P_primary_filling_factor            0.615457\n",
       "P_secondary_filling_factor          0.615457\n",
       "dtype: float64"
      ]
     },
     "execution_count": 31,
     "metadata": {},
     "output_type": "execute_result"
    }
   ],
   "source": [
    "# Blok 27 - vytvorenie df z testovaich dat bez sumu, vypocet priemernych hodnot\n",
    "denorm_test_n = scaler.inverse_transform(y_test_norm_n)\n",
    "y_test_norm_n = pd.DataFrame(denorm_test_n,\n",
    "                            columns = [\n",
    "                                \"P_prim__t_eff\",\n",
    "                                \"P_sec__t_eff\",\n",
    "                                \"P_inclination\",\n",
    "                                \"P_mass_ratio\",\n",
    "                                \"P_prim__surface_potential\",\n",
    "                                \"P_sec__surface_potential\",\n",
    "                                \"P_t1_t2\",\n",
    "                                \"P_critical_surface_potential\",\n",
    "                                \"P_primary_equivalent_radius\",\n",
    "                                \"P_secondary_equivalent_radius\",\n",
    "                                \"P_primary_filling_factor\",\n",
    "                                \"P_secondary_filling_factor\"\n",
    "                            ])\n",
    "true_mean_n = y_test_norm_n.mean(axis=0)\n",
    "true_mean_n"
   ]
  },
  {
   "cell_type": "code",
   "execution_count": 32,
   "metadata": {},
   "outputs": [
    {
     "data": {
      "text/html": [
       "<div>\n",
       "<style scoped>\n",
       "    .dataframe tbody tr th:only-of-type {\n",
       "        vertical-align: middle;\n",
       "    }\n",
       "\n",
       "    .dataframe tbody tr th {\n",
       "        vertical-align: top;\n",
       "    }\n",
       "\n",
       "    .dataframe thead th {\n",
       "        text-align: right;\n",
       "    }\n",
       "</style>\n",
       "<table border=\"1\" class=\"dataframe\">\n",
       "  <thead>\n",
       "    <tr style=\"text-align: right;\">\n",
       "      <th></th>\n",
       "      <th>attribute</th>\n",
       "      <th>avg_true</th>\n",
       "      <th>avg_pred</th>\n",
       "      <th>MAE</th>\n",
       "    </tr>\n",
       "  </thead>\n",
       "  <tbody>\n",
       "    <tr>\n",
       "      <th>0</th>\n",
       "      <td>P_prim__t_eff</td>\n",
       "      <td>6542.375000</td>\n",
       "      <td>6430.596191</td>\n",
       "      <td>111.778809</td>\n",
       "    </tr>\n",
       "    <tr>\n",
       "      <th>1</th>\n",
       "      <td>P_sec__t_eff</td>\n",
       "      <td>6252.187500</td>\n",
       "      <td>6149.156250</td>\n",
       "      <td>103.031250</td>\n",
       "    </tr>\n",
       "    <tr>\n",
       "      <th>2</th>\n",
       "      <td>P_inclination</td>\n",
       "      <td>1.221348</td>\n",
       "      <td>1.229885</td>\n",
       "      <td>0.008536</td>\n",
       "    </tr>\n",
       "    <tr>\n",
       "      <th>3</th>\n",
       "      <td>P_mass_ratio</td>\n",
       "      <td>1.412813</td>\n",
       "      <td>1.405825</td>\n",
       "      <td>0.006989</td>\n",
       "    </tr>\n",
       "    <tr>\n",
       "      <th>4</th>\n",
       "      <td>P_prim__surface_potential</td>\n",
       "      <td>3.972770</td>\n",
       "      <td>3.968041</td>\n",
       "      <td>0.004728</td>\n",
       "    </tr>\n",
       "    <tr>\n",
       "      <th>5</th>\n",
       "      <td>P_sec__surface_potential</td>\n",
       "      <td>3.972770</td>\n",
       "      <td>4.008068</td>\n",
       "      <td>0.035298</td>\n",
       "    </tr>\n",
       "    <tr>\n",
       "      <th>6</th>\n",
       "      <td>P_t1_t2</td>\n",
       "      <td>1.048076</td>\n",
       "      <td>1.048048</td>\n",
       "      <td>0.000028</td>\n",
       "    </tr>\n",
       "    <tr>\n",
       "      <th>7</th>\n",
       "      <td>P_critical_surface_potential</td>\n",
       "      <td>4.286547</td>\n",
       "      <td>4.318586</td>\n",
       "      <td>0.032040</td>\n",
       "    </tr>\n",
       "    <tr>\n",
       "      <th>8</th>\n",
       "      <td>P_primary_equivalent_radius</td>\n",
       "      <td>0.431312</td>\n",
       "      <td>0.427423</td>\n",
       "      <td>0.003889</td>\n",
       "    </tr>\n",
       "    <tr>\n",
       "      <th>9</th>\n",
       "      <td>P_secondary_equivalent_radius</td>\n",
       "      <td>0.446961</td>\n",
       "      <td>0.452089</td>\n",
       "      <td>0.005128</td>\n",
       "    </tr>\n",
       "    <tr>\n",
       "      <th>10</th>\n",
       "      <td>P_primary_filling_factor</td>\n",
       "      <td>0.615457</td>\n",
       "      <td>0.631660</td>\n",
       "      <td>0.016203</td>\n",
       "    </tr>\n",
       "    <tr>\n",
       "      <th>11</th>\n",
       "      <td>P_secondary_filling_factor</td>\n",
       "      <td>0.615457</td>\n",
       "      <td>0.630456</td>\n",
       "      <td>0.014999</td>\n",
       "    </tr>\n",
       "  </tbody>\n",
       "</table>\n",
       "</div>"
      ],
      "text/plain": [
       "                        attribute     avg_true     avg_pred         MAE\n",
       "0                   P_prim__t_eff  6542.375000  6430.596191  111.778809\n",
       "1                    P_sec__t_eff  6252.187500  6149.156250  103.031250\n",
       "2                   P_inclination     1.221348     1.229885    0.008536\n",
       "3                    P_mass_ratio     1.412813     1.405825    0.006989\n",
       "4       P_prim__surface_potential     3.972770     3.968041    0.004728\n",
       "5        P_sec__surface_potential     3.972770     4.008068    0.035298\n",
       "6                         P_t1_t2     1.048076     1.048048    0.000028\n",
       "7    P_critical_surface_potential     4.286547     4.318586    0.032040\n",
       "8     P_primary_equivalent_radius     0.431312     0.427423    0.003889\n",
       "9   P_secondary_equivalent_radius     0.446961     0.452089    0.005128\n",
       "10       P_primary_filling_factor     0.615457     0.631660    0.016203\n",
       "11     P_secondary_filling_factor     0.615457     0.630456    0.014999"
      ]
     },
     "execution_count": 32,
     "metadata": {},
     "output_type": "execute_result"
    }
   ],
   "source": [
    "# Blok 28 - vytvorenie df na porovnanie priemernych predikovanych a skutocnych hodnot\n",
    "eval_pred = pd.DataFrame({'attribute': true_mean_n.index,\n",
    "            'avg_true': true_mean_n.values,\n",
    "            'avg_pred': pred_mean_n.values,\n",
    "            'MAE': abs(true_mean_n.values - pred_mean_n.values)})\n",
    "eval_pred"
   ]
  }
 ],
 "metadata": {
  "kernelspec": {
   "display_name": "Python 3.8.12 ('global')",
   "language": "python",
   "name": "python3"
  },
  "language_info": {
   "codemirror_mode": {
    "name": "ipython",
    "version": 3
   },
   "file_extension": ".py",
   "mimetype": "text/x-python",
   "name": "python",
   "nbconvert_exporter": "python",
   "pygments_lexer": "ipython3",
   "version": "3.8.12"
  },
  "orig_nbformat": 4,
  "vscode": {
   "interpreter": {
    "hash": "b8fc6ce4f931e35f5dd2ff00f5d2ede33ff85432a244cf6e3e9d498f6426f487"
   }
  }
 },
 "nbformat": 4,
 "nbformat_minor": 2
}
