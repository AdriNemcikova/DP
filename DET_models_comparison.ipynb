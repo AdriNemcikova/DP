{
 "cells": [
  {
   "cell_type": "markdown",
   "metadata": {},
   "source": [
    "## Script for model comparison\n",
    "Modely trenovane na malej random vzorke dat, vyhodnotene"
   ]
  },
  {
   "cell_type": "code",
   "execution_count": 1,
   "metadata": {},
   "outputs": [],
   "source": [
    "# LIBRARIES\n",
    "import numpy as np\n",
    "import pandas as pd\n",
    "import seaborn as sns\n",
    "import matplotlib.pyplot as plt\n",
    "\n",
    "from sklearn.preprocessing import MinMaxScaler"
   ]
  },
  {
   "cell_type": "code",
   "execution_count": 2,
   "metadata": {},
   "outputs": [],
   "source": [
    "from keras.utils import np_utils\n",
    "from keras.models import load_model\n",
    "from sklearn.model_selection import train_test_split\n",
    "from sklearn.metrics import confusion_matrix, classification_report\n",
    "from sklearn.metrics import precision_recall_fscore_support\n",
    "from keras.layers import Conv1D, GlobalMaxPooling1D, MaxPooling1D, SpatialDropout1D, GlobalAveragePooling1D\n",
    "from keras.layers import Input, Dense, concatenate, Activation, LSTM, Dropout, Flatten\n",
    "from keras.models import Model\n",
    "from keras.layers.merge import Concatenate\n",
    "from tensorflow.keras.callbacks import ModelCheckpoint, EarlyStopping"
   ]
  },
  {
   "cell_type": "code",
   "execution_count": 3,
   "metadata": {},
   "outputs": [],
   "source": [
    "np.random.seed(1234)\n",
    "pd.set_option('display.max_rows', None)"
   ]
  },
  {
   "cell_type": "code",
   "execution_count": 4,
   "metadata": {},
   "outputs": [],
   "source": [
    "def generate_observation_sigma(space_obs_frac=0.5):\n",
    "    \"\"\"\n",
    "    Draws a standard deviation of noise in light curve points from a \"true\" value provided in synthetic light curve.\n",
    "    Noise sigma is drawn from bimodal distribution taking into account contributions from space based and earth based\n",
    "    observations which have different levels of stochastic noise.\n",
    "\n",
    "    :param space_obs_frac: ratio between earth based and space based observations\n",
    "    :return: float; standard deviation of the light curve noise\n",
    "    \"\"\"\n",
    "    earth_based_sigma = 4e-3\n",
    "    space_based_sigma = 2e-4\n",
    "    sigma = np.random.choice([earth_based_sigma, space_based_sigma], p=[1-space_obs_frac, space_obs_frac])\n",
    "    return np.random.rayleigh(sigma)\n",
    "\n",
    "def stochastic_noise_generator(curve):\n",
    "    \"\"\"\n",
    "    Introduces gaussian noise into synthetic observation provided in `curve`.\n",
    "\n",
    "    :param curve: numpy.array; normalized light curve\n",
    "    :return: Tuple(numpy.array, float); normalized light curve with added noise, standard deviation of observations\n",
    "    \"\"\"\n",
    "    sigma = generate_observation_sigma()\n",
    "    return np.random.normal(curve, sigma), np.full(curve.shape, sigma)"
   ]
  },
  {
   "cell_type": "code",
   "execution_count": 5,
   "metadata": {},
   "outputs": [
    {
     "data": {
      "text/plain": [
       "['index',\n",
       " 'id',\n",
       " 'curve',\n",
       " 'primary__t_eff',\n",
       " 'secondary__t_eff',\n",
       " 'inclination',\n",
       " 'mass_ratio',\n",
       " 'primary__surface_potential',\n",
       " 'secondary__surface_potential',\n",
       " 't1_t2',\n",
       " 'filter',\n",
       " 'critical_surface_potential',\n",
       " 'primary__equivalent_radius',\n",
       " 'secondary__equivalent_radius',\n",
       " 'primary__filling_factor',\n",
       " 'secondary__filling_factor']"
      ]
     },
     "execution_count": 5,
     "metadata": {},
     "output_type": "execute_result"
    }
   ],
   "source": [
    "data = pd.read_pickle(\"detached_all_parameters.pkl\").reset_index()\n",
    "data_sample = data.sample(n=50000)\n",
    "list(data_sample.columns)"
   ]
  },
  {
   "cell_type": "code",
   "execution_count": 6,
   "metadata": {},
   "outputs": [],
   "source": [
    "X = []\n",
    "for row in data_sample[\"curve\"]:\n",
    "    X.append(row)\n",
    "X=np.array(X)"
   ]
  },
  {
   "cell_type": "code",
   "execution_count": 7,
   "metadata": {},
   "outputs": [],
   "source": [
    "y = np.array(data_sample[[\n",
    "    \"inclination\",\n",
    "    \"mass_ratio\",\n",
    "    \"primary__surface_potential\",\n",
    "    \"secondary__surface_potential\",\n",
    "    \"t1_t2\"]])"
   ]
  },
  {
   "cell_type": "code",
   "execution_count": 8,
   "metadata": {},
   "outputs": [
    {
     "data": {
      "text/plain": [
       "array([0.71584635, 0.05050505, 0.17208073, 0.0020424 , 0.7804878 ])"
      ]
     },
     "execution_count": 8,
     "metadata": {},
     "output_type": "execute_result"
    }
   ],
   "source": [
    "# MinMax Scaler\n",
    "scaler = MinMaxScaler()\n",
    "y_minmax_scaled = scaler.fit_transform(y)\n",
    "y_minmax_scaled[0]"
   ]
  },
  {
   "cell_type": "code",
   "execution_count": 9,
   "metadata": {},
   "outputs": [],
   "source": [
    "X_train1, X_test, y_train1, y_test = train_test_split(X, y_minmax_scaled, test_size=0.2)"
   ]
  },
  {
   "cell_type": "code",
   "execution_count": 10,
   "metadata": {},
   "outputs": [],
   "source": [
    "# Adding noise to train data\n",
    "X_train_n = []\n",
    "y_train_n = []\n",
    "for i in range(len(X_train1)):\n",
    "    for j in range(3):\n",
    "        curve = stochastic_noise_generator(X_train1[i])\n",
    "        X_train_n.append(curve[0])\n",
    "        y_train_n.append(y_train1[i])\n",
    "X_train_n = np.array(X_train_n)\n",
    "y_train_n=np.array(y_train_n)"
   ]
  },
  {
   "cell_type": "code",
   "execution_count": 11,
   "metadata": {},
   "outputs": [
    {
     "name": "stdout",
     "output_type": "stream",
     "text": [
      "Number of records in dataset:  1300000 \n",
      "Number of records in sample:  50000 \n",
      "Number of train data without noise:  40000 \n",
      "Number of train data with noise:  120000 \n",
      "Number of test data without noise:  10000\n"
     ]
    }
   ],
   "source": [
    "print(\"Number of records in dataset: \", len(data),\n",
    "    \"\\nNumber of records in sample: \", len(X),\n",
    "    \"\\nNumber of train data without noise: \", len(X_train1),\n",
    "    \"\\nNumber of train data with noise: \", len(X_train_n),\n",
    "    \"\\nNumber of test data without noise: \", len(X_test))"
   ]
  },
  {
   "cell_type": "markdown",
   "metadata": {},
   "source": [
    "## Model v1\n",
    "Povodny model"
   ]
  },
  {
   "cell_type": "code",
   "execution_count": 14,
   "metadata": {},
   "outputs": [
    {
     "name": "stdout",
     "output_type": "stream",
     "text": [
      "Model: \"functional_3\"\n",
      "_________________________________________________________________\n",
      "Layer (type)                 Output Shape              Param #   \n",
      "=================================================================\n",
      "input_2 (InputLayer)         [(None, 400, 1)]          0         \n",
      "_________________________________________________________________\n",
      "conv1d_1 (Conv1D)            (None, 398, 64)           256       \n",
      "_________________________________________________________________\n",
      "max_pooling1d_1 (MaxPooling1 (None, 199, 64)           0         \n",
      "_________________________________________________________________\n",
      "dropout_1 (Dropout)          (None, 199, 64)           0         \n",
      "_________________________________________________________________\n",
      "lstm_1 (LSTM)                (None, 199, 64)           33024     \n",
      "_________________________________________________________________\n",
      "flatten_1 (Flatten)          (None, 12736)             0         \n",
      "_________________________________________________________________\n",
      "dense_3 (Dense)              (None, 64)                815168    \n",
      "_________________________________________________________________\n",
      "dense_4 (Dense)              (None, 32)                2080      \n",
      "_________________________________________________________________\n",
      "dense_5 (Dense)              (None, 5)                 165       \n",
      "=================================================================\n",
      "Total params: 850,693\n",
      "Trainable params: 850,693\n",
      "Non-trainable params: 0\n",
      "_________________________________________________________________\n",
      "None\n"
     ]
    }
   ],
   "source": [
    "inputs = Input(shape=(400, 1))\n",
    "b = Conv1D(64, kernel_size = 3, padding = \"valid\")(inputs)\n",
    "b = MaxPooling1D(2)(b)\n",
    "b = Dropout(0.2)(b)\n",
    "b = LSTM(64, return_sequences=True)(b)\n",
    "b = Flatten()(b)\n",
    "b = Dense(64, activation='relu')(b)\n",
    "x = Dense(32, activation='relu')(b)\n",
    "output = Dense(5, activation='linear')(x)\n",
    "model_v1 = Model(inputs=inputs, outputs=output)\n",
    "model_v1.compile(loss='mse', optimizer='adam', metrics=[\"mae\", \"mape\"])\n",
    "print(model_v1.summary())"
   ]
  },
  {
   "cell_type": "code",
   "execution_count": 15,
   "metadata": {},
   "outputs": [],
   "source": [
    "saved_model = \"det_models_comparison/norm_detached_sel_v1.hdf5\"\n",
    "checkpoint = ModelCheckpoint(saved_model, monitor = 'val_mae', verbose = 1, save_best_only = True, mode = 'min')\n",
    "early = EarlyStopping(monitor = \"val_mae\", mode = \"min\", patience = 25)\n",
    "callbacks_list = [checkpoint, early]"
   ]
  },
  {
   "cell_type": "code",
   "execution_count": 16,
   "metadata": {},
   "outputs": [
    {
     "name": "stdout",
     "output_type": "stream",
     "text": [
      "Epoch 1/10\n",
      "1688/1688 [==============================] - ETA: 0s - loss: 0.0294 - mae: 0.1035 - mape: 2189551.0000\n",
      "Epoch 00001: val_mae improved from inf to 0.09551, saving model to det_models_comparison\\norm_detached_sel_v1.hdf5\n",
      "1688/1688 [==============================] - 331s 196ms/step - loss: 0.0294 - mae: 0.1035 - mape: 2189551.0000 - val_loss: 0.0244 - val_mae: 0.0955 - val_mape: 1854928.8750\n",
      "Epoch 2/10\n",
      "1688/1688 [==============================] - ETA: 0s - loss: 0.0240 - mae: 0.0908 - mape: 1887564.3750\n",
      "Epoch 00002: val_mae improved from 0.09551 to 0.08438, saving model to det_models_comparison\\norm_detached_sel_v1.hdf5\n",
      "1688/1688 [==============================] - 280s 166ms/step - loss: 0.0240 - mae: 0.0908 - mape: 1887564.3750 - val_loss: 0.0231 - val_mae: 0.0844 - val_mape: 1388718.1250\n",
      "Epoch 3/10\n",
      "1688/1688 [==============================] - ETA: 0s - loss: 0.0220 - mae: 0.0857 - mape: 1899570.3750\n",
      "Epoch 00003: val_mae improved from 0.08438 to 0.08254, saving model to det_models_comparison\\norm_detached_sel_v1.hdf5\n",
      "1688/1688 [==============================] - 274s 162ms/step - loss: 0.0220 - mae: 0.0857 - mape: 1899570.3750 - val_loss: 0.0204 - val_mae: 0.0825 - val_mape: 1623279.6250\n",
      "Epoch 4/10\n",
      "1688/1688 [==============================] - ETA: 0s - loss: 0.0209 - mae: 0.0824 - mape: 1884283.6250\n",
      "Epoch 00004: val_mae improved from 0.08254 to 0.07865, saving model to det_models_comparison\\norm_detached_sel_v1.hdf5\n",
      "1688/1688 [==============================] - 276s 164ms/step - loss: 0.0209 - mae: 0.0824 - mape: 1884283.6250 - val_loss: 0.0189 - val_mae: 0.0787 - val_mape: 1717789.1250\n",
      "Epoch 5/10\n",
      "1688/1688 [==============================] - ETA: 0s - loss: 0.0200 - mae: 0.0799 - mape: 1851740.7500 ETA: 0s - loss: 0.0200 - mae: 0.0799 - mape: 1852310.\n",
      "Epoch 00005: val_mae improved from 0.07865 to 0.07552, saving model to det_models_comparison\\norm_detached_sel_v1.hdf5\n",
      "1688/1688 [==============================] - 322s 190ms/step - loss: 0.0200 - mae: 0.0799 - mape: 1851740.7500 - val_loss: 0.0190 - val_mae: 0.0755 - val_mape: 1292813.0000\n",
      "Epoch 6/10\n",
      "1688/1688 [==============================] - ETA: 0s - loss: 0.0190 - mae: 0.0771 - mape: 1802569.0000\n",
      "Epoch 00006: val_mae improved from 0.07552 to 0.07407, saving model to det_models_comparison\\norm_detached_sel_v1.hdf5\n",
      "1688/1688 [==============================] - 320s 190ms/step - loss: 0.0190 - mae: 0.0771 - mape: 1802569.0000 - val_loss: 0.0178 - val_mae: 0.0741 - val_mape: 1500857.3750\n",
      "Epoch 7/10\n",
      "1688/1688 [==============================] - ETA: 0s - loss: 0.0182 - mae: 0.0748 - mape: 1757101.5000\n",
      "Epoch 00007: val_mae improved from 0.07407 to 0.07139, saving model to det_models_comparison\\norm_detached_sel_v1.hdf5\n",
      "1688/1688 [==============================] - 330s 195ms/step - loss: 0.0182 - mae: 0.0748 - mape: 1757101.5000 - val_loss: 0.0171 - val_mae: 0.0714 - val_mape: 1382849.3750\n",
      "Epoch 8/10\n",
      "1688/1688 [==============================] - ETA: 0s - loss: 0.0177 - mae: 0.0731 - mape: 1736479.7500\n",
      "Epoch 00008: val_mae improved from 0.07139 to 0.07139, saving model to det_models_comparison\\norm_detached_sel_v1.hdf5\n",
      "1688/1688 [==============================] - 278s 165ms/step - loss: 0.0177 - mae: 0.0731 - mape: 1736479.7500 - val_loss: 0.0166 - val_mae: 0.0714 - val_mape: 1751833.6250\n",
      "Epoch 9/10\n",
      "1688/1688 [==============================] - ETA: 0s - loss: 0.0172 - mae: 0.0717 - mape: 1714359.1250\n",
      "Epoch 00009: val_mae improved from 0.07139 to 0.06747, saving model to det_models_comparison\\norm_detached_sel_v1.hdf5\n",
      "1688/1688 [==============================] - 279s 165ms/step - loss: 0.0172 - mae: 0.0717 - mape: 1714359.1250 - val_loss: 0.0161 - val_mae: 0.0675 - val_mape: 1158070.5000\n",
      "Epoch 10/10\n",
      "1688/1688 [==============================] - ETA: 0s - loss: 0.0167 - mae: 0.0703 - mape: 1677531.6250\n",
      "Epoch 00010: val_mae improved from 0.06747 to 0.06730, saving model to det_models_comparison\\norm_detached_sel_v1.hdf5\n",
      "1688/1688 [==============================] - 280s 166ms/step - loss: 0.0167 - mae: 0.0703 - mape: 1677531.6250 - val_loss: 0.0157 - val_mae: 0.0673 - val_mape: 1319192.7500\n"
     ]
    }
   ],
   "source": [
    "history = model_v1.fit(X_train_n, y_train_n, validation_split = 0.1, epochs = 10, verbose = 1, callbacks = callbacks_list, batch_size = 64)"
   ]
  },
  {
   "cell_type": "code",
   "execution_count": 17,
   "metadata": {},
   "outputs": [
    {
     "data": {
      "image/png": "[encoded data removed]",
      "text/plain": [
       "<Figure size 432x288 with 1 Axes>"
      ]
     },
     "metadata": {
      "needs_background": "light"
     },
     "output_type": "display_data"
    }
   ],
   "source": [
    "plt.plot(history.history['loss'])\n",
    "plt.title(\"Model v1 for detached curves - process of learning\")\n",
    "plt.xlabel(\"Epoch\")\n",
    "plt.ylabel(\"Loss\")\n",
    "plt.savefig(\"det_models_comparison/model_v1.jpg\")"
   ]
  },
  {
   "cell_type": "markdown",
   "metadata": {},
   "source": [
    "## Model v2\n",
    "Pridana CNN vrstva + zmenene neurony na CNN vrstvach"
   ]
  },
  {
   "cell_type": "code",
   "execution_count": 18,
   "metadata": {},
   "outputs": [
    {
     "name": "stdout",
     "output_type": "stream",
     "text": [
      "Model: \"functional_5\"\n",
      "_________________________________________________________________\n",
      "Layer (type)                 Output Shape              Param #   \n",
      "=================================================================\n",
      "input_3 (InputLayer)         [(None, 400, 1)]          0         \n",
      "_________________________________________________________________\n",
      "conv1d_2 (Conv1D)            (None, 398, 128)          512       \n",
      "_________________________________________________________________\n",
      "max_pooling1d_2 (MaxPooling1 (None, 199, 128)          0         \n",
      "_________________________________________________________________\n",
      "conv1d_3 (Conv1D)            (None, 197, 64)           24640     \n",
      "_________________________________________________________________\n",
      "dropout_2 (Dropout)          (None, 197, 64)           0         \n",
      "_________________________________________________________________\n",
      "lstm_2 (LSTM)                (None, 197, 64)           33024     \n",
      "_________________________________________________________________\n",
      "flatten_2 (Flatten)          (None, 12608)             0         \n",
      "_________________________________________________________________\n",
      "dense_6 (Dense)              (None, 64)                806976    \n",
      "_________________________________________________________________\n",
      "dense_7 (Dense)              (None, 32)                2080      \n",
      "_________________________________________________________________\n",
      "dense_8 (Dense)              (None, 5)                 165       \n",
      "=================================================================\n",
      "Total params: 867,397\n",
      "Trainable params: 867,397\n",
      "Non-trainable params: 0\n",
      "_________________________________________________________________\n",
      "None\n"
     ]
    }
   ],
   "source": [
    "inputs = Input(shape=(400, 1))\n",
    "b = Conv1D(128, kernel_size = 3, padding = \"valid\")(inputs)\n",
    "b = MaxPooling1D(2)(b)\n",
    "b = Conv1D(64, kernel_size = 3, padding = \"valid\")(b)\n",
    "b = Dropout(0.2)(b)\n",
    "b = LSTM(64, return_sequences=True)(b)\n",
    "b = Flatten()(b)\n",
    "b = Dense(64, activation='relu')(b)\n",
    "x = Dense(32, activation='relu')(b)\n",
    "output = Dense(5, activation='linear')(x)\n",
    "model_v2 = Model(inputs=inputs, outputs=output)\n",
    "model_v2.compile(loss='mse', optimizer='adam', metrics=[\"mae\", \"mape\"])\n",
    "print(model_v2.summary())"
   ]
  },
  {
   "cell_type": "code",
   "execution_count": 19,
   "metadata": {},
   "outputs": [],
   "source": [
    "saved_model = \"det_models_comparison/norm_detached_sel_v2.hdf5\"\n",
    "checkpoint = ModelCheckpoint(saved_model, monitor = 'val_mae', verbose = 1, save_best_only = True, mode = 'min')\n",
    "early = EarlyStopping(monitor = \"val_mae\", mode = \"min\", patience = 25)\n",
    "callbacks_list = [checkpoint, early]"
   ]
  },
  {
   "cell_type": "code",
   "execution_count": 21,
   "metadata": {},
   "outputs": [
    {
     "name": "stdout",
     "output_type": "stream",
     "text": [
      "Epoch 1/10\n",
      "1688/1688 [==============================] - ETA: 0s - loss: 0.0136 - mae: 0.0621 - mape: 1579192.6250\n",
      "Epoch 00001: val_mae improved from 0.06175 to 0.05943, saving model to det_models_comparison\\norm_detached_sel_v2.hdf5\n",
      "1688/1688 [==============================] - 370s 219ms/step - loss: 0.0136 - mae: 0.0621 - mape: 1579192.6250 - val_loss: 0.0134 - val_mae: 0.0594 - val_mape: 1188060.1250\n",
      "Epoch 2/10\n",
      "1688/1688 [==============================] - ETA: 0s - loss: 0.0132 - mae: 0.0608 - mape: 1552603.2500\n",
      "Epoch 00002: val_mae improved from 0.05943 to 0.05872, saving model to det_models_comparison\\norm_detached_sel_v2.hdf5\n",
      "1688/1688 [==============================] - 373s 221ms/step - loss: 0.0132 - mae: 0.0608 - mape: 1552603.2500 - val_loss: 0.0130 - val_mae: 0.0587 - val_mape: 1182588.6250\n",
      "Epoch 3/10\n",
      "1688/1688 [==============================] - ETA: 0s - loss: 0.0128 - mae: 0.0594 - mape: 1481736.0000\n",
      "Epoch 00003: val_mae improved from 0.05872 to 0.05808, saving model to det_models_comparison\\norm_detached_sel_v2.hdf5\n",
      "1688/1688 [==============================] - 373s 221ms/step - loss: 0.0128 - mae: 0.0594 - mape: 1481736.0000 - val_loss: 0.0127 - val_mae: 0.0581 - val_mape: 1423929.1250\n",
      "Epoch 4/10\n",
      "1688/1688 [==============================] - ETA: 0s - loss: 0.0126 - mae: 0.0590 - mape: 1480267.8750\n",
      "Epoch 00004: val_mae did not improve from 0.05808\n",
      "1688/1688 [==============================] - 376s 223ms/step - loss: 0.0126 - mae: 0.0590 - mape: 1480267.8750 - val_loss: 0.0123 - val_mae: 0.0590 - val_mape: 1179157.1250\n",
      "Epoch 5/10\n",
      "1688/1688 [==============================] - ETA: 0s - loss: 0.0121 - mae: 0.0575 - mape: 1437409.0000\n",
      "Epoch 00005: val_mae improved from 0.05808 to 0.05673, saving model to det_models_comparison\\norm_detached_sel_v2.hdf5\n",
      "1688/1688 [==============================] - 375s 222ms/step - loss: 0.0121 - mae: 0.0575 - mape: 1437409.0000 - val_loss: 0.0123 - val_mae: 0.0567 - val_mape: 1207713.2500\n",
      "Epoch 6/10\n",
      "1688/1688 [==============================] - ETA: 0s - loss: 0.0120 - mae: 0.0573 - mape: 1434552.7500\n",
      "Epoch 00006: val_mae did not improve from 0.05673\n",
      "1688/1688 [==============================] - 373s 221ms/step - loss: 0.0120 - mae: 0.0573 - mape: 1434552.7500 - val_loss: 0.0123 - val_mae: 0.0578 - val_mape: 1205853.0000\n",
      "Epoch 7/10\n",
      "1688/1688 [==============================] - ETA: 0s - loss: 0.0117 - mae: 0.0564 - mape: 1390035.1250\n",
      "Epoch 00007: val_mae improved from 0.05673 to 0.05665, saving model to det_models_comparison\\norm_detached_sel_v2.hdf5\n",
      "1688/1688 [==============================] - 371s 220ms/step - loss: 0.0117 - mae: 0.0564 - mape: 1390035.1250 - val_loss: 0.0125 - val_mae: 0.0566 - val_mape: 1219447.7500\n",
      "Epoch 8/10\n",
      "1688/1688 [==============================] - ETA: 0s - loss: 0.0115 - mae: 0.0560 - mape: 1376603.3750\n",
      "Epoch 00008: val_mae improved from 0.05665 to 0.05552, saving model to det_models_comparison\\norm_detached_sel_v2.hdf5\n",
      "1688/1688 [==============================] - 367s 217ms/step - loss: 0.0115 - mae: 0.0560 - mape: 1376603.3750 - val_loss: 0.0122 - val_mae: 0.0555 - val_mape: 1228931.8750\n",
      "Epoch 9/10\n",
      "1688/1688 [==============================] - ETA: 0s - loss: 0.0112 - mae: 0.0551 - mape: 1368834.7500\n",
      "Epoch 00009: val_mae did not improve from 0.05552\n",
      "1688/1688 [==============================] - 362s 214ms/step - loss: 0.0112 - mae: 0.0551 - mape: 1368834.7500 - val_loss: 0.0120 - val_mae: 0.0558 - val_mape: 1271995.1250\n",
      "Epoch 10/10\n",
      "1688/1688 [==============================] - ETA: 0s - loss: 0.0110 - mae: 0.0546 - mape: 1328901.3750\n",
      "Epoch 00010: val_mae did not improve from 0.05552\n",
      "1688/1688 [==============================] - 362s 214ms/step - loss: 0.0110 - mae: 0.0546 - mape: 1328901.3750 - val_loss: 0.0120 - val_mae: 0.0560 - val_mape: 1270574.1250\n"
     ]
    }
   ],
   "source": [
    "history2 = model_v2.fit(X_train_n, y_train_n, validation_split = 0.1, epochs = 10, verbose = 1, callbacks = callbacks_list, batch_size = 64)"
   ]
  },
  {
   "cell_type": "code",
   "execution_count": 22,
   "metadata": {},
   "outputs": [
    {
     "data": {
      "image/png": "[encoded data removed]",
      "text/plain": [
       "<Figure size 432x288 with 1 Axes>"
      ]
     },
     "metadata": {
      "needs_background": "light"
     },
     "output_type": "display_data"
    }
   ],
   "source": [
    "plt.plot(history2.history['loss'])\n",
    "plt.title(\"Model v2 for detached curves - process of learning\")\n",
    "plt.xlabel(\"Epoch\")\n",
    "plt.ylabel(\"Loss\")\n",
    "plt.savefig(\"det_models_comparison/model_v2.jpg\")"
   ]
  },
  {
   "cell_type": "markdown",
   "metadata": {},
   "source": [
    "## Model v3\n",
    "Pridana lstm vrstva + maxpooling vrstva po cnn + zmensena batch size"
   ]
  },
  {
   "cell_type": "code",
   "execution_count": null,
   "metadata": {},
   "outputs": [],
   "source": [
    "inputs = Input(shape=(400, 1))\n",
    "b = Conv1D(128, kernel_size = 3, padding = \"valid\")(inputs)\n",
    "b = MaxPooling1D(2)(b)\n",
    "b = Conv1D(64, kernel_size = 3, padding = \"valid\")(b)\n",
    "b = MaxPooling1D(2)(b)\n",
    "b = Dropout(0.2)(b)\n",
    "b = LSTM(64, return_sequences=True)(b)\n",
    "b = LSTM(64, return_sequences=True)(b)\n",
    "b = Flatten()(b)\n",
    "b = Dense(64, activation='relu')(b)\n",
    "x = Dense(32, activation='relu')(b)\n",
    "output = Dense(5, activation='linear')(x)\n",
    "model_v3 = Model(inputs=inputs, outputs=output)\n",
    "model_v3.compile(loss='mse', optimizer='adam', metrics=[\"mae\", \"mape\"])\n",
    "print(model_v3.summary())"
   ]
  },
  {
   "cell_type": "code",
   "execution_count": null,
   "metadata": {},
   "outputs": [],
   "source": [
    "saved_model = \"det_models_comparison/norm_detached_sel_v3.hdf5\"\n",
    "checkpoint = ModelCheckpoint(saved_model, monitor = 'val_mae', verbose = 1, save_best_only = True, mode = 'min')\n",
    "early = EarlyStopping(monitor = \"val_mae\", mode = \"min\", patience = 25)\n",
    "callbacks_list = [checkpoint, early]"
   ]
  },
  {
   "cell_type": "code",
   "execution_count": null,
   "metadata": {},
   "outputs": [],
   "source": [
    "history3 = model_v3.fit(X_train_n, y_train_n, validation_split = 0.1, epochs = 10, verbose = 1, callbacks = callbacks_list, batch_size = 32)"
   ]
  },
  {
   "cell_type": "code",
   "execution_count": null,
   "metadata": {},
   "outputs": [],
   "source": [
    "plt.plot(history3.history['loss'])\n",
    "plt.title(\"Model v3 for detached curves - process of learning\")\n",
    "plt.xlabel(\"Epoch\")\n",
    "plt.ylabel(\"Loss\")\n",
    "plt.savefig(\"det_models_comparison/model_v3.jpg\")"
   ]
  },
  {
   "cell_type": "markdown",
   "metadata": {},
   "source": [
    "## Model v4\n",
    "architektura v3 - pridane neurony na 2. cnn vrstve, zmensena batch size"
   ]
  },
  {
   "cell_type": "code",
   "execution_count": null,
   "metadata": {},
   "outputs": [],
   "source": [
    "inputs = Input(shape=(400, 1))\n",
    "b = Conv1D(128, kernel_size = 3, padding = \"valid\")(inputs)\n",
    "b = MaxPooling1D(2)(b)\n",
    "b = Conv1D(128, kernel_size = 3, padding = \"valid\")(b)\n",
    "b = MaxPooling1D(2)(b)\n",
    "b = Dropout(0.2)(b)\n",
    "b = LSTM(64, return_sequences=True)(b)\n",
    "b = LSTM(64, return_sequences=True)(b)\n",
    "b = Flatten()(b)\n",
    "b = Dense(64, activation='relu')(b)\n",
    "x = Dense(32, activation='relu')(b)\n",
    "output = Dense(5, activation='linear')(x)\n",
    "model_v4 = Model(inputs=inputs, outputs=output)\n",
    "model_v4.compile(loss='mse', optimizer='adam', metrics=[\"mae\", \"mape\"])\n",
    "print(model_v4.summary())"
   ]
  },
  {
   "cell_type": "code",
   "execution_count": null,
   "metadata": {},
   "outputs": [],
   "source": [
    "saved_model = \"det_models_comparison/norm_detached_sel_v4.hdf5\"\n",
    "checkpoint = ModelCheckpoint(saved_model, monitor = 'val_mae', verbose = 1, save_best_only = True, mode = 'min')\n",
    "early = EarlyStopping(monitor = \"val_mae\", mode = \"min\", patience = 25)\n",
    "callbacks_list = [checkpoint, early]"
   ]
  },
  {
   "cell_type": "code",
   "execution_count": null,
   "metadata": {},
   "outputs": [],
   "source": [
    "history4 = model_v4.fit(X_train_n, y_train_n, validation_split = 0.1, epochs = 10, verbose = 1, callbacks = callbacks_list, batch_size = 32)"
   ]
  },
  {
   "cell_type": "code",
   "execution_count": null,
   "metadata": {},
   "outputs": [],
   "source": [
    "plt.plot(history4.history['loss'])\n",
    "plt.title(\"Model v4 for detached curves - process of learning\")\n",
    "plt.xlabel(\"Epoch\")\n",
    "plt.ylabel(\"Loss\")\n",
    "plt.savefig(\"det_models_comparison/model_v4.jpg\")"
   ]
  },
  {
   "cell_type": "markdown",
   "metadata": {},
   "source": [
    "## Model v5\n",
    "v4 architektura + lstm vrstvy s upravenymi poctami neuronov"
   ]
  },
  {
   "cell_type": "code",
   "execution_count": null,
   "metadata": {},
   "outputs": [],
   "source": [
    "inputs = Input(shape=(400, 1))\n",
    "b = Conv1D(128, kernel_size = 3, padding = \"valid\")(inputs)\n",
    "b = MaxPooling1D(2)(b)\n",
    "b = Conv1D(128, kernel_size = 3, padding = \"valid\")(b)\n",
    "b = MaxPooling1D(2)(b)\n",
    "b = Dropout(0.2)(b)\n",
    "b = LSTM(128, return_sequences=True)(b)\n",
    "b = LSTM(64, return_sequences=True)(b)\n",
    "b = LSTM(64, return_sequences=True)(b)\n",
    "b = LSTM(64, return_sequences=True)(b)\n",
    "b = Flatten()(b)\n",
    "b = Dense(64, activation='relu')(b)\n",
    "x = Dense(32, activation='relu')(b)\n",
    "output = Dense(5, activation='linear')(x)\n",
    "model_v5 = Model(inputs=inputs, outputs=output)\n",
    "model_v5.compile(loss='mse', optimizer='adam', metrics=[\"mae\", \"mape\"])\n",
    "print(model_v5.summary())"
   ]
  },
  {
   "cell_type": "code",
   "execution_count": null,
   "metadata": {},
   "outputs": [],
   "source": [
    "saved_model = \"det_models_comparison/norm_detached_sel_v5.hdf5\"\n",
    "checkpoint = ModelCheckpoint(saved_model, monitor = 'val_mae', verbose = 1, save_best_only = True, mode = 'min')\n",
    "early = EarlyStopping(monitor = \"val_mae\", mode = \"min\", patience = 25)\n",
    "callbacks_list = [checkpoint, early]"
   ]
  },
  {
   "cell_type": "code",
   "execution_count": null,
   "metadata": {},
   "outputs": [],
   "source": [
    "history5 = model_v5.fit(X_train_n, y_train_n, validation_split = 0.1, epochs = 10, verbose = 1, callbacks = callbacks_list, batch_size = 32)"
   ]
  },
  {
   "cell_type": "code",
   "execution_count": null,
   "metadata": {},
   "outputs": [],
   "source": [
    "plt.plot(history5.history['loss'])\n",
    "plt.title(\"Model v5 for detached curves - process of learning\")\n",
    "plt.xlabel(\"Epoch\")\n",
    "plt.ylabel(\"Loss\")\n",
    "plt.savefig(\"det_models_comparison/model_v4.jpg\")"
   ]
  }
 ],
 "metadata": {
  "kernelspec": {
   "display_name": "Python 3.8.12 ('global')",
   "language": "python",
   "name": "python3"
  },
  "language_info": {
   "codemirror_mode": {
    "name": "ipython",
    "version": 3
   },
   "file_extension": ".py",
   "mimetype": "text/x-python",
   "name": "python",
   "nbconvert_exporter": "python",
   "pygments_lexer": "ipython3",
   "version": "3.8.12"
  },
  "orig_nbformat": 4,
  "vscode": {
   "interpreter": {
    "hash": "b8fc6ce4f931e35f5dd2ff00f5d2ede33ff85432a244cf6e3e9d498f6426f487"
   }
  }
 },
 "nbformat": 4,
 "nbformat_minor": 2
}
