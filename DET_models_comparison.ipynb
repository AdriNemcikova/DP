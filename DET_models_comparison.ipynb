{
 "cells": [
  {
   "cell_type": "markdown",
   "metadata": {},
   "source": [
    "## Script for model comparison\n",
    "Modely trenovane na malej random vzorke dat, vyhodnotene"
   ]
  },
  {
   "cell_type": "code",
   "execution_count": 1,
   "metadata": {},
   "outputs": [],
   "source": [
    "# LIBRARIES\n",
    "import numpy as np\n",
    "import pandas as pd\n",
    "import seaborn as sns\n",
    "import matplotlib.pyplot as plt\n",
    "\n",
    "from sklearn.preprocessing import MinMaxScaler"
   ]
  },
  {
   "cell_type": "code",
   "execution_count": 2,
   "metadata": {},
   "outputs": [],
   "source": [
    "from keras.utils import np_utils\n",
    "from keras.models import load_model\n",
    "from sklearn.model_selection import train_test_split\n",
    "from sklearn.metrics import confusion_matrix, classification_report\n",
    "from sklearn.metrics import precision_recall_fscore_support\n",
    "from keras.layers import Conv1D, GlobalMaxPooling1D, MaxPooling1D, SpatialDropout1D, GlobalAveragePooling1D\n",
    "from keras.layers import Input, Dense, concatenate, Activation, LSTM, Dropout, Flatten\n",
    "from keras.models import Model\n",
    "from keras.layers.merge import Concatenate\n",
    "from tensorflow.keras.callbacks import ModelCheckpoint, EarlyStopping"
   ]
  },
  {
   "cell_type": "code",
   "execution_count": 3,
   "metadata": {},
   "outputs": [],
   "source": [
    "np.random.seed(1234)\n",
    "pd.set_option('display.max_rows', None)"
   ]
  },
  {
   "cell_type": "code",
   "execution_count": 4,
   "metadata": {},
   "outputs": [],
   "source": [
    "def generate_observation_sigma(space_obs_frac=0.5):\n",
    "    \"\"\"\n",
    "    Draws a standard deviation of noise in light curve points from a \"true\" value provided in synthetic light curve.\n",
    "    Noise sigma is drawn from bimodal distribution taking into account contributions from space based and earth based\n",
    "    observations which have different levels of stochastic noise.\n",
    "\n",
    "    :param space_obs_frac: ratio between earth based and space based observations\n",
    "    :return: float; standard deviation of the light curve noise\n",
    "    \"\"\"\n",
    "    earth_based_sigma = 4e-3\n",
    "    space_based_sigma = 2e-4\n",
    "    sigma = np.random.choice([earth_based_sigma, space_based_sigma], p=[1-space_obs_frac, space_obs_frac])\n",
    "    return np.random.rayleigh(sigma)\n",
    "\n",
    "def stochastic_noise_generator(curve):\n",
    "    \"\"\"\n",
    "    Introduces gaussian noise into synthetic observation provided in `curve`.\n",
    "\n",
    "    :param curve: numpy.array; normalized light curve\n",
    "    :return: Tuple(numpy.array, float); normalized light curve with added noise, standard deviation of observations\n",
    "    \"\"\"\n",
    "    sigma = generate_observation_sigma()\n",
    "    return np.random.normal(curve, sigma), np.full(curve.shape, sigma)"
   ]
  },
  {
   "cell_type": "code",
   "execution_count": 29,
   "metadata": {},
   "outputs": [
    {
     "data": {
      "text/plain": [
       "['index',\n",
       " 'id',\n",
       " 'curve',\n",
       " 'primary__t_eff',\n",
       " 'secondary__t_eff',\n",
       " 'inclination',\n",
       " 'mass_ratio',\n",
       " 'primary__surface_potential',\n",
       " 'secondary__surface_potential',\n",
       " 't1_t2',\n",
       " 'filter',\n",
       " 'critical_surface_potential',\n",
       " 'primary__equivalent_radius',\n",
       " 'secondary__equivalent_radius',\n",
       " 'primary__filling_factor',\n",
       " 'secondary__filling_factor']"
      ]
     },
     "execution_count": 29,
     "metadata": {},
     "output_type": "execute_result"
    }
   ],
   "source": [
    "data = pd.read_pickle(\"detached_all_parameters.pkl\").reset_index()\n",
    "data_sample = data.sample(n=150000)\n",
    "list(data_sample.columns)"
   ]
  },
  {
   "cell_type": "code",
   "execution_count": 30,
   "metadata": {},
   "outputs": [],
   "source": [
    "X = []\n",
    "for row in data_sample[\"curve\"]:\n",
    "    X.append(row)\n",
    "X=np.array(X)"
   ]
  },
  {
   "cell_type": "code",
   "execution_count": 31,
   "metadata": {},
   "outputs": [],
   "source": [
    "y = np.array(data_sample[[\n",
    "    \"inclination\",\n",
    "    \"mass_ratio\",\n",
    "    \"primary__surface_potential\",\n",
    "    \"secondary__surface_potential\",\n",
    "    \"t1_t2\"]])"
   ]
  },
  {
   "cell_type": "code",
   "execution_count": 32,
   "metadata": {},
   "outputs": [
    {
     "data": {
      "text/plain": [
       "array([1.        , 0.06060606, 0.0251182 , 0.00325612, 0.12195122])"
      ]
     },
     "execution_count": 32,
     "metadata": {},
     "output_type": "execute_result"
    }
   ],
   "source": [
    "# MinMax Scaler\n",
    "scaler = MinMaxScaler()\n",
    "y_minmax_scaled = scaler.fit_transform(y)\n",
    "y_minmax_scaled[0]"
   ]
  },
  {
   "cell_type": "code",
   "execution_count": 33,
   "metadata": {},
   "outputs": [],
   "source": [
    "X_train1, X_test, y_train1, y_test = train_test_split(X, y_minmax_scaled, test_size=0.2)"
   ]
  },
  {
   "cell_type": "code",
   "execution_count": 34,
   "metadata": {},
   "outputs": [],
   "source": [
    "# Adding noise to train data\n",
    "X_train_n = []\n",
    "y_train_n = []\n",
    "for i in range(len(X_train1)):\n",
    "    for j in range(3):\n",
    "        curve = stochastic_noise_generator(X_train1[i])\n",
    "        X_train_n.append(curve[0])\n",
    "        y_train_n.append(y_train1[i])\n",
    "X_train_n = np.array(X_train_n)\n",
    "y_train_n=np.array(y_train_n)"
   ]
  },
  {
   "cell_type": "code",
   "execution_count": 35,
   "metadata": {},
   "outputs": [
    {
     "name": "stdout",
     "output_type": "stream",
     "text": [
      "Number of records in dataset:  1300000 \n",
      "Number of records in sample:  150000 \n",
      "Number of train data without noise:  120000 \n",
      "Number of train data with noise:  360000 \n",
      "Number of test data without noise:  30000\n"
     ]
    }
   ],
   "source": [
    "print(\"Number of records in dataset: \", len(data),\n",
    "    \"\\nNumber of records in sample: \", len(X),\n",
    "    \"\\nNumber of train data without noise: \", len(X_train1),\n",
    "    \"\\nNumber of train data with noise: \", len(X_train_n),\n",
    "    \"\\nNumber of test data without noise: \", len(X_test))"
   ]
  },
  {
   "cell_type": "markdown",
   "metadata": {},
   "source": [
    "## Model v1\n",
    "Povodny model"
   ]
  },
  {
   "cell_type": "code",
   "execution_count": 14,
   "metadata": {},
   "outputs": [
    {
     "name": "stdout",
     "output_type": "stream",
     "text": [
      "Model: \"functional_3\"\n",
      "_________________________________________________________________\n",
      "Layer (type)                 Output Shape              Param #   \n",
      "=================================================================\n",
      "input_2 (InputLayer)         [(None, 400, 1)]          0         \n",
      "_________________________________________________________________\n",
      "conv1d_1 (Conv1D)            (None, 398, 64)           256       \n",
      "_________________________________________________________________\n",
      "max_pooling1d_1 (MaxPooling1 (None, 199, 64)           0         \n",
      "_________________________________________________________________\n",
      "dropout_1 (Dropout)          (None, 199, 64)           0         \n",
      "_________________________________________________________________\n",
      "lstm_1 (LSTM)                (None, 199, 64)           33024     \n",
      "_________________________________________________________________\n",
      "flatten_1 (Flatten)          (None, 12736)             0         \n",
      "_________________________________________________________________\n",
      "dense_3 (Dense)              (None, 64)                815168    \n",
      "_________________________________________________________________\n",
      "dense_4 (Dense)              (None, 32)                2080      \n",
      "_________________________________________________________________\n",
      "dense_5 (Dense)              (None, 5)                 165       \n",
      "=================================================================\n",
      "Total params: 850,693\n",
      "Trainable params: 850,693\n",
      "Non-trainable params: 0\n",
      "_________________________________________________________________\n",
      "None\n"
     ]
    }
   ],
   "source": [
    "inputs = Input(shape=(400, 1))\n",
    "b = Conv1D(64, kernel_size = 3, padding = \"valid\")(inputs)\n",
    "b = MaxPooling1D(2)(b)\n",
    "b = Dropout(0.2)(b)\n",
    "b = LSTM(64, return_sequences=True)(b)\n",
    "b = Flatten()(b)\n",
    "b = Dense(64, activation='relu')(b)\n",
    "x = Dense(32, activation='relu')(b)\n",
    "output = Dense(5, activation='linear')(x)\n",
    "model_v1 = Model(inputs=inputs, outputs=output)\n",
    "model_v1.compile(loss='mse', optimizer='adam', metrics=[\"mae\", \"mape\"])\n",
    "print(model_v1.summary())"
   ]
  },
  {
   "cell_type": "code",
   "execution_count": 15,
   "metadata": {},
   "outputs": [],
   "source": [
    "saved_model = \"det_models_comparison/norm_detached_sel_v1.hdf5\"\n",
    "checkpoint = ModelCheckpoint(saved_model, monitor = 'val_mae', verbose = 1, save_best_only = True, mode = 'min')\n",
    "early = EarlyStopping(monitor = \"val_mae\", mode = \"min\", patience = 25)\n",
    "callbacks_list = [checkpoint, early]"
   ]
  },
  {
   "cell_type": "code",
   "execution_count": 16,
   "metadata": {},
   "outputs": [
    {
     "name": "stdout",
     "output_type": "stream",
     "text": [
      "Epoch 1/10\n",
      "1688/1688 [==============================] - ETA: 0s - loss: 0.0294 - mae: 0.1035 - mape: 2189551.0000\n",
      "Epoch 00001: val_mae improved from inf to 0.09551, saving model to det_models_comparison\\norm_detached_sel_v1.hdf5\n",
      "1688/1688 [==============================] - 331s 196ms/step - loss: 0.0294 - mae: 0.1035 - mape: 2189551.0000 - val_loss: 0.0244 - val_mae: 0.0955 - val_mape: 1854928.8750\n",
      "Epoch 2/10\n",
      "1688/1688 [==============================] - ETA: 0s - loss: 0.0240 - mae: 0.0908 - mape: 1887564.3750\n",
      "Epoch 00002: val_mae improved from 0.09551 to 0.08438, saving model to det_models_comparison\\norm_detached_sel_v1.hdf5\n",
      "1688/1688 [==============================] - 280s 166ms/step - loss: 0.0240 - mae: 0.0908 - mape: 1887564.3750 - val_loss: 0.0231 - val_mae: 0.0844 - val_mape: 1388718.1250\n",
      "Epoch 3/10\n",
      "1688/1688 [==============================] - ETA: 0s - loss: 0.0220 - mae: 0.0857 - mape: 1899570.3750\n",
      "Epoch 00003: val_mae improved from 0.08438 to 0.08254, saving model to det_models_comparison\\norm_detached_sel_v1.hdf5\n",
      "1688/1688 [==============================] - 274s 162ms/step - loss: 0.0220 - mae: 0.0857 - mape: 1899570.3750 - val_loss: 0.0204 - val_mae: 0.0825 - val_mape: 1623279.6250\n",
      "Epoch 4/10\n",
      "1688/1688 [==============================] - ETA: 0s - loss: 0.0209 - mae: 0.0824 - mape: 1884283.6250\n",
      "Epoch 00004: val_mae improved from 0.08254 to 0.07865, saving model to det_models_comparison\\norm_detached_sel_v1.hdf5\n",
      "1688/1688 [==============================] - 276s 164ms/step - loss: 0.0209 - mae: 0.0824 - mape: 1884283.6250 - val_loss: 0.0189 - val_mae: 0.0787 - val_mape: 1717789.1250\n",
      "Epoch 5/10\n",
      "1688/1688 [==============================] - ETA: 0s - loss: 0.0200 - mae: 0.0799 - mape: 1851740.7500 ETA: 0s - loss: 0.0200 - mae: 0.0799 - mape: 1852310.\n",
      "Epoch 00005: val_mae improved from 0.07865 to 0.07552, saving model to det_models_comparison\\norm_detached_sel_v1.hdf5\n",
      "1688/1688 [==============================] - 322s 190ms/step - loss: 0.0200 - mae: 0.0799 - mape: 1851740.7500 - val_loss: 0.0190 - val_mae: 0.0755 - val_mape: 1292813.0000\n",
      "Epoch 6/10\n",
      "1688/1688 [==============================] - ETA: 0s - loss: 0.0190 - mae: 0.0771 - mape: 1802569.0000\n",
      "Epoch 00006: val_mae improved from 0.07552 to 0.07407, saving model to det_models_comparison\\norm_detached_sel_v1.hdf5\n",
      "1688/1688 [==============================] - 320s 190ms/step - loss: 0.0190 - mae: 0.0771 - mape: 1802569.0000 - val_loss: 0.0178 - val_mae: 0.0741 - val_mape: 1500857.3750\n",
      "Epoch 7/10\n",
      "1688/1688 [==============================] - ETA: 0s - loss: 0.0182 - mae: 0.0748 - mape: 1757101.5000\n",
      "Epoch 00007: val_mae improved from 0.07407 to 0.07139, saving model to det_models_comparison\\norm_detached_sel_v1.hdf5\n",
      "1688/1688 [==============================] - 330s 195ms/step - loss: 0.0182 - mae: 0.0748 - mape: 1757101.5000 - val_loss: 0.0171 - val_mae: 0.0714 - val_mape: 1382849.3750\n",
      "Epoch 8/10\n",
      "1688/1688 [==============================] - ETA: 0s - loss: 0.0177 - mae: 0.0731 - mape: 1736479.7500\n",
      "Epoch 00008: val_mae improved from 0.07139 to 0.07139, saving model to det_models_comparison\\norm_detached_sel_v1.hdf5\n",
      "1688/1688 [==============================] - 278s 165ms/step - loss: 0.0177 - mae: 0.0731 - mape: 1736479.7500 - val_loss: 0.0166 - val_mae: 0.0714 - val_mape: 1751833.6250\n",
      "Epoch 9/10\n",
      "1688/1688 [==============================] - ETA: 0s - loss: 0.0172 - mae: 0.0717 - mape: 1714359.1250\n",
      "Epoch 00009: val_mae improved from 0.07139 to 0.06747, saving model to det_models_comparison\\norm_detached_sel_v1.hdf5\n",
      "1688/1688 [==============================] - 279s 165ms/step - loss: 0.0172 - mae: 0.0717 - mape: 1714359.1250 - val_loss: 0.0161 - val_mae: 0.0675 - val_mape: 1158070.5000\n",
      "Epoch 10/10\n",
      "1688/1688 [==============================] - ETA: 0s - loss: 0.0167 - mae: 0.0703 - mape: 1677531.6250\n",
      "Epoch 00010: val_mae improved from 0.06747 to 0.06730, saving model to det_models_comparison\\norm_detached_sel_v1.hdf5\n",
      "1688/1688 [==============================] - 280s 166ms/step - loss: 0.0167 - mae: 0.0703 - mape: 1677531.6250 - val_loss: 0.0157 - val_mae: 0.0673 - val_mape: 1319192.7500\n"
     ]
    }
   ],
   "source": [
    "history = model_v1.fit(X_train_n, y_train_n, validation_split = 0.1, epochs = 10, verbose = 1, callbacks = callbacks_list, batch_size = 64)"
   ]
  },
  {
   "cell_type": "code",
   "execution_count": 17,
   "metadata": {},
   "outputs": [
    {
     "data": {
      "image/png": "[encoded data removed]",
      "text/plain": [
       "<Figure size 432x288 with 1 Axes>"
      ]
     },
     "metadata": {
      "needs_background": "light"
     },
     "output_type": "display_data"
    }
   ],
   "source": [
    "plt.plot(history.history['loss'])\n",
    "plt.title(\"Model v1 for detached curves - process of learning\")\n",
    "plt.xlabel(\"Epoch\")\n",
    "plt.ylabel(\"Loss\")\n",
    "plt.savefig(\"det_models_comparison/model_v1.jpg\")"
   ]
  },
  {
   "cell_type": "markdown",
   "metadata": {},
   "source": [
    "## Model v2\n",
    "Pridana CNN vrstva + zmenene neurony na CNN vrstvach"
   ]
  },
  {
   "cell_type": "code",
   "execution_count": 18,
   "metadata": {},
   "outputs": [
    {
     "name": "stdout",
     "output_type": "stream",
     "text": [
      "Model: \"functional_5\"\n",
      "_________________________________________________________________\n",
      "Layer (type)                 Output Shape              Param #   \n",
      "=================================================================\n",
      "input_3 (InputLayer)         [(None, 400, 1)]          0         \n",
      "_________________________________________________________________\n",
      "conv1d_2 (Conv1D)            (None, 398, 128)          512       \n",
      "_________________________________________________________________\n",
      "max_pooling1d_2 (MaxPooling1 (None, 199, 128)          0         \n",
      "_________________________________________________________________\n",
      "conv1d_3 (Conv1D)            (None, 197, 64)           24640     \n",
      "_________________________________________________________________\n",
      "dropout_2 (Dropout)          (None, 197, 64)           0         \n",
      "_________________________________________________________________\n",
      "lstm_2 (LSTM)                (None, 197, 64)           33024     \n",
      "_________________________________________________________________\n",
      "flatten_2 (Flatten)          (None, 12608)             0         \n",
      "_________________________________________________________________\n",
      "dense_6 (Dense)              (None, 64)                806976    \n",
      "_________________________________________________________________\n",
      "dense_7 (Dense)              (None, 32)                2080      \n",
      "_________________________________________________________________\n",
      "dense_8 (Dense)              (None, 5)                 165       \n",
      "=================================================================\n",
      "Total params: 867,397\n",
      "Trainable params: 867,397\n",
      "Non-trainable params: 0\n",
      "_________________________________________________________________\n",
      "None\n"
     ]
    }
   ],
   "source": [
    "inputs = Input(shape=(400, 1))\n",
    "b = Conv1D(128, kernel_size = 3, padding = \"valid\")(inputs)\n",
    "b = MaxPooling1D(2)(b)\n",
    "b = Conv1D(64, kernel_size = 3, padding = \"valid\")(b)\n",
    "b = Dropout(0.2)(b)\n",
    "b = LSTM(64, return_sequences=True)(b)\n",
    "b = Flatten()(b)\n",
    "b = Dense(64, activation='relu')(b)\n",
    "x = Dense(32, activation='relu')(b)\n",
    "output = Dense(5, activation='linear')(x)\n",
    "model_v2 = Model(inputs=inputs, outputs=output)\n",
    "model_v2.compile(loss='mse', optimizer='adam', metrics=[\"mae\", \"mape\"])\n",
    "print(model_v2.summary())"
   ]
  },
  {
   "cell_type": "code",
   "execution_count": 19,
   "metadata": {},
   "outputs": [],
   "source": [
    "saved_model = \"det_models_comparison/norm_detached_sel_v2.hdf5\"\n",
    "checkpoint = ModelCheckpoint(saved_model, monitor = 'val_mae', verbose = 1, save_best_only = True, mode = 'min')\n",
    "early = EarlyStopping(monitor = \"val_mae\", mode = \"min\", patience = 25)\n",
    "callbacks_list = [checkpoint, early]"
   ]
  },
  {
   "cell_type": "code",
   "execution_count": 21,
   "metadata": {},
   "outputs": [
    {
     "name": "stdout",
     "output_type": "stream",
     "text": [
      "Epoch 1/10\n",
      "1688/1688 [==============================] - ETA: 0s - loss: 0.0136 - mae: 0.0621 - mape: 1579192.6250\n",
      "Epoch 00001: val_mae improved from 0.06175 to 0.05943, saving model to det_models_comparison\\norm_detached_sel_v2.hdf5\n",
      "1688/1688 [==============================] - 370s 219ms/step - loss: 0.0136 - mae: 0.0621 - mape: 1579192.6250 - val_loss: 0.0134 - val_mae: 0.0594 - val_mape: 1188060.1250\n",
      "Epoch 2/10\n",
      "1688/1688 [==============================] - ETA: 0s - loss: 0.0132 - mae: 0.0608 - mape: 1552603.2500\n",
      "Epoch 00002: val_mae improved from 0.05943 to 0.05872, saving model to det_models_comparison\\norm_detached_sel_v2.hdf5\n",
      "1688/1688 [==============================] - 373s 221ms/step - loss: 0.0132 - mae: 0.0608 - mape: 1552603.2500 - val_loss: 0.0130 - val_mae: 0.0587 - val_mape: 1182588.6250\n",
      "Epoch 3/10\n",
      "1688/1688 [==============================] - ETA: 0s - loss: 0.0128 - mae: 0.0594 - mape: 1481736.0000\n",
      "Epoch 00003: val_mae improved from 0.05872 to 0.05808, saving model to det_models_comparison\\norm_detached_sel_v2.hdf5\n",
      "1688/1688 [==============================] - 373s 221ms/step - loss: 0.0128 - mae: 0.0594 - mape: 1481736.0000 - val_loss: 0.0127 - val_mae: 0.0581 - val_mape: 1423929.1250\n",
      "Epoch 4/10\n",
      "1688/1688 [==============================] - ETA: 0s - loss: 0.0126 - mae: 0.0590 - mape: 1480267.8750\n",
      "Epoch 00004: val_mae did not improve from 0.05808\n",
      "1688/1688 [==============================] - 376s 223ms/step - loss: 0.0126 - mae: 0.0590 - mape: 1480267.8750 - val_loss: 0.0123 - val_mae: 0.0590 - val_mape: 1179157.1250\n",
      "Epoch 5/10\n",
      "1688/1688 [==============================] - ETA: 0s - loss: 0.0121 - mae: 0.0575 - mape: 1437409.0000\n",
      "Epoch 00005: val_mae improved from 0.05808 to 0.05673, saving model to det_models_comparison\\norm_detached_sel_v2.hdf5\n",
      "1688/1688 [==============================] - 375s 222ms/step - loss: 0.0121 - mae: 0.0575 - mape: 1437409.0000 - val_loss: 0.0123 - val_mae: 0.0567 - val_mape: 1207713.2500\n",
      "Epoch 6/10\n",
      "1688/1688 [==============================] - ETA: 0s - loss: 0.0120 - mae: 0.0573 - mape: 1434552.7500\n",
      "Epoch 00006: val_mae did not improve from 0.05673\n",
      "1688/1688 [==============================] - 373s 221ms/step - loss: 0.0120 - mae: 0.0573 - mape: 1434552.7500 - val_loss: 0.0123 - val_mae: 0.0578 - val_mape: 1205853.0000\n",
      "Epoch 7/10\n",
      "1688/1688 [==============================] - ETA: 0s - loss: 0.0117 - mae: 0.0564 - mape: 1390035.1250\n",
      "Epoch 00007: val_mae improved from 0.05673 to 0.05665, saving model to det_models_comparison\\norm_detached_sel_v2.hdf5\n",
      "1688/1688 [==============================] - 371s 220ms/step - loss: 0.0117 - mae: 0.0564 - mape: 1390035.1250 - val_loss: 0.0125 - val_mae: 0.0566 - val_mape: 1219447.7500\n",
      "Epoch 8/10\n",
      "1688/1688 [==============================] - ETA: 0s - loss: 0.0115 - mae: 0.0560 - mape: 1376603.3750\n",
      "Epoch 00008: val_mae improved from 0.05665 to 0.05552, saving model to det_models_comparison\\norm_detached_sel_v2.hdf5\n",
      "1688/1688 [==============================] - 367s 217ms/step - loss: 0.0115 - mae: 0.0560 - mape: 1376603.3750 - val_loss: 0.0122 - val_mae: 0.0555 - val_mape: 1228931.8750\n",
      "Epoch 9/10\n",
      "1688/1688 [==============================] - ETA: 0s - loss: 0.0112 - mae: 0.0551 - mape: 1368834.7500\n",
      "Epoch 00009: val_mae did not improve from 0.05552\n",
      "1688/1688 [==============================] - 362s 214ms/step - loss: 0.0112 - mae: 0.0551 - mape: 1368834.7500 - val_loss: 0.0120 - val_mae: 0.0558 - val_mape: 1271995.1250\n",
      "Epoch 10/10\n",
      "1688/1688 [==============================] - ETA: 0s - loss: 0.0110 - mae: 0.0546 - mape: 1328901.3750\n",
      "Epoch 00010: val_mae did not improve from 0.05552\n",
      "1688/1688 [==============================] - 362s 214ms/step - loss: 0.0110 - mae: 0.0546 - mape: 1328901.3750 - val_loss: 0.0120 - val_mae: 0.0560 - val_mape: 1270574.1250\n"
     ]
    }
   ],
   "source": [
    "history2 = model_v2.fit(X_train_n, y_train_n, validation_split = 0.1, epochs = 10, verbose = 1, callbacks = callbacks_list, batch_size = 64)"
   ]
  },
  {
   "cell_type": "code",
   "execution_count": 22,
   "metadata": {},
   "outputs": [
    {
     "data": {
      "image/png": "[encoded data removed]",
      "text/plain": [
       "<Figure size 432x288 with 1 Axes>"
      ]
     },
     "metadata": {
      "needs_background": "light"
     },
     "output_type": "display_data"
    }
   ],
   "source": [
    "plt.plot(history2.history['loss'])\n",
    "plt.title(\"Model v2 for detached curves - process of learning\")\n",
    "plt.xlabel(\"Epoch\")\n",
    "plt.ylabel(\"Loss\")\n",
    "plt.savefig(\"det_models_comparison/model_v2.jpg\")"
   ]
  },
  {
   "cell_type": "markdown",
   "metadata": {},
   "source": [
    "## Model v3\n",
    "Pridana lstm vrstva + maxpooling vrstva po cnn + zmensena batch size"
   ]
  },
  {
   "cell_type": "code",
   "execution_count": 11,
   "metadata": {},
   "outputs": [
    {
     "name": "stdout",
     "output_type": "stream",
     "text": [
      "Model: \"functional_1\"\n",
      "_________________________________________________________________\n",
      "Layer (type)                 Output Shape              Param #   \n",
      "=================================================================\n",
      "input_1 (InputLayer)         [(None, 400, 1)]          0         \n",
      "_________________________________________________________________\n",
      "conv1d (Conv1D)              (None, 398, 128)          512       \n",
      "_________________________________________________________________\n",
      "max_pooling1d (MaxPooling1D) (None, 199, 128)          0         \n",
      "_________________________________________________________________\n",
      "conv1d_1 (Conv1D)            (None, 197, 64)           24640     \n",
      "_________________________________________________________________\n",
      "max_pooling1d_1 (MaxPooling1 (None, 98, 64)            0         \n",
      "_________________________________________________________________\n",
      "dropout (Dropout)            (None, 98, 64)            0         \n",
      "_________________________________________________________________\n",
      "lstm (LSTM)                  (None, 98, 64)            33024     \n",
      "_________________________________________________________________\n",
      "lstm_1 (LSTM)                (None, 98, 64)            33024     \n",
      "_________________________________________________________________\n",
      "flatten (Flatten)            (None, 6272)              0         \n",
      "_________________________________________________________________\n",
      "dense (Dense)                (None, 64)                401472    \n",
      "_________________________________________________________________\n",
      "dense_1 (Dense)              (None, 32)                2080      \n",
      "_________________________________________________________________\n",
      "dense_2 (Dense)              (None, 5)                 165       \n",
      "=================================================================\n",
      "Total params: 494,917\n",
      "Trainable params: 494,917\n",
      "Non-trainable params: 0\n",
      "_________________________________________________________________\n",
      "None\n"
     ]
    }
   ],
   "source": [
    "inputs = Input(shape=(400, 1))\n",
    "b = Conv1D(128, kernel_size = 3, padding = \"valid\")(inputs)\n",
    "b = MaxPooling1D(2)(b)\n",
    "b = Conv1D(64, kernel_size = 3, padding = \"valid\")(b)\n",
    "b = MaxPooling1D(2)(b)\n",
    "b = Dropout(0.2)(b)\n",
    "b = LSTM(64, return_sequences=True)(b)\n",
    "b = LSTM(64, return_sequences=True)(b)\n",
    "b = Flatten()(b)\n",
    "b = Dense(64, activation='relu')(b)\n",
    "x = Dense(32, activation='relu')(b)\n",
    "output = Dense(5, activation='linear')(x)\n",
    "model_v3 = Model(inputs=inputs, outputs=output)\n",
    "model_v3.compile(loss='mse', optimizer='adam', metrics=[\"mae\", \"mape\"])\n",
    "print(model_v3.summary())"
   ]
  },
  {
   "cell_type": "code",
   "execution_count": 12,
   "metadata": {},
   "outputs": [],
   "source": [
    "saved_model = \"det_models_comparison/norm_detached_sel_v3.hdf5\"\n",
    "checkpoint = ModelCheckpoint(saved_model, monitor = 'val_mae', verbose = 1, save_best_only = True, mode = 'min')\n",
    "early = EarlyStopping(monitor = \"val_mae\", mode = \"min\", patience = 25)\n",
    "callbacks_list = [checkpoint, early]"
   ]
  },
  {
   "cell_type": "code",
   "execution_count": 14,
   "metadata": {},
   "outputs": [
    {
     "name": "stdout",
     "output_type": "stream",
     "text": [
      "Epoch 1/10\n",
      "1688/1688 [==============================] - ETA: 0s - loss: 0.0242 - mae: 0.0907 - mape: 1883217.8750\n",
      "Epoch 00001: val_mae improved from inf to 0.08303, saving model to det_models_comparison\\norm_detached_sel_v3.hdf5\n",
      "1688/1688 [==============================] - 667s 395ms/step - loss: 0.0242 - mae: 0.0907 - mape: 1883217.8750 - val_loss: 0.0208 - val_mae: 0.0830 - val_mape: 1639886.0000\n",
      "Epoch 2/10\n",
      "1688/1688 [==============================] - ETA: 0s - loss: 0.0207 - mae: 0.0819 - mape: 1812200.0000\n",
      "Epoch 00002: val_mae improved from 0.08303 to 0.07471, saving model to det_models_comparison\\norm_detached_sel_v3.hdf5\n",
      "1688/1688 [==============================] - 549s 325ms/step - loss: 0.0207 - mae: 0.0819 - mape: 1812200.0000 - val_loss: 0.0184 - val_mae: 0.0747 - val_mape: 1509912.7500\n",
      "Epoch 3/10\n",
      "1688/1688 [==============================] - ETA: 0s - loss: 0.0183 - mae: 0.0760 - mape: 1795274.3750\n",
      "Epoch 00003: val_mae improved from 0.07471 to 0.07208, saving model to det_models_comparison\\norm_detached_sel_v3.hdf5\n",
      "1688/1688 [==============================] - 644s 381ms/step - loss: 0.0183 - mae: 0.0760 - mape: 1795274.3750 - val_loss: 0.0169 - val_mae: 0.0721 - val_mape: 1466610.7500\n",
      "Epoch 4/10\n",
      "1688/1688 [==============================] - ETA: 0s - loss: 0.0169 - mae: 0.0723 - mape: 1780667.8750\n",
      "Epoch 00004: val_mae improved from 0.07208 to 0.06747, saving model to det_models_comparison\\norm_detached_sel_v3.hdf5\n",
      "1688/1688 [==============================] - 516s 306ms/step - loss: 0.0169 - mae: 0.0723 - mape: 1780667.8750 - val_loss: 0.0156 - val_mae: 0.0675 - val_mape: 1442554.7500\n",
      "Epoch 5/10\n",
      "1688/1688 [==============================] - ETA: 0s - loss: 0.0157 - mae: 0.0684 - mape: 1738362.8750\n",
      "Epoch 00005: val_mae improved from 0.06747 to 0.06541, saving model to det_models_comparison\\norm_detached_sel_v3.hdf5\n",
      "1688/1688 [==============================] - 362s 214ms/step - loss: 0.0157 - mae: 0.0684 - mape: 1738362.8750 - val_loss: 0.0150 - val_mae: 0.0654 - val_mape: 1401873.2500\n",
      "Epoch 6/10\n",
      "1688/1688 [==============================] - ETA: 0s - loss: 0.0148 - mae: 0.0655 - mape: 1706452.5000\n",
      "Epoch 00006: val_mae improved from 0.06541 to 0.06440, saving model to det_models_comparison\\norm_detached_sel_v3.hdf5\n",
      "1688/1688 [==============================] - 444s 263ms/step - loss: 0.0148 - mae: 0.0655 - mape: 1706452.5000 - val_loss: 0.0136 - val_mae: 0.0644 - val_mape: 1621827.2500\n",
      "Epoch 7/10\n",
      "1688/1688 [==============================] - ETA: 0s - loss: 0.0142 - mae: 0.0637 - mape: 1696113.5000\n",
      "Epoch 00007: val_mae improved from 0.06440 to 0.05912, saving model to det_models_comparison\\norm_detached_sel_v3.hdf5\n",
      "1688/1688 [==============================] - 457s 271ms/step - loss: 0.0142 - mae: 0.0637 - mape: 1696113.5000 - val_loss: 0.0127 - val_mae: 0.0591 - val_mape: 1491153.3750\n",
      "Epoch 8/10\n",
      "1688/1688 [==============================] - ETA: 0s - loss: 0.0135 - mae: 0.0616 - mape: 1643743.8750\n",
      "Epoch 00008: val_mae did not improve from 0.05912\n",
      "1688/1688 [==============================] - 400s 237ms/step - loss: 0.0135 - mae: 0.0616 - mape: 1643743.8750 - val_loss: 0.0131 - val_mae: 0.0603 - val_mape: 1419956.8750\n",
      "Epoch 9/10\n",
      "1688/1688 [==============================] - ETA: 0s - loss: 0.0131 - mae: 0.0604 - mape: 1597048.1250\n",
      "Epoch 00009: val_mae improved from 0.05912 to 0.05735, saving model to det_models_comparison\\norm_detached_sel_v3.hdf5\n",
      "1688/1688 [==============================] - 339s 201ms/step - loss: 0.0131 - mae: 0.0604 - mape: 1597048.1250 - val_loss: 0.0122 - val_mae: 0.0574 - val_mape: 1474819.1250\n",
      "Epoch 10/10\n",
      "1688/1688 [==============================] - ETA: 0s - loss: 0.0128 - mae: 0.0597 - mape: 1562039.6250\n",
      "Epoch 00010: val_mae did not improve from 0.05735\n",
      "1688/1688 [==============================] - 411s 244ms/step - loss: 0.0128 - mae: 0.0597 - mape: 1562039.6250 - val_loss: 0.0124 - val_mae: 0.0578 - val_mape: 1338689.2500\n"
     ]
    }
   ],
   "source": [
    "history3 = model_v3.fit(X_train_n, y_train_n, validation_split = 0.1, epochs = 10, verbose = 1, callbacks = callbacks_list, batch_size = 64)"
   ]
  },
  {
   "cell_type": "code",
   "execution_count": 15,
   "metadata": {},
   "outputs": [
    {
     "data": {
      "image/png": "[encoded data removed]",
      "text/plain": [
       "<Figure size 432x288 with 1 Axes>"
      ]
     },
     "metadata": {
      "needs_background": "light"
     },
     "output_type": "display_data"
    }
   ],
   "source": [
    "plt.plot(history3.history['loss'])\n",
    "plt.title(\"Model v3 for detached curves - process of learning\")\n",
    "plt.xlabel(\"Epoch\")\n",
    "plt.ylabel(\"Loss\")\n",
    "plt.savefig(\"det_models_comparison/model_v3.jpg\")"
   ]
  },
  {
   "cell_type": "markdown",
   "metadata": {},
   "source": [
    "## Model v4\n",
    "architektura v3 - pridane neurony na 2. cnn vrstve, zmensena batch size"
   ]
  },
  {
   "cell_type": "code",
   "execution_count": 16,
   "metadata": {},
   "outputs": [
    {
     "name": "stdout",
     "output_type": "stream",
     "text": [
      "Model: \"functional_3\"\n",
      "_________________________________________________________________\n",
      "Layer (type)                 Output Shape              Param #   \n",
      "=================================================================\n",
      "input_2 (InputLayer)         [(None, 400, 1)]          0         \n",
      "_________________________________________________________________\n",
      "conv1d_2 (Conv1D)            (None, 398, 128)          512       \n",
      "_________________________________________________________________\n",
      "max_pooling1d_2 (MaxPooling1 (None, 199, 128)          0         \n",
      "_________________________________________________________________\n",
      "conv1d_3 (Conv1D)            (None, 197, 128)          49280     \n",
      "_________________________________________________________________\n",
      "max_pooling1d_3 (MaxPooling1 (None, 98, 128)           0         \n",
      "_________________________________________________________________\n",
      "dropout_1 (Dropout)          (None, 98, 128)           0         \n",
      "_________________________________________________________________\n",
      "lstm_2 (LSTM)                (None, 98, 64)            49408     \n",
      "_________________________________________________________________\n",
      "lstm_3 (LSTM)                (None, 98, 64)            33024     \n",
      "_________________________________________________________________\n",
      "flatten_1 (Flatten)          (None, 6272)              0         \n",
      "_________________________________________________________________\n",
      "dense_3 (Dense)              (None, 64)                401472    \n",
      "_________________________________________________________________\n",
      "dense_4 (Dense)              (None, 32)                2080      \n",
      "_________________________________________________________________\n",
      "dense_5 (Dense)              (None, 5)                 165       \n",
      "=================================================================\n",
      "Total params: 535,941\n",
      "Trainable params: 535,941\n",
      "Non-trainable params: 0\n",
      "_________________________________________________________________\n",
      "None\n"
     ]
    }
   ],
   "source": [
    "inputs = Input(shape=(400, 1))\n",
    "b = Conv1D(128, kernel_size = 3, padding = \"valid\")(inputs)\n",
    "b = MaxPooling1D(2)(b)\n",
    "b = Conv1D(128, kernel_size = 3, padding = \"valid\")(b)\n",
    "b = MaxPooling1D(2)(b)\n",
    "b = Dropout(0.2)(b)\n",
    "b = LSTM(64, return_sequences=True)(b)\n",
    "b = LSTM(64, return_sequences=True)(b)\n",
    "b = Flatten()(b)\n",
    "b = Dense(64, activation='relu')(b)\n",
    "x = Dense(32, activation='relu')(b)\n",
    "output = Dense(5, activation='linear')(x)\n",
    "model_v4 = Model(inputs=inputs, outputs=output)\n",
    "model_v4.compile(loss='mse', optimizer='adam', metrics=[\"mae\", \"mape\"])\n",
    "print(model_v4.summary())"
   ]
  },
  {
   "cell_type": "code",
   "execution_count": 17,
   "metadata": {},
   "outputs": [],
   "source": [
    "saved_model = \"det_models_comparison/norm_detached_sel_v4.hdf5\"\n",
    "checkpoint = ModelCheckpoint(saved_model, monitor = 'val_mae', verbose = 1, save_best_only = True, mode = 'min')\n",
    "early = EarlyStopping(monitor = \"val_mae\", mode = \"min\", patience = 25)\n",
    "callbacks_list = [checkpoint, early]"
   ]
  },
  {
   "cell_type": "code",
   "execution_count": 18,
   "metadata": {},
   "outputs": [
    {
     "name": "stdout",
     "output_type": "stream",
     "text": [
      "Epoch 1/10\n",
      "1688/1688 [==============================] - ETA: 0s - loss: 0.0291 - mae: 0.1030 - mape: 2199279.2500\n",
      "Epoch 00001: val_mae improved from inf to 0.09160, saving model to det_models_comparison\\norm_detached_sel_v4.hdf5\n",
      "1688/1688 [==============================] - 483s 286ms/step - loss: 0.0291 - mae: 0.1030 - mape: 2199279.2500 - val_loss: 0.0235 - val_mae: 0.0916 - val_mape: 1776211.0000\n",
      "Epoch 2/10\n",
      "1688/1688 [==============================] - ETA: 0s - loss: 0.0225 - mae: 0.0872 - mape: 1865613.5000\n",
      "Epoch 00002: val_mae improved from 0.09160 to 0.08149, saving model to det_models_comparison\\norm_detached_sel_v4.hdf5\n",
      "1688/1688 [==============================] - 520s 308ms/step - loss: 0.0225 - mae: 0.0872 - mape: 1865613.5000 - val_loss: 0.0211 - val_mae: 0.0815 - val_mape: 1529275.6250\n",
      "Epoch 3/10\n",
      "1688/1688 [==============================] - ETA: 0s - loss: 0.0194 - mae: 0.0790 - mape: 1882202.1250\n",
      "Epoch 00003: val_mae improved from 0.08149 to 0.07599, saving model to det_models_comparison\\norm_detached_sel_v4.hdf5\n",
      "1688/1688 [==============================] - 528s 313ms/step - loss: 0.0194 - mae: 0.0790 - mape: 1882202.1250 - val_loss: 0.0175 - val_mae: 0.0760 - val_mape: 1603759.1250\n",
      "Epoch 4/10\n",
      "1688/1688 [==============================] - ETA: 0s - loss: 0.0172 - mae: 0.0725 - mape: 1777545.6250\n",
      "Epoch 00004: val_mae improved from 0.07599 to 0.06667, saving model to det_models_comparison\\norm_detached_sel_v4.hdf5\n",
      "1688/1688 [==============================] - 493s 292ms/step - loss: 0.0172 - mae: 0.0725 - mape: 1777545.6250 - val_loss: 0.0154 - val_mae: 0.0667 - val_mape: 1430039.2500\n",
      "Epoch 5/10\n",
      "1688/1688 [==============================] - ETA: 0s - loss: 0.0155 - mae: 0.0674 - mape: 1677596.8750\n",
      "Epoch 00005: val_mae improved from 0.06667 to 0.06536, saving model to det_models_comparison\\norm_detached_sel_v4.hdf5\n",
      "1688/1688 [==============================] - 486s 288ms/step - loss: 0.0155 - mae: 0.0674 - mape: 1677596.8750 - val_loss: 0.0154 - val_mae: 0.0654 - val_mape: 1525887.5000\n",
      "Epoch 6/10\n",
      "1688/1688 [==============================] - ETA: 0s - loss: 0.0145 - mae: 0.0646 - mape: 1646631.2500\n",
      "Epoch 00006: val_mae improved from 0.06536 to 0.06272, saving model to det_models_comparison\\norm_detached_sel_v4.hdf5\n",
      "1688/1688 [==============================] - 396s 235ms/step - loss: 0.0145 - mae: 0.0646 - mape: 1646631.2500 - val_loss: 0.0135 - val_mae: 0.0627 - val_mape: 1601042.6250\n",
      "Epoch 7/10\n",
      "1688/1688 [==============================] - ETA: 0s - loss: 0.0137 - mae: 0.0621 - mape: 1619686.6250\n",
      "Epoch 00007: val_mae improved from 0.06272 to 0.05740, saving model to det_models_comparison\\norm_detached_sel_v4.hdf5\n",
      "1688/1688 [==============================] - 392s 232ms/step - loss: 0.0137 - mae: 0.0621 - mape: 1619686.6250 - val_loss: 0.0128 - val_mae: 0.0574 - val_mape: 1219692.3750\n",
      "Epoch 8/10\n",
      "1688/1688 [==============================] - ETA: 0s - loss: 0.0131 - mae: 0.0603 - mape: 1570973.7500\n",
      "Epoch 00008: val_mae did not improve from 0.05740\n",
      "1688/1688 [==============================] - 410s 243ms/step - loss: 0.0131 - mae: 0.0603 - mape: 1570973.7500 - val_loss: 0.0130 - val_mae: 0.0575 - val_mape: 1087852.0000\n",
      "Epoch 9/10\n",
      "1688/1688 [==============================] - ETA: 0s - loss: 0.0125 - mae: 0.0587 - mape: 1527825.1250\n",
      "Epoch 00009: val_mae improved from 0.05740 to 0.05583, saving model to det_models_comparison\\norm_detached_sel_v4.hdf5\n",
      "1688/1688 [==============================] - 511s 303ms/step - loss: 0.0125 - mae: 0.0587 - mape: 1527825.1250 - val_loss: 0.0125 - val_mae: 0.0558 - val_mape: 1243161.3750\n",
      "Epoch 10/10\n",
      "1688/1688 [==============================] - ETA: 0s - loss: 0.0122 - mae: 0.0576 - mape: 1486530.6250\n",
      "Epoch 00010: val_mae did not improve from 0.05583\n",
      "1688/1688 [==============================] - 508s 301ms/step - loss: 0.0122 - mae: 0.0576 - mape: 1486530.6250 - val_loss: 0.0119 - val_mae: 0.0568 - val_mape: 1342578.3750\n"
     ]
    }
   ],
   "source": [
    "history4 = model_v4.fit(X_train_n, y_train_n, validation_split = 0.1, epochs = 10, verbose = 1, callbacks = callbacks_list, batch_size = 64)"
   ]
  },
  {
   "cell_type": "code",
   "execution_count": 19,
   "metadata": {},
   "outputs": [
    {
     "data": {
      "image/png": "[encoded data removed]",
      "text/plain": [
       "<Figure size 432x288 with 1 Axes>"
      ]
     },
     "metadata": {
      "needs_background": "light"
     },
     "output_type": "display_data"
    }
   ],
   "source": [
    "plt.plot(history4.history['loss'])\n",
    "plt.title(\"Model v4 for detached curves - process of learning\")\n",
    "plt.xlabel(\"Epoch\")\n",
    "plt.ylabel(\"Loss\")\n",
    "plt.savefig(\"det_models_comparison/model_v4.jpg\")"
   ]
  },
  {
   "cell_type": "markdown",
   "metadata": {},
   "source": [
    "## Model v5\n",
    "v4 architektura + lstm vrstvy s upravenymi poctami neuronov"
   ]
  },
  {
   "cell_type": "code",
   "execution_count": 20,
   "metadata": {},
   "outputs": [
    {
     "name": "stdout",
     "output_type": "stream",
     "text": [
      "Model: \"functional_5\"\n",
      "_________________________________________________________________\n",
      "Layer (type)                 Output Shape              Param #   \n",
      "=================================================================\n",
      "input_3 (InputLayer)         [(None, 400, 1)]          0         \n",
      "_________________________________________________________________\n",
      "conv1d_4 (Conv1D)            (None, 398, 128)          512       \n",
      "_________________________________________________________________\n",
      "max_pooling1d_4 (MaxPooling1 (None, 199, 128)          0         \n",
      "_________________________________________________________________\n",
      "conv1d_5 (Conv1D)            (None, 197, 128)          49280     \n",
      "_________________________________________________________________\n",
      "max_pooling1d_5 (MaxPooling1 (None, 98, 128)           0         \n",
      "_________________________________________________________________\n",
      "dropout_2 (Dropout)          (None, 98, 128)           0         \n",
      "_________________________________________________________________\n",
      "lstm_4 (LSTM)                (None, 98, 128)           131584    \n",
      "_________________________________________________________________\n",
      "lstm_5 (LSTM)                (None, 98, 64)            49408     \n",
      "_________________________________________________________________\n",
      "lstm_6 (LSTM)                (None, 98, 64)            33024     \n",
      "_________________________________________________________________\n",
      "lstm_7 (LSTM)                (None, 98, 64)            33024     \n",
      "_________________________________________________________________\n",
      "flatten_2 (Flatten)          (None, 6272)              0         \n",
      "_________________________________________________________________\n",
      "dense_6 (Dense)              (None, 64)                401472    \n",
      "_________________________________________________________________\n",
      "dense_7 (Dense)              (None, 32)                2080      \n",
      "_________________________________________________________________\n",
      "dense_8 (Dense)              (None, 5)                 165       \n",
      "=================================================================\n",
      "Total params: 700,549\n",
      "Trainable params: 700,549\n",
      "Non-trainable params: 0\n",
      "_________________________________________________________________\n",
      "None\n"
     ]
    }
   ],
   "source": [
    "inputs = Input(shape=(400, 1))\n",
    "b = Conv1D(128, kernel_size = 3, padding = \"valid\")(inputs)\n",
    "b = MaxPooling1D(2)(b)\n",
    "b = Conv1D(128, kernel_size = 3, padding = \"valid\")(b)\n",
    "b = MaxPooling1D(2)(b)\n",
    "b = Dropout(0.2)(b)\n",
    "b = LSTM(128, return_sequences=True)(b)\n",
    "b = LSTM(64, return_sequences=True)(b)\n",
    "b = LSTM(64, return_sequences=True)(b)\n",
    "b = LSTM(64, return_sequences=True)(b)\n",
    "b = Flatten()(b)\n",
    "b = Dense(64, activation='relu')(b)\n",
    "x = Dense(32, activation='relu')(b)\n",
    "output = Dense(5, activation='linear')(x)\n",
    "model_v5 = Model(inputs=inputs, outputs=output)\n",
    "model_v5.compile(loss='mse', optimizer='adam', metrics=[\"mae\", \"mape\"])\n",
    "print(model_v5.summary())"
   ]
  },
  {
   "cell_type": "code",
   "execution_count": 21,
   "metadata": {},
   "outputs": [],
   "source": [
    "saved_model = \"det_models_comparison/norm_detached_sel_v5.hdf5\"\n",
    "checkpoint = ModelCheckpoint(saved_model, monitor = 'val_mae', verbose = 1, save_best_only = True, mode = 'min')\n",
    "early = EarlyStopping(monitor = \"val_mae\", mode = \"min\", patience = 25)\n",
    "callbacks_list = [checkpoint, early]"
   ]
  },
  {
   "cell_type": "code",
   "execution_count": 22,
   "metadata": {},
   "outputs": [
    {
     "name": "stdout",
     "output_type": "stream",
     "text": [
      "Epoch 1/10\n",
      "1688/1688 [==============================] - ETA: 0s - loss: 0.0310 - mae: 0.1078 - mape: 2388398.5000\n",
      "Epoch 00001: val_mae improved from inf to 0.09373, saving model to det_models_comparison\\norm_detached_sel_v5.hdf5\n",
      "1688/1688 [==============================] - 1085s 643ms/step - loss: 0.0310 - mae: 0.1078 - mape: 2388398.5000 - val_loss: 0.0247 - val_mae: 0.0937 - val_mape: 1761453.0000\n",
      "Epoch 2/10\n",
      "1688/1688 [==============================] - ETA: 0s - loss: 0.0245 - mae: 0.0918 - mape: 1905126.0000\n",
      "Epoch 00002: val_mae improved from 0.09373 to 0.08797, saving model to det_models_comparison\\norm_detached_sel_v5.hdf5\n",
      "1688/1688 [==============================] - 964s 571ms/step - loss: 0.0245 - mae: 0.0918 - mape: 1905126.0000 - val_loss: 0.0215 - val_mae: 0.0880 - val_mape: 1759187.7500\n",
      "Epoch 3/10\n",
      "1688/1688 [==============================] - ETA: 0s - loss: 0.0215 - mae: 0.0850 - mape: 1903558.5000\n",
      "Epoch 00003: val_mae improved from 0.08797 to 0.08245, saving model to det_models_comparison\\norm_detached_sel_v5.hdf5\n",
      "1688/1688 [==============================] - 821s 487ms/step - loss: 0.0215 - mae: 0.0850 - mape: 1903558.5000 - val_loss: 0.0205 - val_mae: 0.0824 - val_mape: 1861482.3750\n",
      "Epoch 4/10\n",
      "1688/1688 [==============================] - ETA: 0s - loss: 0.0188 - mae: 0.0774 - mape: 1836325.3750\n",
      "Epoch 00004: val_mae improved from 0.08245 to 0.06960, saving model to det_models_comparison\\norm_detached_sel_v5.hdf5\n",
      "1688/1688 [==============================] - 785s 465ms/step - loss: 0.0188 - mae: 0.0774 - mape: 1836325.3750 - val_loss: 0.0164 - val_mae: 0.0696 - val_mape: 1549134.1250\n",
      "Epoch 5/10\n",
      "1688/1688 [==============================] - ETA: 0s - loss: 0.0165 - mae: 0.0708 - mape: 1781899.8750\n",
      "Epoch 00005: val_mae improved from 0.06960 to 0.06574, saving model to det_models_comparison\\norm_detached_sel_v5.hdf5\n",
      "1688/1688 [==============================] - 866s 513ms/step - loss: 0.0165 - mae: 0.0708 - mape: 1781899.8750 - val_loss: 0.0151 - val_mae: 0.0657 - val_mape: 1647932.3750\n",
      "Epoch 6/10\n",
      "1688/1688 [==============================] - ETA: 0s - loss: 0.0151 - mae: 0.0665 - mape: 1682938.2500\n",
      "Epoch 00006: val_mae did not improve from 0.06574\n",
      "1688/1688 [==============================] - 786s 465ms/step - loss: 0.0151 - mae: 0.0665 - mape: 1682938.2500 - val_loss: 0.0144 - val_mae: 0.0659 - val_mape: 1690727.8750\n",
      "Epoch 7/10\n",
      "1688/1688 [==============================] - ETA: 0s - loss: 0.0143 - mae: 0.0639 - mape: 1625886.2500\n",
      "Epoch 00007: val_mae improved from 0.06574 to 0.06521, saving model to det_models_comparison\\norm_detached_sel_v5.hdf5\n",
      "1688/1688 [==============================] - 777s 460ms/step - loss: 0.0143 - mae: 0.0639 - mape: 1625886.2500 - val_loss: 0.0144 - val_mae: 0.0652 - val_mape: 1482748.1250\n",
      "Epoch 8/10\n",
      "1688/1688 [==============================] - ETA: 0s - loss: 0.0138 - mae: 0.0623 - mape: 1576268.5000\n",
      "Epoch 00008: val_mae improved from 0.06521 to 0.05812, saving model to det_models_comparison\\norm_detached_sel_v5.hdf5\n",
      "1688/1688 [==============================] - 770s 456ms/step - loss: 0.0138 - mae: 0.0623 - mape: 1576268.5000 - val_loss: 0.0137 - val_mae: 0.0581 - val_mape: 1114310.1250\n",
      "Epoch 9/10\n",
      "1688/1688 [==============================] - ETA: 0s - loss: 0.0134 - mae: 0.0609 - mape: 1514684.8750\n",
      "Epoch 00009: val_mae did not improve from 0.05812\n",
      "1688/1688 [==============================] - 795s 471ms/step - loss: 0.0134 - mae: 0.0609 - mape: 1514684.8750 - val_loss: 0.0125 - val_mae: 0.0599 - val_mape: 1373326.3750\n",
      "Epoch 10/10\n",
      "1688/1688 [==============================] - ETA: 0s - loss: 0.0129 - mae: 0.0594 - mape: 1472168.5000\n",
      "Epoch 00010: val_mae did not improve from 0.05812\n",
      "1688/1688 [==============================] - 790s 468ms/step - loss: 0.0129 - mae: 0.0594 - mape: 1472168.5000 - val_loss: 0.0122 - val_mae: 0.0591 - val_mape: 1453684.8750\n"
     ]
    }
   ],
   "source": [
    "history5 = model_v5.fit(X_train_n, y_train_n, validation_split = 0.1, epochs = 10, verbose = 1, callbacks = callbacks_list, batch_size = 64)"
   ]
  },
  {
   "cell_type": "code",
   "execution_count": 23,
   "metadata": {},
   "outputs": [
    {
     "data": {
      "image/png": "[encoded data removed]",
      "text/plain": [
       "<Figure size 432x288 with 1 Axes>"
      ]
     },
     "metadata": {
      "needs_background": "light"
     },
     "output_type": "display_data"
    }
   ],
   "source": [
    "plt.plot(history5.history['loss'])\n",
    "plt.title(\"Model v5 for detached curves - process of learning\")\n",
    "plt.xlabel(\"Epoch\")\n",
    "plt.ylabel(\"Loss\")\n",
    "plt.savefig(\"det_models_comparison/model_v4.jpg\")"
   ]
  },
  {
   "cell_type": "markdown",
   "metadata": {},
   "source": [
    "## Model v4 - trained on bigger set of data (150 000)"
   ]
  },
  {
   "cell_type": "code",
   "execution_count": 38,
   "metadata": {},
   "outputs": [
    {
     "name": "stdout",
     "output_type": "stream",
     "text": [
      "Model: \"functional_1\"\n",
      "_________________________________________________________________\n",
      "Layer (type)                 Output Shape              Param #   \n",
      "=================================================================\n",
      "input_1 (InputLayer)         [(None, 400, 1)]          0         \n",
      "_________________________________________________________________\n",
      "conv1d (Conv1D)              (None, 398, 128)          512       \n",
      "_________________________________________________________________\n",
      "max_pooling1d (MaxPooling1D) (None, 199, 128)          0         \n",
      "_________________________________________________________________\n",
      "conv1d_1 (Conv1D)            (None, 197, 128)          49280     \n",
      "_________________________________________________________________\n",
      "max_pooling1d_1 (MaxPooling1 (None, 98, 128)           0         \n",
      "_________________________________________________________________\n",
      "dropout (Dropout)            (None, 98, 128)           0         \n",
      "_________________________________________________________________\n",
      "lstm (LSTM)                  (None, 98, 64)            49408     \n",
      "_________________________________________________________________\n",
      "lstm_1 (LSTM)                (None, 98, 64)            33024     \n",
      "_________________________________________________________________\n",
      "flatten (Flatten)            (None, 6272)              0         \n",
      "_________________________________________________________________\n",
      "dense (Dense)                (None, 64)                401472    \n",
      "_________________________________________________________________\n",
      "dense_1 (Dense)              (None, 32)                2080      \n",
      "_________________________________________________________________\n",
      "dense_2 (Dense)              (None, 5)                 165       \n",
      "=================================================================\n",
      "Total params: 535,941\n",
      "Trainable params: 535,941\n",
      "Non-trainable params: 0\n",
      "_________________________________________________________________\n",
      "None\n"
     ]
    }
   ],
   "source": [
    "inputs = Input(shape=(400, 1))\n",
    "b = Conv1D(128, kernel_size = 3, padding = \"valid\")(inputs)\n",
    "b = MaxPooling1D(2)(b)\n",
    "b = Conv1D(128, kernel_size = 3, padding = \"valid\")(b)\n",
    "b = MaxPooling1D(2)(b)\n",
    "b = Dropout(0.2)(b)\n",
    "b = LSTM(64, return_sequences=True)(b)\n",
    "b = LSTM(64, return_sequences=True)(b)\n",
    "b = Flatten()(b)\n",
    "b = Dense(64, activation='relu')(b)\n",
    "x = Dense(32, activation='relu')(b)\n",
    "output = Dense(5, activation='linear')(x)\n",
    "model_v4 = Model(inputs=inputs, outputs=output)\n",
    "model_v4.compile(loss='mse', optimizer='adam', metrics=[\"mae\", \"mape\"])\n",
    "print(model_v4.summary())"
   ]
  },
  {
   "cell_type": "code",
   "execution_count": 39,
   "metadata": {},
   "outputs": [],
   "source": [
    "saved_model = \"models/norm_detached_sel_v4.hdf5\"\n",
    "checkpoint = ModelCheckpoint(saved_model, monitor = 'val_mae', verbose = 1, save_best_only = True, mode = 'min')\n",
    "early = EarlyStopping(monitor = \"val_mae\", mode = \"min\", patience = 25)\n",
    "callbacks_list = [checkpoint, early]"
   ]
  },
  {
   "cell_type": "code",
   "execution_count": 40,
   "metadata": {},
   "outputs": [
    {
     "name": "stdout",
     "output_type": "stream",
     "text": [
      "Epoch 1/15\n",
      "5063/5063 [==============================] - ETA: 0s - loss: 0.0239 - mae: 0.0900 - mape: 1928301.8750\n",
      "Epoch 00001: val_mae improved from inf to 0.07510, saving model to models\\norm_detached_sel_v4.hdf5\n",
      "5063/5063 [==============================] - 1472s 291ms/step - loss: 0.0239 - mae: 0.0900 - mape: 1928301.8750 - val_loss: 0.0189 - val_mae: 0.0751 - val_mape: 1413206.8750\n",
      "Epoch 2/15\n",
      "5063/5063 [==============================] - ETA: 0s - loss: 0.0168 - mae: 0.0711 - mape: 1773710.6250\n",
      "Epoch 00002: val_mae improved from 0.07510 to 0.06402, saving model to models\\norm_detached_sel_v4.hdf5\n",
      "5063/5063 [==============================] - 1282s 253ms/step - loss: 0.0168 - mae: 0.0711 - mape: 1773710.6250 - val_loss: 0.0147 - val_mae: 0.0640 - val_mape: 1618801.7500\n",
      "Epoch 3/15\n",
      "5063/5063 [==============================] - ETA: 0s - loss: 0.0142 - mae: 0.0628 - mape: 1611830.7500\n",
      "Epoch 00003: val_mae improved from 0.06402 to 0.06005, saving model to models\\norm_detached_sel_v4.hdf5\n",
      "5063/5063 [==============================] - 1193s 236ms/step - loss: 0.0142 - mae: 0.0628 - mape: 1611830.7500 - val_loss: 0.0138 - val_mae: 0.0600 - val_mape: 1426277.7500\n",
      "Epoch 4/15\n",
      "5063/5063 [==============================] - ETA: 0s - loss: 0.0130 - mae: 0.0594 - mape: 1517484.6250\n",
      "Epoch 00004: val_mae improved from 0.06005 to 0.05610, saving model to models\\norm_detached_sel_v4.hdf5\n",
      "5063/5063 [==============================] - 1186s 234ms/step - loss: 0.0130 - mae: 0.0594 - mape: 1517484.6250 - val_loss: 0.0123 - val_mae: 0.0561 - val_mape: 1259822.5000\n",
      "Epoch 5/15\n",
      "5063/5063 [==============================] - ETA: 0s - loss: 0.0124 - mae: 0.0574 - mape: 1425863.3750\n",
      "Epoch 00005: val_mae improved from 0.05610 to 0.05554, saving model to models\\norm_detached_sel_v4.hdf5\n",
      "5063/5063 [==============================] - 1186s 234ms/step - loss: 0.0124 - mae: 0.0574 - mape: 1425863.3750 - val_loss: 0.0120 - val_mae: 0.0555 - val_mape: 1245539.2500\n",
      "Epoch 6/15\n",
      "5063/5063 [==============================] - ETA: 0s - loss: 0.0118 - mae: 0.0557 - mape: 1340880.8750\n",
      "Epoch 00006: val_mae did not improve from 0.05554\n",
      "5063/5063 [==============================] - 1194s 236ms/step - loss: 0.0118 - mae: 0.0557 - mape: 1340880.8750 - val_loss: 0.0114 - val_mae: 0.0568 - val_mape: 1311889.1250\n",
      "Epoch 7/15\n",
      "5063/5063 [==============================] - ETA: 0s - loss: 0.0113 - mae: 0.0543 - mape: 1293592.5000\n",
      "Epoch 00007: val_mae improved from 0.05554 to 0.05122, saving model to models\\norm_detached_sel_v4.hdf5\n",
      "5063/5063 [==============================] - 1171s 231ms/step - loss: 0.0113 - mae: 0.0543 - mape: 1293592.5000 - val_loss: 0.0104 - val_mae: 0.0512 - val_mape: 1242462.3750\n",
      "Epoch 8/15\n",
      "5063/5063 [==============================] - ETA: 0s - loss: 0.0110 - mae: 0.0535 - mape: 1256774.3750\n",
      "Epoch 00008: val_mae did not improve from 0.05122\n",
      "5063/5063 [==============================] - 1163s 230ms/step - loss: 0.0110 - mae: 0.0535 - mape: 1256774.3750 - val_loss: 0.0105 - val_mae: 0.0514 - val_mape: 1123267.3750\n",
      "Epoch 9/15\n",
      "5063/5063 [==============================] - ETA: 0s - loss: 0.0107 - mae: 0.0526 - mape: 1216676.7500\n",
      "Epoch 00009: val_mae improved from 0.05122 to 0.05044, saving model to models\\norm_detached_sel_v4.hdf5\n",
      "5063/5063 [==============================] - 1166s 230ms/step - loss: 0.0107 - mae: 0.0526 - mape: 1216676.7500 - val_loss: 0.0104 - val_mae: 0.0504 - val_mape: 1134135.1250\n",
      "Epoch 10/15\n",
      "5063/5063 [==============================] - ETA: 0s - loss: 0.0104 - mae: 0.0516 - mape: 1192210.1250\n",
      "Epoch 00010: val_mae did not improve from 0.05044\n",
      "5063/5063 [==============================] - 1153s 228ms/step - loss: 0.0104 - mae: 0.0516 - mape: 1192210.1250 - val_loss: 0.0103 - val_mae: 0.0520 - val_mape: 1129153.7500\n",
      "Epoch 11/15\n",
      "5063/5063 [==============================] - ETA: 0s - loss: 0.0102 - mae: 0.0509 - mape: 1163228.6250\n",
      "Epoch 00011: val_mae improved from 0.05044 to 0.04981, saving model to models\\norm_detached_sel_v4.hdf5\n",
      "5063/5063 [==============================] - 1101s 217ms/step - loss: 0.0102 - mae: 0.0509 - mape: 1163228.6250 - val_loss: 0.0097 - val_mae: 0.0498 - val_mape: 1068710.6250\n",
      "Epoch 12/15\n",
      "5063/5063 [==============================] - ETA: 0s - loss: 0.0100 - mae: 0.0504 - mape: 1141107.0000\n",
      "Epoch 00012: val_mae improved from 0.04981 to 0.04899, saving model to models\\norm_detached_sel_v4.hdf5\n",
      "5063/5063 [==============================] - 1128s 223ms/step - loss: 0.0100 - mae: 0.0504 - mape: 1141107.0000 - val_loss: 0.0101 - val_mae: 0.0490 - val_mape: 1035588.8125\n",
      "Epoch 13/15\n",
      "5063/5063 [==============================] - ETA: 0s - loss: 0.0098 - mae: 0.0499 - mape: 1122716.3750\n",
      "Epoch 00013: val_mae improved from 0.04899 to 0.04805, saving model to models\\norm_detached_sel_v4.hdf5\n",
      "5063/5063 [==============================] - 1127s 223ms/step - loss: 0.0098 - mae: 0.0499 - mape: 1122716.3750 - val_loss: 0.0098 - val_mae: 0.0480 - val_mape: 1008758.0000\n",
      "Epoch 14/15\n",
      "5063/5063 [==============================] - ETA: 0s - loss: 0.0097 - mae: 0.0494 - mape: 1110813.8750\n",
      "Epoch 00014: val_mae did not improve from 0.04805\n",
      "5063/5063 [==============================] - 1120s 221ms/step - loss: 0.0097 - mae: 0.0494 - mape: 1110813.8750 - val_loss: 0.0098 - val_mae: 0.0486 - val_mape: 1099627.2500\n",
      "Epoch 15/15\n",
      "5063/5063 [==============================] - ETA: 0s - loss: 0.0095 - mae: 0.0490 - mape: 1089436.6250\n",
      "Epoch 00015: val_mae improved from 0.04805 to 0.04746, saving model to models\\norm_detached_sel_v4.hdf5\n",
      "5063/5063 [==============================] - 1120s 221ms/step - loss: 0.0095 - mae: 0.0490 - mape: 1089436.6250 - val_loss: 0.0095 - val_mae: 0.0475 - val_mape: 1001971.1250\n"
     ]
    }
   ],
   "source": [
    "history4_new = model_v4.fit(X_train_n, y_train_n, validation_split = 0.1, epochs = 15, verbose = 1, callbacks = callbacks_list, batch_size = 64)"
   ]
  },
  {
   "cell_type": "code",
   "execution_count": 43,
   "metadata": {},
   "outputs": [
    {
     "data": {
      "image/png": "[encoded data removed]",
      "text/plain": [
       "<Figure size 432x288 with 1 Axes>"
      ]
     },
     "metadata": {},
     "output_type": "display_data"
    },
    {
     "data": {
      "image/png": "[encoded data removed]",
      "text/plain": [
       "<Figure size 432x288 with 1 Axes>"
      ]
     },
     "metadata": {},
     "output_type": "display_data"
    }
   ],
   "source": [
    "def training_loss(history):\n",
    "    plt.style.use('ggplot')\n",
    "    plt.plot(history.history['mae'])\n",
    "    plt.plot(history.history['val_mae'])\n",
    "    plt.title('Model v4 - training process')\n",
    "    plt.ylabel('MAE')\n",
    "    plt.xlabel('Epochs')\n",
    "    plt.legend(['train', 'validation'], loc='upper left')\n",
    "    plt.show()\n",
    "    plt.style.use('ggplot')\n",
    "    plt.plot(history.history['loss'])\n",
    "    plt.plot(history.history['val_loss'])\n",
    "    plt.title('Model v4 training process')\n",
    "    plt.ylabel('Loss')\n",
    "    plt.xlabel('Epochs')\n",
    "    plt.legend(['train', 'validation'], loc='upper left')\n",
    "    plt.show()\n",
    "\n",
    "training_loss(history4_new)"
   ]
  },
  {
   "cell_type": "markdown",
   "metadata": {},
   "source": [
    "## Models evaluation"
   ]
  },
  {
   "cell_type": "code",
   "execution_count": 11,
   "metadata": {},
   "outputs": [],
   "source": [
    "# LOAD MODELS\n",
    "model_1 = load_model(\"det_models_comparison/norm_detached_sel_v1.hdf5\")\n",
    "model_2 = load_model(\"det_models_comparison/norm_detached_sel_v2.hdf5\")\n",
    "model_3 = load_model(\"det_models_comparison/norm_detached_sel_v3.hdf5\")\n",
    "model_4 = load_model(\"det_models_comparison/norm_detached_sel_v4.hdf5\")\n",
    "model_5 = load_model(\"det_models_comparison/norm_detached_sel_v5.hdf5\")"
   ]
  },
  {
   "cell_type": "code",
   "execution_count": 12,
   "metadata": {},
   "outputs": [
    {
     "name": "stdout",
     "output_type": "stream",
     "text": [
      "313/313 [==============================] - 17s 54ms/step - loss: 0.0153 - mean_absolute_error: 0.0669 - mean_absolute_percentage_error: 1434194.7500: 12s - loss: 0.0156 - mean_absolut - ETA: 2s - loss: 0.0154 - mean_absolute_error: 0.0 - ETA: 1s - loss: 0.0153 - mean_absolute_error: 0.0669 - mean_absolute_perc\n",
      "MODEL 1 -- Loss: 0.0153, MAE: 0.0669\n",
      "313/313 [==============================] - 17s 54ms/step - loss: 0.0107 - mean_absolute_error: 0.0515 - mean_absolute_percentage_error: 1296575.87500s - loss: 0.0107 - mean_absolute_error: 0.0514 - mean_absolute_percentage_error: 129151\n",
      "MODEL 2 -- Loss: 0.0107, MAE: 0.0515\n",
      "313/313 [==============================] - 19s 61ms/step - loss: 0.0113 - mean_absolute_error: 0.0549 - mean_absolute_percentage_error: 1544539.50002s\n",
      "MODEL 3 -- Loss: 0.0113, MAE: 0.0549\n",
      "313/313 [==============================] - 24s 77ms/step - loss: 0.0113 - mean_absolute_error: 0.0531 - mean_absolute_percentage_error: 1252476.7500\n",
      "MODEL 4 -- Loss: 0.0113, MAE: 0.0531\n",
      "313/313 [==============================] - 36s 114ms/step - loss: 0.0125 - mean_absolute_error: 0.0557 - mean_absolute_percentage_error: 1130680.5000\n",
      "MODEL 5 -- Loss: 0.0125, MAE: 0.0557\n"
     ]
    }
   ],
   "source": [
    "# MODELS EVALUATION ON TEST DATA WITHOUT NOISE\n",
    "scores1 = model_1.evaluate(X_test, y_test)\n",
    "print('MODEL 1 -- Loss: {:.4f}, MAE: {:.4f}'.format(scores1[0], scores1[1]))\n",
    "\n",
    "scores2 = model_2.evaluate(X_test, y_test)\n",
    "print('MODEL 2 -- Loss: {:.4f}, MAE: {:.4f}'.format(scores2[0], scores2[1]))\n",
    "\n",
    "scores3 = model_3.evaluate(X_test, y_test)\n",
    "print('MODEL 3 -- Loss: {:.4f}, MAE: {:.4f}'.format(scores3[0], scores3[1]))\n",
    "\n",
    "scores4 = model_4.evaluate(X_test, y_test)\n",
    "print('MODEL 4 -- Loss: {:.4f}, MAE: {:.4f}'.format(scores4[0], scores4[1]))\n",
    "\n",
    "scores5 = model_5.evaluate(X_test, y_test)\n",
    "print('MODEL 5 -- Loss: {:.4f}, MAE: {:.4f}'.format(scores5[0], scores5[1]))"
   ]
  },
  {
   "cell_type": "code",
   "execution_count": 13,
   "metadata": {},
   "outputs": [],
   "source": [
    "# Adding noise to normalized test data\n",
    "X_test_n = []\n",
    "y_test_norm_n = []\n",
    "for i in range(len(X_test)):\n",
    "    for j in range(3):\n",
    "        curve = stochastic_noise_generator(X_test[i])\n",
    "        X_test_n.append(curve[0])\n",
    "        y_test_norm_n.append(y_test[i])\n",
    "        j += 1\n",
    "X_test_n = np.array(X_test_n)\n",
    "y_test_norm_n = np.array(y_test_norm_n)"
   ]
  },
  {
   "cell_type": "code",
   "execution_count": 14,
   "metadata": {},
   "outputs": [
    {
     "name": "stdout",
     "output_type": "stream",
     "text": [
      "938/938 [==============================] - 47s 50ms/step - loss: 0.0157 - mean_absolute_error: 0.0677 - mean_absolute_percentage_error: 1456576.6250\n",
      "MODEL 1 -- Loss: 0.0157, MAE: 0.0677\n",
      "938/938 [==============================] - 52s 55ms/step - loss: 0.0123 - mean_absolute_error: 0.0552 - mean_absolute_percentage_error: 1393316.2500\n",
      "MODEL 2 -- Loss: 0.0123, MAE: 0.0552\n",
      "938/938 [==============================] - 51s 55ms/step - loss: 0.0124 - mean_absolute_error: 0.0577 - mean_absolute_percentage_error: 1582366.6250\n",
      "MODEL 3 -- Loss: 0.0124, MAE: 0.0577\n",
      "938/938 [==============================] - 57s 60ms/step - loss: 0.0125 - mean_absolute_error: 0.0561 - mean_absolute_percentage_error: 1313746.12500s - loss: 0.0124 - mean_absolute_error: 0.0561 - mean_absolute_percentage_error: 13\n",
      "MODEL 4 -- Loss: 0.0125, MAE: 0.0561\n",
      "938/938 [==============================] - 132s 140ms/step - loss: 0.0135 - mean_absolute_error: 0.0579 - mean_absolute_percentage_error: 1176889.1250\n",
      "MODEL 5 -- Loss: 0.0135, MAE: 0.0579\n"
     ]
    }
   ],
   "source": [
    "# MODELS EVALUATION ON TEST DATA WITHOUT NOISE\n",
    "scores1 = model_1.evaluate(X_test_n, y_test_norm_n)\n",
    "print('MODEL 1 -- Loss: {:.4f}, MAE: {:.4f}'.format(scores1[0], scores1[1]))\n",
    "\n",
    "scores2 = model_2.evaluate(X_test_n, y_test_norm_n)\n",
    "print('MODEL 2 -- Loss: {:.4f}, MAE: {:.4f}'.format(scores2[0], scores2[1]))\n",
    "\n",
    "scores3 = model_3.evaluate(X_test_n, y_test_norm_n)\n",
    "print('MODEL 3 -- Loss: {:.4f}, MAE: {:.4f}'.format(scores3[0], scores3[1]))\n",
    "\n",
    "scores4 = model_4.evaluate(X_test_n, y_test_norm_n)\n",
    "print('MODEL 4 -- Loss: {:.4f}, MAE: {:.4f}'.format(scores4[0], scores4[1]))\n",
    "\n",
    "scores5 = model_5.evaluate(X_test_n, y_test_norm_n)\n",
    "print('MODEL 5 -- Loss: {:.4f}, MAE: {:.4f}'.format(scores5[0], scores5[1]))"
   ]
  },
  {
   "cell_type": "markdown",
   "metadata": {},
   "source": [
    "## Inverse normalization + prediction on test data without noise"
   ]
  },
  {
   "cell_type": "code",
   "execution_count": 15,
   "metadata": {},
   "outputs": [],
   "source": [
    "y_pred_norm1 = model_1.predict(X_test)\n",
    "y_pred_norm2 = model_2.predict(X_test)\n",
    "y_pred_norm3 = model_3.predict(X_test)\n",
    "y_pred_norm4 = model_4.predict(X_test)\n",
    "y_pred_norm5 = model_5.predict(X_test)"
   ]
  },
  {
   "cell_type": "code",
   "execution_count": 16,
   "metadata": {},
   "outputs": [],
   "source": [
    "y_denorm1 = scaler.inverse_transform(y_pred_norm1)\n",
    "y_denorm2 = scaler.inverse_transform(y_pred_norm2)\n",
    "y_denorm3 = scaler.inverse_transform(y_pred_norm3)\n",
    "y_denorm4 = scaler.inverse_transform(y_pred_norm4)\n",
    "y_denorm5 = scaler.inverse_transform(y_pred_norm5)"
   ]
  },
  {
   "cell_type": "code",
   "execution_count": 21,
   "metadata": {},
   "outputs": [],
   "source": [
    "def create_pred_df(y_denorm_data):\n",
    "    y_denorm_df = pd.DataFrame(y_denorm_data,\n",
    "                           columns = [\n",
    "                                \"p_inclination\",\n",
    "                                \"p_mass_ratio\",\n",
    "                                \"p_primary__surface_potential\",\n",
    "                                \"p_secondary__surface_potential\",\n",
    "                                \"p_t1_t2\"\n",
    "                            ])\n",
    "    return y_denorm_df\n",
    "\n",
    "denorm_pred_df1 = create_pred_df(y_denorm1)\n",
    "denorm_pred_df2 = create_pred_df(y_denorm2)\n",
    "denorm_pred_df3 = create_pred_df(y_denorm3)\n",
    "denorm_pred_df4 = create_pred_df(y_denorm4)\n",
    "denorm_pred_df5 = create_pred_df(y_denorm5)"
   ]
  },
  {
   "cell_type": "code",
   "execution_count": 23,
   "metadata": {},
   "outputs": [],
   "source": [
    "# MEAN VALUES FOR EACH COLUMN IN EACH PREDICTED DF\n",
    "pred_mean1 = denorm_pred_df1.mean(axis=0)\n",
    "pred_mean2 = denorm_pred_df2.mean(axis=0)\n",
    "pred_mean3 = denorm_pred_df3.mean(axis=0)\n",
    "pred_mean4 = denorm_pred_df4.mean(axis=0)\n",
    "pred_mean5 = denorm_pred_df5.mean(axis=0)"
   ]
  },
  {
   "cell_type": "code",
   "execution_count": 26,
   "metadata": {},
   "outputs": [
    {
     "data": {
      "text/plain": [
       "inclination                      1.376058\n",
       "mass_ratio                       1.747559\n",
       "primary__surface_potential      18.198580\n",
       "secondary__surface_potential    16.554671\n",
       "t1_t2                            2.662756\n",
       "dtype: float64"
      ]
     },
     "execution_count": 26,
     "metadata": {},
     "output_type": "execute_result"
    }
   ],
   "source": [
    "# MEAN VALUES FOR EACH COLUMN IN TEST DF\n",
    "y_test_df = pd.DataFrame(y,\n",
    "                        columns = [\n",
    "                            \"inclination\",\n",
    "                            \"mass_ratio\",\n",
    "                            \"primary__surface_potential\",\n",
    "                            \"secondary__surface_potential\",\n",
    "                            \"t1_t2\"\n",
    "                            ])\n",
    "test_mean = y_test_df.mean(axis=0)\n",
    "test_mean"
   ]
  },
  {
   "cell_type": "code",
   "execution_count": 27,
   "metadata": {},
   "outputs": [
    {
     "data": {
      "text/html": [
       "<div>\n",
       "<style scoped>\n",
       "    .dataframe tbody tr th:only-of-type {\n",
       "        vertical-align: middle;\n",
       "    }\n",
       "\n",
       "    .dataframe tbody tr th {\n",
       "        vertical-align: top;\n",
       "    }\n",
       "\n",
       "    .dataframe thead th {\n",
       "        text-align: right;\n",
       "    }\n",
       "</style>\n",
       "<table border=\"1\" class=\"dataframe\">\n",
       "  <thead>\n",
       "    <tr style=\"text-align: right;\">\n",
       "      <th></th>\n",
       "      <th>attribute</th>\n",
       "      <th>AVG test data</th>\n",
       "      <th>AVG model 1</th>\n",
       "      <th>AVG model 2</th>\n",
       "      <th>AVG model 3</th>\n",
       "      <th>AVG model 4</th>\n",
       "      <th>AVG model 5</th>\n",
       "    </tr>\n",
       "  </thead>\n",
       "  <tbody>\n",
       "    <tr>\n",
       "      <th>0</th>\n",
       "      <td>inclination</td>\n",
       "      <td>1.376058</td>\n",
       "      <td>1.356856</td>\n",
       "      <td>1.386412</td>\n",
       "      <td>1.376488</td>\n",
       "      <td>1.373147</td>\n",
       "      <td>1.375899</td>\n",
       "    </tr>\n",
       "    <tr>\n",
       "      <th>1</th>\n",
       "      <td>mass_ratio</td>\n",
       "      <td>1.747559</td>\n",
       "      <td>1.739460</td>\n",
       "      <td>1.570898</td>\n",
       "      <td>1.792028</td>\n",
       "      <td>1.641134</td>\n",
       "      <td>1.468526</td>\n",
       "    </tr>\n",
       "    <tr>\n",
       "      <th>2</th>\n",
       "      <td>primary__surface_potential</td>\n",
       "      <td>18.198580</td>\n",
       "      <td>15.678094</td>\n",
       "      <td>18.582500</td>\n",
       "      <td>19.220774</td>\n",
       "      <td>17.447048</td>\n",
       "      <td>15.581874</td>\n",
       "    </tr>\n",
       "    <tr>\n",
       "      <th>3</th>\n",
       "      <td>secondary__surface_potential</td>\n",
       "      <td>16.554671</td>\n",
       "      <td>13.160920</td>\n",
       "      <td>15.574080</td>\n",
       "      <td>19.281046</td>\n",
       "      <td>16.904530</td>\n",
       "      <td>14.770659</td>\n",
       "    </tr>\n",
       "    <tr>\n",
       "      <th>4</th>\n",
       "      <td>t1_t2</td>\n",
       "      <td>2.662756</td>\n",
       "      <td>2.598817</td>\n",
       "      <td>2.681377</td>\n",
       "      <td>2.697693</td>\n",
       "      <td>2.600502</td>\n",
       "      <td>2.776557</td>\n",
       "    </tr>\n",
       "  </tbody>\n",
       "</table>\n",
       "</div>"
      ],
      "text/plain": [
       "                      attribute  AVG test data  AVG model 1  AVG model 2  \\\n",
       "0                   inclination       1.376058     1.356856     1.386412   \n",
       "1                    mass_ratio       1.747559     1.739460     1.570898   \n",
       "2    primary__surface_potential      18.198580    15.678094    18.582500   \n",
       "3  secondary__surface_potential      16.554671    13.160920    15.574080   \n",
       "4                         t1_t2       2.662756     2.598817     2.681377   \n",
       "\n",
       "   AVG model 3  AVG model 4  AVG model 5  \n",
       "0     1.376488     1.373147     1.375899  \n",
       "1     1.792028     1.641134     1.468526  \n",
       "2    19.220774    17.447048    15.581874  \n",
       "3    19.281046    16.904530    14.770659  \n",
       "4     2.697693     2.600502     2.776557  "
      ]
     },
     "execution_count": 27,
     "metadata": {},
     "output_type": "execute_result"
    }
   ],
   "source": [
    "eval_pred = pd.DataFrame({'attribute': test_mean.index,\n",
    "            'AVG test data': test_mean.values,\n",
    "            'AVG model 1': pred_mean1.values,\n",
    "            'AVG model 2': pred_mean2.values,\n",
    "            'AVG model 3': pred_mean3.values,\n",
    "            'AVG model 4': pred_mean4.values,\n",
    "            'AVG model 5': pred_mean5.values})\n",
    "eval_pred"
   ]
  },
  {
   "cell_type": "code",
   "execution_count": 28,
   "metadata": {},
   "outputs": [
    {
     "data": {
      "text/html": [
       "<div>\n",
       "<style scoped>\n",
       "    .dataframe tbody tr th:only-of-type {\n",
       "        vertical-align: middle;\n",
       "    }\n",
       "\n",
       "    .dataframe tbody tr th {\n",
       "        vertical-align: top;\n",
       "    }\n",
       "\n",
       "    .dataframe thead th {\n",
       "        text-align: right;\n",
       "    }\n",
       "</style>\n",
       "<table border=\"1\" class=\"dataframe\">\n",
       "  <thead>\n",
       "    <tr style=\"text-align: right;\">\n",
       "      <th></th>\n",
       "      <th>attribute</th>\n",
       "      <th>avg_true</th>\n",
       "      <th>MAE model 1</th>\n",
       "      <th>MAE model 2</th>\n",
       "      <th>MAE model 3</th>\n",
       "      <th>MAE model 4</th>\n",
       "      <th>MAE model 5</th>\n",
       "    </tr>\n",
       "  </thead>\n",
       "  <tbody>\n",
       "    <tr>\n",
       "      <th>0</th>\n",
       "      <td>inclination</td>\n",
       "      <td>1.376058</td>\n",
       "      <td>0.019202</td>\n",
       "      <td>0.010354</td>\n",
       "      <td>0.000430</td>\n",
       "      <td>0.002911</td>\n",
       "      <td>0.000160</td>\n",
       "    </tr>\n",
       "    <tr>\n",
       "      <th>1</th>\n",
       "      <td>mass_ratio</td>\n",
       "      <td>1.747559</td>\n",
       "      <td>0.008099</td>\n",
       "      <td>0.176661</td>\n",
       "      <td>0.044469</td>\n",
       "      <td>0.106425</td>\n",
       "      <td>0.279033</td>\n",
       "    </tr>\n",
       "    <tr>\n",
       "      <th>2</th>\n",
       "      <td>primary__surface_potential</td>\n",
       "      <td>18.198580</td>\n",
       "      <td>2.520486</td>\n",
       "      <td>0.383921</td>\n",
       "      <td>1.022194</td>\n",
       "      <td>0.751531</td>\n",
       "      <td>2.616706</td>\n",
       "    </tr>\n",
       "    <tr>\n",
       "      <th>3</th>\n",
       "      <td>secondary__surface_potential</td>\n",
       "      <td>16.554671</td>\n",
       "      <td>3.393751</td>\n",
       "      <td>0.980592</td>\n",
       "      <td>2.726375</td>\n",
       "      <td>0.349858</td>\n",
       "      <td>1.784012</td>\n",
       "    </tr>\n",
       "    <tr>\n",
       "      <th>4</th>\n",
       "      <td>t1_t2</td>\n",
       "      <td>2.662756</td>\n",
       "      <td>0.063939</td>\n",
       "      <td>0.018621</td>\n",
       "      <td>0.034937</td>\n",
       "      <td>0.062253</td>\n",
       "      <td>0.113801</td>\n",
       "    </tr>\n",
       "  </tbody>\n",
       "</table>\n",
       "</div>"
      ],
      "text/plain": [
       "                      attribute   avg_true  MAE model 1  MAE model 2  \\\n",
       "0                   inclination   1.376058     0.019202     0.010354   \n",
       "1                    mass_ratio   1.747559     0.008099     0.176661   \n",
       "2    primary__surface_potential  18.198580     2.520486     0.383921   \n",
       "3  secondary__surface_potential  16.554671     3.393751     0.980592   \n",
       "4                         t1_t2   2.662756     0.063939     0.018621   \n",
       "\n",
       "   MAE model 3  MAE model 4  MAE model 5  \n",
       "0     0.000430     0.002911     0.000160  \n",
       "1     0.044469     0.106425     0.279033  \n",
       "2     1.022194     0.751531     2.616706  \n",
       "3     2.726375     0.349858     1.784012  \n",
       "4     0.034937     0.062253     0.113801  "
      ]
     },
     "execution_count": 28,
     "metadata": {},
     "output_type": "execute_result"
    }
   ],
   "source": [
    "eval_pred_mae = pd.DataFrame({'attribute': test_mean.index,\n",
    "            'avg_true': test_mean.values,\n",
    "            'MAE model 1': abs(test_mean.values - pred_mean1.values),\n",
    "            'MAE model 2': abs(test_mean.values - pred_mean2.values),\n",
    "            'MAE model 3': abs(test_mean.values - pred_mean3.values),\n",
    "            'MAE model 4': abs(test_mean.values - pred_mean4.values),\n",
    "            'MAE model 5': abs(test_mean.values - pred_mean5.values),})\n",
    "eval_pred_mae"
   ]
  }
 ],
 "metadata": {
  "kernelspec": {
   "display_name": "Python 3.8.12 ('global')",
   "language": "python",
   "name": "python3"
  },
  "language_info": {
   "codemirror_mode": {
    "name": "ipython",
    "version": 3
   },
   "file_extension": ".py",
   "mimetype": "text/x-python",
   "name": "python",
   "nbconvert_exporter": "python",
   "pygments_lexer": "ipython3",
   "version": "3.8.12"
  },
  "orig_nbformat": 4,
  "vscode": {
   "interpreter": {
    "hash": "b8fc6ce4f931e35f5dd2ff00f5d2ede33ff85432a244cf6e3e9d498f6426f487"
   }
  }
 },
 "nbformat": 4,
 "nbformat_minor": 2
}
